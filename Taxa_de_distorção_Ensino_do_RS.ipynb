{
  "nbformat": 4,
  "nbformat_minor": 0,
  "metadata": {
    "colab": {
      "name": "Taxa  de distorção Ensino do RS.ipynb",
      "provenance": [],
      "authorship_tag": "ABX9TyNkuNIYEXBWfOL14u8z5g8D",
      "include_colab_link": true
    },
    "kernelspec": {
      "name": "python3",
      "display_name": "Python 3"
    },
    "language_info": {
      "name": "python"
    }
  },
  "cells": [
    {
      "cell_type": "markdown",
      "metadata": {
        "id": "view-in-github",
        "colab_type": "text"
      },
      "source": [
        "<a href=\"https://colab.research.google.com/github/V1L3La/Learning-An-lise-de-Dados-em-Python/blob/main/Taxa_de_distor%C3%A7%C3%A3o_Ensino_do_RS.ipynb\" target=\"_parent\"><img src=\"https://colab.research.google.com/assets/colab-badge.svg\" alt=\"Open In Colab\"/></a>"
      ]
    },
    {
      "cell_type": "markdown",
      "metadata": {
        "id": "_TokV1K7RNYo"
      },
      "source": [
        "***\n",
        "***\n",
        "#**Análise da Taxa distorção Ensino do RS**\n",
        "\n",
        "Analisando a taxa distorção ensino do RS através de mapa com objetivo de treinamento para curso de análise de dados.\n",
        "\n",
        "***\n",
        "***\n",
        "> Fontes:\n",
        ">\n",
        ">\n",
        ">[Mapa da taxa distorção ensino RS](https://dados.rs.gov.br/dataset/fee-taxa-de-distorcao-idade-serie-total-102524/resource/b3c6d6d6-e23c-4d7b-a368-2c5817113958)\n",
        ">\n",
        ">[Aula 3](https://www.youtube.com/watch?v=zpNtiJsJ7KY) <br>\n",
        ">\n",
        ">\n",
        "![Alt Text](https://media.giphy.com/media/l378asbpIR5DTsdqg/giphy.gif)\n",
        ">\n",
        ">https://www.youtube.com/watch?v=LJrK4B7bNWA\n",
        "\n"
      ]
    },
    {
      "cell_type": "code",
      "metadata": {
        "id": "peA6VkjLfWPJ"
      },
      "source": [
        "# pip permite instalar novas bibliotecas\n",
        "# ! permite a execução de comandos no colab\n",
        "!pip install folium"
      ],
      "execution_count": null,
      "outputs": []
    },
    {
      "cell_type": "code",
      "metadata": {
        "id": "qPWl8sCYd6YW"
      },
      "source": [
        "#  https://raw.githubusercontent.com/V1L3La/Learning-An-lise-de-Dados-em-Python/main/2013-taxa-de-distorcao-idade-serie-total-102524.csv\n",
        "# importando as bibliotecas\n",
        "import pandas as pd\n",
        "%matplotlib inline\n",
        "import folium"
      ],
      "execution_count": 3,
      "outputs": []
    },
    {
      "cell_type": "code",
      "metadata": {
        "colab": {
          "base_uri": "https://localhost:8080/",
          "height": 232
        },
        "id": "54KA_P7Gd6Vm",
        "outputId": "e73b08bb-ce91-4002-9a8b-9d65a4096f23"
      },
      "source": [
        "df = pd.read_csv('https://raw.githubusercontent.com/V1L3La/Learning-An-lise-de-Dados-em-Python/main/2013-taxa-de-distorcao-idade-serie-total-102524.csv', encoding = 'latin1',skiprows=1)  \n",
        "df.head(6)"
      ],
      "execution_count": 6,
      "outputs": [
        {
          "output_type": "execute_result",
          "data": {
            "text/html": [
              "<div>\n",
              "<style scoped>\n",
              "    .dataframe tbody tr th:only-of-type {\n",
              "        vertical-align: middle;\n",
              "    }\n",
              "\n",
              "    .dataframe tbody tr th {\n",
              "        vertical-align: top;\n",
              "    }\n",
              "\n",
              "    .dataframe thead th {\n",
              "        text-align: right;\n",
              "    }\n",
              "</style>\n",
              "<table border=\"1\" class=\"dataframe\">\n",
              "  <thead>\n",
              "    <tr style=\"text-align: right;\">\n",
              "      <th></th>\n",
              "      <th>Município</th>\n",
              "      <th>ibge</th>\n",
              "      <th>latitude</th>\n",
              "      <th>longitude</th>\n",
              "      <th>/Educação/Ens...de Série/Total 2013 (-)</th>\n",
              "    </tr>\n",
              "  </thead>\n",
              "  <tbody>\n",
              "    <tr>\n",
              "      <th>0</th>\n",
              "      <td>Aceguá</td>\n",
              "      <td>4300034</td>\n",
              "      <td>-31.86076</td>\n",
              "      <td>-54.16706</td>\n",
              "      <td>25,7</td>\n",
              "    </tr>\n",
              "    <tr>\n",
              "      <th>1</th>\n",
              "      <td>Água Santa</td>\n",
              "      <td>4300059</td>\n",
              "      <td>-28.16720</td>\n",
              "      <td>-52.03100</td>\n",
              "      <td>14,7</td>\n",
              "    </tr>\n",
              "    <tr>\n",
              "      <th>2</th>\n",
              "      <td>Agudo</td>\n",
              "      <td>4300109</td>\n",
              "      <td>-29.64470</td>\n",
              "      <td>-53.25150</td>\n",
              "      <td>26,4</td>\n",
              "    </tr>\n",
              "    <tr>\n",
              "      <th>3</th>\n",
              "      <td>Ajuricaba</td>\n",
              "      <td>4300208</td>\n",
              "      <td>-28.23420</td>\n",
              "      <td>-53.77570</td>\n",
              "      <td>24,1</td>\n",
              "    </tr>\n",
              "    <tr>\n",
              "      <th>4</th>\n",
              "      <td>Alecrim</td>\n",
              "      <td>4300307</td>\n",
              "      <td>-27.65790</td>\n",
              "      <td>-54.76490</td>\n",
              "      <td>18,9</td>\n",
              "    </tr>\n",
              "    <tr>\n",
              "      <th>5</th>\n",
              "      <td>Alegrete</td>\n",
              "      <td>4300406</td>\n",
              "      <td>-29.79020</td>\n",
              "      <td>-55.79490</td>\n",
              "      <td>36,0</td>\n",
              "    </tr>\n",
              "  </tbody>\n",
              "</table>\n",
              "</div>"
            ],
            "text/plain": [
              "    Município     ibge  ...  longitude  /Educação/Ens...de Série/Total 2013 (-)\n",
              "0      Aceguá  4300034  ...  -54.16706                                     25,7\n",
              "1  Água Santa  4300059  ...  -52.03100                                     14,7\n",
              "2       Agudo  4300109  ...  -53.25150                                     26,4\n",
              "3   Ajuricaba  4300208  ...  -53.77570                                     24,1\n",
              "4     Alecrim  4300307  ...  -54.76490                                     18,9\n",
              "5    Alegrete  4300406  ...  -55.79490                                     36,0\n",
              "\n",
              "[6 rows x 5 columns]"
            ]
          },
          "metadata": {
            "tags": []
          },
          "execution_count": 6
        }
      ]
    },
    {
      "cell_type": "code",
      "metadata": {
        "colab": {
          "base_uri": "https://localhost:8080/"
        },
        "id": "3P7H1viBkijo",
        "outputId": "b2a6d2de-5a61-4ccd-ecf4-c9580d43c4cb"
      },
      "source": [
        "df.info()"
      ],
      "execution_count": 14,
      "outputs": [
        {
          "output_type": "stream",
          "text": [
            "<class 'pandas.core.frame.DataFrame'>\n",
            "RangeIndex: 495 entries, 0 to 494\n",
            "Data columns (total 5 columns):\n",
            " #   Column        Non-Null Count  Dtype  \n",
            "---  ------        --------------  -----  \n",
            " 0   Município     495 non-null    object \n",
            " 1   ibge          495 non-null    int64  \n",
            " 2   latitude      495 non-null    float64\n",
            " 3   longitude     495 non-null    float64\n",
            " 4   Tx_Distorção  495 non-null    object \n",
            "dtypes: float64(2), int64(1), object(2)\n",
            "memory usage: 19.5+ KB\n"
          ],
          "name": "stdout"
        }
      ]
    },
    {
      "cell_type": "code",
      "metadata": {
        "colab": {
          "base_uri": "https://localhost:8080/",
          "height": 202
        },
        "id": "lLBvhYDjd6L6",
        "outputId": "67f65e65-d415-48c1-fbed-46a3d9d3d02d"
      },
      "source": [
        "# Renomear coluna\n",
        "df.rename(columns={'/Educação/Ens...de Série/Total 2013 (-)': 'Tx_Distorção'}, inplace = True)\n",
        "df.head()"
      ],
      "execution_count": 10,
      "outputs": [
        {
          "output_type": "execute_result",
          "data": {
            "text/html": [
              "<div>\n",
              "<style scoped>\n",
              "    .dataframe tbody tr th:only-of-type {\n",
              "        vertical-align: middle;\n",
              "    }\n",
              "\n",
              "    .dataframe tbody tr th {\n",
              "        vertical-align: top;\n",
              "    }\n",
              "\n",
              "    .dataframe thead th {\n",
              "        text-align: right;\n",
              "    }\n",
              "</style>\n",
              "<table border=\"1\" class=\"dataframe\">\n",
              "  <thead>\n",
              "    <tr style=\"text-align: right;\">\n",
              "      <th></th>\n",
              "      <th>Município</th>\n",
              "      <th>ibge</th>\n",
              "      <th>latitude</th>\n",
              "      <th>longitude</th>\n",
              "      <th>Tx_Distorção</th>\n",
              "    </tr>\n",
              "  </thead>\n",
              "  <tbody>\n",
              "    <tr>\n",
              "      <th>0</th>\n",
              "      <td>Aceguá</td>\n",
              "      <td>4300034</td>\n",
              "      <td>-31.86076</td>\n",
              "      <td>-54.16706</td>\n",
              "      <td>25,7</td>\n",
              "    </tr>\n",
              "    <tr>\n",
              "      <th>1</th>\n",
              "      <td>Água Santa</td>\n",
              "      <td>4300059</td>\n",
              "      <td>-28.16720</td>\n",
              "      <td>-52.03100</td>\n",
              "      <td>14,7</td>\n",
              "    </tr>\n",
              "    <tr>\n",
              "      <th>2</th>\n",
              "      <td>Agudo</td>\n",
              "      <td>4300109</td>\n",
              "      <td>-29.64470</td>\n",
              "      <td>-53.25150</td>\n",
              "      <td>26,4</td>\n",
              "    </tr>\n",
              "    <tr>\n",
              "      <th>3</th>\n",
              "      <td>Ajuricaba</td>\n",
              "      <td>4300208</td>\n",
              "      <td>-28.23420</td>\n",
              "      <td>-53.77570</td>\n",
              "      <td>24,1</td>\n",
              "    </tr>\n",
              "    <tr>\n",
              "      <th>4</th>\n",
              "      <td>Alecrim</td>\n",
              "      <td>4300307</td>\n",
              "      <td>-27.65790</td>\n",
              "      <td>-54.76490</td>\n",
              "      <td>18,9</td>\n",
              "    </tr>\n",
              "  </tbody>\n",
              "</table>\n",
              "</div>"
            ],
            "text/plain": [
              "    Município     ibge  latitude  longitude Tx_Distorção\n",
              "0      Aceguá  4300034 -31.86076  -54.16706         25,7\n",
              "1  Água Santa  4300059 -28.16720  -52.03100         14,7\n",
              "2       Agudo  4300109 -29.64470  -53.25150         26,4\n",
              "3   Ajuricaba  4300208 -28.23420  -53.77570         24,1\n",
              "4     Alecrim  4300307 -27.65790  -54.76490         18,9"
            ]
          },
          "metadata": {
            "tags": []
          },
          "execution_count": 10
        }
      ]
    },
    {
      "cell_type": "code",
      "metadata": {
        "id": "LojyDjkMg3L8"
      },
      "source": [
        "# 2 14"
      ],
      "execution_count": null,
      "outputs": []
    },
    {
      "cell_type": "code",
      "metadata": {
        "id": "RqR8YQnOg3Ja"
      },
      "source": [
        ""
      ],
      "execution_count": null,
      "outputs": []
    }
  ]
}