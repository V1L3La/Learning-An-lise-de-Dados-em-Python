{
  "nbformat": 4,
  "nbformat_minor": 0,
  "metadata": {
    "colab": {
      "name": "Taxa  de distorção Ensino do RS.ipynb",
      "provenance": [],
      "authorship_tag": "ABX9TyP2IYOQEUN0sHvrZRpYsfCh",
      "include_colab_link": true
    },
    "kernelspec": {
      "name": "python3",
      "display_name": "Python 3"
    },
    "language_info": {
      "name": "python"
    }
  },
  "cells": [
    {
      "cell_type": "markdown",
      "metadata": {
        "id": "view-in-github",
        "colab_type": "text"
      },
      "source": [
        "<a href=\"https://colab.research.google.com/github/V1L3La/Learning-An-lise-de-Dados-em-Python/blob/main/Taxa_de_distor%C3%A7%C3%A3o_Ensino_do_RS.ipynb\" target=\"_parent\"><img src=\"https://colab.research.google.com/assets/colab-badge.svg\" alt=\"Open In Colab\"/></a>"
      ]
    },
    {
      "cell_type": "markdown",
      "metadata": {
        "id": "_TokV1K7RNYo"
      },
      "source": [
        "***\n",
        "***\n",
        "#**Análise da Taxa distorção Ensino do RS**\n",
        "\n",
        "Analisando a taxa distorção ensino do RS através de mapa com objetivo de treinamento para curso de análise de dados.\n",
        "\n",
        "***\n",
        "***\n",
        "> Fontes:\n",
        ">\n",
        ">\n",
        ">[Mapa da taxa distorção ensino RS](https://dados.rs.gov.br/dataset/fee-taxa-de-distorcao-idade-serie-total-102524/resource/b3c6d6d6-e23c-4d7b-a368-2c5817113958)\n",
        ">\n",
        ">[Aula 3](https://www.youtube.com/watch?v=zpNtiJsJ7KY) <br>\n",
        ">\n",
        ">\n",
        "![Alt Text](https://media.giphy.com/media/l378asbpIR5DTsdqg/giphy.gif)\n",
        ">\n",
        ">https://www.youtube.com/watch?v=LJrK4B7bNWA\n",
        "\n"
      ]
    },
    {
      "cell_type": "code",
      "metadata": {
        "id": "peA6VkjLfWPJ",
        "colab": {
          "base_uri": "https://localhost:8080/"
        },
        "outputId": "e2660081-fb12-4e7c-a96d-13af8d6c6553"
      },
      "source": [
        "# pip permite instalar novas bibliotecas\n",
        "# ! permite a execução de comandos no colab\n",
        "!pip install folium"
      ],
      "execution_count": 1,
      "outputs": [
        {
          "output_type": "stream",
          "text": [
            "Requirement already satisfied: folium in /usr/local/lib/python3.7/dist-packages (0.8.3)\n",
            "Requirement already satisfied: numpy in /usr/local/lib/python3.7/dist-packages (from folium) (1.19.5)\n",
            "Requirement already satisfied: branca>=0.3.0 in /usr/local/lib/python3.7/dist-packages (from folium) (0.4.2)\n",
            "Requirement already satisfied: six in /usr/local/lib/python3.7/dist-packages (from folium) (1.15.0)\n",
            "Requirement already satisfied: jinja2 in /usr/local/lib/python3.7/dist-packages (from folium) (2.11.3)\n",
            "Requirement already satisfied: requests in /usr/local/lib/python3.7/dist-packages (from folium) (2.23.0)\n",
            "Requirement already satisfied: MarkupSafe>=0.23 in /usr/local/lib/python3.7/dist-packages (from jinja2->folium) (2.0.1)\n",
            "Requirement already satisfied: urllib3!=1.25.0,!=1.25.1,<1.26,>=1.21.1 in /usr/local/lib/python3.7/dist-packages (from requests->folium) (1.24.3)\n",
            "Requirement already satisfied: idna<3,>=2.5 in /usr/local/lib/python3.7/dist-packages (from requests->folium) (2.10)\n",
            "Requirement already satisfied: chardet<4,>=3.0.2 in /usr/local/lib/python3.7/dist-packages (from requests->folium) (3.0.4)\n",
            "Requirement already satisfied: certifi>=2017.4.17 in /usr/local/lib/python3.7/dist-packages (from requests->folium) (2021.5.30)\n"
          ],
          "name": "stdout"
        }
      ]
    },
    {
      "cell_type": "code",
      "metadata": {
        "id": "qPWl8sCYd6YW"
      },
      "source": [
        "# importando as bibliotecas\n",
        "import pandas as pd\n",
        "%matplotlib inline\n",
        "import folium"
      ],
      "execution_count": 2,
      "outputs": []
    },
    {
      "cell_type": "code",
      "metadata": {
        "colab": {
          "base_uri": "https://localhost:8080/",
          "height": 419
        },
        "id": "54KA_P7Gd6Vm",
        "outputId": "6bbad87d-289d-4b81-b8b1-da74ce0a796f"
      },
      "source": [
        "df = pd.read_csv('https://raw.githubusercontent.com/V1L3La/Learning-An-lise-de-Dados-em-Python/main/2013-taxa-de-distorcao-idade-serie-total-102524.csv', encoding = 'latin1',skiprows=1)  \n",
        "df"
      ],
      "execution_count": 3,
      "outputs": [
        {
          "output_type": "execute_result",
          "data": {
            "text/html": [
              "<div>\n",
              "<style scoped>\n",
              "    .dataframe tbody tr th:only-of-type {\n",
              "        vertical-align: middle;\n",
              "    }\n",
              "\n",
              "    .dataframe tbody tr th {\n",
              "        vertical-align: top;\n",
              "    }\n",
              "\n",
              "    .dataframe thead th {\n",
              "        text-align: right;\n",
              "    }\n",
              "</style>\n",
              "<table border=\"1\" class=\"dataframe\">\n",
              "  <thead>\n",
              "    <tr style=\"text-align: right;\">\n",
              "      <th></th>\n",
              "      <th>Município</th>\n",
              "      <th>ibge</th>\n",
              "      <th>latitude</th>\n",
              "      <th>longitude</th>\n",
              "      <th>/Educação/Ens...de Série/Total 2013 (-)</th>\n",
              "    </tr>\n",
              "  </thead>\n",
              "  <tbody>\n",
              "    <tr>\n",
              "      <th>0</th>\n",
              "      <td>Aceguá</td>\n",
              "      <td>4300034</td>\n",
              "      <td>-31.86076</td>\n",
              "      <td>-54.16706</td>\n",
              "      <td>25,7</td>\n",
              "    </tr>\n",
              "    <tr>\n",
              "      <th>1</th>\n",
              "      <td>Água Santa</td>\n",
              "      <td>4300059</td>\n",
              "      <td>-28.16720</td>\n",
              "      <td>-52.03100</td>\n",
              "      <td>14,7</td>\n",
              "    </tr>\n",
              "    <tr>\n",
              "      <th>2</th>\n",
              "      <td>Agudo</td>\n",
              "      <td>4300109</td>\n",
              "      <td>-29.64470</td>\n",
              "      <td>-53.25150</td>\n",
              "      <td>26,4</td>\n",
              "    </tr>\n",
              "    <tr>\n",
              "      <th>3</th>\n",
              "      <td>Ajuricaba</td>\n",
              "      <td>4300208</td>\n",
              "      <td>-28.23420</td>\n",
              "      <td>-53.77570</td>\n",
              "      <td>24,1</td>\n",
              "    </tr>\n",
              "    <tr>\n",
              "      <th>4</th>\n",
              "      <td>Alecrim</td>\n",
              "      <td>4300307</td>\n",
              "      <td>-27.65790</td>\n",
              "      <td>-54.76490</td>\n",
              "      <td>18,9</td>\n",
              "    </tr>\n",
              "    <tr>\n",
              "      <th>...</th>\n",
              "      <td>...</td>\n",
              "      <td>...</td>\n",
              "      <td>...</td>\n",
              "      <td>...</td>\n",
              "      <td>...</td>\n",
              "    </tr>\n",
              "    <tr>\n",
              "      <th>490</th>\n",
              "      <td>Vista Alegre do Prata</td>\n",
              "      <td>4323606</td>\n",
              "      <td>-28.80520</td>\n",
              "      <td>-51.79460</td>\n",
              "      <td>2,6</td>\n",
              "    </tr>\n",
              "    <tr>\n",
              "      <th>491</th>\n",
              "      <td>Vista Gaúcha</td>\n",
              "      <td>4323705</td>\n",
              "      <td>-27.29020</td>\n",
              "      <td>-53.69740</td>\n",
              "      <td>10,9</td>\n",
              "    </tr>\n",
              "    <tr>\n",
              "      <th>492</th>\n",
              "      <td>Vitória das Missões</td>\n",
              "      <td>4323754</td>\n",
              "      <td>-28.35160</td>\n",
              "      <td>-54.50400</td>\n",
              "      <td>26,8</td>\n",
              "    </tr>\n",
              "    <tr>\n",
              "      <th>493</th>\n",
              "      <td>Westfalia</td>\n",
              "      <td>4323770</td>\n",
              "      <td>-29.37440</td>\n",
              "      <td>-51.74630</td>\n",
              "      <td>15,8</td>\n",
              "    </tr>\n",
              "    <tr>\n",
              "      <th>494</th>\n",
              "      <td>Xangri-lá</td>\n",
              "      <td>4323804</td>\n",
              "      <td>-29.80650</td>\n",
              "      <td>-50.05190</td>\n",
              "      <td>33,3</td>\n",
              "    </tr>\n",
              "  </tbody>\n",
              "</table>\n",
              "<p>495 rows × 5 columns</p>\n",
              "</div>"
            ],
            "text/plain": [
              "                 Município  ...  /Educação/Ens...de Série/Total 2013 (-)\n",
              "0                   Aceguá  ...                                     25,7\n",
              "1               Água Santa  ...                                     14,7\n",
              "2                    Agudo  ...                                     26,4\n",
              "3                Ajuricaba  ...                                     24,1\n",
              "4                  Alecrim  ...                                     18,9\n",
              "..                     ...  ...                                      ...\n",
              "490  Vista Alegre do Prata  ...                                      2,6\n",
              "491           Vista Gaúcha  ...                                     10,9\n",
              "492    Vitória das Missões  ...                                     26,8\n",
              "493              Westfalia  ...                                     15,8\n",
              "494              Xangri-lá  ...                                     33,3\n",
              "\n",
              "[495 rows x 5 columns]"
            ]
          },
          "metadata": {
            "tags": []
          },
          "execution_count": 3
        }
      ]
    },
    {
      "cell_type": "code",
      "metadata": {
        "colab": {
          "base_uri": "https://localhost:8080/"
        },
        "id": "3P7H1viBkijo",
        "outputId": "77a5ad06-a21f-4e45-fd0d-7a7d92a9ebfc"
      },
      "source": [
        "df.info()"
      ],
      "execution_count": 4,
      "outputs": [
        {
          "output_type": "stream",
          "text": [
            "<class 'pandas.core.frame.DataFrame'>\n",
            "RangeIndex: 495 entries, 0 to 494\n",
            "Data columns (total 5 columns):\n",
            " #   Column                                   Non-Null Count  Dtype  \n",
            "---  ------                                   --------------  -----  \n",
            " 0   Município                                495 non-null    object \n",
            " 1   ibge                                     495 non-null    int64  \n",
            " 2   latitude                                 495 non-null    float64\n",
            " 3   longitude                                495 non-null    float64\n",
            " 4   /Educação/Ens...de Série/Total 2013 (-)  495 non-null    object \n",
            "dtypes: float64(2), int64(1), object(2)\n",
            "memory usage: 19.5+ KB\n"
          ],
          "name": "stdout"
        }
      ]
    },
    {
      "cell_type": "code",
      "metadata": {
        "colab": {
          "base_uri": "https://localhost:8080/",
          "height": 419
        },
        "id": "lLBvhYDjd6L6",
        "outputId": "4bcd5b70-adb1-466a-a23a-0e0f67babc8f"
      },
      "source": [
        "# Renomear coluna\n",
        "df.rename(columns={'/Educação/Ens...de Série/Total 2013 (-)': 'Tx_Distorção'}, inplace = True)\n",
        "df"
      ],
      "execution_count": 5,
      "outputs": [
        {
          "output_type": "execute_result",
          "data": {
            "text/html": [
              "<div>\n",
              "<style scoped>\n",
              "    .dataframe tbody tr th:only-of-type {\n",
              "        vertical-align: middle;\n",
              "    }\n",
              "\n",
              "    .dataframe tbody tr th {\n",
              "        vertical-align: top;\n",
              "    }\n",
              "\n",
              "    .dataframe thead th {\n",
              "        text-align: right;\n",
              "    }\n",
              "</style>\n",
              "<table border=\"1\" class=\"dataframe\">\n",
              "  <thead>\n",
              "    <tr style=\"text-align: right;\">\n",
              "      <th></th>\n",
              "      <th>Município</th>\n",
              "      <th>ibge</th>\n",
              "      <th>latitude</th>\n",
              "      <th>longitude</th>\n",
              "      <th>Tx_Distorção</th>\n",
              "    </tr>\n",
              "  </thead>\n",
              "  <tbody>\n",
              "    <tr>\n",
              "      <th>0</th>\n",
              "      <td>Aceguá</td>\n",
              "      <td>4300034</td>\n",
              "      <td>-31.86076</td>\n",
              "      <td>-54.16706</td>\n",
              "      <td>25,7</td>\n",
              "    </tr>\n",
              "    <tr>\n",
              "      <th>1</th>\n",
              "      <td>Água Santa</td>\n",
              "      <td>4300059</td>\n",
              "      <td>-28.16720</td>\n",
              "      <td>-52.03100</td>\n",
              "      <td>14,7</td>\n",
              "    </tr>\n",
              "    <tr>\n",
              "      <th>2</th>\n",
              "      <td>Agudo</td>\n",
              "      <td>4300109</td>\n",
              "      <td>-29.64470</td>\n",
              "      <td>-53.25150</td>\n",
              "      <td>26,4</td>\n",
              "    </tr>\n",
              "    <tr>\n",
              "      <th>3</th>\n",
              "      <td>Ajuricaba</td>\n",
              "      <td>4300208</td>\n",
              "      <td>-28.23420</td>\n",
              "      <td>-53.77570</td>\n",
              "      <td>24,1</td>\n",
              "    </tr>\n",
              "    <tr>\n",
              "      <th>4</th>\n",
              "      <td>Alecrim</td>\n",
              "      <td>4300307</td>\n",
              "      <td>-27.65790</td>\n",
              "      <td>-54.76490</td>\n",
              "      <td>18,9</td>\n",
              "    </tr>\n",
              "    <tr>\n",
              "      <th>...</th>\n",
              "      <td>...</td>\n",
              "      <td>...</td>\n",
              "      <td>...</td>\n",
              "      <td>...</td>\n",
              "      <td>...</td>\n",
              "    </tr>\n",
              "    <tr>\n",
              "      <th>490</th>\n",
              "      <td>Vista Alegre do Prata</td>\n",
              "      <td>4323606</td>\n",
              "      <td>-28.80520</td>\n",
              "      <td>-51.79460</td>\n",
              "      <td>2,6</td>\n",
              "    </tr>\n",
              "    <tr>\n",
              "      <th>491</th>\n",
              "      <td>Vista Gaúcha</td>\n",
              "      <td>4323705</td>\n",
              "      <td>-27.29020</td>\n",
              "      <td>-53.69740</td>\n",
              "      <td>10,9</td>\n",
              "    </tr>\n",
              "    <tr>\n",
              "      <th>492</th>\n",
              "      <td>Vitória das Missões</td>\n",
              "      <td>4323754</td>\n",
              "      <td>-28.35160</td>\n",
              "      <td>-54.50400</td>\n",
              "      <td>26,8</td>\n",
              "    </tr>\n",
              "    <tr>\n",
              "      <th>493</th>\n",
              "      <td>Westfalia</td>\n",
              "      <td>4323770</td>\n",
              "      <td>-29.37440</td>\n",
              "      <td>-51.74630</td>\n",
              "      <td>15,8</td>\n",
              "    </tr>\n",
              "    <tr>\n",
              "      <th>494</th>\n",
              "      <td>Xangri-lá</td>\n",
              "      <td>4323804</td>\n",
              "      <td>-29.80650</td>\n",
              "      <td>-50.05190</td>\n",
              "      <td>33,3</td>\n",
              "    </tr>\n",
              "  </tbody>\n",
              "</table>\n",
              "<p>495 rows × 5 columns</p>\n",
              "</div>"
            ],
            "text/plain": [
              "                 Município     ibge  latitude  longitude Tx_Distorção\n",
              "0                   Aceguá  4300034 -31.86076  -54.16706         25,7\n",
              "1               Água Santa  4300059 -28.16720  -52.03100         14,7\n",
              "2                    Agudo  4300109 -29.64470  -53.25150         26,4\n",
              "3                Ajuricaba  4300208 -28.23420  -53.77570         24,1\n",
              "4                  Alecrim  4300307 -27.65790  -54.76490         18,9\n",
              "..                     ...      ...       ...        ...          ...\n",
              "490  Vista Alegre do Prata  4323606 -28.80520  -51.79460          2,6\n",
              "491           Vista Gaúcha  4323705 -27.29020  -53.69740         10,9\n",
              "492    Vitória das Missões  4323754 -28.35160  -54.50400         26,8\n",
              "493              Westfalia  4323770 -29.37440  -51.74630         15,8\n",
              "494              Xangri-lá  4323804 -29.80650  -50.05190         33,3\n",
              "\n",
              "[495 rows x 5 columns]"
            ]
          },
          "metadata": {
            "tags": []
          },
          "execution_count": 5
        }
      ]
    },
    {
      "cell_type": "code",
      "metadata": {
        "id": "LojyDjkMg3L8",
        "colab": {
          "base_uri": "https://localhost:8080/",
          "height": 419
        },
        "outputId": "5a3fd405-eb3c-452e-8468-f73cb673eceb"
      },
      "source": [
        "# Converter Tx_Distorção para float e mudando virgula por ponto\n",
        "df['Tx_Distorção'] = df['Tx_Distorção'].str.replace(',','.').astype(float)\n",
        "df"
      ],
      "execution_count": 6,
      "outputs": [
        {
          "output_type": "execute_result",
          "data": {
            "text/html": [
              "<div>\n",
              "<style scoped>\n",
              "    .dataframe tbody tr th:only-of-type {\n",
              "        vertical-align: middle;\n",
              "    }\n",
              "\n",
              "    .dataframe tbody tr th {\n",
              "        vertical-align: top;\n",
              "    }\n",
              "\n",
              "    .dataframe thead th {\n",
              "        text-align: right;\n",
              "    }\n",
              "</style>\n",
              "<table border=\"1\" class=\"dataframe\">\n",
              "  <thead>\n",
              "    <tr style=\"text-align: right;\">\n",
              "      <th></th>\n",
              "      <th>Município</th>\n",
              "      <th>ibge</th>\n",
              "      <th>latitude</th>\n",
              "      <th>longitude</th>\n",
              "      <th>Tx_Distorção</th>\n",
              "    </tr>\n",
              "  </thead>\n",
              "  <tbody>\n",
              "    <tr>\n",
              "      <th>0</th>\n",
              "      <td>Aceguá</td>\n",
              "      <td>4300034</td>\n",
              "      <td>-31.86076</td>\n",
              "      <td>-54.16706</td>\n",
              "      <td>25.7</td>\n",
              "    </tr>\n",
              "    <tr>\n",
              "      <th>1</th>\n",
              "      <td>Água Santa</td>\n",
              "      <td>4300059</td>\n",
              "      <td>-28.16720</td>\n",
              "      <td>-52.03100</td>\n",
              "      <td>14.7</td>\n",
              "    </tr>\n",
              "    <tr>\n",
              "      <th>2</th>\n",
              "      <td>Agudo</td>\n",
              "      <td>4300109</td>\n",
              "      <td>-29.64470</td>\n",
              "      <td>-53.25150</td>\n",
              "      <td>26.4</td>\n",
              "    </tr>\n",
              "    <tr>\n",
              "      <th>3</th>\n",
              "      <td>Ajuricaba</td>\n",
              "      <td>4300208</td>\n",
              "      <td>-28.23420</td>\n",
              "      <td>-53.77570</td>\n",
              "      <td>24.1</td>\n",
              "    </tr>\n",
              "    <tr>\n",
              "      <th>4</th>\n",
              "      <td>Alecrim</td>\n",
              "      <td>4300307</td>\n",
              "      <td>-27.65790</td>\n",
              "      <td>-54.76490</td>\n",
              "      <td>18.9</td>\n",
              "    </tr>\n",
              "    <tr>\n",
              "      <th>...</th>\n",
              "      <td>...</td>\n",
              "      <td>...</td>\n",
              "      <td>...</td>\n",
              "      <td>...</td>\n",
              "      <td>...</td>\n",
              "    </tr>\n",
              "    <tr>\n",
              "      <th>490</th>\n",
              "      <td>Vista Alegre do Prata</td>\n",
              "      <td>4323606</td>\n",
              "      <td>-28.80520</td>\n",
              "      <td>-51.79460</td>\n",
              "      <td>2.6</td>\n",
              "    </tr>\n",
              "    <tr>\n",
              "      <th>491</th>\n",
              "      <td>Vista Gaúcha</td>\n",
              "      <td>4323705</td>\n",
              "      <td>-27.29020</td>\n",
              "      <td>-53.69740</td>\n",
              "      <td>10.9</td>\n",
              "    </tr>\n",
              "    <tr>\n",
              "      <th>492</th>\n",
              "      <td>Vitória das Missões</td>\n",
              "      <td>4323754</td>\n",
              "      <td>-28.35160</td>\n",
              "      <td>-54.50400</td>\n",
              "      <td>26.8</td>\n",
              "    </tr>\n",
              "    <tr>\n",
              "      <th>493</th>\n",
              "      <td>Westfalia</td>\n",
              "      <td>4323770</td>\n",
              "      <td>-29.37440</td>\n",
              "      <td>-51.74630</td>\n",
              "      <td>15.8</td>\n",
              "    </tr>\n",
              "    <tr>\n",
              "      <th>494</th>\n",
              "      <td>Xangri-lá</td>\n",
              "      <td>4323804</td>\n",
              "      <td>-29.80650</td>\n",
              "      <td>-50.05190</td>\n",
              "      <td>33.3</td>\n",
              "    </tr>\n",
              "  </tbody>\n",
              "</table>\n",
              "<p>495 rows × 5 columns</p>\n",
              "</div>"
            ],
            "text/plain": [
              "                 Município     ibge  latitude  longitude  Tx_Distorção\n",
              "0                   Aceguá  4300034 -31.86076  -54.16706          25.7\n",
              "1               Água Santa  4300059 -28.16720  -52.03100          14.7\n",
              "2                    Agudo  4300109 -29.64470  -53.25150          26.4\n",
              "3                Ajuricaba  4300208 -28.23420  -53.77570          24.1\n",
              "4                  Alecrim  4300307 -27.65790  -54.76490          18.9\n",
              "..                     ...      ...       ...        ...           ...\n",
              "490  Vista Alegre do Prata  4323606 -28.80520  -51.79460           2.6\n",
              "491           Vista Gaúcha  4323705 -27.29020  -53.69740          10.9\n",
              "492    Vitória das Missões  4323754 -28.35160  -54.50400          26.8\n",
              "493              Westfalia  4323770 -29.37440  -51.74630          15.8\n",
              "494              Xangri-lá  4323804 -29.80650  -50.05190          33.3\n",
              "\n",
              "[495 rows x 5 columns]"
            ]
          },
          "metadata": {
            "tags": []
          },
          "execution_count": 6
        }
      ]
    },
    {
      "cell_type": "code",
      "metadata": {
        "id": "RqR8YQnOg3Ja",
        "colab": {
          "base_uri": "https://localhost:8080/",
          "height": 359
        },
        "outputId": "215c3ccc-8665-4621-d317-7d9bce7d7e61"
      },
      "source": [
        "df.nsmallest(10, 'Tx_Distorção')"
      ],
      "execution_count": 7,
      "outputs": [
        {
          "output_type": "execute_result",
          "data": {
            "text/html": [
              "<div>\n",
              "<style scoped>\n",
              "    .dataframe tbody tr th:only-of-type {\n",
              "        vertical-align: middle;\n",
              "    }\n",
              "\n",
              "    .dataframe tbody tr th {\n",
              "        vertical-align: top;\n",
              "    }\n",
              "\n",
              "    .dataframe thead th {\n",
              "        text-align: right;\n",
              "    }\n",
              "</style>\n",
              "<table border=\"1\" class=\"dataframe\">\n",
              "  <thead>\n",
              "    <tr style=\"text-align: right;\">\n",
              "      <th></th>\n",
              "      <th>Município</th>\n",
              "      <th>ibge</th>\n",
              "      <th>latitude</th>\n",
              "      <th>longitude</th>\n",
              "      <th>Tx_Distorção</th>\n",
              "    </tr>\n",
              "  </thead>\n",
              "  <tbody>\n",
              "    <tr>\n",
              "      <th>490</th>\n",
              "      <td>Vista Alegre do Prata</td>\n",
              "      <td>4323606</td>\n",
              "      <td>-28.8052</td>\n",
              "      <td>-51.7946</td>\n",
              "      <td>2.6</td>\n",
              "    </tr>\n",
              "    <tr>\n",
              "      <th>375</th>\n",
              "      <td>Santo Antônio do Palma</td>\n",
              "      <td>4317558</td>\n",
              "      <td>-28.4956</td>\n",
              "      <td>-52.0267</td>\n",
              "      <td>4.3</td>\n",
              "    </tr>\n",
              "    <tr>\n",
              "      <th>28</th>\n",
              "      <td>Áurea</td>\n",
              "      <td>4301552</td>\n",
              "      <td>-27.6936</td>\n",
              "      <td>-52.0505</td>\n",
              "      <td>5.8</td>\n",
              "    </tr>\n",
              "    <tr>\n",
              "      <th>268</th>\n",
              "      <td>Nicolau Vergueiro</td>\n",
              "      <td>4312674</td>\n",
              "      <td>-28.5298</td>\n",
              "      <td>-52.4676</td>\n",
              "      <td>7.0</td>\n",
              "    </tr>\n",
              "    <tr>\n",
              "      <th>128</th>\n",
              "      <td>Derrubadas</td>\n",
              "      <td>4306320</td>\n",
              "      <td>-27.2642</td>\n",
              "      <td>-53.8645</td>\n",
              "      <td>7.4</td>\n",
              "    </tr>\n",
              "    <tr>\n",
              "      <th>119</th>\n",
              "      <td>Cotiporã</td>\n",
              "      <td>4305959</td>\n",
              "      <td>-28.9891</td>\n",
              "      <td>-51.6971</td>\n",
              "      <td>7.5</td>\n",
              "    </tr>\n",
              "    <tr>\n",
              "      <th>68</th>\n",
              "      <td>Campestre da Serra</td>\n",
              "      <td>4303673</td>\n",
              "      <td>-28.7926</td>\n",
              "      <td>-51.0941</td>\n",
              "      <td>7.6</td>\n",
              "    </tr>\n",
              "    <tr>\n",
              "      <th>476</th>\n",
              "      <td>Vanini</td>\n",
              "      <td>4322558</td>\n",
              "      <td>-28.4758</td>\n",
              "      <td>-51.8447</td>\n",
              "      <td>7.8</td>\n",
              "    </tr>\n",
              "    <tr>\n",
              "      <th>236</th>\n",
              "      <td>Linha Nova</td>\n",
              "      <td>4311643</td>\n",
              "      <td>-29.4679</td>\n",
              "      <td>-51.2003</td>\n",
              "      <td>8.0</td>\n",
              "    </tr>\n",
              "    <tr>\n",
              "      <th>392</th>\n",
              "      <td>São José do Inhacorá</td>\n",
              "      <td>4318499</td>\n",
              "      <td>-27.7251</td>\n",
              "      <td>-54.1275</td>\n",
              "      <td>8.0</td>\n",
              "    </tr>\n",
              "  </tbody>\n",
              "</table>\n",
              "</div>"
            ],
            "text/plain": [
              "                  Município     ibge  latitude  longitude  Tx_Distorção\n",
              "490   Vista Alegre do Prata  4323606  -28.8052   -51.7946           2.6\n",
              "375  Santo Antônio do Palma  4317558  -28.4956   -52.0267           4.3\n",
              "28                    Áurea  4301552  -27.6936   -52.0505           5.8\n",
              "268       Nicolau Vergueiro  4312674  -28.5298   -52.4676           7.0\n",
              "128              Derrubadas  4306320  -27.2642   -53.8645           7.4\n",
              "119                Cotiporã  4305959  -28.9891   -51.6971           7.5\n",
              "68       Campestre da Serra  4303673  -28.7926   -51.0941           7.6\n",
              "476                  Vanini  4322558  -28.4758   -51.8447           7.8\n",
              "236              Linha Nova  4311643  -29.4679   -51.2003           8.0\n",
              "392    São José do Inhacorá  4318499  -27.7251   -54.1275           8.0"
            ]
          },
          "metadata": {
            "tags": []
          },
          "execution_count": 7
        }
      ]
    },
    {
      "cell_type": "code",
      "metadata": {
        "colab": {
          "base_uri": "https://localhost:8080/",
          "height": 359
        },
        "id": "Roecl1W4OuN1",
        "outputId": "d061cffc-61b3-497c-8b82-9d3526703926"
      },
      "source": [
        "df.nlargest(10, 'Tx_Distorção', keep='last')"
      ],
      "execution_count": 8,
      "outputs": [
        {
          "output_type": "execute_result",
          "data": {
            "text/html": [
              "<div>\n",
              "<style scoped>\n",
              "    .dataframe tbody tr th:only-of-type {\n",
              "        vertical-align: middle;\n",
              "    }\n",
              "\n",
              "    .dataframe tbody tr th {\n",
              "        vertical-align: top;\n",
              "    }\n",
              "\n",
              "    .dataframe thead th {\n",
              "        text-align: right;\n",
              "    }\n",
              "</style>\n",
              "<table border=\"1\" class=\"dataframe\">\n",
              "  <thead>\n",
              "    <tr style=\"text-align: right;\">\n",
              "      <th></th>\n",
              "      <th>Município</th>\n",
              "      <th>ibge</th>\n",
              "      <th>latitude</th>\n",
              "      <th>longitude</th>\n",
              "      <th>Tx_Distorção</th>\n",
              "    </tr>\n",
              "  </thead>\n",
              "  <tbody>\n",
              "    <tr>\n",
              "      <th>307</th>\n",
              "      <td>Pedras Altas</td>\n",
              "      <td>4314175</td>\n",
              "      <td>-31.7217</td>\n",
              "      <td>-53.5838</td>\n",
              "      <td>56.0</td>\n",
              "    </tr>\n",
              "    <tr>\n",
              "      <th>316</th>\n",
              "      <td>Pinheiro Machado</td>\n",
              "      <td>4314506</td>\n",
              "      <td>-31.5794</td>\n",
              "      <td>-53.3798</td>\n",
              "      <td>53.9</td>\n",
              "    </tr>\n",
              "    <tr>\n",
              "      <th>17</th>\n",
              "      <td>Arambaré</td>\n",
              "      <td>4300851</td>\n",
              "      <td>-30.9093</td>\n",
              "      <td>-51.5046</td>\n",
              "      <td>52.8</td>\n",
              "    </tr>\n",
              "    <tr>\n",
              "      <th>140</th>\n",
              "      <td>Eldorado do Sul</td>\n",
              "      <td>4306767</td>\n",
              "      <td>-30.0847</td>\n",
              "      <td>-51.6187</td>\n",
              "      <td>51.9</td>\n",
              "    </tr>\n",
              "    <tr>\n",
              "      <th>35</th>\n",
              "      <td>Barra do Quaraí</td>\n",
              "      <td>4301875</td>\n",
              "      <td>-30.2029</td>\n",
              "      <td>-57.5497</td>\n",
              "      <td>51.5</td>\n",
              "    </tr>\n",
              "    <tr>\n",
              "      <th>393</th>\n",
              "      <td>São José do Norte</td>\n",
              "      <td>4318507</td>\n",
              "      <td>-32.0151</td>\n",
              "      <td>-52.0331</td>\n",
              "      <td>49.4</td>\n",
              "    </tr>\n",
              "    <tr>\n",
              "      <th>413</th>\n",
              "      <td>São Valério do Sul</td>\n",
              "      <td>4319737</td>\n",
              "      <td>-27.7906</td>\n",
              "      <td>-53.9368</td>\n",
              "      <td>49.2</td>\n",
              "    </tr>\n",
              "    <tr>\n",
              "      <th>193</th>\n",
              "      <td>Hulha Negra</td>\n",
              "      <td>4309654</td>\n",
              "      <td>-31.4067</td>\n",
              "      <td>-53.8667</td>\n",
              "      <td>49.0</td>\n",
              "    </tr>\n",
              "    <tr>\n",
              "      <th>106</th>\n",
              "      <td>Chuí</td>\n",
              "      <td>4305439</td>\n",
              "      <td>-33.6866</td>\n",
              "      <td>-53.4594</td>\n",
              "      <td>48.6</td>\n",
              "    </tr>\n",
              "    <tr>\n",
              "      <th>233</th>\n",
              "      <td>Lavras do Sul</td>\n",
              "      <td>4311502</td>\n",
              "      <td>-30.8071</td>\n",
              "      <td>-53.8931</td>\n",
              "      <td>47.7</td>\n",
              "    </tr>\n",
              "  </tbody>\n",
              "</table>\n",
              "</div>"
            ],
            "text/plain": [
              "              Município     ibge  latitude  longitude  Tx_Distorção\n",
              "307        Pedras Altas  4314175  -31.7217   -53.5838          56.0\n",
              "316    Pinheiro Machado  4314506  -31.5794   -53.3798          53.9\n",
              "17             Arambaré  4300851  -30.9093   -51.5046          52.8\n",
              "140     Eldorado do Sul  4306767  -30.0847   -51.6187          51.9\n",
              "35      Barra do Quaraí  4301875  -30.2029   -57.5497          51.5\n",
              "393   São José do Norte  4318507  -32.0151   -52.0331          49.4\n",
              "413  São Valério do Sul  4319737  -27.7906   -53.9368          49.2\n",
              "193         Hulha Negra  4309654  -31.4067   -53.8667          49.0\n",
              "106                Chuí  4305439  -33.6866   -53.4594          48.6\n",
              "233       Lavras do Sul  4311502  -30.8071   -53.8931          47.7"
            ]
          },
          "metadata": {
            "tags": []
          },
          "execution_count": 8
        }
      ]
    },
    {
      "cell_type": "markdown",
      "metadata": {
        "id": "SThMm2Ot0KwU"
      },
      "source": [
        "![Alt Text](https://media.giphy.com/media/W0cp9tTEKFPh7MbNtd/giphy.gif)"
      ]
    },
    {
      "cell_type": "code",
      "metadata": {
        "id": "DuWGp3BnUKAL"
      },
      "source": [
        "# plotando o histograma"
      ],
      "execution_count": 9,
      "outputs": []
    },
    {
      "cell_type": "code",
      "metadata": {
        "colab": {
          "base_uri": "https://localhost:8080/",
          "height": 298
        },
        "id": "wLsINDBTatWl",
        "outputId": "7003d8b1-f3f8-4f5a-e747-ad3c0b2a7cd6"
      },
      "source": [
        "df['Tx_Distorção'].sort_values(ascending=False).plot.hist(title='Taxa de Distorção', bins=50, edgecolor='black')"
      ],
      "execution_count": 10,
      "outputs": [
        {
          "output_type": "execute_result",
          "data": {
            "text/plain": [
              "<matplotlib.axes._subplots.AxesSubplot at 0x7f79dd31cbd0>"
            ]
          },
          "metadata": {
            "tags": []
          },
          "execution_count": 10
        },
        {
          "output_type": "display_data",
          "data": {
            "image/png": "[encoded data removed]",
            "text/plain": [
              "<Figure size 432x288 with 1 Axes>"
            ]
          },
          "metadata": {
            "tags": [],
            "needs_background": "light"
          }
        }
      ]
    },
    {
      "cell_type": "code",
      "metadata": {
        "colab": {
          "base_uri": "https://localhost:8080/"
        },
        "id": "MsNb1ubhatS0",
        "outputId": "f14861fd-a9b4-4b0f-edc8-c601fdd3bbcb"
      },
      "source": [
        "# Quantidade de municípios com tx_distorção menor ou igual a 10\n",
        "df[(df['Tx_Distorção'] <= 10)].count()"
      ],
      "execution_count": 11,
      "outputs": [
        {
          "output_type": "execute_result",
          "data": {
            "text/plain": [
              "Município       17\n",
              "ibge            17\n",
              "latitude        17\n",
              "longitude       17\n",
              "Tx_Distorção    17\n",
              "dtype: int64"
            ]
          },
          "metadata": {
            "tags": []
          },
          "execution_count": 11
        }
      ]
    },
    {
      "cell_type": "code",
      "metadata": {
        "colab": {
          "base_uri": "https://localhost:8080/"
        },
        "id": "KO2nKBZiatPm",
        "outputId": "2c68d111-b73e-4100-b2f9-21904595572d"
      },
      "source": [
        "# Quantidade de municípios com tx_distorção maior ou igual a 45\n",
        "df[(df['Tx_Distorção'] >= 45)].count()"
      ],
      "execution_count": 12,
      "outputs": [
        {
          "output_type": "execute_result",
          "data": {
            "text/plain": [
              "Município       17\n",
              "ibge            17\n",
              "latitude        17\n",
              "longitude       17\n",
              "Tx_Distorção    17\n",
              "dtype: int64"
            ]
          },
          "metadata": {
            "tags": []
          },
          "execution_count": 12
        }
      ]
    },
    {
      "cell_type": "markdown",
      "metadata": {
        "id": "_mw5ih9bn9qq"
      },
      "source": [
        "### MAPA\n",
        "![Alt Text](https://media.giphy.com/media/dzUT9cGW996BiHYMhe/giphy.gif)\n",
        "\n",
        "[Mapa do Brasil no Google](https://www.google.com.br/maps/place/Brasil/@-13.6970969,-69.7609493,4z/data=!3m1!4b1!4m5!3m4!1s0x9c59c7ebcc28cf:0x295a1506f2293e63!8m2!3d-14.235004!4d-51.92528)\n",
        ">"
      ]
    },
    {
      "cell_type": "code",
      "metadata": {
        "id": "lx4U2XhUoAQ7"
      },
      "source": [
        "# Vamos aprender como o folium funciona\n",
        "# criar um mapa com base em uma coordenada central"
      ],
      "execution_count": 13,
      "outputs": []
    },
    {
      "cell_type": "code",
      "metadata": {
        "id": "nK6KgRuqoALC",
        "colab": {
          "base_uri": "https://localhost:8080/",
          "height": 760
        },
        "outputId": "4ef0be99-0548-402e-f31c-af6bbe6a5283"
      },
      "source": [
        "brasil = folium.Map(\n",
        "    location=[-13.6970969, -69.7609493], \n",
        "    zoom_start=4\n",
        ")\n",
        "\n",
        "# mostrando mapa\n",
        "brasil"
      ],
      "execution_count": 14,
      "outputs": [
        {
          "output_type": "execute_result",
          "data": {
            "text/html": [
              "<div style=\"width:100%;\"><div style=\"position:relative;width:100%;height:0;padding-bottom:60%;\"><span style=\"color:#565656\">Make this Notebook Trusted to load map: File -> Trust Notebook</span><iframe src=\"about:blank\" style=\"position:absolute;width:100%;height:100%;left:0;top:0;border:none !important;\" data-html=%3C%21DOCTYPE%20html%3E%0A%3Chead%3E%20%20%20%20%0A%20%20%20%20%3Cmeta%20http-equiv%3D%22content-type%22%20content%3D%22text/html%3B%20charset%3DUTF-8%22%20/%3E%0A%20%20%20%20%3Cscript%3EL_PREFER_CANVAS%3Dfalse%3B%20L_NO_TOUCH%3Dfalse%3B%20L_DISABLE_3D%3Dfalse%3B%3C/script%3E%0A%20%20%20%20%3Cscript%20src%3D%22https%3A//cdn.jsdelivr.net/npm/leaflet%401.4.0/dist/leaflet.js%22%3E%3C/script%3E%0A%20%20%20%20%3Cscript%20src%3D%22https%3A//code.jquery.com/jquery-1.12.4.min.js%22%3E%3C/script%3E%0A%20%20%20%20%3Cscript%20src%3D%22https%3A//maxcdn.bootstrapcdn.com/bootstrap/3.2.0/js/bootstrap.min.js%22%3E%3C/script%3E%0A%20%20%20%20%3Cscript%20src%3D%22https%3A//cdnjs.cloudflare.com/ajax/libs/Leaflet.awesome-markers/2.0.2/leaflet.awesome-markers.js%22%3E%3C/script%3E%0A%20%20%20%20%3Clink%20rel%3D%22stylesheet%22%20href%3D%22https%3A//cdn.jsdelivr.net/npm/leaflet%401.4.0/dist/leaflet.css%22/%3E%0A%20%20%20%20%3Clink%20rel%3D%22stylesheet%22%20href%3D%22https%3A//maxcdn.bootstrapcdn.com/bootstrap/3.2.0/css/bootstrap.min.css%22/%3E%0A%20%20%20%20%3Clink%20rel%3D%22stylesheet%22%20href%3D%22https%3A//maxcdn.bootstrapcdn.com/bootstrap/3.2.0/css/bootstrap-theme.min.css%22/%3E%0A%20%20%20%20%3Clink%20rel%3D%22stylesheet%22%20href%3D%22https%3A//maxcdn.bootstrapcdn.com/font-awesome/4.6.3/css/font-awesome.min.css%22/%3E%0A%20%20%20%20%3Clink%20rel%3D%22stylesheet%22%20href%3D%22https%3A//cdnjs.cloudflare.com/ajax/libs/Leaflet.awesome-markers/2.0.2/leaflet.awesome-markers.css%22/%3E%0A%20%20%20%20%3Clink%20rel%3D%22stylesheet%22%20href%3D%22https%3A//rawcdn.githack.com/python-visualization/folium/master/folium/templates/leaflet.awesome.rotate.css%22/%3E%0A%20%20%20%20%3Cstyle%3Ehtml%2C%20body%20%7Bwidth%3A%20100%25%3Bheight%3A%20100%25%3Bmargin%3A%200%3Bpadding%3A%200%3B%7D%3C/style%3E%0A%20%20%20%20%3Cstyle%3E%23map%20%7Bposition%3Aabsolute%3Btop%3A0%3Bbottom%3A0%3Bright%3A0%3Bleft%3A0%3B%7D%3C/style%3E%0A%20%20%20%20%0A%20%20%20%20%3Cmeta%20name%3D%22viewport%22%20content%3D%22width%3Ddevice-width%2C%0A%20%20%20%20%20%20%20%20initial-scale%3D1.0%2C%20maximum-scale%3D1.0%2C%20user-scalable%3Dno%22%20/%3E%0A%20%20%20%20%3Cstyle%3E%23map_eeb8b8a0e0b44292bcb7305d27dfa2b3%20%7B%0A%20%20%20%20%20%20%20%20position%3A%20relative%3B%0A%20%20%20%20%20%20%20%20width%3A%20100.0%25%3B%0A%20%20%20%20%20%20%20%20height%3A%20100.0%25%3B%0A%20%20%20%20%20%20%20%20left%3A%200.0%25%3B%0A%20%20%20%20%20%20%20%20top%3A%200.0%25%3B%0A%20%20%20%20%20%20%20%20%7D%0A%20%20%20%20%3C/style%3E%0A%3C/head%3E%0A%3Cbody%3E%20%20%20%20%0A%20%20%20%20%0A%20%20%20%20%3Cdiv%20class%3D%22folium-map%22%20id%3D%22map_eeb8b8a0e0b44292bcb7305d27dfa2b3%22%20%3E%3C/div%3E%0A%3C/body%3E%0A%3Cscript%3E%20%20%20%20%0A%20%20%20%20%0A%20%20%20%20%0A%20%20%20%20%20%20%20%20var%20bounds%20%3D%20null%3B%0A%20%20%20%20%0A%0A%20%20%20%20var%20map_eeb8b8a0e0b44292bcb7305d27dfa2b3%20%3D%20L.map%28%0A%20%20%20%20%20%20%20%20%27map_eeb8b8a0e0b44292bcb7305d27dfa2b3%27%2C%20%7B%0A%20%20%20%20%20%20%20%20center%3A%20%5B-13.6970969%2C%20-69.7609493%5D%2C%0A%20%20%20%20%20%20%20%20zoom%3A%204%2C%0A%20%20%20%20%20%20%20%20maxBounds%3A%20bounds%2C%0A%20%20%20%20%20%20%20%20layers%3A%20%5B%5D%2C%0A%20%20%20%20%20%20%20%20worldCopyJump%3A%20false%2C%0A%20%20%20%20%20%20%20%20crs%3A%20L.CRS.EPSG3857%2C%0A%20%20%20%20%20%20%20%20zoomControl%3A%20true%2C%0A%20%20%20%20%20%20%20%20%7D%29%3B%0A%0A%0A%20%20%20%20%0A%20%20%20%20var%20tile_layer_046b4d46fad943969e19a7df9b788fb1%20%3D%20L.tileLayer%28%0A%20%20%20%20%20%20%20%20%27https%3A//%7Bs%7D.tile.openstreetmap.org/%7Bz%7D/%7Bx%7D/%7By%7D.png%27%2C%0A%20%20%20%20%20%20%20%20%7B%0A%20%20%20%20%20%20%20%20%22attribution%22%3A%20null%2C%0A%20%20%20%20%20%20%20%20%22detectRetina%22%3A%20false%2C%0A%20%20%20%20%20%20%20%20%22maxNativeZoom%22%3A%2018%2C%0A%20%20%20%20%20%20%20%20%22maxZoom%22%3A%2018%2C%0A%20%20%20%20%20%20%20%20%22minZoom%22%3A%200%2C%0A%20%20%20%20%20%20%20%20%22noWrap%22%3A%20false%2C%0A%20%20%20%20%20%20%20%20%22opacity%22%3A%201%2C%0A%20%20%20%20%20%20%20%20%22subdomains%22%3A%20%22abc%22%2C%0A%20%20%20%20%20%20%20%20%22tms%22%3A%20false%0A%7D%29.addTo%28map_eeb8b8a0e0b44292bcb7305d27dfa2b3%29%3B%0A%3C/script%3E onload=\"this.contentDocument.open();this.contentDocument.write(    decodeURIComponent(this.getAttribute('data-html')));this.contentDocument.close();\" allowfullscreen webkitallowfullscreen mozallowfullscreen></iframe></div></div>"
            ],
            "text/plain": [
              "<folium.folium.Map at 0x7f79d543cb50>"
            ]
          },
          "metadata": {
            "tags": []
          },
          "execution_count": 14
        }
      ]
    },
    {
      "cell_type": "code",
      "metadata": {
        "id": "KByGz8mbn_JK",
        "outputId": "bbd45cb7-1ff4-4c7c-df98-8b26c1c1ab2f",
        "colab": {
          "base_uri": "https://localhost:8080/",
          "height": 394
        }
      },
      "source": [
        "# criar mapa do RS\n",
        "rs = folium.map\n",
        "\n",
        "rs = folium.Map(\n",
        "    #location=[-30.33209, -58.1651595],\n",
        "    location=[-30.5, -52], # localização ajustada\n",
        "\n",
        "    zoom_start=7\n",
        ")\n",
        "\n",
        "# mostrando mapa\n",
        "rs"
      ],
      "execution_count": 15,
      "outputs": [
        {
          "output_type": "execute_result",
          "data": {
            "text/html": [
              "<div style=\"width:100%;\"><div style=\"position:relative;width:100%;height:0;padding-bottom:60%;\"><span style=\"color:#565656\">Make this Notebook Trusted to load map: File -> Trust Notebook</span><iframe src=\"about:blank\" style=\"position:absolute;width:100%;height:100%;left:0;top:0;border:none !important;\" data-html=%3C%21DOCTYPE%20html%3E%0A%3Chead%3E%20%20%20%20%0A%20%20%20%20%3Cmeta%20http-equiv%3D%22content-type%22%20content%3D%22text/html%3B%20charset%3DUTF-8%22%20/%3E%0A%20%20%20%20%3Cscript%3EL_PREFER_CANVAS%3Dfalse%3B%20L_NO_TOUCH%3Dfalse%3B%20L_DISABLE_3D%3Dfalse%3B%3C/script%3E%0A%20%20%20%20%3Cscript%20src%3D%22https%3A//cdn.jsdelivr.net/npm/leaflet%401.4.0/dist/leaflet.js%22%3E%3C/script%3E%0A%20%20%20%20%3Cscript%20src%3D%22https%3A//code.jquery.com/jquery-1.12.4.min.js%22%3E%3C/script%3E%0A%20%20%20%20%3Cscript%20src%3D%22https%3A//maxcdn.bootstrapcdn.com/bootstrap/3.2.0/js/bootstrap.min.js%22%3E%3C/script%3E%0A%20%20%20%20%3Cscript%20src%3D%22https%3A//cdnjs.cloudflare.com/ajax/libs/Leaflet.awesome-markers/2.0.2/leaflet.awesome-markers.js%22%3E%3C/script%3E%0A%20%20%20%20%3Clink%20rel%3D%22stylesheet%22%20href%3D%22https%3A//cdn.jsdelivr.net/npm/leaflet%401.4.0/dist/leaflet.css%22/%3E%0A%20%20%20%20%3Clink%20rel%3D%22stylesheet%22%20href%3D%22https%3A//maxcdn.bootstrapcdn.com/bootstrap/3.2.0/css/bootstrap.min.css%22/%3E%0A%20%20%20%20%3Clink%20rel%3D%22stylesheet%22%20href%3D%22https%3A//maxcdn.bootstrapcdn.com/bootstrap/3.2.0/css/bootstrap-theme.min.css%22/%3E%0A%20%20%20%20%3Clink%20rel%3D%22stylesheet%22%20href%3D%22https%3A//maxcdn.bootstrapcdn.com/font-awesome/4.6.3/css/font-awesome.min.css%22/%3E%0A%20%20%20%20%3Clink%20rel%3D%22stylesheet%22%20href%3D%22https%3A//cdnjs.cloudflare.com/ajax/libs/Leaflet.awesome-markers/2.0.2/leaflet.awesome-markers.css%22/%3E%0A%20%20%20%20%3Clink%20rel%3D%22stylesheet%22%20href%3D%22https%3A//rawcdn.githack.com/python-visualization/folium/master/folium/templates/leaflet.awesome.rotate.css%22/%3E%0A%20%20%20%20%3Cstyle%3Ehtml%2C%20body%20%7Bwidth%3A%20100%25%3Bheight%3A%20100%25%3Bmargin%3A%200%3Bpadding%3A%200%3B%7D%3C/style%3E%0A%20%20%20%20%3Cstyle%3E%23map%20%7Bposition%3Aabsolute%3Btop%3A0%3Bbottom%3A0%3Bright%3A0%3Bleft%3A0%3B%7D%3C/style%3E%0A%20%20%20%20%0A%20%20%20%20%3Cmeta%20name%3D%22viewport%22%20content%3D%22width%3Ddevice-width%2C%0A%20%20%20%20%20%20%20%20initial-scale%3D1.0%2C%20maximum-scale%3D1.0%2C%20user-scalable%3Dno%22%20/%3E%0A%20%20%20%20%3Cstyle%3E%23map_a6cb11be97f940e89524d9cf6fd25069%20%7B%0A%20%20%20%20%20%20%20%20position%3A%20relative%3B%0A%20%20%20%20%20%20%20%20width%3A%20100.0%25%3B%0A%20%20%20%20%20%20%20%20height%3A%20100.0%25%3B%0A%20%20%20%20%20%20%20%20left%3A%200.0%25%3B%0A%20%20%20%20%20%20%20%20top%3A%200.0%25%3B%0A%20%20%20%20%20%20%20%20%7D%0A%20%20%20%20%3C/style%3E%0A%3C/head%3E%0A%3Cbody%3E%20%20%20%20%0A%20%20%20%20%0A%20%20%20%20%3Cdiv%20class%3D%22folium-map%22%20id%3D%22map_a6cb11be97f940e89524d9cf6fd25069%22%20%3E%3C/div%3E%0A%3C/body%3E%0A%3Cscript%3E%20%20%20%20%0A%20%20%20%20%0A%20%20%20%20%0A%20%20%20%20%20%20%20%20var%20bounds%20%3D%20null%3B%0A%20%20%20%20%0A%0A%20%20%20%20var%20map_a6cb11be97f940e89524d9cf6fd25069%20%3D%20L.map%28%0A%20%20%20%20%20%20%20%20%27map_a6cb11be97f940e89524d9cf6fd25069%27%2C%20%7B%0A%20%20%20%20%20%20%20%20center%3A%20%5B-30.5%2C%20-52%5D%2C%0A%20%20%20%20%20%20%20%20zoom%3A%207%2C%0A%20%20%20%20%20%20%20%20maxBounds%3A%20bounds%2C%0A%20%20%20%20%20%20%20%20layers%3A%20%5B%5D%2C%0A%20%20%20%20%20%20%20%20worldCopyJump%3A%20false%2C%0A%20%20%20%20%20%20%20%20crs%3A%20L.CRS.EPSG3857%2C%0A%20%20%20%20%20%20%20%20zoomControl%3A%20true%2C%0A%20%20%20%20%20%20%20%20%7D%29%3B%0A%0A%0A%20%20%20%20%0A%20%20%20%20var%20tile_layer_535a7e383a434040886ae0bcfa21c737%20%3D%20L.tileLayer%28%0A%20%20%20%20%20%20%20%20%27https%3A//%7Bs%7D.tile.openstreetmap.org/%7Bz%7D/%7Bx%7D/%7By%7D.png%27%2C%0A%20%20%20%20%20%20%20%20%7B%0A%20%20%20%20%20%20%20%20%22attribution%22%3A%20null%2C%0A%20%20%20%20%20%20%20%20%22detectRetina%22%3A%20false%2C%0A%20%20%20%20%20%20%20%20%22maxNativeZoom%22%3A%2018%2C%0A%20%20%20%20%20%20%20%20%22maxZoom%22%3A%2018%2C%0A%20%20%20%20%20%20%20%20%22minZoom%22%3A%200%2C%0A%20%20%20%20%20%20%20%20%22noWrap%22%3A%20false%2C%0A%20%20%20%20%20%20%20%20%22opacity%22%3A%201%2C%0A%20%20%20%20%20%20%20%20%22subdomains%22%3A%20%22abc%22%2C%0A%20%20%20%20%20%20%20%20%22tms%22%3A%20false%0A%7D%29.addTo%28map_a6cb11be97f940e89524d9cf6fd25069%29%3B%0A%3C/script%3E onload=\"this.contentDocument.open();this.contentDocument.write(    decodeURIComponent(this.getAttribute('data-html')));this.contentDocument.close();\" allowfullscreen webkitallowfullscreen mozallowfullscreen></iframe></div></div>"
            ],
            "text/plain": [
              "<folium.folium.Map at 0x7f79d544f290>"
            ]
          },
          "metadata": {
            "tags": []
          },
          "execution_count": 15
        }
      ]
    },
    {
      "cell_type": "code",
      "metadata": {
        "id": "gOkdacQOvQLz"
      },
      "source": [
        "# Percorrer o dataframe com base nas melhores escolas(Tx_Distorção <= 10)\n",
        "# e desenhar um marcador para cada escola\n",
        "# usando for e iterrows\n",
        "\n",
        "# iterrows = percorra da primeira até a última linha\n",
        "# folium.Marker = Cria um marcador\n",
        "\n",
        "for indice, municipio in df[df['Tx_Distorção'] <= 10].iterrows():   \n",
        "  folium.Marker(\n",
        "      location=[municipio['latitude'], municipio['longitude']], #Pega Lat. e Long.\n",
        "      popup=municipio['Município'], #Pega nome do município \n",
        "      icon=folium.map.Icon(color='green') # cria marcador e põe no mapa\n",
        "  ).add_to(rs)  # coloca no mapa\n",
        "\n",
        "rs"
      ],
      "execution_count": null,
      "outputs": []
    },
    {
      "cell_type": "code",
      "metadata": {
        "id": "jycS8PifvQJF",
        "outputId": "2f80a783-60bf-4e5e-efa1-5a1fdb4b0fd7",
        "colab": {
          "base_uri": "https://localhost:8080/",
          "height": 419
        }
      },
      "source": [
        "df"
      ],
      "execution_count": 21,
      "outputs": [
        {
          "output_type": "execute_result",
          "data": {
            "text/html": [
              "<div>\n",
              "<style scoped>\n",
              "    .dataframe tbody tr th:only-of-type {\n",
              "        vertical-align: middle;\n",
              "    }\n",
              "\n",
              "    .dataframe tbody tr th {\n",
              "        vertical-align: top;\n",
              "    }\n",
              "\n",
              "    .dataframe thead th {\n",
              "        text-align: right;\n",
              "    }\n",
              "</style>\n",
              "<table border=\"1\" class=\"dataframe\">\n",
              "  <thead>\n",
              "    <tr style=\"text-align: right;\">\n",
              "      <th></th>\n",
              "      <th>Município</th>\n",
              "      <th>ibge</th>\n",
              "      <th>latitude</th>\n",
              "      <th>longitude</th>\n",
              "      <th>Tx_Distorção</th>\n",
              "    </tr>\n",
              "  </thead>\n",
              "  <tbody>\n",
              "    <tr>\n",
              "      <th>0</th>\n",
              "      <td>Aceguá</td>\n",
              "      <td>4300034</td>\n",
              "      <td>-31.86076</td>\n",
              "      <td>-54.16706</td>\n",
              "      <td>25.7</td>\n",
              "    </tr>\n",
              "    <tr>\n",
              "      <th>1</th>\n",
              "      <td>Água Santa</td>\n",
              "      <td>4300059</td>\n",
              "      <td>-28.16720</td>\n",
              "      <td>-52.03100</td>\n",
              "      <td>14.7</td>\n",
              "    </tr>\n",
              "    <tr>\n",
              "      <th>2</th>\n",
              "      <td>Agudo</td>\n",
              "      <td>4300109</td>\n",
              "      <td>-29.64470</td>\n",
              "      <td>-53.25150</td>\n",
              "      <td>26.4</td>\n",
              "    </tr>\n",
              "    <tr>\n",
              "      <th>3</th>\n",
              "      <td>Ajuricaba</td>\n",
              "      <td>4300208</td>\n",
              "      <td>-28.23420</td>\n",
              "      <td>-53.77570</td>\n",
              "      <td>24.1</td>\n",
              "    </tr>\n",
              "    <tr>\n",
              "      <th>4</th>\n",
              "      <td>Alecrim</td>\n",
              "      <td>4300307</td>\n",
              "      <td>-27.65790</td>\n",
              "      <td>-54.76490</td>\n",
              "      <td>18.9</td>\n",
              "    </tr>\n",
              "    <tr>\n",
              "      <th>...</th>\n",
              "      <td>...</td>\n",
              "      <td>...</td>\n",
              "      <td>...</td>\n",
              "      <td>...</td>\n",
              "      <td>...</td>\n",
              "    </tr>\n",
              "    <tr>\n",
              "      <th>490</th>\n",
              "      <td>Vista Alegre do Prata</td>\n",
              "      <td>4323606</td>\n",
              "      <td>-28.80520</td>\n",
              "      <td>-51.79460</td>\n",
              "      <td>2.6</td>\n",
              "    </tr>\n",
              "    <tr>\n",
              "      <th>491</th>\n",
              "      <td>Vista Gaúcha</td>\n",
              "      <td>4323705</td>\n",
              "      <td>-27.29020</td>\n",
              "      <td>-53.69740</td>\n",
              "      <td>10.9</td>\n",
              "    </tr>\n",
              "    <tr>\n",
              "      <th>492</th>\n",
              "      <td>Vitória das Missões</td>\n",
              "      <td>4323754</td>\n",
              "      <td>-28.35160</td>\n",
              "      <td>-54.50400</td>\n",
              "      <td>26.8</td>\n",
              "    </tr>\n",
              "    <tr>\n",
              "      <th>493</th>\n",
              "      <td>Westfalia</td>\n",
              "      <td>4323770</td>\n",
              "      <td>-29.37440</td>\n",
              "      <td>-51.74630</td>\n",
              "      <td>15.8</td>\n",
              "    </tr>\n",
              "    <tr>\n",
              "      <th>494</th>\n",
              "      <td>Xangri-lá</td>\n",
              "      <td>4323804</td>\n",
              "      <td>-29.80650</td>\n",
              "      <td>-50.05190</td>\n",
              "      <td>33.3</td>\n",
              "    </tr>\n",
              "  </tbody>\n",
              "</table>\n",
              "<p>495 rows × 5 columns</p>\n",
              "</div>"
            ],
            "text/plain": [
              "                 Município     ibge  latitude  longitude  Tx_Distorção\n",
              "0                   Aceguá  4300034 -31.86076  -54.16706          25.7\n",
              "1               Água Santa  4300059 -28.16720  -52.03100          14.7\n",
              "2                    Agudo  4300109 -29.64470  -53.25150          26.4\n",
              "3                Ajuricaba  4300208 -28.23420  -53.77570          24.1\n",
              "4                  Alecrim  4300307 -27.65790  -54.76490          18.9\n",
              "..                     ...      ...       ...        ...           ...\n",
              "490  Vista Alegre do Prata  4323606 -28.80520  -51.79460           2.6\n",
              "491           Vista Gaúcha  4323705 -27.29020  -53.69740          10.9\n",
              "492    Vitória das Missões  4323754 -28.35160  -54.50400          26.8\n",
              "493              Westfalia  4323770 -29.37440  -51.74630          15.8\n",
              "494              Xangri-lá  4323804 -29.80650  -50.05190          33.3\n",
              "\n",
              "[495 rows x 5 columns]"
            ]
          },
          "metadata": {
            "tags": []
          },
          "execution_count": 21
        }
      ]
    },
    {
      "cell_type": "code",
      "metadata": {
        "id": "9jSI07LrdkM5"
      },
      "source": [
        ""
      ],
      "execution_count": 16,
      "outputs": []
    }
  ]
}