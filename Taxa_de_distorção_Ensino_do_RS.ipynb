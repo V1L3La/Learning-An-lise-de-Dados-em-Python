{
  "nbformat": 4,
  "nbformat_minor": 0,
  "metadata": {
    "colab": {
      "name": "Taxa  de distorção Ensino do RS.ipynb",
      "provenance": [],
      "authorship_tag": "ABX9TyPD4j2+shFiGWcxI7ktNqKl",
      "include_colab_link": true
    },
    "kernelspec": {
      "name": "python3",
      "display_name": "Python 3"
    },
    "language_info": {
      "name": "python"
    }
  },
  "cells": [
    {
      "cell_type": "markdown",
      "metadata": {
        "id": "view-in-github",
        "colab_type": "text"
      },
      "source": [
        "<a href=\"https://colab.research.google.com/github/V1L3La/Learning-An-lise-de-Dados-em-Python/blob/main/Taxa_de_distor%C3%A7%C3%A3o_Ensino_do_RS.ipynb\" target=\"_parent\"><img src=\"https://colab.research.google.com/assets/colab-badge.svg\" alt=\"Open In Colab\"/></a>"
      ]
    },
    {
      "cell_type": "code",
      "metadata": {
        "id": "zyw8XB4pYLM6"
      },
      "source": [
        ""
      ],
      "execution_count": null,
      "outputs": []
    },
    {
      "cell_type": "markdown",
      "metadata": {
        "id": "_TokV1K7RNYo"
      },
      "source": [
        "***\n",
        "***\n",
        "#**Análise da Taxa distorção Ensino do RS**\n",
        "\n",
        "Analisando a taxa distorção ensino do RS através de mapa com objetivo de treinamento para curso de análise de dados.\n",
        "\n",
        "***\n",
        "***\n",
        "> Fontes:\n",
        ">\n",
        ">\n",
        ">[Mapa da taxa distorção ensino RS](https://dados.rs.gov.br/dataset/fee-taxa-de-distorcao-idade-serie-total-102524/resource/b3c6d6d6-e23c-4d7b-a368-2c5817113958)\n",
        ">\n",
        ">[Aula 3](https://www.youtube.com/watch?v=zpNtiJsJ7KY) <br>\n",
        ">\n",
        ">\n",
        "![Alt Text](https://media.giphy.com/media/l378asbpIR5DTsdqg/giphy.gif)\n",
        "\n",
        "\n"
      ]
    }
  ]
}