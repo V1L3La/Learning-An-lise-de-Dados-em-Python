{
  "nbformat": 4,
  "nbformat_minor": 0,
  "metadata": {
    "colab": {
      "name": "Analise_do_Eleitorado_brasileiro.ipynb",
      "provenance": [],
      "authorship_tag": "ABX9TyMcWsmBW6Sr9JF7q+u3N1Tk",
      "include_colab_link": true
    },
    "kernelspec": {
      "name": "python3",
      "display_name": "Python 3"
    },
    "language_info": {
      "name": "python"
    }
  },
  "cells": [
    {
      "cell_type": "markdown",
      "metadata": {
        "id": "view-in-github",
        "colab_type": "text"
      },
      "source": [
        "<a href=\"https://colab.research.google.com/github/V1L3La/Learning-An-lise-de-Dados-em-Python/blob/main/Analise_do_Eleitorado_brasileiro.ipynb\" target=\"_parent\"><img src=\"https://colab.research.google.com/assets/colab-badge.svg\" alt=\"Open In Colab\"/></a>"
      ]
    },
    {
      "cell_type": "markdown",
      "metadata": {
        "id": "_TokV1K7RNYo"
      },
      "source": [
        "***\n",
        "***\n",
        "#Análise do Eleitorado brasileiro\n",
        "\n",
        "Analisando o eleitorado por municipio na eleição de 2020\n",
        "\n",
        "***\n",
        "***\n",
        "> Fontes:\n",
        "\n",
        "\n",
        "Dados:https://www.tse.jus.br/eleicoes/estatisticas/estatisticas-eleitorais\n",
        "\n",
        "Aula 3 https://www.youtube.com/watch?v=zpNtiJsJ7KY <br><br>\n",
        "\n",
        "![Alt Text](https://media.giphy.com/media/ta7LaO8ufKYhO/giphy.gif)\n",
        "\n",
        "\n"
      ]
    },
    {
      "cell_type": "code",
      "metadata": {
        "id": "jlmRrC2Y66J6"
      },
      "source": [
        ""
      ],
      "execution_count": null,
      "outputs": []
    },
    {
      "cell_type": "code",
      "metadata": {
        "id": "XYBHQRte66yL"
      },
      "source": [
        ""
      ],
      "execution_count": null,
      "outputs": []
    },
    {
      "cell_type": "code",
      "metadata": {
        "id": "kVjQtmAG66vJ"
      },
      "source": [
        ""
      ],
      "execution_count": null,
      "outputs": []
    }
  ]
}