{
  "nbformat": 4,
  "nbformat_minor": 0,
  "metadata": {
    "colab": {
      "name": "Cursos_prouni_Análise_de_Dados_em_Python_Aula_01.ipynb",
      "provenance": [],
      "authorship_tag": "ABX9TyPV7b3dj9awqPQaaj1sANpV",
      "include_colab_link": true
    },
    "kernelspec": {
      "name": "python3",
      "display_name": "Python 3"
    },
    "language_info": {
      "name": "python"
    }
  },
  "cells": [
    {
      "cell_type": "markdown",
      "metadata": {
        "id": "view-in-github",
        "colab_type": "text"
      },
      "source": [
        "<a href=\"https://colab.research.google.com/github/V1L3La/Learning-An-lise-de-Dados-em-Python/blob/main/Cursos_prouni_An%C3%A1lise_de_Dados_em_Python_Aula_01.ipynb\" target=\"_parent\"><img src=\"https://colab.research.google.com/assets/colab-badge.svg\" alt=\"Open In Colab\"/></a>"
      ]
    },
    {
      "cell_type": "markdown",
      "metadata": {
        "id": "HlCXw-7VveHM"
      },
      "source": [
        "#### https://brasil.io/datasets/\n",
        "\n"
      ]
    },
    {
      "cell_type": "code",
      "metadata": {
        "id": "QZHoGf7kmWoI"
      },
      "source": [
        "# https://raw.githubusercontent.com/V1L3La/Learning-An-lise-de-Dados-em-Python/main/cursos_prouni.csv\n",
        "\n"
      ],
      "execution_count": null,
      "outputs": []
    }
  ]
}