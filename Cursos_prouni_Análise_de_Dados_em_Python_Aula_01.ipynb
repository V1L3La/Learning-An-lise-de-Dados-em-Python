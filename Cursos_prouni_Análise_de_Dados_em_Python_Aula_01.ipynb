{
  "nbformat": 4,
  "nbformat_minor": 0,
  "metadata": {
    "colab": {
      "name": "Cursos_prouni_Análise_de_Dados_em_Python_Aula_01.ipynb",
      "provenance": [],
      "collapsed_sections": [],
      "authorship_tag": "ABX9TyN7p43vaJKmoC6Mh437jIyC",
      "include_colab_link": true
    },
    "kernelspec": {
      "name": "python3",
      "display_name": "Python 3"
    },
    "language_info": {
      "name": "python"
    }
  },
  "cells": [
    {
      "cell_type": "markdown",
      "metadata": {
        "id": "view-in-github",
        "colab_type": "text"
      },
      "source": [
        "<a href=\"https://colab.research.google.com/github/V1L3La/Learning-An-lise-de-Dados-em-Python/blob/main/Cursos_prouni_An%C3%A1lise_de_Dados_em_Python_Aula_01.ipynb\" target=\"_parent\"><img src=\"https://colab.research.google.com/assets/colab-badge.svg\" alt=\"Open In Colab\"/></a>"
      ]
    },
    {
      "cell_type": "markdown",
      "metadata": {
        "id": "HlCXw-7VveHM"
      },
      "source": [
        "#### https://brasil.io/datasets/\n",
        "\n"
      ]
    },
    {
      "cell_type": "code",
      "metadata": {
        "id": "QZHoGf7kmWoI",
        "colab": {
          "base_uri": "https://localhost:8080/",
          "height": 428
        },
        "outputId": "1015f46a-5343-4be1-ac30-db076a33d480"
      },
      "source": [
        "import pandas as pd\n",
        "#%matplotlib inline      # vai Mostrar o grafico nessa tela\n",
        "# . é igual a \"acessar funções da biblioteca....\" \n",
        "df = pd.read_csv('https://raw.githubusercontent.com/V1L3La/Learning-An-lise-de-Dados-em-Python/main/cursos_prouni.csv')  \n",
        "df.head()"
      ],
      "execution_count": 6,
      "outputs": [
        {
          "output_type": "execute_result",
          "data": {
            "text/html": [
              "<div>\n",
              "<style scoped>\n",
              "    .dataframe tbody tr th:only-of-type {\n",
              "        vertical-align: middle;\n",
              "    }\n",
              "\n",
              "    .dataframe tbody tr th {\n",
              "        vertical-align: top;\n",
              "    }\n",
              "\n",
              "    .dataframe thead th {\n",
              "        text-align: right;\n",
              "    }\n",
              "</style>\n",
              "<table border=\"1\" class=\"dataframe\">\n",
              "  <thead>\n",
              "    <tr style=\"text-align: right;\">\n",
              "      <th></th>\n",
              "      <th>grau</th>\n",
              "      <th>turno</th>\n",
              "      <th>mensalidade</th>\n",
              "      <th>bolsa_integral_cotas</th>\n",
              "      <th>bolsa_integral_ampla</th>\n",
              "      <th>bolsa_parcial_cotas</th>\n",
              "      <th>bolsa_parcial_ampla</th>\n",
              "      <th>curso_id</th>\n",
              "      <th>curso_busca</th>\n",
              "      <th>cidade_busca</th>\n",
              "      <th>uf_busca</th>\n",
              "      <th>cidade_filtro</th>\n",
              "      <th>universidade_nome</th>\n",
              "      <th>campus_nome</th>\n",
              "      <th>campus_id</th>\n",
              "      <th>nome</th>\n",
              "      <th>nota_integral_ampla</th>\n",
              "      <th>nota_integral_cotas</th>\n",
              "      <th>nota_parcial_ampla</th>\n",
              "      <th>nota_parcial_cotas</th>\n",
              "    </tr>\n",
              "  </thead>\n",
              "  <tbody>\n",
              "    <tr>\n",
              "      <th>0</th>\n",
              "      <td>Bacharelado</td>\n",
              "      <td>Integral</td>\n",
              "      <td>9999.99</td>\n",
              "      <td>15.0</td>\n",
              "      <td>14.0</td>\n",
              "      <td>NaN</td>\n",
              "      <td>NaN</td>\n",
              "      <td>706710394154</td>\n",
              "      <td>Medicina</td>\n",
              "      <td>Campo Grande</td>\n",
              "      <td>MS</td>\n",
              "      <td>NTAwMjAwNDAyNzA0</td>\n",
              "      <td>Universidade Anhanguera - UNIDERP</td>\n",
              "      <td>CAMPO GRANDE - SEDE - Miguel Couto</td>\n",
              "      <td>706710</td>\n",
              "      <td>Medicina</td>\n",
              "      <td>740.22</td>\n",
              "      <td>726.46</td>\n",
              "      <td>NaN</td>\n",
              "      <td>NaN</td>\n",
              "    </tr>\n",
              "    <tr>\n",
              "      <th>1</th>\n",
              "      <td>Bacharelado</td>\n",
              "      <td>Noturno</td>\n",
              "      <td>9836.40</td>\n",
              "      <td>1.0</td>\n",
              "      <td>NaN</td>\n",
              "      <td>NaN</td>\n",
              "      <td>NaN</td>\n",
              "      <td>104191210567043</td>\n",
              "      <td>Enfermagem</td>\n",
              "      <td>Crateus</td>\n",
              "      <td>CE</td>\n",
              "      <td>MjMwNDAxODA0MTAz</td>\n",
              "      <td>Faculdade Princesa do Oeste - FPO</td>\n",
              "      <td>UNIDADE SEDE - São Vicente</td>\n",
              "      <td>1041912</td>\n",
              "      <td>Enfermagem</td>\n",
              "      <td>663.36</td>\n",
              "      <td>NaN</td>\n",
              "      <td>NaN</td>\n",
              "      <td>NaN</td>\n",
              "    </tr>\n",
              "    <tr>\n",
              "      <th>2</th>\n",
              "      <td>Bacharelado</td>\n",
              "      <td>Integral</td>\n",
              "      <td>9715.61</td>\n",
              "      <td>2.0</td>\n",
              "      <td>5.0</td>\n",
              "      <td>6.0</td>\n",
              "      <td>10.0</td>\n",
              "      <td>1002328574024</td>\n",
              "      <td>Medicina</td>\n",
              "      <td>Sao Paulo</td>\n",
              "      <td>SP</td>\n",
              "      <td>MzUxNTA2MTUwMzA4</td>\n",
              "      <td>Universidade Cidade de São Paulo - UNICID</td>\n",
              "      <td>UNIVERSIDADE CIDADE DE SÃO PAULO - UNICID - SE...</td>\n",
              "      <td>1002328</td>\n",
              "      <td>Medicina</td>\n",
              "      <td>739.62</td>\n",
              "      <td>738.08</td>\n",
              "      <td>738.96</td>\n",
              "      <td>718.64</td>\n",
              "    </tr>\n",
              "    <tr>\n",
              "      <th>3</th>\n",
              "      <td>Bacharelado</td>\n",
              "      <td>Noturno</td>\n",
              "      <td>9689.34</td>\n",
              "      <td>3.0</td>\n",
              "      <td>2.0</td>\n",
              "      <td>NaN</td>\n",
              "      <td>NaN</td>\n",
              "      <td>104191212798093</td>\n",
              "      <td>Psicologia</td>\n",
              "      <td>Crateus</td>\n",
              "      <td>CE</td>\n",
              "      <td>MjMwNDAxODA0MTAz</td>\n",
              "      <td>Faculdade Princesa do Oeste - FPO</td>\n",
              "      <td>UNIDADE SEDE - São Vicente</td>\n",
              "      <td>1041912</td>\n",
              "      <td>Psicologia</td>\n",
              "      <td>651.00</td>\n",
              "      <td>652.22</td>\n",
              "      <td>NaN</td>\n",
              "      <td>NaN</td>\n",
              "    </tr>\n",
              "    <tr>\n",
              "      <th>4</th>\n",
              "      <td>Bacharelado</td>\n",
              "      <td>Integral</td>\n",
              "      <td>9674.34</td>\n",
              "      <td>4.0</td>\n",
              "      <td>1.0</td>\n",
              "      <td>5.0</td>\n",
              "      <td>2.0</td>\n",
              "      <td>65899611932754</td>\n",
              "      <td>Medicina</td>\n",
              "      <td>Rio Branco</td>\n",
              "      <td>AC</td>\n",
              "      <td>MTIwMjAwNDAwNDAx</td>\n",
              "      <td>Faculdade Barão do Rio Branco - FAB</td>\n",
              "      <td>CAMPUS  - RIO BRANCO - JARDIM EUROPA II - Jard...</td>\n",
              "      <td>658996</td>\n",
              "      <td>Medicina</td>\n",
              "      <td>758.32</td>\n",
              "      <td>723.94</td>\n",
              "      <td>734.92</td>\n",
              "      <td>711.26</td>\n",
              "    </tr>\n",
              "  </tbody>\n",
              "</table>\n",
              "</div>"
            ],
            "text/plain": [
              "          grau     turno  ...  nota_parcial_ampla  nota_parcial_cotas\n",
              "0  Bacharelado  Integral  ...                 NaN                 NaN\n",
              "1  Bacharelado   Noturno  ...                 NaN                 NaN\n",
              "2  Bacharelado  Integral  ...              738.96              718.64\n",
              "3  Bacharelado   Noturno  ...                 NaN                 NaN\n",
              "4  Bacharelado  Integral  ...              734.92              711.26\n",
              "\n",
              "[5 rows x 20 columns]"
            ]
          },
          "metadata": {
            "tags": []
          },
          "execution_count": 6
        }
      ]
    },
    {
      "cell_type": "code",
      "metadata": {
        "colab": {
          "base_uri": "https://localhost:8080/"
        },
        "id": "lNSkeEZKyMSV",
        "outputId": "bdd6343a-192c-4c0d-d50a-adda29092c6b"
      },
      "source": [
        "df.shape    # verifica o tamanho do dataframe   (linhas, colunas)"
      ],
      "execution_count": 7,
      "outputs": [
        {
          "output_type": "execute_result",
          "data": {
            "text/plain": [
              "(41447, 20)"
            ]
          },
          "metadata": {
            "tags": []
          },
          "execution_count": 7
        }
      ]
    },
    {
      "cell_type": "code",
      "metadata": {
        "colab": {
          "base_uri": "https://localhost:8080/"
        },
        "id": "XBZeUh1wykM2",
        "outputId": "d0ae98d8-93f3-4a89-b1a1-16223eed6a29"
      },
      "source": [
        "df.dtypes"
      ],
      "execution_count": 9,
      "outputs": [
        {
          "output_type": "execute_result",
          "data": {
            "text/plain": [
              "grau                     object\n",
              "turno                    object\n",
              "mensalidade             float64\n",
              "bolsa_integral_cotas    float64\n",
              "bolsa_integral_ampla    float64\n",
              "bolsa_parcial_cotas     float64\n",
              "bolsa_parcial_ampla     float64\n",
              "curso_id                  int64\n",
              "curso_busca              object\n",
              "cidade_busca             object\n",
              "uf_busca                 object\n",
              "cidade_filtro            object\n",
              "universidade_nome        object\n",
              "campus_nome              object\n",
              "campus_id                 int64\n",
              "nome                     object\n",
              "nota_integral_ampla     float64\n",
              "nota_integral_cotas     float64\n",
              "nota_parcial_ampla      float64\n",
              "nota_parcial_cotas      float64\n",
              "dtype: object"
            ]
          },
          "metadata": {
            "tags": []
          },
          "execution_count": 9
        }
      ]
    },
    {
      "cell_type": "code",
      "metadata": {
        "colab": {
          "base_uri": "https://localhost:8080/",
          "height": 317
        },
        "id": "vGtd4OhiykJy",
        "outputId": "1405ad4c-2b68-42f6-ca12-994fb40729be"
      },
      "source": [
        "df.describe()\n"
      ],
      "execution_count": 11,
      "outputs": [
        {
          "output_type": "execute_result",
          "data": {
            "text/html": [
              "<div>\n",
              "<style scoped>\n",
              "    .dataframe tbody tr th:only-of-type {\n",
              "        vertical-align: middle;\n",
              "    }\n",
              "\n",
              "    .dataframe tbody tr th {\n",
              "        vertical-align: top;\n",
              "    }\n",
              "\n",
              "    .dataframe thead th {\n",
              "        text-align: right;\n",
              "    }\n",
              "</style>\n",
              "<table border=\"1\" class=\"dataframe\">\n",
              "  <thead>\n",
              "    <tr style=\"text-align: right;\">\n",
              "      <th></th>\n",
              "      <th>mensalidade</th>\n",
              "      <th>bolsa_integral_cotas</th>\n",
              "      <th>bolsa_integral_ampla</th>\n",
              "      <th>bolsa_parcial_cotas</th>\n",
              "      <th>bolsa_parcial_ampla</th>\n",
              "      <th>curso_id</th>\n",
              "      <th>campus_id</th>\n",
              "      <th>nota_integral_ampla</th>\n",
              "      <th>nota_integral_cotas</th>\n",
              "      <th>nota_parcial_ampla</th>\n",
              "      <th>nota_parcial_cotas</th>\n",
              "    </tr>\n",
              "  </thead>\n",
              "  <tbody>\n",
              "    <tr>\n",
              "      <th>count</th>\n",
              "      <td>41447.000000</td>\n",
              "      <td>32520.000000</td>\n",
              "      <td>25404.000000</td>\n",
              "      <td>8828.000000</td>\n",
              "      <td>13041.000000</td>\n",
              "      <td>4.144700e+04</td>\n",
              "      <td>4.144700e+04</td>\n",
              "      <td>32520.000000</td>\n",
              "      <td>16802.000000</td>\n",
              "      <td>16350.000000</td>\n",
              "      <td>5519.000000</td>\n",
              "    </tr>\n",
              "    <tr>\n",
              "      <th>mean</th>\n",
              "      <td>622.636966</td>\n",
              "      <td>1.535394</td>\n",
              "      <td>2.513541</td>\n",
              "      <td>1.873018</td>\n",
              "      <td>8.632544</td>\n",
              "      <td>4.207360e+13</td>\n",
              "      <td>6.786530e+05</td>\n",
              "      <td>575.982999</td>\n",
              "      <td>564.470439</td>\n",
              "      <td>527.517136</td>\n",
              "      <td>511.799638</td>\n",
              "    </tr>\n",
              "    <tr>\n",
              "      <th>std</th>\n",
              "      <td>606.442296</td>\n",
              "      <td>2.191578</td>\n",
              "      <td>3.019549</td>\n",
              "      <td>2.336403</td>\n",
              "      <td>18.372991</td>\n",
              "      <td>6.061552e+13</td>\n",
              "      <td>6.398410e+05</td>\n",
              "      <td>57.827594</td>\n",
              "      <td>57.869145</td>\n",
              "      <td>60.202170</td>\n",
              "      <td>56.787140</td>\n",
              "    </tr>\n",
              "    <tr>\n",
              "      <th>min</th>\n",
              "      <td>139.000000</td>\n",
              "      <td>0.000000</td>\n",
              "      <td>1.000000</td>\n",
              "      <td>1.000000</td>\n",
              "      <td>1.000000</td>\n",
              "      <td>2.248801e+07</td>\n",
              "      <td>2.240000e+02</td>\n",
              "      <td>450.000000</td>\n",
              "      <td>450.000000</td>\n",
              "      <td>450.000000</td>\n",
              "      <td>450.000000</td>\n",
              "    </tr>\n",
              "    <tr>\n",
              "      <th>25%</th>\n",
              "      <td>278.000000</td>\n",
              "      <td>0.000000</td>\n",
              "      <td>1.000000</td>\n",
              "      <td>1.000000</td>\n",
              "      <td>1.000000</td>\n",
              "      <td>6.460131e+11</td>\n",
              "      <td>1.172300e+04</td>\n",
              "      <td>544.360000</td>\n",
              "      <td>532.865000</td>\n",
              "      <td>453.980000</td>\n",
              "      <td>450.000000</td>\n",
              "    </tr>\n",
              "    <tr>\n",
              "      <th>50%</th>\n",
              "      <td>393.350000</td>\n",
              "      <td>1.000000</td>\n",
              "      <td>1.000000</td>\n",
              "      <td>1.000000</td>\n",
              "      <td>2.000000</td>\n",
              "      <td>2.003572e+12</td>\n",
              "      <td>6.587550e+05</td>\n",
              "      <td>580.740000</td>\n",
              "      <td>571.450000</td>\n",
              "      <td>532.420000</td>\n",
              "      <td>511.820000</td>\n",
              "    </tr>\n",
              "    <tr>\n",
              "      <th>75%</th>\n",
              "      <td>825.000000</td>\n",
              "      <td>2.000000</td>\n",
              "      <td>3.000000</td>\n",
              "      <td>2.000000</td>\n",
              "      <td>6.000000</td>\n",
              "      <td>1.036636e+14</td>\n",
              "      <td>1.058794e+06</td>\n",
              "      <td>614.145000</td>\n",
              "      <td>603.315000</td>\n",
              "      <td>573.235000</td>\n",
              "      <td>557.170000</td>\n",
              "    </tr>\n",
              "    <tr>\n",
              "      <th>max</th>\n",
              "      <td>9999.990000</td>\n",
              "      <td>58.000000</td>\n",
              "      <td>67.000000</td>\n",
              "      <td>74.000000</td>\n",
              "      <td>350.000000</td>\n",
              "      <td>2.008632e+14</td>\n",
              "      <td>2.008633e+06</td>\n",
              "      <td>781.200000</td>\n",
              "      <td>792.240000</td>\n",
              "      <td>776.360000</td>\n",
              "      <td>768.340000</td>\n",
              "    </tr>\n",
              "  </tbody>\n",
              "</table>\n",
              "</div>"
            ],
            "text/plain": [
              "        mensalidade  ...  nota_parcial_cotas\n",
              "count  41447.000000  ...         5519.000000\n",
              "mean     622.636966  ...          511.799638\n",
              "std      606.442296  ...           56.787140\n",
              "min      139.000000  ...          450.000000\n",
              "25%      278.000000  ...          450.000000\n",
              "50%      393.350000  ...          511.820000\n",
              "75%      825.000000  ...          557.170000\n",
              "max     9999.990000  ...          768.340000\n",
              "\n",
              "[8 rows x 11 columns]"
            ]
          },
          "metadata": {
            "tags": []
          },
          "execution_count": 11
        }
      ]
    },
    {
      "cell_type": "code",
      "metadata": {
        "colab": {
          "base_uri": "https://localhost:8080/"
        },
        "id": "Qmdhh0x9yj_1",
        "outputId": "bb33e114-2e08-47e3-faa7-bcae493d41d4"
      },
      "source": [
        "df.info()"
      ],
      "execution_count": 12,
      "outputs": [
        {
          "output_type": "stream",
          "text": [
            "<class 'pandas.core.frame.DataFrame'>\n",
            "RangeIndex: 41447 entries, 0 to 41446\n",
            "Data columns (total 20 columns):\n",
            " #   Column                Non-Null Count  Dtype  \n",
            "---  ------                --------------  -----  \n",
            " 0   grau                  41447 non-null  object \n",
            " 1   turno                 41447 non-null  object \n",
            " 2   mensalidade           41447 non-null  float64\n",
            " 3   bolsa_integral_cotas  32520 non-null  float64\n",
            " 4   bolsa_integral_ampla  25404 non-null  float64\n",
            " 5   bolsa_parcial_cotas   8828 non-null   float64\n",
            " 6   bolsa_parcial_ampla   13041 non-null  float64\n",
            " 7   curso_id              41447 non-null  int64  \n",
            " 8   curso_busca           41447 non-null  object \n",
            " 9   cidade_busca          41447 non-null  object \n",
            " 10  uf_busca              41447 non-null  object \n",
            " 11  cidade_filtro         41447 non-null  object \n",
            " 12  universidade_nome     41447 non-null  object \n",
            " 13  campus_nome           41447 non-null  object \n",
            " 14  campus_id             41447 non-null  int64  \n",
            " 15  nome                  41447 non-null  object \n",
            " 16  nota_integral_ampla   32520 non-null  float64\n",
            " 17  nota_integral_cotas   16802 non-null  float64\n",
            " 18  nota_parcial_ampla    16350 non-null  float64\n",
            " 19  nota_parcial_cotas    5519 non-null   float64\n",
            "dtypes: float64(9), int64(2), object(9)\n",
            "memory usage: 6.3+ MB\n"
          ],
          "name": "stdout"
        }
      ]
    },
    {
      "cell_type": "code",
      "metadata": {
        "id": "KTd0AxQ_0LWy"
      },
      "source": [
        ""
      ],
      "execution_count": null,
      "outputs": []
    }
  ]
}