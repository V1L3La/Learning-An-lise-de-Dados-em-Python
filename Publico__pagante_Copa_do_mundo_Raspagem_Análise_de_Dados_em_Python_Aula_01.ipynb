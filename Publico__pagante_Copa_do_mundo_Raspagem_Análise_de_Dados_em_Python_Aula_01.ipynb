{
  "nbformat": 4,
  "nbformat_minor": 0,
  "metadata": {
    "colab": {
      "name": "Publico _pagante_Copa_do_mundo_Raspagem_Análise_de_Dados_em_Python_Aula_01.ipynb",
      "provenance": [],
      "collapsed_sections": [],
      "authorship_tag": "ABX9TyOC8dPgK1+jK/oCEhcO+Rns",
      "include_colab_link": true
    },
    "kernelspec": {
      "name": "python3",
      "display_name": "Python 3"
    },
    "language_info": {
      "name": "python"
    }
  },
  "cells": [
    {
      "cell_type": "markdown",
      "metadata": {
        "id": "view-in-github",
        "colab_type": "text"
      },
      "source": [
        "<a href=\"https://colab.research.google.com/github/V1L3La/Learning-An-lise-de-Dados-em-Python/blob/main/Publico__pagante_Copa_do_mundo_Raspagem_An%C3%A1lise_de_Dados_em_Python_Aula_01.ipynb\" target=\"_parent\"><img src=\"https://colab.research.google.com/assets/colab-badge.svg\" alt=\"Open In Colab\"/></a>"
      ]
    },
    {
      "cell_type": "code",
      "metadata": {
        "id": "2LVv8pBm-QzD"
      },
      "source": [
        ""
      ],
      "execution_count": null,
      "outputs": []
    },
    {
      "cell_type": "markdown",
      "metadata": {
        "id": "IQQsjMczG8zC"
      },
      "source": [
        "#**Analise dos dados de Público pagante na final de cada final de Copa do Mundo**\n",
        "\n",
        "Aula 2  (Localizando a API  -->  2h 00min)\n",
        "https://www.youtube.com/watch?v=2oZHg3HOtcY&t=3243s\n",
        "\n",
        "Público pagante na final de cada edição do Mundial <br>\n",
        "https://pt.wikipedia.org/wiki/Copa_do_Mundo_FIFA\n",
        "\n",
        "Análise_de_Dados_em_Python( TEM AS 3 EDIÇÕES COM OUTROS COMANDOS)<BR>\n",
        "https://github.com/OSBrasilia<BR>\n",
        "https://github.com/marcosvafg\n",
        "\n",
        "Raspagem com  BeautifulSoup\n",
        "https://github.com/OSBrasilia/Curso_Analise_Dados_Publicos/blob/master/11_raspagem_gastos_executivo/raspagem_valores_orgaos_executivo.ipynb\n"
      ]
    },
    {
      "cell_type": "code",
      "metadata": {
        "id": "u0eMMyCzG3Yn"
      },
      "source": [
        "import pandas as pd\n",
        "import requests"
      ],
      "execution_count": null,
      "outputs": []
    },
    {
      "cell_type": "code",
      "metadata": {
        "id": "z3Pxq1vuHgWE"
      },
      "source": [
        "# Obter os dados da página do Wikipedia em uma tabela específica nela\n",
        "url = 'https://pt.wikipedia.org/wiki/Copa_do_Mundo_FIFA'\n",
        "\n",
        "# Obtendo os dados de página HTML(RASPAGEM DE DADOS)\n",
        "resposta = requests.get(url)\n",
        "\n",
        "# Obter a resposta em formato HTML\n",
        "table = pd.read_html(resposta.text)\n"
      ],
      "execution_count": null,
      "outputs": []
    },
    {
      "cell_type": "code",
      "metadata": {
        "colab": {
          "base_uri": "https://localhost:8080/"
        },
        "id": "e2MJ25LcA7zV",
        "outputId": "25cf8a36-3119-47ee-e45e-bcf085bb9f22"
      },
      "source": [
        "# vamos dar uma olhada no resultado\n",
        "table"
      ],
      "execution_count": null,
      "outputs": [
        {
          "output_type": "execute_result",
          "data": {
            "text/plain": [
              "[                                   Copa do Mundo FIFA                               Copa do Mundo FIFA.1\n",
              " 0                                                 NaN                                                NaN\n",
              " 1                                        Dados gerais                                       Dados gerais\n",
              " 2                                         Organização          Federação Internacional de Futebol (FIFA)\n",
              " 3                                             Edições                                              21[1]\n",
              " 4                                    Local de disputa           País escolhido durante congresso da FIFA\n",
              " 5                                             Sistema           Torneio concentradoGrupos e eliminatória\n",
              " 6   Dados históricos  Primeiro vencedor Uruguai (1...  Dados históricos  Primeiro vencedor Uruguai (1...\n",
              " 7                                    Dados históricos                                   Dados históricos\n",
              " 8                                   Primeiro vencedor                                     Uruguai (1930)\n",
              " 9                                     Último vencedor                                      França (2018)\n",
              " 10                                     Maior vencedor                                 Brasil (5 títulos)\n",
              " 11  Estatísticas  Total de gol(o)s 2 548  Total de...  Estatísticas  Total de gol(o)s 2 548  Total de...\n",
              " 12                                       Estatísticas                                       Estatísticas\n",
              " 13                                   Total de gol(o)s                                              2 548\n",
              " 14                                     Total de jogos                                                900\n",
              " 15                                              Média                              2,83 gols por partida\n",
              " 16                                       Edição atual                                       Edição atual\n",
              " 17                                             editar                                             editar,\n",
              "     Dados históricos  Dados históricos.1\n",
              " 0  Primeiro vencedor      Uruguai (1930)\n",
              " 1    Último vencedor       França (2018)\n",
              " 2     Maior vencedor  Brasil (5 títulos),\n",
              "        Estatísticas         Estatísticas.1\n",
              " 0  Total de gol(o)s                  2 548\n",
              " 1    Total de jogos                    900\n",
              " 2             Média  2,83 gols por partida,\n",
              "      0   ...                                                 10\n",
              " 0     #  ...                                     Semifinalistas\n",
              " 1     #  ...                                       Quarto lugar\n",
              " 2     1  ...                                         Iugoslávia\n",
              " 3     2  ...                                            Áustria\n",
              " 4     3  ...                                             Suécia\n",
              " 5     –  ...  Edições canceladas devido à Segunda Guerra Mun...\n",
              " 6     –  ...  Edições canceladas devido à Segunda Guerra Mun...\n",
              " 7     4  ...                                            Espanha\n",
              " 8     5  ...                                            Uruguai\n",
              " 9     6  ...                                 Alemanha Ocidental\n",
              " 10    7  ...                                         Iugoslávia\n",
              " 11    8  ...                                    União Soviética\n",
              " 12    9  ...                                            Uruguai\n",
              " 13   10  ...                                             Brasil\n",
              " 14   11  ...                                             Itália\n",
              " 15   12  ...                                             França\n",
              " 16   13  ...                                            Bélgica\n",
              " 17   14  ...                                         Inglaterra\n",
              " 18   15  ...                                           Bulgária\n",
              " 19   16  ...                                      Países Baixos\n",
              " 20   17  ...                                      Coreia do Sul\n",
              " 21   18  ...                                           Portugal\n",
              " 22   19  ...                                            Uruguai\n",
              " 23   20  ...                                             Brasil\n",
              " 24   21  ...                                         Inglaterra\n",
              " 25   22  ...                                                NaN\n",
              " 26   23  ...                                                NaN\n",
              " 27  NaN  ...                                                NaN\n",
              " \n",
              " [28 rows x 11 columns],\n",
              "              Seleção  ...                 Quarto\n",
              " 0             Brasil  ...        2 (1974 e 2014)\n",
              " 1   Alemanha[nota 3]  ...               1 (1958)\n",
              " 2             Itália  ...               1 (1978)\n",
              " 3          Argentina  ...                      –\n",
              " 4             França  ...               1 (1982)\n",
              " 5            Uruguai  ...  3 (1954, 1970 e 2010)\n",
              " 6         Inglaterra  ...        2 (1990 e 2018)\n",
              " 7            Espanha  ...               1 (1950)\n",
              " 8      Países Baixos  ...               1 (1998)\n",
              " 9            Hungria  ...                      –\n",
              " 10   Tchecoslováquia  ...                      –\n",
              " 11            Suécia  ...               1 (1938)\n",
              " 12           Croácia  ...                      –\n",
              " 13           Polónia  ...                      –\n",
              " 14           Áustria  ...               1 (1934)\n",
              " 15          Portugal  ...               1 (2006)\n",
              " 16           Bélgica  ...               1 (1986)\n",
              " 17    Estados Unidos  ...                      –\n",
              " 18             Chile  ...                      –\n",
              " 19           Turquia  ...                      –\n",
              " 20        Iugoslávia  ...        2 (1930 e 1962)\n",
              " 21   União Soviética  ...               1 (1966)\n",
              " 22          Bulgária  ...               1 (1994)\n",
              " 23     Coreia do Sul  ...               1 (2002)\n",
              " \n",
              " [24 rows x 5 columns],\n",
              "   Confederação  ...                                           4º lugar\n",
              " 0         UEFA  ...  15 (1930, 1934, 1938, 1950, 1958, 1962, 1966, ...\n",
              " 1     CONMEBOL  ...                  5 (1954, 1970, 1974, 2010 e 2014)\n",
              " 2     CONCACAF  ...                                                  –\n",
              " 3          AFC  ...                                           1 (2002)\n",
              " 4          CAF  ...                                                  –\n",
              " 5          OFC  ...                                                  –\n",
              " \n",
              " [6 rows x 5 columns],\n",
              "                   Data          Cidade    Mandante Placar[38]        Visitante\n",
              " 0  15 de junho de 1982           Elche     Hungria     10 – 1      El Salvador\n",
              " 1  17 de junho de 1954         Zurique     Hungria      9 – 0    Coreia do Sul\n",
              " 2  18 de junho de 1974   Gelsenkirchen  Iugoslávia      9 – 0            Zaire\n",
              " 3  12 de junho de 1938         Antibes      Suécia      8 – 0             Cuba\n",
              " 4  12 de julho de 1950  Belo Horizonte     Uruguai      8 – 0          Bolívia\n",
              " 5   1 de junho de 2002         Sapporo    Alemanha      8 – 0   Arábia Saudita\n",
              " 6  19 de junho de 1954        Basileia     Uruguai      7 – 0          Escócia\n",
              " 7  20 de junho de 1954         Zurique     Turquia      7 – 0    Coreia do Sul\n",
              " 8  19 de junho de 1974         Munique       Haiti      0 – 7          Polónia\n",
              " 9  21 de junho de 2010  Cidade do Cabo    Portugal      7 – 0  Coreia do Norte,\n",
              "                        País  Títulos\n",
              " 0                    Brasil        5\n",
              " 1           Alemanha Itália        4\n",
              " 2  Argentina França Uruguai        2\n",
              " 3        Espanha Inglaterra        1,\n",
              "    Pos.       Seleções  Pts    J   V   E   D   GP   GC\n",
              " 0   1.0         Brasil  237  109  73  18  18  229  105\n",
              " 1   2.0       Alemanha  221  109  67  20  22  226  125\n",
              " 2   3.0         Itália  156   83  45  21  17  128   77\n",
              " 3   4.0      Argentina  144   81  43  15  23  137   93\n",
              " 4   5.0         França  115   66  34  13  19  120   77\n",
              " 5   6.0     Inglaterra  108   69  29  21  19   91   64\n",
              " 6   7.0        Espanha  105   63  30  15  18   99   72\n",
              " 7   8.0  Países Baixos   93   50  27  12  11   86   48\n",
              " 8   9.0        Uruguai   84   56  24  12  20   87   74\n",
              " 9  10.0         Suécia   70   51  19  13  19   80   73,\n",
              "     Edição  Partidas  ...  Maior público.2 Média depúblico\n",
              " 0     1930        18  ...            79867           24139\n",
              " 1     1934        17  ...            60000           21059\n",
              " 2     1938        18  ...            58455           26833\n",
              " 3     1950        22  ...           199854           47432\n",
              " 4     1954        26  ...            65000           34212\n",
              " 5     1958        35  ...            49737           26274\n",
              " 6     1962        32  ...            76500           28096\n",
              " 7     1966        32  ...            98270           51094\n",
              " 8     1970        32  ...           108192           50127\n",
              " 9     1974        38  ...            83168           46685\n",
              " 10    1978        38  ...            71712           40688\n",
              " 11    1982        52  ...            95500           40572\n",
              " 12    1986        52  ...           114600           46020\n",
              " 13    1990        52  ...            74765           48391\n",
              " 14    1994        52  ...            94194           68991\n",
              " 15    1998        64  ...            80000           43517\n",
              " 16    2002        64  ...            69029           42269\n",
              " 17    2006        64  ...            72000           52491\n",
              " 18    2010        64  ...            84490           49670\n",
              " 19    2014        64  ...            74738           53592\n",
              " 20    2018        64  ...            78011           47371\n",
              " \n",
              " [21 rows x 10 columns],\n",
              "                                     Menores públicos  ... Maiores públicos\n",
              "                                              Seleção  ...       Quantidade\n",
              " 0  Bulgária, Coréia do Sul, Paraguai, Peru, Romên...  ...          7 vezes\n",
              " 1  Bulgária, Coréia do Sul, Paraguai, Peru, Romên...  ...          6 vezes\n",
              " 2  Bulgária, Coréia do Sul, Paraguai, Peru, Romên...  ...          5 vezes\n",
              " 3  Alemanha, Angola, Arábia Saudita, Austrália, C...  ...          3 vezes\n",
              " 4  Alemanha, Angola, Arábia Saudita, Austrália, C...  ...          2 vezes\n",
              " 5  Alemanha, Angola, Arábia Saudita, Austrália, C...  ...            1 vez\n",
              " \n",
              " [6 rows x 4 columns],\n",
              "    Edição   Ano  ...             Local Público pagante\n",
              " 0       I  1930  ...        Montevidéu          68.346\n",
              " 1      II  1934  ...              Roma          55.000\n",
              " 2     III  1938  ...          Colombes          45.000\n",
              " 3      IV  1950  ...    Rio de Janeiro         173.850\n",
              " 4       V  1954  ...             Berna          62.500\n",
              " 5      VI  1958  ...             Solna          49.737\n",
              " 6     VII  1962  ...          Santiago          68.679\n",
              " 7    VIII  1966  ...           Londres          96.924\n",
              " 8      IX  1970  ...  Cidade do México         107.412\n",
              " 9       X  1974  ...           Munique          78.200\n",
              " 10     XI  1978  ...      Buenos Aires          71.483\n",
              " 11    XII  1982  ...            Madrid          90.000\n",
              " 12   XIII  1986  ...  Cidade do México         114.600\n",
              " 13    XIV  1990  ...              Roma          73.603\n",
              " 14     XV  1994  ...          Pasadena          94.194\n",
              " 15    XVI  1998  ...       Saint-Denis          80.000\n",
              " 16   XVII  2002  ...          Yokohama          69.029\n",
              " 17  XVIII  2006  ...            Berlim          69.000\n",
              " 18    XIX  2010  ...       Joanesburgo          84.490\n",
              " 19     XX  2014  ...    Rio de Janeiro          74.738\n",
              " 20    XXI  2018  ...            Moscou          78.011\n",
              " \n",
              " [21 rows x 5 columns],\n",
              "           Tipo de jogo Categoria 1 Categoria 2 Categoria 3 Categoria 4[nota 6]\n",
              " 0     Jogo de abertura       450 $       300 $       200 $               490 R\n",
              " 1       Fase de grupos       160 $       120 $        80 $               140 R\n",
              " 2     Oitavas de final       200 $       150 $       100 $               350 R\n",
              " 3     Quartas de final       300 $       200 $       150 $               525 R\n",
              " 4           Semifinais       600 $       400 $       250 $               700 R\n",
              " 5  Decisão do 3º lugar       300 $       200 $       150 $               525 R\n",
              " 6                Final       900 $       600 $       400 $             1 050 R,\n",
              "    Edição  ... Audiência mundial acumulada[nota 7]\n",
              " 0    1990  ...     26,7 bilhões de telespectadores\n",
              " 1    1994  ...     32,1 bilhões de telespectadores\n",
              " 2    1998  ...     33,4 bilhões de telespectadores\n",
              " 3    2002  ...     28,8 bilhões de telespectadores\n",
              " 4    2006  ...     35,6 bilhões de telespectadores\n",
              " \n",
              " [5 rows x 3 columns],\n",
              "                                                    0                                                  1\n",
              " 0  Outros projetos Wikimedia também contêm materi...  Outros projetos Wikimedia também contêm materi...\n",
              " 1                                                NaN                               Categoria no Commons\n",
              " 2                                                NaN                          Categoria no Wikinotícias,\n",
              "                                    Copa do Mundo FIFA  ...                                 Unnamed: 4\n",
              " 0   vdeCopa do Mundo FIFA - Campeões 1930: Uruguai...  ...                                        NaN\n",
              " 1                    vdeCopa do Mundo FIFA - Campeões  ...                                        NaN\n",
              " 2   1930: Uruguai 1934: Itália 1938: Itália 1950: ...  ...                                        NaN\n",
              " 3                                                 NaN  ...  2010: Espanha 2014: Alemanha 2018: França\n",
              " 4               vdeArtilheiros das Copa do Mundo FIFA  ...                                        NaN\n",
              " 5   Stábile (1930) • Nejedlý (1934) • Leônidas (19...  ...                                        NaN\n",
              " 6   Nota: 1Ganhador único da chuteira de ouro pelo...  ...                                        NaN\n",
              " 7                            vdeFutebol internacional  ...                                        NaN\n",
              " 8   Federação Internacional de Futebol (FIFA) IFFH...  ...                                        NaN\n",
              " 9                                           Masculino  ...                                        NaN\n",
              " 10                                           Feminino  ...                                        NaN\n",
              " 11                  Confederações etorneios regionais  ...                                        NaN\n",
              " 12                                                AFC  ...                                        NaN\n",
              " 13                                                CAF  ...                                        NaN\n",
              " 14                                           CONCACAF  ...                                        NaN\n",
              " 15                                           CONMEBOL  ...                                        NaN\n",
              " 16                                                OFC  ...                                        NaN\n",
              " 17                                               UEFA  ...                                        NaN\n",
              " 18                                           Não FIFA  ...                                        NaN\n",
              " 19               Futebol nos torneiosmultidesportivos  ...                                        NaN\n",
              " 20  vdeCopas do Mundo / Campeonatos do Mundo de Fu...  ...                                        NaN\n",
              " 21                                   Futebol feminino  ...                                        NaN\n",
              " 22                                            Edições  ...                                        NaN\n",
              " 23                                           História  ...                                        NaN\n",
              " 24                                  Futebol masculino  ...                                        NaN\n",
              " 25                                            Edições  ...                                        NaN\n",
              " 26                                             Finais  ...                                        NaN\n",
              " 27                                           História  ...                                        NaN\n",
              " 28                                       Estatísticas  ...                                        NaN\n",
              " 29                                           Seleções  ...                                        NaN\n",
              " 30                                       Futebolistas  ...                                        NaN\n",
              " 31                                              Geral  ...                                        NaN\n",
              " 32             vdeEliminatórias da Copa do Mundo FIFA  ...                                        NaN\n",
              " 33                                  Futebol masculino  ...                                        NaN\n",
              " 34                                   Futebol feminino  ...                                        NaN\n",
              " 35           vdePrincipais campeonatos internacionais  ...                                        NaN\n",
              " 36                               Esportes individuais  ...                                        NaN\n",
              " 37                                    Esportes mistos  ...                                        NaN\n",
              " 38                                 Esportes coletivos  ...                                        NaN\n",
              " 39                                   Esportes a motor  ...                                        NaN\n",
              " \n",
              " [40 rows x 5 columns],\n",
              "                     vdeCopa do Mundo FIFA - Campeões  ...                                 Unnamed: 4\n",
              " 0  1930: Uruguai 1934: Itália 1938: Itália 1950: ...  ...                                        NaN\n",
              " 1                                                NaN  ...  2010: Espanha 2014: Alemanha 2018: França\n",
              " \n",
              " [2 rows x 5 columns],\n",
              "     0  ...                                          4\n",
              " 0 NaN  ...  2010: Espanha 2014: Alemanha 2018: França\n",
              " \n",
              " [1 rows x 5 columns],\n",
              "                vdeArtilheiros das Copa do Mundo FIFA            vdeArtilheiros das Copa do Mundo FIFA.1\n",
              " 0  Stábile (1930) • Nejedlý (1934) • Leônidas (19...  Stábile (1930) • Nejedlý (1934) • Leônidas (19...\n",
              " 1  Nota: 1Ganhador único da chuteira de ouro pelo...  Nota: 1Ganhador único da chuteira de ouro pelo...,\n",
              "                              vdeFutebol internacional  ...                         vdeFutebol internacional.2\n",
              " 0   Federação Internacional de Futebol (FIFA) IFFH...  ...  Federação Internacional de Futebol (FIFA) IFFH...\n",
              " 1                                           Masculino  ...                                                NaN\n",
              " 2                                            Feminino  ...                                                NaN\n",
              " 3                   Confederações etorneios regionais  ...                                                NaN\n",
              " 4                                                 AFC  ...                                                NaN\n",
              " 5                                                 CAF  ...                                                NaN\n",
              " 6                                            CONCACAF  ...                                                NaN\n",
              " 7                                            CONMEBOL  ...                                                NaN\n",
              " 8                                                 OFC  ...                                                NaN\n",
              " 9                                                UEFA  ...                                                NaN\n",
              " 10                                           Não FIFA  ...                                                NaN\n",
              " 11               Futebol nos torneiosmultidesportivos  ...                                                NaN\n",
              " \n",
              " [12 rows x 3 columns],\n",
              "           0                                                  1\n",
              " 0       AFC                            Copa da Ásia (feminina)\n",
              " 1       CAF  Campeonato Africano das Nações (CAN) (feminino...\n",
              " 2  CONCACAF             Copa Ouro (feminina) · Liga das Nações\n",
              " 3  CONMEBOL                            Copa América (feminina)\n",
              " 4       OFC                         Copa das Nações (feminina)\n",
              " 5      UEFA    Campeonato Europeu (feminino) · Liga das Nações\n",
              " 6  Não FIFA  CONIFA – Copa do Mundo CONIFA Copa Europeia CO...,\n",
              "    vdeCopas do Mundo / Campeonatos do Mundo de Futebol da FIFA vdeCopas do Mundo / Campeonatos do Mundo de Futebol da FIFA.1\n",
              " 0                                    Futebol feminino           Edições China 1991 Suécia 1995 Estados Unidos ...           \n",
              " 1                                             Edições           China 1991 Suécia 1995 Estados Unidos 1999 Est...           \n",
              " 2                                            História                                    Qualificação Artilheiras           \n",
              " 3                                   Futebol masculino           Edições Uruguai 1930 Itália 1934 França 1938 B...           \n",
              " 4                                             Edições           Uruguai 1930 Itália 1934 França 1938 Brasil 19...           \n",
              " 5                                              Finais           1930 1934 1938 1950 1954 1958 1962 1966 1970 1...           \n",
              " 6                                            História           História Prêmios Cartões vermelhos Disputas pe...           \n",
              " 7                                        Estatísticas           Recordes Tripletes (hat-tricks) Gols contra Go...           \n",
              " 8                                            Seleções                        Qualificação Participações Ausências           \n",
              " 9                                        Futebolistas           Artilheiros Artilheiros por país Campeões Mais...           \n",
              " 10                                              Geral                                     Mascotes Bolas oficiais           ,\n",
              "           0                                                  1\n",
              " 0   Edições  China 1991 Suécia 1995 Estados Unidos 1999 Est...\n",
              " 1  História                           Qualificação Artilheiras,\n",
              "               0                                                  1\n",
              " 0       Edições  Uruguai 1930 Itália 1934 França 1938 Brasil 19...\n",
              " 1        Finais  1930 1934 1938 1950 1954 1958 1962 1966 1970 1...\n",
              " 2      História  História Prêmios Cartões vermelhos Disputas pe...\n",
              " 3  Estatísticas  Recordes Tripletes (hat-tricks) Gols contra Go...\n",
              " 4      Seleções               Qualificação Participações Ausências\n",
              " 5  Futebolistas  Artilheiros Artilheiros por país Campeões Mais...,\n",
              "   vdeEliminatórias da Copa do Mundo FIFA           vdeEliminatórias da Copa do Mundo FIFA.1\n",
              " 0                      Futebol masculino  Itália 1934 França 1938 Brasil 1950 Suíça 1954...\n",
              " 1                       Futebol feminino  China 1991 Suécia 1995 Estados Unidos 1999 Est...,\n",
              "   vdePrincipais campeonatos internacionais         vdePrincipais campeonatos internacionais.1\n",
              " 0                     Esportes individuais  Atletismo (corta-mato - marcha atlética - meia...\n",
              " 1                          Esportes mistos                                           Canoagem\n",
              " 2                       Esportes coletivos  Badminton • Bandy • Basquetebol (feminino - ma...\n",
              " 3                         Esportes a motor  Enduro • Powerboat • Fórmula 1 • Corrida no Ge...,\n",
              "                         0                                                  1\n",
              " 0  Controle de autoridade  : Q19317  WorldCat VIAF: 133874960 BIBSYS: 140...]"
            ]
          },
          "metadata": {
            "tags": []
          },
          "execution_count": 30
        }
      ]
    },
    {
      "cell_type": "code",
      "metadata": {
        "id": "ipCcuro3A7uj",
        "colab": {
          "base_uri": "https://localhost:8080/",
          "height": 204
        },
        "outputId": "b2b70dba-e0a6-415c-80ca-e020ad05eb54"
      },
      "source": [
        "# Queremos apenas a tabela com os pagantes por final\n",
        "# Essa é a tabela dos dados retornados\n",
        "\n",
        "# então o dataframe será apenas a tabela 12\n",
        "df = table[11]\n",
        "df.head()"
      ],
      "execution_count": null,
      "outputs": [
        {
          "output_type": "execute_result",
          "data": {
            "text/html": [
              "<div>\n",
              "<style scoped>\n",
              "    .dataframe tbody tr th:only-of-type {\n",
              "        vertical-align: middle;\n",
              "    }\n",
              "\n",
              "    .dataframe tbody tr th {\n",
              "        vertical-align: top;\n",
              "    }\n",
              "\n",
              "    .dataframe thead th {\n",
              "        text-align: right;\n",
              "    }\n",
              "</style>\n",
              "<table border=\"1\" class=\"dataframe\">\n",
              "  <thead>\n",
              "    <tr style=\"text-align: right;\">\n",
              "      <th></th>\n",
              "      <th>Edição</th>\n",
              "      <th>Ano</th>\n",
              "      <th>Estádio</th>\n",
              "      <th>Local</th>\n",
              "      <th>Público pagante</th>\n",
              "    </tr>\n",
              "  </thead>\n",
              "  <tbody>\n",
              "    <tr>\n",
              "      <th>0</th>\n",
              "      <td>I</td>\n",
              "      <td>1930</td>\n",
              "      <td>Estádio Centenário</td>\n",
              "      <td>Montevidéu</td>\n",
              "      <td>68.346</td>\n",
              "    </tr>\n",
              "    <tr>\n",
              "      <th>1</th>\n",
              "      <td>II</td>\n",
              "      <td>1934</td>\n",
              "      <td>Estádio do Partido Nacional Fascista</td>\n",
              "      <td>Roma</td>\n",
              "      <td>55.000</td>\n",
              "    </tr>\n",
              "    <tr>\n",
              "      <th>2</th>\n",
              "      <td>III</td>\n",
              "      <td>1938</td>\n",
              "      <td>Estádio Olímpico Yves-du-Manoir</td>\n",
              "      <td>Colombes</td>\n",
              "      <td>45.000</td>\n",
              "    </tr>\n",
              "    <tr>\n",
              "      <th>3</th>\n",
              "      <td>IV</td>\n",
              "      <td>1950</td>\n",
              "      <td>Estádio do Maracanã</td>\n",
              "      <td>Rio de Janeiro</td>\n",
              "      <td>173.850</td>\n",
              "    </tr>\n",
              "    <tr>\n",
              "      <th>4</th>\n",
              "      <td>V</td>\n",
              "      <td>1954</td>\n",
              "      <td>Estádio Wankdorf</td>\n",
              "      <td>Berna</td>\n",
              "      <td>62.500</td>\n",
              "    </tr>\n",
              "  </tbody>\n",
              "</table>\n",
              "</div>"
            ],
            "text/plain": [
              "  Edição   Ano  ...           Local Público pagante\n",
              "0      I  1930  ...      Montevidéu          68.346\n",
              "1     II  1934  ...            Roma          55.000\n",
              "2    III  1938  ...        Colombes          45.000\n",
              "3     IV  1950  ...  Rio de Janeiro         173.850\n",
              "4      V  1954  ...           Berna          62.500\n",
              "\n",
              "[5 rows x 5 columns]"
            ]
          },
          "metadata": {
            "tags": []
          },
          "execution_count": 33
        }
      ]
    },
    {
      "cell_type": "code",
      "metadata": {
        "id": "nsKk04jqA7sD"
      },
      "source": [
        "# SE PRECISAR:\n",
        "#   (( Mudar o nome das colunas que estão numeradas(no titulo) usando a PRIMEIRA linha que estão com os nomes das colunas ))\n",
        "# iloc[0]   seleciona/pega todo conteúdo da linha\n",
        "\n",
        "  #df.columns = df.iloc[0]\n",
        "  #df.drop(df.index[0], inplace=True)  # apaga a primeira linha\n",
        "  #df.head()\n"
      ],
      "execution_count": null,
      "outputs": []
    },
    {
      "cell_type": "code",
      "metadata": {
        "id": "q0trnOgHA7pT",
        "colab": {
          "base_uri": "https://localhost:8080/"
        },
        "outputId": "59d48949-e683-476e-ccd1-e8a117df179d"
      },
      "source": [
        "df.info()"
      ],
      "execution_count": null,
      "outputs": [
        {
          "output_type": "stream",
          "text": [
            "<class 'pandas.core.frame.DataFrame'>\n",
            "RangeIndex: 21 entries, 0 to 20\n",
            "Data columns (total 5 columns):\n",
            " #   Column           Non-Null Count  Dtype  \n",
            "---  ------           --------------  -----  \n",
            " 0   Edição           21 non-null     object \n",
            " 1   Ano              21 non-null     int64  \n",
            " 2   Estádio          21 non-null     object \n",
            " 3   Local            21 non-null     object \n",
            " 4   Público pagante  21 non-null     float64\n",
            "dtypes: float64(1), int64(1), object(3)\n",
            "memory usage: 968.0+ bytes\n"
          ],
          "name": "stdout"
        }
      ]
    },
    {
      "cell_type": "code",
      "metadata": {
        "id": "AJ32ten9A7mp",
        "colab": {
          "base_uri": "https://localhost:8080/",
          "height": 204
        },
        "outputId": "ae7e44d4-d499-4c97-e00d-761e7a4189e7"
      },
      "source": [
        "# SE PRECISAR:\n",
        "# Converter a coluna \"Público pagante\" para int\n",
        "df['Público pagante'] = df['Público pagante'].astype(int)\n",
        "df.head()"
      ],
      "execution_count": null,
      "outputs": [
        {
          "output_type": "execute_result",
          "data": {
            "text/html": [
              "<div>\n",
              "<style scoped>\n",
              "    .dataframe tbody tr th:only-of-type {\n",
              "        vertical-align: middle;\n",
              "    }\n",
              "\n",
              "    .dataframe tbody tr th {\n",
              "        vertical-align: top;\n",
              "    }\n",
              "\n",
              "    .dataframe thead th {\n",
              "        text-align: right;\n",
              "    }\n",
              "</style>\n",
              "<table border=\"1\" class=\"dataframe\">\n",
              "  <thead>\n",
              "    <tr style=\"text-align: right;\">\n",
              "      <th></th>\n",
              "      <th>Edição</th>\n",
              "      <th>Ano</th>\n",
              "      <th>Estádio</th>\n",
              "      <th>Local</th>\n",
              "      <th>Público pagante</th>\n",
              "    </tr>\n",
              "  </thead>\n",
              "  <tbody>\n",
              "    <tr>\n",
              "      <th>0</th>\n",
              "      <td>I</td>\n",
              "      <td>1930</td>\n",
              "      <td>Estádio Centenário</td>\n",
              "      <td>Montevidéu</td>\n",
              "      <td>68</td>\n",
              "    </tr>\n",
              "    <tr>\n",
              "      <th>1</th>\n",
              "      <td>II</td>\n",
              "      <td>1934</td>\n",
              "      <td>Estádio do Partido Nacional Fascista</td>\n",
              "      <td>Roma</td>\n",
              "      <td>55</td>\n",
              "    </tr>\n",
              "    <tr>\n",
              "      <th>2</th>\n",
              "      <td>III</td>\n",
              "      <td>1938</td>\n",
              "      <td>Estádio Olímpico Yves-du-Manoir</td>\n",
              "      <td>Colombes</td>\n",
              "      <td>45</td>\n",
              "    </tr>\n",
              "    <tr>\n",
              "      <th>3</th>\n",
              "      <td>IV</td>\n",
              "      <td>1950</td>\n",
              "      <td>Estádio do Maracanã</td>\n",
              "      <td>Rio de Janeiro</td>\n",
              "      <td>173</td>\n",
              "    </tr>\n",
              "    <tr>\n",
              "      <th>4</th>\n",
              "      <td>V</td>\n",
              "      <td>1954</td>\n",
              "      <td>Estádio Wankdorf</td>\n",
              "      <td>Berna</td>\n",
              "      <td>62</td>\n",
              "    </tr>\n",
              "  </tbody>\n",
              "</table>\n",
              "</div>"
            ],
            "text/plain": [
              "  Edição   Ano  ...           Local Público pagante\n",
              "0      I  1930  ...      Montevidéu              68\n",
              "1     II  1934  ...            Roma              55\n",
              "2    III  1938  ...        Colombes              45\n",
              "3     IV  1950  ...  Rio de Janeiro             173\n",
              "4      V  1954  ...           Berna              62\n",
              "\n",
              "[5 rows x 5 columns]"
            ]
          },
          "metadata": {
            "tags": []
          },
          "execution_count": 35
        }
      ]
    },
    {
      "cell_type": "code",
      "metadata": {
        "id": "7WoTHTG5A7j2"
      },
      "source": [
        "# SE PRECISAR:\n",
        "# QUANDO NA COLUNA DE NÚMERO TEM PONTO E É str\n",
        "# Tira o ponto e não coloca nada e transforma em inteiro\n",
        "# df['Público pagante'] = df['Público pagante'].str.replace('.', '').astype(int)"
      ],
      "execution_count": null,
      "outputs": []
    },
    {
      "cell_type": "code",
      "metadata": {
        "id": "L2IgYTyVcGbX"
      },
      "source": [
        "# grafico com a evolução do publico pagante com seaborn\n",
        "\n",
        "# importar uma nova biblioteca para gráficos\n",
        "import seaborn as sns\n",
        "import matplotlib.pyplot as plt"
      ],
      "execution_count": null,
      "outputs": []
    },
    {
      "cell_type": "code",
      "metadata": {
        "id": "7yoQEcnQfacj"
      },
      "source": [
        "# configurando o matplotlib\n",
        "%matplotlib inline"
      ],
      "execution_count": null,
      "outputs": []
    },
    {
      "cell_type": "code",
      "metadata": {
        "colab": {
          "base_uri": "https://localhost:8080/",
          "height": 297
        },
        "id": "61o5HFOEfaZg",
        "outputId": "c18a3f2c-2125-48d1-fba2-5b35bfc08a4c"
      },
      "source": [
        "# exibir o gráfico de linhas com marcação em cada ponto\n",
        "sns.pointplot(x='Ano' ,y='Público pagante', data=df)\n",
        "\n",
        "# ajustando as legendas\n",
        "# xticks  mexe nas legendas do eixo x\n",
        "plt.xticks(rotation=65)\n",
        "plt.show()"
      ],
      "execution_count": null,
      "outputs": [
        {
          "output_type": "display_data",
          "data": {
            "image/png": "[encoded data removed]",
            "text/plain": [
              "<Figure size 432x288 with 1 Axes>"
            ]
          },
          "metadata": {
            "tags": [],
            "needs_background": "light"
          }
        }
      ]
    },
    {
      "cell_type": "markdown",
      "metadata": {
        "id": "_03qjZJ217rv"
      },
      "source": [
        "## Dever de casa:\n",
        "Treinar com conjunto de dados por municipio: https://www.tse.jus.br/eleicoes/estatisticas/estatisticas-eleitorais"
      ]
    }
  ]
}