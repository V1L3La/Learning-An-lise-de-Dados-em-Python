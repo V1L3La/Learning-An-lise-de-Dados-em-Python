{
  "nbformat": 4,
  "nbformat_minor": 0,
  "metadata": {
    "colab": {
      "name": "Dados_Partidos_com_API_Análise_de_Dados_em_Python_Aula_01.ipynb",
      "provenance": [],
      "collapsed_sections": [],
      "authorship_tag": "ABX9TyPjRq9EIc0fCVhI2I7Eq2GU",
      "include_colab_link": true
    },
    "kernelspec": {
      "name": "python3",
      "display_name": "Python 3"
    },
    "language_info": {
      "name": "python"
    }
  },
  "cells": [
    {
      "cell_type": "markdown",
      "metadata": {
        "id": "view-in-github",
        "colab_type": "text"
      },
      "source": [
        "<a href=\"https://colab.research.google.com/github/V1L3La/Learning-An-lise-de-Dados-em-Python/blob/main/Dados_Partidos_com_API_An%C3%A1lise_de_Dados_em_Python_Aula_01.ipynb\" target=\"_parent\"><img src=\"https://colab.research.google.com/assets/colab-badge.svg\" alt=\"Open In Colab\"/></a>"
      ]
    },
    {
      "cell_type": "markdown",
      "metadata": {
        "id": "IQQsjMczG8zC"
      },
      "source": [
        "#**Analise dos dados da API de partidos**\n",
        "\n",
        "Aula 2  (Localizando a API  -->  1h 12min 30seg)\n",
        "https://www.youtube.com/watch?v=2oZHg3HOtcY&t=3243s\n",
        "\n",
        "###### Request URL -> https://dadosabertos.camara.leg.br/api/v2/partidos?itens=100&ordem=ASC&ordenarPor=sigla\n"
      ]
    },
    {
      "cell_type": "code",
      "metadata": {
        "id": "u0eMMyCzG3Yn"
      },
      "source": [
        "import pandas as pd\n",
        "import requests"
      ],
      "execution_count": 1,
      "outputs": []
    },
    {
      "cell_type": "code",
      "metadata": {
        "id": "z3Pxq1vuHgWE"
      },
      "source": [
        ""
      ],
      "execution_count": null,
      "outputs": []
    }
  ]
}