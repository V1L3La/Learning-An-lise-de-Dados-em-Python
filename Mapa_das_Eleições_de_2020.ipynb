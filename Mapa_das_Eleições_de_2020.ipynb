{
  "nbformat": 4,
  "nbformat_minor": 0,
  "metadata": {
    "colab": {
      "name": "Mapa das Eleições de 2020.ipynb",
      "provenance": [],
      "authorship_tag": "ABX9TyMHcCuy57jAR6om7vJ/QJyW",
      "include_colab_link": true
    },
    "kernelspec": {
      "name": "python3",
      "display_name": "Python 3"
    },
    "language_info": {
      "name": "python"
    }
  },
  "cells": [
    {
      "cell_type": "markdown",
      "metadata": {
        "id": "view-in-github",
        "colab_type": "text"
      },
      "source": [
        "<a href=\"https://colab.research.google.com/github/V1L3La/Learning-An-lise-de-Dados-em-Python/blob/main/Mapa_das_Elei%C3%A7%C3%B5es_de_2020.ipynb\" target=\"_parent\"><img src=\"https://colab.research.google.com/assets/colab-badge.svg\" alt=\"Open In Colab\"/></a>"
      ]
    },
    {
      "cell_type": "code",
      "metadata": {
        "id": "H9AxiDNoq0eo"
      },
      "source": [
        ""
      ],
      "execution_count": null,
      "outputs": []
    },
    {
      "cell_type": "markdown",
      "metadata": {
        "id": "_TokV1K7RNYo"
      },
      "source": [
        "***\n",
        "***\n",
        "#**Análise do Mapa das Eleições de 2020**\n",
        "\n",
        "Analisando o mapa da das eleições de 2020 com objetivo de treinamento para curso de análise de dados.\n",
        "\n",
        "***\n",
        "***\n",
        "> Fontes:\n",
        ">\n",
        ">1\n",
        ">[Representação dos municípios em shapefile: Malhas Dígitais - Brasil - Mesorregiões](https://portaldemapas.ibge.gov.br/portal.php#mapa221131)<br>\n",
        ">Arquivos (.cpg, .dbf, .prj, **.shp**, .shx)  <br> <br>\n",
        ">\n",
        ">2\n",
        ">[Votação nominal por município e zona](https://www.tse.jus.br/eleicoes/estatisticas/repositorio-de-dados-eleitorais-1/repositorio-de-dados-eleitorais)<br>Arquivo (votação_candidato_munzona_2020_BRASIL) para Presidente<br> <br>\n",
        ">\n",
        ">\n",
        ">[Aula 4](https://youtu.be/hyDvL_CzbX4) <br>\n",
        ">\n",
        ">[Portifolio de Projetos](https://www.youtube.com/watch?v=LJrK4B7bNWA) <br>\n",
        "> \n",
        "\n"
      ]
    },
    {
      "cell_type": "code",
      "metadata": {
        "id": "_aXY8QMmrVJL"
      },
      "source": [
        "# 8' 00''"
      ],
      "execution_count": null,
      "outputs": []
    }
  ]
}