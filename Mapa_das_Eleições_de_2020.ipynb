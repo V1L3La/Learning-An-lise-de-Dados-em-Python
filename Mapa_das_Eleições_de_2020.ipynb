{
  "nbformat": 4,
  "nbformat_minor": 0,
  "metadata": {
    "colab": {
      "name": "Mapa das Eleições de 2020.ipynb",
      "provenance": [],
      "collapsed_sections": [],
      "authorship_tag": "ABX9TyOls078YozX9IDTWqvbg8ra",
      "include_colab_link": true
    },
    "kernelspec": {
      "name": "python3",
      "display_name": "Python 3"
    },
    "language_info": {
      "name": "python"
    }
  },
  "cells": [
    {
      "cell_type": "markdown",
      "metadata": {
        "id": "view-in-github",
        "colab_type": "text"
      },
      "source": [
        "<a href=\"https://colab.research.google.com/github/V1L3La/Learning-An-lise-de-Dados-em-Python/blob/main/Mapa_das_Elei%C3%A7%C3%B5es_de_2020.ipynb\" target=\"_parent\"><img src=\"https://colab.research.google.com/assets/colab-badge.svg\" alt=\"Open In Colab\"/></a>"
      ]
    },
    {
      "cell_type": "code",
      "metadata": {
        "id": "H9AxiDNoq0eo"
      },
      "source": [
        ""
      ],
      "execution_count": null,
      "outputs": []
    },
    {
      "cell_type": "markdown",
      "metadata": {
        "id": "_TokV1K7RNYo"
      },
      "source": [
        "***\n",
        "***\n",
        "#**Análise do Mapa das Eleições de 2020**\n",
        "\n",
        "Analisando o mapa da das eleições de 2020 com objetivo de treinamento para curso de análise de dados.\n",
        "\n",
        "***\n",
        "***\n",
        "> Fontes:\n",
        ">\n",
        ">1\n",
        ">[Representação dos municípios em shapefile: Malhas Dígitais - Brasil - Mesorregiões](https://portaldemapas.ibge.gov.br/portal.php#mapa221131)<br>\n",
        ">Arquivos (.cpg, .dbf, .prj, **.shp**, .shx)  <br> <br>\n",
        ">\n",
        ">2\n",
        ">[Votação nominal por município e zona](https://www.tse.jus.br/eleicoes/estatisticas/repositorio-de-dados-eleitorais-1/repositorio-de-dados-eleitorais)<br>Arquivo (votação_candidato_munzona_2020_BRASIL) para Presidente<br> <br>\n",
        ">\n",
        ">\n",
        ">[Aula 4](https://youtu.be/hyDvL_CzbX4) <br>\n",
        ">\n",
        ">[Portifolio de Projetos](https://www.youtube.com/watch?v=LJrK4B7bNWA) <br>\n",
        "> \n",
        "\n"
      ]
    },
    {
      "cell_type": "code",
      "metadata": {
        "colab": {
          "base_uri": "https://localhost:8080/"
        },
        "id": "wgKrpt-Vdi4r",
        "outputId": "d42fedd5-e065-4e0a-f615-770ab993fe1e"
      },
      "source": [
        "# pip permite instalar novas bibliotecas\n",
        "# ! permite a execução de comandos no colab\n",
        "!pip install geopandas"
      ],
      "execution_count": 1,
      "outputs": [
        {
          "output_type": "stream",
          "text": [
            "Requirement already satisfied: geopandas in /usr/local/lib/python3.7/dist-packages (0.9.0)\n",
            "Requirement already satisfied: pyproj>=2.2.0 in /usr/local/lib/python3.7/dist-packages (from geopandas) (3.1.0)\n",
            "Requirement already satisfied: fiona>=1.8 in /usr/local/lib/python3.7/dist-packages (from geopandas) (1.8.20)\n",
            "Requirement already satisfied: shapely>=1.6 in /usr/local/lib/python3.7/dist-packages (from geopandas) (1.7.1)\n",
            "Requirement already satisfied: pandas>=0.24.0 in /usr/local/lib/python3.7/dist-packages (from geopandas) (1.1.5)\n",
            "Requirement already satisfied: certifi in /usr/local/lib/python3.7/dist-packages (from pyproj>=2.2.0->geopandas) (2021.5.30)\n",
            "Requirement already satisfied: cligj>=0.5 in /usr/local/lib/python3.7/dist-packages (from fiona>=1.8->geopandas) (0.7.2)\n",
            "Requirement already satisfied: six>=1.7 in /usr/local/lib/python3.7/dist-packages (from fiona>=1.8->geopandas) (1.15.0)\n",
            "Requirement already satisfied: setuptools in /usr/local/lib/python3.7/dist-packages (from fiona>=1.8->geopandas) (57.0.0)\n",
            "Requirement already satisfied: click-plugins>=1.0 in /usr/local/lib/python3.7/dist-packages (from fiona>=1.8->geopandas) (1.1.1)\n",
            "Requirement already satisfied: attrs>=17 in /usr/local/lib/python3.7/dist-packages (from fiona>=1.8->geopandas) (21.2.0)\n",
            "Requirement already satisfied: click>=4.0 in /usr/local/lib/python3.7/dist-packages (from fiona>=1.8->geopandas) (7.1.2)\n",
            "Requirement already satisfied: munch in /usr/local/lib/python3.7/dist-packages (from fiona>=1.8->geopandas) (2.5.0)\n",
            "Requirement already satisfied: python-dateutil>=2.7.3 in /usr/local/lib/python3.7/dist-packages (from pandas>=0.24.0->geopandas) (2.8.1)\n",
            "Requirement already satisfied: numpy>=1.15.4 in /usr/local/lib/python3.7/dist-packages (from pandas>=0.24.0->geopandas) (1.19.5)\n",
            "Requirement already satisfied: pytz>=2017.2 in /usr/local/lib/python3.7/dist-packages (from pandas>=0.24.0->geopandas) (2018.9)\n"
          ],
          "name": "stdout"
        }
      ]
    },
    {
      "cell_type": "code",
      "metadata": {
        "id": "_aXY8QMmrVJL"
      },
      "source": [
        "# Importando as bibliotecas\n",
        "%matplotlib inline\n",
        "import pandas as pd\n",
        "import matplotlib.pyplot as plt\n",
        "import geopandas as gpd   # abre arquivos shapefile\n"
      ],
      "execution_count": 2,
      "outputs": []
    },
    {
      "cell_type": "code",
      "metadata": {
        "id": "OdLRLePrGBmv"
      },
      "source": [
        "# https://www.google.com/search?q=geopandas+gpd.read_file+.shp&sxsrf=ALeKk023hlvMbMiWNOsyxsaqK8QMXp7Mjw%3A1625703450783&ei=GkTmYMWaL5XX1sQPqcCk2A0&oq=geopandas+gpd.read_file+.shp&gs_lcp=Cgdnd3Mtd2l6EANKBAhBGAFQwsUSWL3yEmC58xJoAXAAeACAAZUBiAHZCpIBBDAuMTGYAQCgAQGqAQdnd3Mtd2l6wAEB&sclient=gws-wiz&ved=0ahUKEwjFj8almdLxAhWVq5UCHSkgCdsQ4dUDCA4&uact=5\n",
        "# https://www.youtube.com/watch?v=RoeVPBVbscQ\n",
        "df_mapa = gpd.read_file('https://github.com/V1L3La/Learning-An-lise-de-Dados-em-Python/blob/8e3ab1c17254dec964901f8c02c5e5bb65b37411/Arquivo_Elei%C3%A7%C3%A3o_2018/votacao_candidato_munzona_2018_BR.csv')"
      ],
      "execution_count": null,
      "outputs": []
    },
    {
      "cell_type": "code",
      "metadata": {
        "id": "6N82rq1jjepp"
      },
      "source": [
        "#  arquivos maiores de 35 mb  https://www.youtube.com/results?search_query=github+upload+arquivos+acima+de+35+mb\n",
        "#  12' 00''"
      ],
      "execution_count": null,
      "outputs": []
    },
    {
      "cell_type": "code",
      "metadata": {
        "id": "56wJQ-T4sUBI"
      },
      "source": [
        "# https://www.youtube.com/watch?v=C8rUGJouiQI"
      ],
      "execution_count": null,
      "outputs": []
    },
    {
      "cell_type": "code",
      "metadata": {
        "id": "FvpamG1bsT-f"
      },
      "source": [
        ""
      ],
      "execution_count": null,
      "outputs": []
    },
    {
      "cell_type": "code",
      "metadata": {
        "id": "UoVH4zyBdi2T"
      },
      "source": [
        "#df = pd.read_csv('https://raw.githubusercontent.com/V1L3La/Learning-An-lise-de-Dados-em-Python/main/2013-taxa-de-distorcao-idade-serie-total-102524.csv', encoding = 'latin1',skiprows=1)  \n",
        "#df"
      ],
      "execution_count": null,
      "outputs": []
    },
    {
      "cell_type": "code",
      "metadata": {
        "id": "3zRdTFxGdiy8"
      },
      "source": [
        ""
      ],
      "execution_count": null,
      "outputs": []
    }
  ]
}