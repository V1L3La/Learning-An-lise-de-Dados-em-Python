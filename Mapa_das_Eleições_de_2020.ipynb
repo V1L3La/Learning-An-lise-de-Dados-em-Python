{
  "nbformat": 4,
  "nbformat_minor": 0,
  "metadata": {
    "colab": {
      "name": "Mapa das Eleições de 2020.ipynb",
      "provenance": [],
      "collapsed_sections": [],
      "authorship_tag": "ABX9TyM5cNVNdC9ynSbuTMhXdMEY",
      "include_colab_link": true
    },
    "kernelspec": {
      "name": "python3",
      "display_name": "Python 3"
    },
    "language_info": {
      "name": "python"
    }
  },
  "cells": [
    {
      "cell_type": "markdown",
      "metadata": {
        "id": "view-in-github",
        "colab_type": "text"
      },
      "source": [
        "<a href=\"https://colab.research.google.com/github/V1L3La/Learning-An-lise-de-Dados-em-Python/blob/main/Mapa_das_Elei%C3%A7%C3%B5es_de_2020.ipynb\" target=\"_parent\"><img src=\"https://colab.research.google.com/assets/colab-badge.svg\" alt=\"Open In Colab\"/></a>"
      ]
    },
    {
      "cell_type": "code",
      "metadata": {
        "id": "H9AxiDNoq0eo"
      },
      "source": [
        ""
      ],
      "execution_count": null,
      "outputs": []
    },
    {
      "cell_type": "markdown",
      "metadata": {
        "id": "_TokV1K7RNYo"
      },
      "source": [
        "***\n",
        "***\n",
        "#**Análise do Mapa das Eleições de 2020**\n",
        "\n",
        "Analisando o mapa da das eleições de 2020 com objetivo de treinamento para curso de análise de dados.\n",
        "\n",
        "***\n",
        "***\n",
        "> Fontes:\n",
        ">\n",
        ">1\n",
        ">[Representação dos municípios em shapefile: Malhas Dígitais - Brasil - Mesorregiões](https://portaldemapas.ibge.gov.br/portal.php#mapa221131)<br>\n",
        ">Arquivos (.cpg, .dbf, .prj, **.shp**, .shx)  <br> <br>\n",
        ">\n",
        ">2\n",
        ">[Votação nominal por município e zona](https://www.tse.jus.br/eleicoes/estatisticas/repositorio-de-dados-eleitorais-1/repositorio-de-dados-eleitorais)<br>Arquivo (votação_candidato_munzona_2020_BRASIL) para Presidente<br> <br>\n",
        ">\n",
        ">\n",
        ">[Aula 4](https://youtu.be/hyDvL_CzbX4) <br>\n",
        ">\n",
        ">[Portifolio de Projetos](https://www.youtube.com/watch?v=LJrK4B7bNWA) <br>\n",
        "> \n",
        "\n"
      ]
    },
    {
      "cell_type": "code",
      "metadata": {
        "colab": {
          "base_uri": "https://localhost:8080/"
        },
        "id": "wgKrpt-Vdi4r",
        "outputId": "1a50e572-dde4-48fd-d294-4876c3235eb3"
      },
      "source": [
        "# pip permite instalar novas bibliotecas\n",
        "# ! permite a execução de comandos no colab\n",
        "!pip install geopandas"
      ],
      "execution_count": null,
      "outputs": [
        {
          "output_type": "stream",
          "text": [
            "Collecting geopandas\n",
            "\u001b[?25l  Downloading https://files.pythonhosted.org/packages/d7/bf/e9cefb69d39155d122b6ddca53893b61535fa6ffdad70bf5ef708977f53f/geopandas-0.9.0-py2.py3-none-any.whl (994kB)\n",
            "\r\u001b[K     |▎                               | 10kB 14.3MB/s eta 0:00:01\r\u001b[K     |▋                               | 20kB 20.3MB/s eta 0:00:01\r\u001b[K     |█                               | 30kB 19.5MB/s eta 0:00:01\r\u001b[K     |█▎                              | 40kB 16.7MB/s eta 0:00:01\r\u001b[K     |█▋                              | 51kB 6.8MB/s eta 0:00:01\r\u001b[K     |██                              | 61kB 7.9MB/s eta 0:00:01\r\u001b[K     |██▎                             | 71kB 8.1MB/s eta 0:00:01\r\u001b[K     |██▋                             | 81kB 8.9MB/s eta 0:00:01\r\u001b[K     |███                             | 92kB 9.7MB/s eta 0:00:01\r\u001b[K     |███▎                            | 102kB 7.6MB/s eta 0:00:01\r\u001b[K     |███▋                            | 112kB 7.6MB/s eta 0:00:01\r\u001b[K     |████                            | 122kB 7.6MB/s eta 0:00:01\r\u001b[K     |████▎                           | 133kB 7.6MB/s eta 0:00:01\r\u001b[K     |████▋                           | 143kB 7.6MB/s eta 0:00:01\r\u001b[K     |█████                           | 153kB 7.6MB/s eta 0:00:01\r\u001b[K     |█████▎                          | 163kB 7.6MB/s eta 0:00:01\r\u001b[K     |█████▋                          | 174kB 7.6MB/s eta 0:00:01\r\u001b[K     |██████                          | 184kB 7.6MB/s eta 0:00:01\r\u001b[K     |██████▎                         | 194kB 7.6MB/s eta 0:00:01\r\u001b[K     |██████▋                         | 204kB 7.6MB/s eta 0:00:01\r\u001b[K     |███████                         | 215kB 7.6MB/s eta 0:00:01\r\u001b[K     |███████▎                        | 225kB 7.6MB/s eta 0:00:01\r\u001b[K     |███████▋                        | 235kB 7.6MB/s eta 0:00:01\r\u001b[K     |████████                        | 245kB 7.6MB/s eta 0:00:01\r\u001b[K     |████████▎                       | 256kB 7.6MB/s eta 0:00:01\r\u001b[K     |████████▋                       | 266kB 7.6MB/s eta 0:00:01\r\u001b[K     |█████████                       | 276kB 7.6MB/s eta 0:00:01\r\u001b[K     |█████████▎                      | 286kB 7.6MB/s eta 0:00:01\r\u001b[K     |█████████▌                      | 296kB 7.6MB/s eta 0:00:01\r\u001b[K     |█████████▉                      | 307kB 7.6MB/s eta 0:00:01\r\u001b[K     |██████████▏                     | 317kB 7.6MB/s eta 0:00:01\r\u001b[K     |██████████▌                     | 327kB 7.6MB/s eta 0:00:01\r\u001b[K     |██████████▉                     | 337kB 7.6MB/s eta 0:00:01\r\u001b[K     |███████████▏                    | 348kB 7.6MB/s eta 0:00:01\r\u001b[K     |███████████▌                    | 358kB 7.6MB/s eta 0:00:01\r\u001b[K     |███████████▉                    | 368kB 7.6MB/s eta 0:00:01\r\u001b[K     |████████████▏                   | 378kB 7.6MB/s eta 0:00:01\r\u001b[K     |████████████▌                   | 389kB 7.6MB/s eta 0:00:01\r\u001b[K     |████████████▉                   | 399kB 7.6MB/s eta 0:00:01\r\u001b[K     |█████████████▏                  | 409kB 7.6MB/s eta 0:00:01\r\u001b[K     |█████████████▌                  | 419kB 7.6MB/s eta 0:00:01\r\u001b[K     |█████████████▉                  | 430kB 7.6MB/s eta 0:00:01\r\u001b[K     |██████████████▏                 | 440kB 7.6MB/s eta 0:00:01\r\u001b[K     |██████████████▌                 | 450kB 7.6MB/s eta 0:00:01\r\u001b[K     |██████████████▉                 | 460kB 7.6MB/s eta 0:00:01\r\u001b[K     |███████████████▏                | 471kB 7.6MB/s eta 0:00:01\r\u001b[K     |███████████████▌                | 481kB 7.6MB/s eta 0:00:01\r\u001b[K     |███████████████▉                | 491kB 7.6MB/s eta 0:00:01\r\u001b[K     |████████████████▏               | 501kB 7.6MB/s eta 0:00:01\r\u001b[K     |████████████████▌               | 512kB 7.6MB/s eta 0:00:01\r\u001b[K     |████████████████▉               | 522kB 7.6MB/s eta 0:00:01\r\u001b[K     |█████████████████▏              | 532kB 7.6MB/s eta 0:00:01\r\u001b[K     |█████████████████▌              | 542kB 7.6MB/s eta 0:00:01\r\u001b[K     |█████████████████▉              | 552kB 7.6MB/s eta 0:00:01\r\u001b[K     |██████████████████▏             | 563kB 7.6MB/s eta 0:00:01\r\u001b[K     |██████████████████▌             | 573kB 7.6MB/s eta 0:00:01\r\u001b[K     |██████████████████▊             | 583kB 7.6MB/s eta 0:00:01\r\u001b[K     |███████████████████             | 593kB 7.6MB/s eta 0:00:01\r\u001b[K     |███████████████████▍            | 604kB 7.6MB/s eta 0:00:01\r\u001b[K     |███████████████████▊            | 614kB 7.6MB/s eta 0:00:01\r\u001b[K     |████████████████████            | 624kB 7.6MB/s eta 0:00:01\r\u001b[K     |████████████████████▍           | 634kB 7.6MB/s eta 0:00:01\r\u001b[K     |████████████████████▊           | 645kB 7.6MB/s eta 0:00:01\r\u001b[K     |█████████████████████           | 655kB 7.6MB/s eta 0:00:01\r\u001b[K     |█████████████████████▍          | 665kB 7.6MB/s eta 0:00:01\r\u001b[K     |█████████████████████▊          | 675kB 7.6MB/s eta 0:00:01\r\u001b[K     |██████████████████████          | 686kB 7.6MB/s eta 0:00:01\r\u001b[K     |██████████████████████▍         | 696kB 7.6MB/s eta 0:00:01\r\u001b[K     |██████████████████████▊         | 706kB 7.6MB/s eta 0:00:01\r\u001b[K     |███████████████████████         | 716kB 7.6MB/s eta 0:00:01\r\u001b[K     |███████████████████████▍        | 727kB 7.6MB/s eta 0:00:01\r\u001b[K     |███████████████████████▊        | 737kB 7.6MB/s eta 0:00:01\r\u001b[K     |████████████████████████        | 747kB 7.6MB/s eta 0:00:01\r\u001b[K     |████████████████████████▍       | 757kB 7.6MB/s eta 0:00:01\r\u001b[K     |████████████████████████▊       | 768kB 7.6MB/s eta 0:00:01\r\u001b[K     |█████████████████████████       | 778kB 7.6MB/s eta 0:00:01\r\u001b[K     |█████████████████████████▍      | 788kB 7.6MB/s eta 0:00:01\r\u001b[K     |█████████████████████████▊      | 798kB 7.6MB/s eta 0:00:01\r\u001b[K     |██████████████████████████      | 808kB 7.6MB/s eta 0:00:01\r\u001b[K     |██████████████████████████▍     | 819kB 7.6MB/s eta 0:00:01\r\u001b[K     |██████████████████████████▊     | 829kB 7.6MB/s eta 0:00:01\r\u001b[K     |███████████████████████████     | 839kB 7.6MB/s eta 0:00:01\r\u001b[K     |███████████████████████████▍    | 849kB 7.6MB/s eta 0:00:01\r\u001b[K     |███████████████████████████▊    | 860kB 7.6MB/s eta 0:00:01\r\u001b[K     |████████████████████████████    | 870kB 7.6MB/s eta 0:00:01\r\u001b[K     |████████████████████████████▎   | 880kB 7.6MB/s eta 0:00:01\r\u001b[K     |████████████████████████████▋   | 890kB 7.6MB/s eta 0:00:01\r\u001b[K     |█████████████████████████████   | 901kB 7.6MB/s eta 0:00:01\r\u001b[K     |█████████████████████████████▎  | 911kB 7.6MB/s eta 0:00:01\r\u001b[K     |█████████████████████████████▋  | 921kB 7.6MB/s eta 0:00:01\r\u001b[K     |██████████████████████████████  | 931kB 7.6MB/s eta 0:00:01\r\u001b[K     |██████████████████████████████▎ | 942kB 7.6MB/s eta 0:00:01\r\u001b[K     |██████████████████████████████▋ | 952kB 7.6MB/s eta 0:00:01\r\u001b[K     |███████████████████████████████ | 962kB 7.6MB/s eta 0:00:01\r\u001b[K     |███████████████████████████████▎| 972kB 7.6MB/s eta 0:00:01\r\u001b[K     |███████████████████████████████▋| 983kB 7.6MB/s eta 0:00:01\r\u001b[K     |████████████████████████████████| 993kB 7.6MB/s eta 0:00:01\r\u001b[K     |████████████████████████████████| 1.0MB 7.6MB/s \n",
            "\u001b[?25hRequirement already satisfied: shapely>=1.6 in /usr/local/lib/python3.7/dist-packages (from geopandas) (1.7.1)\n",
            "Requirement already satisfied: pandas>=0.24.0 in /usr/local/lib/python3.7/dist-packages (from geopandas) (1.1.5)\n",
            "Collecting fiona>=1.8\n",
            "\u001b[?25l  Downloading https://files.pythonhosted.org/packages/9c/fc/9807326c37a6bfb2393ae3e1cca147aa74844562c4d5daa782d6e97ad2bc/Fiona-1.8.20-cp37-cp37m-manylinux1_x86_64.whl (15.4MB)\n",
            "\u001b[K     |████████████████████████████████| 15.4MB 187kB/s \n",
            "\u001b[?25hCollecting pyproj>=2.2.0\n",
            "\u001b[?25l  Downloading https://files.pythonhosted.org/packages/11/1d/1c54c672c2faf08d28fe78e15d664c048f786225bef95ad87b6c435cf69e/pyproj-3.1.0-cp37-cp37m-manylinux2010_x86_64.whl (6.6MB)\n",
            "\u001b[K     |████████████████████████████████| 6.6MB 18.7MB/s \n",
            "\u001b[?25hRequirement already satisfied: numpy>=1.15.4 in /usr/local/lib/python3.7/dist-packages (from pandas>=0.24.0->geopandas) (1.19.5)\n",
            "Requirement already satisfied: pytz>=2017.2 in /usr/local/lib/python3.7/dist-packages (from pandas>=0.24.0->geopandas) (2018.9)\n",
            "Requirement already satisfied: python-dateutil>=2.7.3 in /usr/local/lib/python3.7/dist-packages (from pandas>=0.24.0->geopandas) (2.8.1)\n",
            "Requirement already satisfied: click>=4.0 in /usr/local/lib/python3.7/dist-packages (from fiona>=1.8->geopandas) (7.1.2)\n",
            "Requirement already satisfied: attrs>=17 in /usr/local/lib/python3.7/dist-packages (from fiona>=1.8->geopandas) (21.2.0)\n",
            "Collecting cligj>=0.5\n",
            "  Downloading https://files.pythonhosted.org/packages/73/86/43fa9f15c5b9fb6e82620428827cd3c284aa933431405d1bcf5231ae3d3e/cligj-0.7.2-py3-none-any.whl\n",
            "Requirement already satisfied: certifi in /usr/local/lib/python3.7/dist-packages (from fiona>=1.8->geopandas) (2021.5.30)\n",
            "Collecting munch\n",
            "  Downloading https://files.pythonhosted.org/packages/cc/ab/85d8da5c9a45e072301beb37ad7f833cd344e04c817d97e0cc75681d248f/munch-2.5.0-py2.py3-none-any.whl\n",
            "Requirement already satisfied: setuptools in /usr/local/lib/python3.7/dist-packages (from fiona>=1.8->geopandas) (57.0.0)\n",
            "Requirement already satisfied: six>=1.7 in /usr/local/lib/python3.7/dist-packages (from fiona>=1.8->geopandas) (1.15.0)\n",
            "Collecting click-plugins>=1.0\n",
            "  Downloading https://files.pythonhosted.org/packages/e9/da/824b92d9942f4e472702488857914bdd50f73021efea15b4cad9aca8ecef/click_plugins-1.1.1-py2.py3-none-any.whl\n",
            "Installing collected packages: cligj, munch, click-plugins, fiona, pyproj, geopandas\n",
            "Successfully installed click-plugins-1.1.1 cligj-0.7.2 fiona-1.8.20 geopandas-0.9.0 munch-2.5.0 pyproj-3.1.0\n"
          ],
          "name": "stdout"
        }
      ]
    },
    {
      "cell_type": "code",
      "metadata": {
        "id": "_aXY8QMmrVJL"
      },
      "source": [
        "# Importando as bibliotecas\n",
        "%matplotlib inline\n",
        "import pandas as pd\n",
        "import matplotlib.pyplot as plt\n",
        "import geopandas as gpd   # abre arquivos shapefile\n"
      ],
      "execution_count": null,
      "outputs": []
    },
    {
      "cell_type": "code",
      "metadata": {
        "id": "6N82rq1jjepp"
      },
      "source": [
        "#  arquivos maiores de 35 mb  https://www.youtube.com/results?search_query=github+upload+arquivos+acima+de+35+mb\n",
        "#  12' 00''"
      ],
      "execution_count": null,
      "outputs": []
    },
    {
      "cell_type": "code",
      "metadata": {
        "id": "56wJQ-T4sUBI"
      },
      "source": [
        ""
      ],
      "execution_count": null,
      "outputs": []
    },
    {
      "cell_type": "code",
      "metadata": {
        "id": "FvpamG1bsT-f"
      },
      "source": [
        ""
      ],
      "execution_count": null,
      "outputs": []
    },
    {
      "cell_type": "code",
      "metadata": {
        "id": "UoVH4zyBdi2T"
      },
      "source": [
        "#df = pd.read_csv('https://raw.githubusercontent.com/V1L3La/Learning-An-lise-de-Dados-em-Python/main/2013-taxa-de-distorcao-idade-serie-total-102524.csv', encoding = 'latin1',skiprows=1)  \n",
        "#df"
      ],
      "execution_count": null,
      "outputs": []
    },
    {
      "cell_type": "code",
      "metadata": {
        "id": "3zRdTFxGdiy8"
      },
      "source": [
        ""
      ],
      "execution_count": null,
      "outputs": []
    }
  ]
}