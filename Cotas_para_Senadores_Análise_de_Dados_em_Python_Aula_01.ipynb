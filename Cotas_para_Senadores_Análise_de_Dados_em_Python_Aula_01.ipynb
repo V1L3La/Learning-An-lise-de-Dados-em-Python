{
  "nbformat": 4,
  "nbformat_minor": 0,
  "metadata": {
    "colab": {
      "name": "Cotas_para_Senadores_Análise_de_Dados_em_Python_Aula_01.ipynb",
      "provenance": [],
      "authorship_tag": "ABX9TyPkVWZrOiEdqxLWCByjk1ao",
      "include_colab_link": true
    },
    "kernelspec": {
      "name": "python3",
      "display_name": "Python 3"
    },
    "language_info": {
      "name": "python"
    }
  },
  "cells": [
    {
      "cell_type": "markdown",
      "metadata": {
        "id": "view-in-github",
        "colab_type": "text"
      },
      "source": [
        "<a href=\"https://colab.research.google.com/github/V1L3La/Learning-An-lise-de-Dados-em-Python/blob/main/Cotas_para_Senadores_An%C3%A1lise_de_Dados_em_Python_Aula_01.ipynb\" target=\"_parent\"><img src=\"https://colab.research.google.com/assets/colab-badge.svg\" alt=\"Open In Colab\"/></a>"
      ]
    },
    {
      "cell_type": "markdown",
      "metadata": {
        "id": "L93lPFnZ2-hc"
      },
      "source": [
        "#**Analise dos dados de Cotas para Exercício da Atividade Parlamentar dos Senadores**\n",
        "\n",
        "Aula 3  (stop 35' 50)\n",
        "https://youtu.be/zpNtiJsJ7KY\n",
        "\n",
        "Dados Abertos senado federal:<br>\n",
        "https://www12.senado.leg.br/dados-abertos<br>\n",
        "https://www12.senado.leg.br/dados-abertos<br>\n",
        "\n",
        "Curso Markdown<br>\n",
        "http://cursos.leg.ufpr.br/prr/capMarkdown.html<br>\n",
        "\n",
        "--------------------------------------------------\n",
        ">Explorando os dados \n",
        "\n",
        "- pd.read_csv ... , sep=';', encoding = 'latin1', skiprows=1, decimal=','.... Tratar o dataframe\n",
        "\n",
        "- df.info()<br>\n",
        "- df.shape    # verifica o tamanho do dataframe   (linhas, colunas)<br>\n",
        "- df.count()<br>\n",
        "- df.describe()...(analizar só colunas numéricas)<br>\n",
        "- df.dtypes tipo de cada coluna <br><br>\n",
        "\n",
        "- df.head(4)<br>\n",
        "- df.sample(10)   #lista linhas aleatórias<br>\n",
        "- df.tail()<br>\n",
        "- df.isnull().sum() retorna o número de valores ausentes para cada coluna.<br>\n",
        "- df.isnull().sum().sum() retorna o número total de valores ausentes.<br>\n",
        "- df.isna().mean() descobre a porcentagem de valores que estão faltando, executando: <br><br>\n",
        "\n",
        "- df.nsmallest(7, 'mensalidade')    7 menores valores mensalidades<br>\n",
        "- df.nlargest(5, 'mensalidade')  5 maiores valores mensalidades<br><br>\n",
        "\n",
        "- help(pd.Series.loc) pedindo ajuda\n",
        "\n",
        "----------------------------------------------------\n",
        "####Soma campos da coluna\n",
        "df['coluna'].sum() ....Soma campos da coluna<br>\n",
        "df['coluna'].value_counts()....conta x vezes aparece na coluna<br>\n",
        "df.groupby('coluna1')['coluna2'].sum().sort_values(ascending=False) ...agrupa cada linha da coluna1 com a coluna2,soma e ordena do > p <<br>\n",
        "df.nlargest(x, 'coluna') ... Retorna o x MAIOR valor da coluna. <br>\n",
        "df.nsmallest(x, 'coluna') ... Retorna o x MENOR valor da coluna.<br>\n",
        "<br><br><br><br>\n",
        "\n",
        "\n"
      ]
    },
    {
      "cell_type": "code",
      "metadata": {
        "colab": {
          "base_uri": "https://localhost:8080/",
          "height": 439
        },
        "id": "EKaIIXogEqU7",
        "outputId": "747e44f0-a3d1-4151-957a-b4ee116b1708"
      },
      "source": [
        "import pandas as pd\n",
        "df = pd.read_csv('https://raw.githubusercontent.com/V1L3La/Learning-An-lise-de-Dados-em-Python/main/despesa_ceaps_2021.csv', sep=';', encoding = 'latin1', skiprows=1, decimal=',')  \n",
        "df.head(6)"
      ],
      "execution_count": 17,
      "outputs": [
        {
          "output_type": "execute_result",
          "data": {
            "text/html": [
              "<div>\n",
              "<style scoped>\n",
              "    .dataframe tbody tr th:only-of-type {\n",
              "        vertical-align: middle;\n",
              "    }\n",
              "\n",
              "    .dataframe tbody tr th {\n",
              "        vertical-align: top;\n",
              "    }\n",
              "\n",
              "    .dataframe thead th {\n",
              "        text-align: right;\n",
              "    }\n",
              "</style>\n",
              "<table border=\"1\" class=\"dataframe\">\n",
              "  <thead>\n",
              "    <tr style=\"text-align: right;\">\n",
              "      <th></th>\n",
              "      <th>ANO</th>\n",
              "      <th>MES</th>\n",
              "      <th>SENADOR</th>\n",
              "      <th>TIPO_DESPESA</th>\n",
              "      <th>CNPJ_CPF</th>\n",
              "      <th>FORNECEDOR</th>\n",
              "      <th>DOCUMENTO</th>\n",
              "      <th>DATA</th>\n",
              "      <th>DETALHAMENTO</th>\n",
              "      <th>VALOR_REEMBOLSADO</th>\n",
              "      <th>COD_DOCUMENTO</th>\n",
              "    </tr>\n",
              "  </thead>\n",
              "  <tbody>\n",
              "    <tr>\n",
              "      <th>0</th>\n",
              "      <td>2021</td>\n",
              "      <td>1</td>\n",
              "      <td>ACIR GURGACZ</td>\n",
              "      <td>Aluguel de imóveis para escritório político, c...</td>\n",
              "      <td>062.135.728-64</td>\n",
              "      <td>FERNANDO WALDEIR PACINI e ANA LUCIA DA SILVA S...</td>\n",
              "      <td>01/2021</td>\n",
              "      <td>05/01/2021</td>\n",
              "      <td>Despesa com pagamento de aluguel de imóvel par...</td>\n",
              "      <td>1000.00</td>\n",
              "      <td>2157367</td>\n",
              "    </tr>\n",
              "    <tr>\n",
              "      <th>1</th>\n",
              "      <td>2021</td>\n",
              "      <td>1</td>\n",
              "      <td>ACIR GURGACZ</td>\n",
              "      <td>Aluguel de imóveis para escritório político, c...</td>\n",
              "      <td>004.948.028-63</td>\n",
              "      <td>GILBERTO PISELO DO NASCIMENTO</td>\n",
              "      <td>001/21</td>\n",
              "      <td>06/01/2021</td>\n",
              "      <td>Despesa com aluguel de imóvel para uso do escr...</td>\n",
              "      <td>6000.00</td>\n",
              "      <td>2156383</td>\n",
              "    </tr>\n",
              "    <tr>\n",
              "      <th>2</th>\n",
              "      <td>2021</td>\n",
              "      <td>1</td>\n",
              "      <td>ACIR GURGACZ</td>\n",
              "      <td>Divulgação da atividade parlamentar</td>\n",
              "      <td>26.320.603/0001-64</td>\n",
              "      <td>INFORMANAHORA</td>\n",
              "      <td>10</td>\n",
              "      <td>25/01/2021</td>\n",
              "      <td>Divulgação da atividade parlamentar</td>\n",
              "      <td>1500.00</td>\n",
              "      <td>2154509</td>\n",
              "    </tr>\n",
              "    <tr>\n",
              "      <th>3</th>\n",
              "      <td>2021</td>\n",
              "      <td>1</td>\n",
              "      <td>ACIR GURGACZ</td>\n",
              "      <td>Divulgação da atividade parlamentar</td>\n",
              "      <td>13.659.201/0001-47</td>\n",
              "      <td>LINHA PURPURA FOTO E VIDEO LTDA</td>\n",
              "      <td>44</td>\n",
              "      <td>07/01/2021</td>\n",
              "      <td>Divulgação da atividade parlamentar</td>\n",
              "      <td>6000.00</td>\n",
              "      <td>2154507</td>\n",
              "    </tr>\n",
              "    <tr>\n",
              "      <th>4</th>\n",
              "      <td>2021</td>\n",
              "      <td>1</td>\n",
              "      <td>ACIR GURGACZ</td>\n",
              "      <td>Passagens aéreas, aquáticas e terrestres nacio...</td>\n",
              "      <td>17.872.428/0001-27</td>\n",
              "      <td>AMERICA VIAGENS E TURISMO LTDA - ME</td>\n",
              "      <td>VVEWKR</td>\n",
              "      <td>21/01/2021</td>\n",
              "      <td>Companhia Aérea: LATAM, Localizador: VVEWKR. P...</td>\n",
              "      <td>1486.46</td>\n",
              "      <td>2154508</td>\n",
              "    </tr>\n",
              "    <tr>\n",
              "      <th>5</th>\n",
              "      <td>2021</td>\n",
              "      <td>1</td>\n",
              "      <td>ACIR GURGACZ</td>\n",
              "      <td>Passagens aéreas, aquáticas e terrestres nacio...</td>\n",
              "      <td>17.872.428/0001-27</td>\n",
              "      <td>AMERICA VIAGENS E TURISMO LTDA - ME</td>\n",
              "      <td>FYJJRL</td>\n",
              "      <td>27/01/2021</td>\n",
              "      <td>Companhia Aérea: AZUL, Localizador: FYJJRL. Pa...</td>\n",
              "      <td>1890.00</td>\n",
              "      <td>2156714</td>\n",
              "    </tr>\n",
              "  </tbody>\n",
              "</table>\n",
              "</div>"
            ],
            "text/plain": [
              "    ANO  MES  ... VALOR_REEMBOLSADO COD_DOCUMENTO\n",
              "0  2021    1  ...           1000.00       2157367\n",
              "1  2021    1  ...           6000.00       2156383\n",
              "2  2021    1  ...           1500.00       2154509\n",
              "3  2021    1  ...           6000.00       2154507\n",
              "4  2021    1  ...           1486.46       2154508\n",
              "5  2021    1  ...           1890.00       2156714\n",
              "\n",
              "[6 rows x 11 columns]"
            ]
          },
          "metadata": {
            "tags": []
          },
          "execution_count": 17
        }
      ]
    },
    {
      "cell_type": "code",
      "metadata": {
        "colab": {
          "base_uri": "https://localhost:8080/"
        },
        "id": "4Z6-bs79JoWY",
        "outputId": "6390c786-0ecc-450c-bf95-38d2da6405bb"
      },
      "source": [
        "# Qual o total de reembolso?\n",
        "df['VALOR_REEMBOLSADO'].sum()"
      ],
      "execution_count": 14,
      "outputs": [
        {
          "output_type": "execute_result",
          "data": {
            "text/plain": [
              "3494575.9099999997"
            ]
          },
          "metadata": {
            "tags": []
          },
          "execution_count": 14
        }
      ]
    },
    {
      "cell_type": "code",
      "metadata": {
        "colab": {
          "base_uri": "https://localhost:8080/"
        },
        "id": "ufZXBxbsL-y5",
        "outputId": "a7466afb-acb3-40a8-b583-76ecb6db44b4"
      },
      "source": [
        "# quantos reembolsos foram solicitados por cada senador?\n",
        "df['SENADOR'].value_counts()\n"
      ],
      "execution_count": 15,
      "outputs": [
        {
          "output_type": "execute_result",
          "data": {
            "text/plain": [
              "CARLOS VIANA          111\n",
              "JAQUES WAGNER          86\n",
              "MAJOR OLIMPIO          82\n",
              "TELMÁRIO MOTA          82\n",
              "LUIS CARLOS HEINZE     78\n",
              "                     ... \n",
              "CHICO RODRIGUES         3\n",
              "OMAR AZIZ               2\n",
              "STYVENSON VALENTIM      2\n",
              "TASSO JEREISSATI        1\n",
              "NAILDE PANTA            1\n",
              "Name: SENADOR, Length: 75, dtype: int64"
            ]
          },
          "metadata": {
            "tags": []
          },
          "execution_count": 15
        }
      ]
    },
    {
      "cell_type": "code",
      "metadata": {
        "colab": {
          "base_uri": "https://localhost:8080/"
        },
        "id": "4GwDF1L_PbUl",
        "outputId": "5045145c-dd66-4bed-8547-0446527f3645"
      },
      "source": [
        "# Quantos senadores solicitaram de reembolso no ano de 2021?\n",
        "df.groupby('SENADOR')['VALOR_REEMBOLSADO'].sum().sort_values(ascending=False)"
      ],
      "execution_count": 21,
      "outputs": [
        {
          "output_type": "execute_result",
          "data": {
            "text/plain": [
              "SENADOR\n",
              "TELMÁRIO MOTA         122736.19\n",
              "MAILZA GOMES          122063.35\n",
              "MARCIO BITTAR          99010.74\n",
              "FERNANDO COLLOR        96000.00\n",
              "CIRO NOGUEIRA          94654.76\n",
              "                        ...    \n",
              "NEY SUASSUNA            9501.33\n",
              "OMAR AZIZ               6766.86\n",
              "VANDERLAN CARDOSO       4324.55\n",
              "STYVENSON VALENTIM      3153.27\n",
              "NAILDE PANTA            1650.62\n",
              "Name: VALOR_REEMBOLSADO, Length: 75, dtype: float64"
            ]
          },
          "metadata": {
            "tags": []
          },
          "execution_count": 21
        }
      ]
    },
    {
      "cell_type": "code",
      "metadata": {
        "colab": {
          "base_uri": "https://localhost:8080/",
          "height": 374
        },
        "id": "sZKE0WHXQU8F",
        "outputId": "ed422225-4592-4f39-e86b-9583e5b9baa8"
      },
      "source": [
        "# Quais os 5 maiores valores valores de reembolso?\n",
        "df.nlargest(5, 'VALOR_REEMBOLSADO')"
      ],
      "execution_count": 22,
      "outputs": [
        {
          "output_type": "execute_result",
          "data": {
            "text/html": [
              "<div>\n",
              "<style scoped>\n",
              "    .dataframe tbody tr th:only-of-type {\n",
              "        vertical-align: middle;\n",
              "    }\n",
              "\n",
              "    .dataframe tbody tr th {\n",
              "        vertical-align: top;\n",
              "    }\n",
              "\n",
              "    .dataframe thead th {\n",
              "        text-align: right;\n",
              "    }\n",
              "</style>\n",
              "<table border=\"1\" class=\"dataframe\">\n",
              "  <thead>\n",
              "    <tr style=\"text-align: right;\">\n",
              "      <th></th>\n",
              "      <th>ANO</th>\n",
              "      <th>MES</th>\n",
              "      <th>SENADOR</th>\n",
              "      <th>TIPO_DESPESA</th>\n",
              "      <th>CNPJ_CPF</th>\n",
              "      <th>FORNECEDOR</th>\n",
              "      <th>DOCUMENTO</th>\n",
              "      <th>DATA</th>\n",
              "      <th>DETALHAMENTO</th>\n",
              "      <th>VALOR_REEMBOLSADO</th>\n",
              "      <th>COD_DOCUMENTO</th>\n",
              "    </tr>\n",
              "  </thead>\n",
              "  <tbody>\n",
              "    <tr>\n",
              "      <th>1523</th>\n",
              "      <td>2021</td>\n",
              "      <td>2</td>\n",
              "      <td>MARCIO BITTAR</td>\n",
              "      <td>Contratação de consultorias, assessorias, pesq...</td>\n",
              "      <td>02.456.658/0001-38</td>\n",
              "      <td>IDÉIAS ESTRATÉGIA, PLANEJAMENTO E PROJETO LTDA</td>\n",
              "      <td>110</td>\n",
              "      <td>12/02/2021</td>\n",
              "      <td>Valor pago referente ao serviço de consultoria...</td>\n",
              "      <td>35000.0</td>\n",
              "      <td>2155543</td>\n",
              "    </tr>\n",
              "    <tr>\n",
              "      <th>1528</th>\n",
              "      <td>2021</td>\n",
              "      <td>3</td>\n",
              "      <td>MARCIO BITTAR</td>\n",
              "      <td>Contratação de consultorias, assessorias, pesq...</td>\n",
              "      <td>02.456.658/0001-38</td>\n",
              "      <td>IDÉIAS ESTRATÉGIA, PLANEJAMENTO E PROJETO LTDA</td>\n",
              "      <td>111</td>\n",
              "      <td>09/03/2021</td>\n",
              "      <td>Valor pago referente ao serviço de consultoria...</td>\n",
              "      <td>35000.0</td>\n",
              "      <td>2156722</td>\n",
              "    </tr>\n",
              "    <tr>\n",
              "      <th>1646</th>\n",
              "      <td>2021</td>\n",
              "      <td>3</td>\n",
              "      <td>NELSINHO TRAD</td>\n",
              "      <td>Contratação de consultorias, assessorias, pesq...</td>\n",
              "      <td>37.195.146/0001-40</td>\n",
              "      <td>Home Mix Produção e Assessoria em Radiodifusão...</td>\n",
              "      <td>00007115</td>\n",
              "      <td>23/03/2021</td>\n",
              "      <td>Referente ao serviço de prestação de serviços ...</td>\n",
              "      <td>30000.0</td>\n",
              "      <td>2157349</td>\n",
              "    </tr>\n",
              "    <tr>\n",
              "      <th>490</th>\n",
              "      <td>2021</td>\n",
              "      <td>1</td>\n",
              "      <td>EDUARDO BRAGA</td>\n",
              "      <td>Contratação de consultorias, assessorias, pesq...</td>\n",
              "      <td>33.055.400/0001-53</td>\n",
              "      <td>L COELHO SERRA</td>\n",
              "      <td>21</td>\n",
              "      <td>05/01/2021</td>\n",
              "      <td>NaN</td>\n",
              "      <td>25000.0</td>\n",
              "      <td>2154681</td>\n",
              "    </tr>\n",
              "    <tr>\n",
              "      <th>491</th>\n",
              "      <td>2021</td>\n",
              "      <td>2</td>\n",
              "      <td>EDUARDO BRAGA</td>\n",
              "      <td>Contratação de consultorias, assessorias, pesq...</td>\n",
              "      <td>33.055.400/0001-53</td>\n",
              "      <td>L COELHO SERRA</td>\n",
              "      <td>24</td>\n",
              "      <td>03/02/2021</td>\n",
              "      <td>NaN</td>\n",
              "      <td>25000.0</td>\n",
              "      <td>2155075</td>\n",
              "    </tr>\n",
              "  </tbody>\n",
              "</table>\n",
              "</div>"
            ],
            "text/plain": [
              "       ANO  MES  ... VALOR_REEMBOLSADO COD_DOCUMENTO\n",
              "1523  2021    2  ...           35000.0       2155543\n",
              "1528  2021    3  ...           35000.0       2156722\n",
              "1646  2021    3  ...           30000.0       2157349\n",
              "490   2021    1  ...           25000.0       2154681\n",
              "491   2021    2  ...           25000.0       2155075\n",
              "\n",
              "[5 rows x 11 columns]"
            ]
          },
          "metadata": {
            "tags": []
          },
          "execution_count": 22
        }
      ]
    },
    {
      "cell_type": "code",
      "metadata": {
        "colab": {
          "base_uri": "https://localhost:8080/",
          "height": 425
        },
        "id": "0P91EpvCQU4r",
        "outputId": "a3519bca-3097-427e-80b3-63c19d125e5c"
      },
      "source": [
        "# Quais os 5 menored valores valores de reembolso?\n",
        "df.nsmallest(5, 'VALOR_REEMBOLSADO')"
      ],
      "execution_count": 23,
      "outputs": [
        {
          "output_type": "execute_result",
          "data": {
            "text/html": [
              "<div>\n",
              "<style scoped>\n",
              "    .dataframe tbody tr th:only-of-type {\n",
              "        vertical-align: middle;\n",
              "    }\n",
              "\n",
              "    .dataframe tbody tr th {\n",
              "        vertical-align: top;\n",
              "    }\n",
              "\n",
              "    .dataframe thead th {\n",
              "        text-align: right;\n",
              "    }\n",
              "</style>\n",
              "<table border=\"1\" class=\"dataframe\">\n",
              "  <thead>\n",
              "    <tr style=\"text-align: right;\">\n",
              "      <th></th>\n",
              "      <th>ANO</th>\n",
              "      <th>MES</th>\n",
              "      <th>SENADOR</th>\n",
              "      <th>TIPO_DESPESA</th>\n",
              "      <th>CNPJ_CPF</th>\n",
              "      <th>FORNECEDOR</th>\n",
              "      <th>DOCUMENTO</th>\n",
              "      <th>DATA</th>\n",
              "      <th>DETALHAMENTO</th>\n",
              "      <th>VALOR_REEMBOLSADO</th>\n",
              "      <th>COD_DOCUMENTO</th>\n",
              "    </tr>\n",
              "  </thead>\n",
              "  <tbody>\n",
              "    <tr>\n",
              "      <th>2158</th>\n",
              "      <td>2021</td>\n",
              "      <td>1</td>\n",
              "      <td>VANDERLAN CARDOSO</td>\n",
              "      <td>Aluguel de imóveis para escritório político, c...</td>\n",
              "      <td>40.432.544/0436-28</td>\n",
              "      <td>NET CLARO S.A</td>\n",
              "      <td>NaN</td>\n",
              "      <td>10/01/2021</td>\n",
              "      <td>NaN</td>\n",
              "      <td>0.02</td>\n",
              "      <td>2157108</td>\n",
              "    </tr>\n",
              "    <tr>\n",
              "      <th>666</th>\n",
              "      <td>2021</td>\n",
              "      <td>1</td>\n",
              "      <td>FABIANO CONTARATO</td>\n",
              "      <td>Contratação de consultorias, assessorias, pesq...</td>\n",
              "      <td>28.133.619/0001-93</td>\n",
              "      <td>S/A A GAZETA</td>\n",
              "      <td>0073489</td>\n",
              "      <td>06/01/2021</td>\n",
              "      <td>ASSINATURA A GAZETA.</td>\n",
              "      <td>4.99</td>\n",
              "      <td>2155374</td>\n",
              "    </tr>\n",
              "    <tr>\n",
              "      <th>227</th>\n",
              "      <td>2021</td>\n",
              "      <td>1</td>\n",
              "      <td>CARLOS VIANA</td>\n",
              "      <td>Locomoção, hospedagem, alimentação, combustíve...</td>\n",
              "      <td>17.895.646/0001-87</td>\n",
              "      <td>UBER DO BRASIL TECNOLOGIA LTDA</td>\n",
              "      <td>NaN</td>\n",
              "      <td>31/01/2021</td>\n",
              "      <td>NaN</td>\n",
              "      <td>5.17</td>\n",
              "      <td>2155660</td>\n",
              "    </tr>\n",
              "    <tr>\n",
              "      <th>682</th>\n",
              "      <td>2021</td>\n",
              "      <td>1</td>\n",
              "      <td>FABIANO CONTARATO</td>\n",
              "      <td>Locomoção, hospedagem, alimentação, combustíve...</td>\n",
              "      <td>17.895.646/0001-87</td>\n",
              "      <td>UBER DO BRASIL TECNOLOGIA LTDA.</td>\n",
              "      <td>NaN</td>\n",
              "      <td>19/01/2021</td>\n",
              "      <td>Despesa com serviço de transporte privado medi...</td>\n",
              "      <td>6.03</td>\n",
              "      <td>2155265</td>\n",
              "    </tr>\n",
              "    <tr>\n",
              "      <th>675</th>\n",
              "      <td>2021</td>\n",
              "      <td>1</td>\n",
              "      <td>FABIANO CONTARATO</td>\n",
              "      <td>Locomoção, hospedagem, alimentação, combustíve...</td>\n",
              "      <td>17.895.646/0001-87</td>\n",
              "      <td>UBER DO BRASIL TECNOLOGIA LTDA.</td>\n",
              "      <td>NaN</td>\n",
              "      <td>08/01/2021</td>\n",
              "      <td>Despesa com serviço de transporte privado medi...</td>\n",
              "      <td>6.48</td>\n",
              "      <td>2155257</td>\n",
              "    </tr>\n",
              "  </tbody>\n",
              "</table>\n",
              "</div>"
            ],
            "text/plain": [
              "       ANO  MES  ... VALOR_REEMBOLSADO COD_DOCUMENTO\n",
              "2158  2021    1  ...              0.02       2157108\n",
              "666   2021    1  ...              4.99       2155374\n",
              "227   2021    1  ...              5.17       2155660\n",
              "682   2021    1  ...              6.03       2155265\n",
              "675   2021    1  ...              6.48       2155257\n",
              "\n",
              "[5 rows x 11 columns]"
            ]
          },
          "metadata": {
            "tags": []
          },
          "execution_count": 23
        }
      ]
    },
    {
      "cell_type": "code",
      "metadata": {
        "id": "JG-Pu-OgPbQe"
      },
      "source": [
        ""
      ],
      "execution_count": null,
      "outputs": []
    },
    {
      "cell_type": "code",
      "metadata": {
        "id": "5aywRhaAEN4n",
        "colab": {
          "base_uri": "https://localhost:8080/"
        },
        "outputId": "a0859cd6-7834-42d5-8793-275399403432"
      },
      "source": [
        "df.info()"
      ],
      "execution_count": 5,
      "outputs": [
        {
          "output_type": "stream",
          "text": [
            "<class 'pandas.core.frame.DataFrame'>\n",
            "RangeIndex: 2328 entries, 0 to 2327\n",
            "Data columns (total 11 columns):\n",
            " #   Column             Non-Null Count  Dtype  \n",
            "---  ------             --------------  -----  \n",
            " 0   ANO                2328 non-null   int64  \n",
            " 1   MES                2328 non-null   int64  \n",
            " 2   SENADOR            2328 non-null   object \n",
            " 3   TIPO_DESPESA       2328 non-null   object \n",
            " 4   CNPJ_CPF           2328 non-null   object \n",
            " 5   FORNECEDOR         2328 non-null   object \n",
            " 6   DOCUMENTO          2209 non-null   object \n",
            " 7   DATA               2328 non-null   object \n",
            " 8   DETALHAMENTO       1171 non-null   object \n",
            " 9   VALOR_REEMBOLSADO  2328 non-null   float64\n",
            " 10  COD_DOCUMENTO      2328 non-null   int64  \n",
            "dtypes: float64(1), int64(3), object(7)\n",
            "memory usage: 200.2+ KB\n"
          ],
          "name": "stdout"
        }
      ]
    },
    {
      "cell_type": "code",
      "metadata": {
        "colab": {
          "base_uri": "https://localhost:8080/",
          "height": 297
        },
        "id": "PMJrg_YYHzEH",
        "outputId": "3f2abe71-d00b-4fcb-b2ee-ba3edb7f265e"
      },
      "source": [
        "df.describe()\n"
      ],
      "execution_count": 6,
      "outputs": [
        {
          "output_type": "execute_result",
          "data": {
            "text/html": [
              "<div>\n",
              "<style scoped>\n",
              "    .dataframe tbody tr th:only-of-type {\n",
              "        vertical-align: middle;\n",
              "    }\n",
              "\n",
              "    .dataframe tbody tr th {\n",
              "        vertical-align: top;\n",
              "    }\n",
              "\n",
              "    .dataframe thead th {\n",
              "        text-align: right;\n",
              "    }\n",
              "</style>\n",
              "<table border=\"1\" class=\"dataframe\">\n",
              "  <thead>\n",
              "    <tr style=\"text-align: right;\">\n",
              "      <th></th>\n",
              "      <th>ANO</th>\n",
              "      <th>MES</th>\n",
              "      <th>VALOR_REEMBOLSADO</th>\n",
              "      <th>COD_DOCUMENTO</th>\n",
              "    </tr>\n",
              "  </thead>\n",
              "  <tbody>\n",
              "    <tr>\n",
              "      <th>count</th>\n",
              "      <td>2328.0</td>\n",
              "      <td>2328.000000</td>\n",
              "      <td>2328.000000</td>\n",
              "      <td>2.328000e+03</td>\n",
              "    </tr>\n",
              "    <tr>\n",
              "      <th>mean</th>\n",
              "      <td>2021.0</td>\n",
              "      <td>1.753007</td>\n",
              "      <td>1501.106491</td>\n",
              "      <td>2.155868e+06</td>\n",
              "    </tr>\n",
              "    <tr>\n",
              "      <th>std</th>\n",
              "      <td>0.0</td>\n",
              "      <td>0.707556</td>\n",
              "      <td>2846.116613</td>\n",
              "      <td>9.086718e+02</td>\n",
              "    </tr>\n",
              "    <tr>\n",
              "      <th>min</th>\n",
              "      <td>2021.0</td>\n",
              "      <td>1.000000</td>\n",
              "      <td>0.020000</td>\n",
              "      <td>2.154172e+06</td>\n",
              "    </tr>\n",
              "    <tr>\n",
              "      <th>25%</th>\n",
              "      <td>2021.0</td>\n",
              "      <td>1.000000</td>\n",
              "      <td>180.000000</td>\n",
              "      <td>2.155128e+06</td>\n",
              "    </tr>\n",
              "    <tr>\n",
              "      <th>50%</th>\n",
              "      <td>2021.0</td>\n",
              "      <td>2.000000</td>\n",
              "      <td>515.940000</td>\n",
              "      <td>2.155916e+06</td>\n",
              "    </tr>\n",
              "    <tr>\n",
              "      <th>75%</th>\n",
              "      <td>2021.0</td>\n",
              "      <td>2.000000</td>\n",
              "      <td>1665.070000</td>\n",
              "      <td>2.156605e+06</td>\n",
              "    </tr>\n",
              "    <tr>\n",
              "      <th>max</th>\n",
              "      <td>2021.0</td>\n",
              "      <td>3.000000</td>\n",
              "      <td>35000.000000</td>\n",
              "      <td>2.157603e+06</td>\n",
              "    </tr>\n",
              "  </tbody>\n",
              "</table>\n",
              "</div>"
            ],
            "text/plain": [
              "          ANO          MES  VALOR_REEMBOLSADO  COD_DOCUMENTO\n",
              "count  2328.0  2328.000000        2328.000000   2.328000e+03\n",
              "mean   2021.0     1.753007        1501.106491   2.155868e+06\n",
              "std       0.0     0.707556        2846.116613   9.086718e+02\n",
              "min    2021.0     1.000000           0.020000   2.154172e+06\n",
              "25%    2021.0     1.000000         180.000000   2.155128e+06\n",
              "50%    2021.0     2.000000         515.940000   2.155916e+06\n",
              "75%    2021.0     2.000000        1665.070000   2.156605e+06\n",
              "max    2021.0     3.000000       35000.000000   2.157603e+06"
            ]
          },
          "metadata": {
            "tags": []
          },
          "execution_count": 6
        }
      ]
    },
    {
      "cell_type": "code",
      "metadata": {
        "colab": {
          "base_uri": "https://localhost:8080/"
        },
        "id": "S11c831CEN7w",
        "outputId": "cefa25fb-9634-46d6-d733-aef293866bc7"
      },
      "source": [
        "df.shape\n"
      ],
      "execution_count": 8,
      "outputs": [
        {
          "output_type": "execute_result",
          "data": {
            "text/plain": [
              "(2328, 11)"
            ]
          },
          "metadata": {
            "tags": []
          },
          "execution_count": 8
        }
      ]
    },
    {
      "cell_type": "code",
      "metadata": {
        "colab": {
          "base_uri": "https://localhost:8080/"
        },
        "id": "XskHIbAzENCh",
        "outputId": "669d8176-eb02-4faa-8c99-9708bbfc9f31"
      },
      "source": [
        "df.isnull().sum()"
      ],
      "execution_count": 9,
      "outputs": [
        {
          "output_type": "execute_result",
          "data": {
            "text/plain": [
              "ANO                     0\n",
              "MES                     0\n",
              "SENADOR                 0\n",
              "TIPO_DESPESA            0\n",
              "CNPJ_CPF                0\n",
              "FORNECEDOR              0\n",
              "DOCUMENTO             119\n",
              "DATA                    0\n",
              "DETALHAMENTO         1157\n",
              "VALOR_REEMBOLSADO       0\n",
              "COD_DOCUMENTO           0\n",
              "dtype: int64"
            ]
          },
          "metadata": {
            "tags": []
          },
          "execution_count": 9
        }
      ]
    },
    {
      "cell_type": "code",
      "metadata": {
        "colab": {
          "base_uri": "https://localhost:8080/"
        },
        "id": "dKteiskxENJF",
        "outputId": "3da3a493-038c-4be9-b614-be23c5229bf9"
      },
      "source": [
        "df.isnull().sum().sum()\n"
      ],
      "execution_count": 10,
      "outputs": [
        {
          "output_type": "execute_result",
          "data": {
            "text/plain": [
              "1276"
            ]
          },
          "metadata": {
            "tags": []
          },
          "execution_count": 10
        }
      ]
    }
  ]
}