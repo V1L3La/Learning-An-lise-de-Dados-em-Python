{
  "nbformat": 4,
  "nbformat_minor": 0,
  "metadata": {
    "colab": {
      "name": "Cotas_para_Senadores_Análise_de_Dados_em_Python_Aula_01.ipynb",
      "provenance": [],
      "authorship_tag": "ABX9TyNdEM5xQGE3QOFeGBxFa89p",
      "include_colab_link": true
    },
    "kernelspec": {
      "name": "python3",
      "display_name": "Python 3"
    },
    "language_info": {
      "name": "python"
    }
  },
  "cells": [
    {
      "cell_type": "markdown",
      "metadata": {
        "id": "view-in-github",
        "colab_type": "text"
      },
      "source": [
        "<a href=\"https://colab.research.google.com/github/V1L3La/Learning-An-lise-de-Dados-em-Python/blob/main/Cotas_para_Senadores_An%C3%A1lise_de_Dados_em_Python_Aula_01.ipynb\" target=\"_parent\"><img src=\"https://colab.research.google.com/assets/colab-badge.svg\" alt=\"Open In Colab\"/></a>"
      ]
    },
    {
      "cell_type": "markdown",
      "metadata": {
        "id": "L93lPFnZ2-hc"
      },
      "source": [
        "#**Analise dos dados de Cotas para Exercício da Atividade Parlamentar dos Senadores**\n",
        "\n",
        "Aula 3  (stop 35' 50)\n",
        "https://youtu.be/zpNtiJsJ7KY\n",
        "\n",
        "Dados Abertos senado federal:<br>\n",
        "https://www12.senado.leg.br/dados-abertos<br>\n",
        "https://www12.senado.leg.br/dados-abertos<br>\n",
        "\n",
        "Curso Markdown<br>\n",
        "http://cursos.leg.ufpr.br/prr/capMarkdown.html<br>\n",
        "\n",
        "--------------------------------------------------\n",
        ">Explorando os dados \n",
        "\n",
        "- pd.read Tratar o dataframe\n",
        "\n",
        "- df.info()<br>\n",
        "- df.shape    # verifica o tamanho do dataframe   (linhas, colunas)<br>\n",
        "- df.count()<br>\n",
        "- df.describe()<br>\n",
        "- df.dtypes tipo de cada coluna <br><br>\n",
        "\n",
        "- df.head(4)<br>\n",
        "- df.sample(10)   #lista linhas aleatórias<br>\n",
        "- df.tail()<br>\n",
        "- df.isnull().sum() retorna o número de valores ausentes para cada coluna.<br>\n",
        "- df.isnull().sum().sum() retorna o número total de valores ausentes.<br>\n",
        "- df.isna().mean() descobre a porcentagem de valores que estão faltando, executando: <br><br>\n",
        "\n",
        "- df.nsmallest(7, 'mensalidade')    7 menores valores mensalidades<br>\n",
        "- df.nlargest(5, 'mensalidade')  5 maiores valores mensalidades<br><br>\n",
        "\n",
        "- help(pd.Series.loc) pedindo ajuda\n",
        "\n",
        "----------------------------------------------------\n",
        ">Transformar tipos\n",
        "\n",
        "\n"
      ]
    },
    {
      "cell_type": "code",
      "metadata": {
        "colab": {
          "base_uri": "https://localhost:8080/",
          "height": 776
        },
        "id": "EKaIIXogEqU7",
        "outputId": "69d54e1f-083b-4eb9-fedb-0ac240377535"
      },
      "source": [
        "import pandas as pd\n",
        "df = pd.read_csv('https://raw.githubusercontent.com/V1L3La/Learning-An-lise-de-Dados-em-Python/main/despesa_ceaps_2021.csv', sep=';', encoding = 'latin1', skiprows=1)  \n",
        "df"
      ],
      "execution_count": 8,
      "outputs": [
        {
          "output_type": "execute_result",
          "data": {
            "text/html": [
              "<div>\n",
              "<style scoped>\n",
              "    .dataframe tbody tr th:only-of-type {\n",
              "        vertical-align: middle;\n",
              "    }\n",
              "\n",
              "    .dataframe tbody tr th {\n",
              "        vertical-align: top;\n",
              "    }\n",
              "\n",
              "    .dataframe thead th {\n",
              "        text-align: right;\n",
              "    }\n",
              "</style>\n",
              "<table border=\"1\" class=\"dataframe\">\n",
              "  <thead>\n",
              "    <tr style=\"text-align: right;\">\n",
              "      <th></th>\n",
              "      <th>ANO</th>\n",
              "      <th>MES</th>\n",
              "      <th>SENADOR</th>\n",
              "      <th>TIPO_DESPESA</th>\n",
              "      <th>CNPJ_CPF</th>\n",
              "      <th>FORNECEDOR</th>\n",
              "      <th>DOCUMENTO</th>\n",
              "      <th>DATA</th>\n",
              "      <th>DETALHAMENTO</th>\n",
              "      <th>VALOR_REEMBOLSADO</th>\n",
              "      <th>COD_DOCUMENTO</th>\n",
              "    </tr>\n",
              "  </thead>\n",
              "  <tbody>\n",
              "    <tr>\n",
              "      <th>0</th>\n",
              "      <td>2021</td>\n",
              "      <td>1</td>\n",
              "      <td>ACIR GURGACZ</td>\n",
              "      <td>Aluguel de imóveis para escritório político, c...</td>\n",
              "      <td>062.135.728-64</td>\n",
              "      <td>FERNANDO WALDEIR PACINI e ANA LUCIA DA SILVA S...</td>\n",
              "      <td>01/2021</td>\n",
              "      <td>05/01/2021</td>\n",
              "      <td>Despesa com pagamento de aluguel de imóvel par...</td>\n",
              "      <td>1000</td>\n",
              "      <td>2157367</td>\n",
              "    </tr>\n",
              "    <tr>\n",
              "      <th>1</th>\n",
              "      <td>2021</td>\n",
              "      <td>1</td>\n",
              "      <td>ACIR GURGACZ</td>\n",
              "      <td>Aluguel de imóveis para escritório político, c...</td>\n",
              "      <td>004.948.028-63</td>\n",
              "      <td>GILBERTO PISELO DO NASCIMENTO</td>\n",
              "      <td>001/21</td>\n",
              "      <td>06/01/2021</td>\n",
              "      <td>Despesa com aluguel de imóvel para uso do escr...</td>\n",
              "      <td>6000</td>\n",
              "      <td>2156383</td>\n",
              "    </tr>\n",
              "    <tr>\n",
              "      <th>2</th>\n",
              "      <td>2021</td>\n",
              "      <td>1</td>\n",
              "      <td>ACIR GURGACZ</td>\n",
              "      <td>Divulgação da atividade parlamentar</td>\n",
              "      <td>26.320.603/0001-64</td>\n",
              "      <td>INFORMANAHORA</td>\n",
              "      <td>10</td>\n",
              "      <td>25/01/2021</td>\n",
              "      <td>Divulgação da atividade parlamentar</td>\n",
              "      <td>1500</td>\n",
              "      <td>2154509</td>\n",
              "    </tr>\n",
              "    <tr>\n",
              "      <th>3</th>\n",
              "      <td>2021</td>\n",
              "      <td>1</td>\n",
              "      <td>ACIR GURGACZ</td>\n",
              "      <td>Divulgação da atividade parlamentar</td>\n",
              "      <td>13.659.201/0001-47</td>\n",
              "      <td>LINHA PURPURA FOTO E VIDEO LTDA</td>\n",
              "      <td>44</td>\n",
              "      <td>07/01/2021</td>\n",
              "      <td>Divulgação da atividade parlamentar</td>\n",
              "      <td>6000</td>\n",
              "      <td>2154507</td>\n",
              "    </tr>\n",
              "    <tr>\n",
              "      <th>4</th>\n",
              "      <td>2021</td>\n",
              "      <td>1</td>\n",
              "      <td>ACIR GURGACZ</td>\n",
              "      <td>Passagens aéreas, aquáticas e terrestres nacio...</td>\n",
              "      <td>17.872.428/0001-27</td>\n",
              "      <td>AMERICA VIAGENS E TURISMO LTDA - ME</td>\n",
              "      <td>VVEWKR</td>\n",
              "      <td>21/01/2021</td>\n",
              "      <td>Companhia Aérea: LATAM, Localizador: VVEWKR. P...</td>\n",
              "      <td>1486,46</td>\n",
              "      <td>2154508</td>\n",
              "    </tr>\n",
              "    <tr>\n",
              "      <th>...</th>\n",
              "      <td>...</td>\n",
              "      <td>...</td>\n",
              "      <td>...</td>\n",
              "      <td>...</td>\n",
              "      <td>...</td>\n",
              "      <td>...</td>\n",
              "      <td>...</td>\n",
              "      <td>...</td>\n",
              "      <td>...</td>\n",
              "      <td>...</td>\n",
              "      <td>...</td>\n",
              "    </tr>\n",
              "    <tr>\n",
              "      <th>2323</th>\n",
              "      <td>2021</td>\n",
              "      <td>3</td>\n",
              "      <td>ZEQUINHA MARINHO</td>\n",
              "      <td>Passagens aéreas, aquáticas e terrestres nacio...</td>\n",
              "      <td>22.052.777/0001-32</td>\n",
              "      <td>Exceller Tour</td>\n",
              "      <td>TG16KM</td>\n",
              "      <td>04/03/2021</td>\n",
              "      <td>Companhia Aérea: AZUL, Localizador: TG16KM. Pa...</td>\n",
              "      <td>1530,74</td>\n",
              "      <td>2156768</td>\n",
              "    </tr>\n",
              "    <tr>\n",
              "      <th>2324</th>\n",
              "      <td>2021</td>\n",
              "      <td>3</td>\n",
              "      <td>ZEQUINHA MARINHO</td>\n",
              "      <td>Passagens aéreas, aquáticas e terrestres nacio...</td>\n",
              "      <td>22.052.777/0001-32</td>\n",
              "      <td>Exceller Tour</td>\n",
              "      <td>CHUZXT</td>\n",
              "      <td>05/03/2021</td>\n",
              "      <td>Companhia Aérea: AZUL, Localizador: CHUZXT. Pa...</td>\n",
              "      <td>1140,11</td>\n",
              "      <td>2156764</td>\n",
              "    </tr>\n",
              "    <tr>\n",
              "      <th>2325</th>\n",
              "      <td>2021</td>\n",
              "      <td>3</td>\n",
              "      <td>ZEQUINHA MARINHO</td>\n",
              "      <td>Passagens aéreas, aquáticas e terrestres nacio...</td>\n",
              "      <td>22.052.777/0001-32</td>\n",
              "      <td>Exceller Tour</td>\n",
              "      <td>ZSHRSH</td>\n",
              "      <td>05/03/2021</td>\n",
              "      <td>Companhia Aérea: LATAM, Localizador: ZSHRSH. P...</td>\n",
              "      <td>1663,09</td>\n",
              "      <td>2156762</td>\n",
              "    </tr>\n",
              "    <tr>\n",
              "      <th>2326</th>\n",
              "      <td>2021</td>\n",
              "      <td>3</td>\n",
              "      <td>ZEQUINHA MARINHO</td>\n",
              "      <td>Passagens aéreas, aquáticas e terrestres nacio...</td>\n",
              "      <td>22.052.777/0001-32</td>\n",
              "      <td>Exceller Tour</td>\n",
              "      <td>UKNBHC</td>\n",
              "      <td>10/03/2021</td>\n",
              "      <td>Companhia Aérea: GOL, Localizador: UKNBHC. Pas...</td>\n",
              "      <td>1302,22</td>\n",
              "      <td>2156848</td>\n",
              "    </tr>\n",
              "    <tr>\n",
              "      <th>2327</th>\n",
              "      <td>2021</td>\n",
              "      <td>3</td>\n",
              "      <td>ZEQUINHA MARINHO</td>\n",
              "      <td>Passagens aéreas, aquáticas e terrestres nacio...</td>\n",
              "      <td>22.052.777/0001-32</td>\n",
              "      <td>Exceller Tour</td>\n",
              "      <td>BNRDID</td>\n",
              "      <td>10/03/2021</td>\n",
              "      <td>Companhia Aérea: LATAM, Localizador: BNRDID. P...</td>\n",
              "      <td>1858,6</td>\n",
              "      <td>2156849</td>\n",
              "    </tr>\n",
              "  </tbody>\n",
              "</table>\n",
              "<p>2328 rows × 11 columns</p>\n",
              "</div>"
            ],
            "text/plain": [
              "       ANO  MES  ... VALOR_REEMBOLSADO COD_DOCUMENTO\n",
              "0     2021    1  ...              1000       2157367\n",
              "1     2021    1  ...              6000       2156383\n",
              "2     2021    1  ...              1500       2154509\n",
              "3     2021    1  ...              6000       2154507\n",
              "4     2021    1  ...           1486,46       2154508\n",
              "...    ...  ...  ...               ...           ...\n",
              "2323  2021    3  ...           1530,74       2156768\n",
              "2324  2021    3  ...           1140,11       2156764\n",
              "2325  2021    3  ...           1663,09       2156762\n",
              "2326  2021    3  ...           1302,22       2156848\n",
              "2327  2021    3  ...            1858,6       2156849\n",
              "\n",
              "[2328 rows x 11 columns]"
            ]
          },
          "metadata": {
            "tags": []
          },
          "execution_count": 8
        }
      ]
    },
    {
      "cell_type": "code",
      "metadata": {
        "colab": {
          "base_uri": "https://localhost:8080/"
        },
        "id": "S11c831CEN7w",
        "outputId": "f8e2ccc7-ee5a-4ece-9f40-dbb6183e511b"
      },
      "source": [
        "df.shape\n"
      ],
      "execution_count": 9,
      "outputs": [
        {
          "output_type": "execute_result",
          "data": {
            "text/plain": [
              "(2328, 11)"
            ]
          },
          "metadata": {
            "tags": []
          },
          "execution_count": 9
        }
      ]
    },
    {
      "cell_type": "code",
      "metadata": {
        "id": "5aywRhaAEN4n"
      },
      "source": [
        "df.info()"
      ],
      "execution_count": null,
      "outputs": []
    },
    {
      "cell_type": "code",
      "metadata": {
        "colab": {
          "base_uri": "https://localhost:8080/"
        },
        "id": "XskHIbAzENCh",
        "outputId": "f7c6bd78-5953-4b81-e024-b05a8715cf9e"
      },
      "source": [
        "df.isnull().sum()"
      ],
      "execution_count": 11,
      "outputs": [
        {
          "output_type": "execute_result",
          "data": {
            "text/plain": [
              "ANO                     0\n",
              "MES                     0\n",
              "SENADOR                 0\n",
              "TIPO_DESPESA            0\n",
              "CNPJ_CPF                0\n",
              "FORNECEDOR              0\n",
              "DOCUMENTO             119\n",
              "DATA                    0\n",
              "DETALHAMENTO         1157\n",
              "VALOR_REEMBOLSADO       0\n",
              "COD_DOCUMENTO           0\n",
              "dtype: int64"
            ]
          },
          "metadata": {
            "tags": []
          },
          "execution_count": 11
        }
      ]
    },
    {
      "cell_type": "code",
      "metadata": {
        "colab": {
          "base_uri": "https://localhost:8080/"
        },
        "id": "dKteiskxENJF",
        "outputId": "5f718b33-56ea-4ebd-e6d4-489afcdb7c4e"
      },
      "source": [
        "df.isnull().sum().sum()\n"
      ],
      "execution_count": 12,
      "outputs": [
        {
          "output_type": "execute_result",
          "data": {
            "text/plain": [
              "1276"
            ]
          },
          "metadata": {
            "tags": []
          },
          "execution_count": 12
        }
      ]
    },
    {
      "cell_type": "code",
      "metadata": {
        "colab": {
          "base_uri": "https://localhost:8080/",
          "height": 456
        },
        "id": "SQYnqExPNH9_",
        "outputId": "6aca4f0e-d2d0-454c-aa45-87efb18af235"
      },
      "source": [
        "df.sample(6)"
      ],
      "execution_count": 19,
      "outputs": [
        {
          "output_type": "execute_result",
          "data": {
            "text/html": [
              "<div>\n",
              "<style scoped>\n",
              "    .dataframe tbody tr th:only-of-type {\n",
              "        vertical-align: middle;\n",
              "    }\n",
              "\n",
              "    .dataframe tbody tr th {\n",
              "        vertical-align: top;\n",
              "    }\n",
              "\n",
              "    .dataframe thead th {\n",
              "        text-align: right;\n",
              "    }\n",
              "</style>\n",
              "<table border=\"1\" class=\"dataframe\">\n",
              "  <thead>\n",
              "    <tr style=\"text-align: right;\">\n",
              "      <th></th>\n",
              "      <th>ANO</th>\n",
              "      <th>MES</th>\n",
              "      <th>SENADOR</th>\n",
              "      <th>TIPO_DESPESA</th>\n",
              "      <th>CNPJ_CPF</th>\n",
              "      <th>FORNECEDOR</th>\n",
              "      <th>DOCUMENTO</th>\n",
              "      <th>DATA</th>\n",
              "      <th>DETALHAMENTO</th>\n",
              "      <th>VALOR_REEMBOLSADO</th>\n",
              "      <th>COD_DOCUMENTO</th>\n",
              "    </tr>\n",
              "  </thead>\n",
              "  <tbody>\n",
              "    <tr>\n",
              "      <th>637</th>\n",
              "      <td>2021</td>\n",
              "      <td>2</td>\n",
              "      <td>ESPERIDIÃO AMIN</td>\n",
              "      <td>Aquisição de material de consumo para uso no e...</td>\n",
              "      <td>02.351.877/0001-52</td>\n",
              "      <td>LOCAWEB SERVICOS DE INTERNET S</td>\n",
              "      <td>04102881</td>\n",
              "      <td>22/01/2021</td>\n",
              "      <td>NaN</td>\n",
              "      <td>118,75</td>\n",
              "      <td>2156239</td>\n",
              "    </tr>\n",
              "    <tr>\n",
              "      <th>149</th>\n",
              "      <td>2021</td>\n",
              "      <td>2</td>\n",
              "      <td>CARLOS FÁVARO</td>\n",
              "      <td>Aquisição de material de consumo para uso no e...</td>\n",
              "      <td>25.982.667/0001-68</td>\n",
              "      <td>DISTRIBUIDORA O CUIABANO ÁGUAS E GÁS</td>\n",
              "      <td>NaN</td>\n",
              "      <td>20/02/2021</td>\n",
              "      <td>NaN</td>\n",
              "      <td>100</td>\n",
              "      <td>2157384</td>\n",
              "    </tr>\n",
              "    <tr>\n",
              "      <th>798</th>\n",
              "      <td>2021</td>\n",
              "      <td>2</td>\n",
              "      <td>FLÁVIO ARNS</td>\n",
              "      <td>Aquisição de material de consumo para uso no e...</td>\n",
              "      <td>76.189.406/0029-27</td>\n",
              "      <td>CONDOR SUPER CENTER LTDA.</td>\n",
              "      <td>000362506</td>\n",
              "      <td>01/02/2021</td>\n",
              "      <td>NaN</td>\n",
              "      <td>20,97</td>\n",
              "      <td>2155332</td>\n",
              "    </tr>\n",
              "    <tr>\n",
              "      <th>1156</th>\n",
              "      <td>2021</td>\n",
              "      <td>2</td>\n",
              "      <td>JOSÉ SERRA</td>\n",
              "      <td>Passagens aéreas, aquáticas e terrestres nacio...</td>\n",
              "      <td>16.978.175/0001-08</td>\n",
              "      <td>Adria Viagens e Turismo LTDA</td>\n",
              "      <td>ELVCUZ</td>\n",
              "      <td>01/02/2021</td>\n",
              "      <td>Companhia Aérea: GOL, Localizador: ELVCUZ. Pas...</td>\n",
              "      <td>2076,44</td>\n",
              "      <td>2156425</td>\n",
              "    </tr>\n",
              "    <tr>\n",
              "      <th>1435</th>\n",
              "      <td>2021</td>\n",
              "      <td>2</td>\n",
              "      <td>MAJOR OLIMPIO</td>\n",
              "      <td>Locomoção, hospedagem, alimentação, combustíve...</td>\n",
              "      <td>01.072.194/0001-01</td>\n",
              "      <td>Linx Posto Rodoserv LT</td>\n",
              "      <td>066846</td>\n",
              "      <td>12/02/2021</td>\n",
              "      <td>NaN</td>\n",
              "      <td>105,73</td>\n",
              "      <td>2156048</td>\n",
              "    </tr>\n",
              "    <tr>\n",
              "      <th>1008</th>\n",
              "      <td>2021</td>\n",
              "      <td>2</td>\n",
              "      <td>JAYME CAMPOS</td>\n",
              "      <td>Aluguel de imóveis para escritório político, c...</td>\n",
              "      <td>24.771.958/0001-44</td>\n",
              "      <td>Condomínio Centro Empresarial Varzea Grande</td>\n",
              "      <td>10000003888</td>\n",
              "      <td>18/01/2021</td>\n",
              "      <td>NaN</td>\n",
              "      <td>653,03</td>\n",
              "      <td>2155931</td>\n",
              "    </tr>\n",
              "  </tbody>\n",
              "</table>\n",
              "</div>"
            ],
            "text/plain": [
              "       ANO  MES  ... VALOR_REEMBOLSADO COD_DOCUMENTO\n",
              "637   2021    2  ...            118,75       2156239\n",
              "149   2021    2  ...               100       2157384\n",
              "798   2021    2  ...             20,97       2155332\n",
              "1156  2021    2  ...           2076,44       2156425\n",
              "1435  2021    2  ...            105,73       2156048\n",
              "1008  2021    2  ...            653,03       2155931\n",
              "\n",
              "[6 rows x 11 columns]"
            ]
          },
          "metadata": {
            "tags": []
          },
          "execution_count": 19
        }
      ]
    }
  ]
}