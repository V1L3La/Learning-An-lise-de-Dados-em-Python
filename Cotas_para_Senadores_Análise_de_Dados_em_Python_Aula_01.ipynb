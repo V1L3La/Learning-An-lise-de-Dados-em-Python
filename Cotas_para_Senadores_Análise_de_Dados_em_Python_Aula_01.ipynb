{
  "nbformat": 4,
  "nbformat_minor": 0,
  "metadata": {
    "colab": {
      "name": "Cotas_para_Senadores_Análise_de_Dados_em_Python_Aula_01.ipynb",
      "provenance": [],
      "authorship_tag": "ABX9TyPe5rHVmxXlUs8A4Z/kbtId",
      "include_colab_link": true
    },
    "kernelspec": {
      "name": "python3",
      "display_name": "Python 3"
    },
    "language_info": {
      "name": "python"
    }
  },
  "cells": [
    {
      "cell_type": "markdown",
      "metadata": {
        "id": "view-in-github",
        "colab_type": "text"
      },
      "source": [
        "<a href=\"https://colab.research.google.com/github/V1L3La/Learning-An-lise-de-Dados-em-Python/blob/main/Cotas_para_Senadores_An%C3%A1lise_de_Dados_em_Python_Aula_01.ipynb\" target=\"_parent\"><img src=\"https://colab.research.google.com/assets/colab-badge.svg\" alt=\"Open In Colab\"/></a>"
      ]
    },
    {
      "cell_type": "markdown",
      "metadata": {
        "id": "L93lPFnZ2-hc"
      },
      "source": [
        "#**Analise dos dados de Cotas para Exercício da Atividade Parlamentar dos Senadores**\n",
        "\n",
        "Aula 3  \n",
        "https://youtu.be/zpNtiJsJ7KY\n",
        "\n",
        "Dados Abertos senqado federal:<br>\n",
        "https://www12.senado.leg.br/dados-abertos<br>\n",
        "https://www12.senado.leg.br/dados-abertos<br>\n",
        "\n",
        "\n",
        "df.info()<br>\n",
        "df.shape    # verifica o tamanho do dataframe   (linhas, colunas)<br>\n",
        "df.count()<br>\n",
        "df.describe()<br>\n",
        "df.dtypes   # tipo de cada coluna <br>\n",
        "\n",
        "df.head(4)<br>\n",
        "df.sample(10)   #lista linhas aleatórias<br>\n",
        "df.tail()<br>\n",
        "df.isnull().sum() retorna o número de valores ausentes para cada coluna.<br>\n",
        "df.isnull().sum().sum() retorna o número total de valores ausentes.<br>\n",
        "df.isna().mean() descobre a porcentagem de valores que estão faltando, executando: <br>\n",
        "\n",
        "df.nsmallest(7, 'mensalidade')    7 menores valores mensalidades<br>\n",
        "df.nlargest(5, 'mensalidade')  5 maiores valores mensalidades<br>\n",
        "\n",
        "<br><br><br><br>\n"
      ]
    },
    {
      "cell_type": "code",
      "metadata": {
        "id": "mBQSVYcQ2BBL"
      },
      "source": [
        ""
      ],
      "execution_count": null,
      "outputs": []
    },
    {
      "cell_type": "markdown",
      "metadata": {
        "id": "7mfTo_8V2Bdn"
      },
      "source": [
        ""
      ]
    }
  ]
}