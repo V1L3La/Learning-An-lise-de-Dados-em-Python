{
  "nbformat": 4,
  "nbformat_minor": 0,
  "metadata": {
    "colab": {
      "name": "Filmes_no_Brasil_2009_2019_Análise_de_Dados_em_Python_Aula_01.ipynb",
      "provenance": [],
      "collapsed_sections": [],
      "authorship_tag": "ABX9TyNEfVqXVng/pUOHzXyr5vpx",
      "include_colab_link": true
    },
    "kernelspec": {
      "name": "python3",
      "display_name": "Python 3"
    },
    "language_info": {
      "name": "python"
    }
  },
  "cells": [
    {
      "cell_type": "markdown",
      "metadata": {
        "id": "view-in-github",
        "colab_type": "text"
      },
      "source": [
        "<a href=\"https://colab.research.google.com/github/V1L3La/Learning-An-lise-de-Dados-em-Python/blob/main/Filmes_no_Brasil_2009_2019_An%C3%A1lise_de_Dados_em_Python_Aula_01.ipynb\" target=\"_parent\"><img src=\"https://colab.research.google.com/assets/colab-badge.svg\" alt=\"Open In Colab\"/></a>"
      ]
    },
    {
      "cell_type": "markdown",
      "metadata": {
        "id": "x4MRRLGmqmML"
      },
      "source": [
        "#### Aumentando meu nível\n",
        "\n",
        "https://www.kaggle.com/joaoavf/introducao-a-analise-de-dados-python-e-pandas\n",
        "\n",
        "https://insightlab.ufc.br/6-truques-do-pandas-para-impulsionar-sua-analise-de-dados/\n",
        "\n"
      ]
    },
    {
      "cell_type": "markdown",
      "metadata": {
        "id": "_TokV1K7RNYo"
      },
      "source": [
        "#Análise de dados de filmes exibidos no Brasil de 2009 a 2019\n",
        "\n",
        "#####Com base nos dados da Ancine (https://oca.ancine.gov.br) vamos analisar os filmes exibidos no Brasil\n",
        "\n",
        "Arquivo -> filmes_no_Brasil_2009_2019.xlsx\n",
        "\n"
      ]
    },
    {
      "cell_type": "code",
      "metadata": {
        "id": "p-8DhtZgRMbg"
      },
      "source": [
        "import pandas as pd\n",
        "%matplotlib inline"
      ],
      "execution_count": 1,
      "outputs": []
    },
    {
      "cell_type": "code",
      "metadata": {
        "colab": {
          "base_uri": "https://localhost:8080/",
          "height": 323
        },
        "id": "qwHj1mgURkdG",
        "outputId": "fe992c2a-248f-46b8-a6b8-364eff20af75"
      },
      "source": [
        "# carrega um dataframe com base no arquivo excel sem as 2 primeiras linhas do titulo e chute as 20 ultimas linhas\n",
        "df = pd.read_excel('https://github.com/V1L3La/Learning-An-lise-de-Dados-em-Python/blob/main/filmes_no_Brasil_2009_2019.xlsx?raw=true', skiprows=2 ,skipfooter=20)\n",
        "df.head()"
      ],
      "execution_count": 2,
      "outputs": [
        {
          "output_type": "execute_result",
          "data": {
            "text/html": [
              "<div>\n",
              "<style scoped>\n",
              "    .dataframe tbody tr th:only-of-type {\n",
              "        vertical-align: middle;\n",
              "    }\n",
              "\n",
              "    .dataframe tbody tr th {\n",
              "        vertical-align: top;\n",
              "    }\n",
              "\n",
              "    .dataframe thead th {\n",
              "        text-align: right;\n",
              "    }\n",
              "</style>\n",
              "<table border=\"1\" class=\"dataframe\">\n",
              "  <thead>\n",
              "    <tr style=\"text-align: right;\">\n",
              "      <th></th>\n",
              "      <th>Ano de exibição</th>\n",
              "      <th>Título da obra</th>\n",
              "      <th>CPB/ROE</th>\n",
              "      <th>Gênero</th>\n",
              "      <th>País(es) produtor(es) da obra</th>\n",
              "      <th>Nacionalidade da obra</th>\n",
              "      <th>Data de lançamento</th>\n",
              "      <th>Empresa distribuidora</th>\n",
              "      <th>Origem da empresa distribuidora</th>\n",
              "      <th>Público no ano de exibição</th>\n",
              "      <th>Renda (R$) no ano de exibição</th>\n",
              "    </tr>\n",
              "  </thead>\n",
              "  <tbody>\n",
              "    <tr>\n",
              "      <th>0</th>\n",
              "      <td>2019</td>\n",
              "      <td>120 Batimentos Por Minuto</td>\n",
              "      <td>E1700453800000</td>\n",
              "      <td>Ficção</td>\n",
              "      <td>França</td>\n",
              "      <td>Estrangeira</td>\n",
              "      <td>43104</td>\n",
              "      <td>Imovision</td>\n",
              "      <td>Distribuição Nacional</td>\n",
              "      <td>10</td>\n",
              "      <td>70</td>\n",
              "    </tr>\n",
              "    <tr>\n",
              "      <th>1</th>\n",
              "      <td>2019</td>\n",
              "      <td>3 Faces</td>\n",
              "      <td>E1800494900000</td>\n",
              "      <td>Ficção</td>\n",
              "      <td>Irã</td>\n",
              "      <td>Estrangeira</td>\n",
              "      <td>43559</td>\n",
              "      <td>Imovision</td>\n",
              "      <td>Distribuição Nacional</td>\n",
              "      <td>6289</td>\n",
              "      <td>103805</td>\n",
              "    </tr>\n",
              "    <tr>\n",
              "      <th>2</th>\n",
              "      <td>2019</td>\n",
              "      <td>45 Dias Sem Você</td>\n",
              "      <td>B1800586000000</td>\n",
              "      <td>Ficção</td>\n",
              "      <td>Brasil</td>\n",
              "      <td>Brasileira</td>\n",
              "      <td>43601</td>\n",
              "      <td>O2 Play</td>\n",
              "      <td>Distribuição Nacional</td>\n",
              "      <td>3303</td>\n",
              "      <td>31295</td>\n",
              "    </tr>\n",
              "    <tr>\n",
              "      <th>3</th>\n",
              "      <td>2019</td>\n",
              "      <td>A 100 Passos De Um Sonho</td>\n",
              "      <td>E1402795100000</td>\n",
              "      <td>Ficção</td>\n",
              "      <td>Estados Unidos</td>\n",
              "      <td>Estrangeira</td>\n",
              "      <td>41879</td>\n",
              "      <td>Disney</td>\n",
              "      <td>Distribuição Internacional</td>\n",
              "      <td>69</td>\n",
              "      <td>4186</td>\n",
              "    </tr>\n",
              "    <tr>\n",
              "      <th>4</th>\n",
              "      <td>2019</td>\n",
              "      <td>A Abelhinha Maya - O Filme</td>\n",
              "      <td>E1800136100000</td>\n",
              "      <td>Animação</td>\n",
              "      <td>Alemanha</td>\n",
              "      <td>Estrangeira</td>\n",
              "      <td>43237</td>\n",
              "      <td>Playarte</td>\n",
              "      <td>Distribuição Nacional</td>\n",
              "      <td>402</td>\n",
              "      <td>3531</td>\n",
              "    </tr>\n",
              "  </tbody>\n",
              "</table>\n",
              "</div>"
            ],
            "text/plain": [
              "   Ano de exibição  ... Renda (R$) no ano de exibição\n",
              "0             2019  ...                            70\n",
              "1             2019  ...                        103805\n",
              "2             2019  ...                         31295\n",
              "3             2019  ...                          4186\n",
              "4             2019  ...                          3531\n",
              "\n",
              "[5 rows x 11 columns]"
            ]
          },
          "metadata": {
            "tags": []
          },
          "execution_count": 2
        }
      ]
    },
    {
      "cell_type": "markdown",
      "metadata": {
        "id": "lXljWnZHjSZi"
      },
      "source": [
        "#### Analizando problemas de dados no Dataframe  \n",
        "df.shape    # verifica o tamanho do dataframe   (linhas, colunas)<br>\n",
        "df.dtypes   # todas colunas e os tipos [object(texto ou não sabe o que é)]<br>\n",
        "\n",
        "*   Item da lista\n",
        "*   Item da lista\n",
        "\n",
        "\n",
        "df.describe()<br>\n",
        "df.info()<br>\n",
        "df.head(4)<br>\n",
        "df.sample(10)   #lista linhas aleatórias<br>\n",
        "df.tail()<br>\n",
        "df.isnull().sum() retorna o número de valores ausentes para cada coluna.<br>\n",
        "df.isnull().sum().sum() retorna o número total de valores ausentes.<br>\n",
        "descobrir a porcentagem de valores que estão faltando, executando: df.isna().mean()<br>\n",
        "    🠗🠗🠗🠗🠗🠗🠗🠗🠗🠗🠗🠗🠗🠗🠗🠗🠗🠗🠗🠗🠗🠗🠗🠗🠗🠗🠗🠗🠗🠗🠗🠗🠗🠗🠗🠗🠗🠗🠗<br>\n",
        "help(pd.Series.loc) pedindo ajuda<br>"
      ]
    },
    {
      "cell_type": "code",
      "metadata": {
        "id": "a4NUgYvhpfmn"
      },
      "source": [
        "df.shape"
      ],
      "execution_count": null,
      "outputs": []
    },
    {
      "cell_type": "code",
      "metadata": {
        "id": "OXiwlGispMKt"
      },
      "source": [
        "df.describe()"
      ],
      "execution_count": null,
      "outputs": []
    },
    {
      "cell_type": "code",
      "metadata": {
        "id": "QJ8mXKcup2N2"
      },
      "source": [
        "df.sample(10)"
      ],
      "execution_count": null,
      "outputs": []
    },
    {
      "cell_type": "code",
      "metadata": {
        "id": "z3Ck5YsjRkZ6"
      },
      "source": [
        "df.tail()   # nan  = not a number"
      ],
      "execution_count": null,
      "outputs": []
    },
    {
      "cell_type": "code",
      "metadata": {
        "colab": {
          "base_uri": "https://localhost:8080/",
          "height": 323
        },
        "id": "_R0ovJdB0zR3",
        "outputId": "d62091ad-012c-451f-c1da-f4cf4e89e0c2"
      },
      "source": [
        "df.head()"
      ],
      "execution_count": 13,
      "outputs": [
        {
          "output_type": "execute_result",
          "data": {
            "text/html": [
              "<div>\n",
              "<style scoped>\n",
              "    .dataframe tbody tr th:only-of-type {\n",
              "        vertical-align: middle;\n",
              "    }\n",
              "\n",
              "    .dataframe tbody tr th {\n",
              "        vertical-align: top;\n",
              "    }\n",
              "\n",
              "    .dataframe thead th {\n",
              "        text-align: right;\n",
              "    }\n",
              "</style>\n",
              "<table border=\"1\" class=\"dataframe\">\n",
              "  <thead>\n",
              "    <tr style=\"text-align: right;\">\n",
              "      <th></th>\n",
              "      <th>Ano de exibição</th>\n",
              "      <th>Título da obra</th>\n",
              "      <th>CPB/ROE</th>\n",
              "      <th>Gênero</th>\n",
              "      <th>País(es) produtor(es) da obra</th>\n",
              "      <th>Nacionalidade da obra</th>\n",
              "      <th>Data de lançamento</th>\n",
              "      <th>Empresa distribuidora</th>\n",
              "      <th>Origem da empresa distribuidora</th>\n",
              "      <th>Público no ano de exibição</th>\n",
              "      <th>Renda (R$) no ano de exibição</th>\n",
              "    </tr>\n",
              "  </thead>\n",
              "  <tbody>\n",
              "    <tr>\n",
              "      <th>0</th>\n",
              "      <td>2019</td>\n",
              "      <td>120 Batimentos Por Minuto</td>\n",
              "      <td>E1700453800000</td>\n",
              "      <td>Ficção</td>\n",
              "      <td>França</td>\n",
              "      <td>Estrangeira</td>\n",
              "      <td>43104</td>\n",
              "      <td>Imovision</td>\n",
              "      <td>Distribuição Nacional</td>\n",
              "      <td>10</td>\n",
              "      <td>70</td>\n",
              "    </tr>\n",
              "    <tr>\n",
              "      <th>1</th>\n",
              "      <td>2019</td>\n",
              "      <td>3 Faces</td>\n",
              "      <td>E1800494900000</td>\n",
              "      <td>Ficção</td>\n",
              "      <td>Irã</td>\n",
              "      <td>Estrangeira</td>\n",
              "      <td>43559</td>\n",
              "      <td>Imovision</td>\n",
              "      <td>Distribuição Nacional</td>\n",
              "      <td>6289</td>\n",
              "      <td>103805</td>\n",
              "    </tr>\n",
              "    <tr>\n",
              "      <th>2</th>\n",
              "      <td>2019</td>\n",
              "      <td>45 Dias Sem Você</td>\n",
              "      <td>B1800586000000</td>\n",
              "      <td>Ficção</td>\n",
              "      <td>Brasil</td>\n",
              "      <td>Brasileira</td>\n",
              "      <td>43601</td>\n",
              "      <td>O2 Play</td>\n",
              "      <td>Distribuição Nacional</td>\n",
              "      <td>3303</td>\n",
              "      <td>31295</td>\n",
              "    </tr>\n",
              "    <tr>\n",
              "      <th>3</th>\n",
              "      <td>2019</td>\n",
              "      <td>A 100 Passos De Um Sonho</td>\n",
              "      <td>E1402795100000</td>\n",
              "      <td>Ficção</td>\n",
              "      <td>Estados Unidos</td>\n",
              "      <td>Estrangeira</td>\n",
              "      <td>41879</td>\n",
              "      <td>Disney</td>\n",
              "      <td>Distribuição Internacional</td>\n",
              "      <td>69</td>\n",
              "      <td>4186</td>\n",
              "    </tr>\n",
              "    <tr>\n",
              "      <th>4</th>\n",
              "      <td>2019</td>\n",
              "      <td>A Abelhinha Maya - O Filme</td>\n",
              "      <td>E1800136100000</td>\n",
              "      <td>Animação</td>\n",
              "      <td>Alemanha</td>\n",
              "      <td>Estrangeira</td>\n",
              "      <td>43237</td>\n",
              "      <td>Playarte</td>\n",
              "      <td>Distribuição Nacional</td>\n",
              "      <td>402</td>\n",
              "      <td>3531</td>\n",
              "    </tr>\n",
              "  </tbody>\n",
              "</table>\n",
              "</div>"
            ],
            "text/plain": [
              "   Ano de exibição  ... Renda (R$) no ano de exibição\n",
              "0             2019  ...                            70\n",
              "1             2019  ...                        103805\n",
              "2             2019  ...                         31295\n",
              "3             2019  ...                          4186\n",
              "4             2019  ...                          3531\n",
              "\n",
              "[5 rows x 11 columns]"
            ]
          },
          "metadata": {
            "tags": []
          },
          "execution_count": 13
        }
      ]
    },
    {
      "cell_type": "code",
      "metadata": {
        "colab": {
          "base_uri": "https://localhost:8080/"
        },
        "id": "0XcIBo-NRkWK",
        "outputId": "a7b65770-b908-4d46-e775-dfa0914e02dd"
      },
      "source": [
        "df.dtypes\n"
      ],
      "execution_count": 11,
      "outputs": [
        {
          "output_type": "execute_result",
          "data": {
            "text/plain": [
              "Ano de exibição                     int64\n",
              "Título da obra                     object\n",
              "CPB/ROE                            object\n",
              "Gênero                             object\n",
              "País(es) produtor(es) da obra      object\n",
              "Nacionalidade da obra              object\n",
              "Data de lançamento                 object\n",
              "Empresa distribuidora              object\n",
              "Origem da empresa distribuidora    object\n",
              "Público no ano de exibição         object\n",
              "Renda (R$) no ano de exibição      object\n",
              "dtype: object"
            ]
          },
          "metadata": {
            "tags": []
          },
          "execution_count": 11
        }
      ]
    },
    {
      "cell_type": "code",
      "metadata": {
        "id": "-y-Zg89tRkTF"
      },
      "source": [
        "#----1\n",
        "# Transformar o campo Data de lançamento em data\n",
        "df['Data de lançamento'] = pd.to_datetime(df['Data de lançamento'])"
      ],
      "execution_count": null,
      "outputs": []
    },
    {
      "cell_type": "code",
      "metadata": {
        "colab": {
          "base_uri": "https://localhost:8080/"
        },
        "id": "0vC1Q4CURkNl",
        "outputId": "b968314b-daa7-41e3-e5b1-f0413f0bdf96"
      },
      "source": [
        "#---2\n",
        "# identificar o problema da coluna Data de lançamento\n",
        "df['Data de lançamento'].value_counts() \n"
      ],
      "execution_count": 14,
      "outputs": [
        {
          "output_type": "execute_result",
          "data": {
            "text/plain": [
              "Relançamento    198\n",
              "42341            33\n",
              "41264            33\n",
              "41607            29\n",
              "41215            27\n",
              "               ... \n",
              "relançamento      1\n",
              "41922             1\n",
              "41913             1\n",
              "40328             1\n",
              "42188             1\n",
              "Name: Data de lançamento, Length: 878, dtype: int64"
            ]
          },
          "metadata": {
            "tags": []
          },
          "execution_count": 14
        }
      ]
    },
    {
      "cell_type": "code",
      "metadata": {
        "colab": {
          "base_uri": "https://localhost:8080/",
          "height": 623
        },
        "id": "T8o5mKHjRkK1",
        "outputId": "a0646e15-c0e2-4503-b007-3c253a87b219"
      },
      "source": [
        "#---3\n",
        "# exibir Data de lançamento  como relançamento\n",
        "df[df['Data de lançamento'] == 'Relançamento']"
      ],
      "execution_count": 17,
      "outputs": [
        {
          "output_type": "execute_result",
          "data": {
            "text/html": [
              "<div>\n",
              "<style scoped>\n",
              "    .dataframe tbody tr th:only-of-type {\n",
              "        vertical-align: middle;\n",
              "    }\n",
              "\n",
              "    .dataframe tbody tr th {\n",
              "        vertical-align: top;\n",
              "    }\n",
              "\n",
              "    .dataframe thead th {\n",
              "        text-align: right;\n",
              "    }\n",
              "</style>\n",
              "<table border=\"1\" class=\"dataframe\">\n",
              "  <thead>\n",
              "    <tr style=\"text-align: right;\">\n",
              "      <th></th>\n",
              "      <th>Ano de exibição</th>\n",
              "      <th>Título da obra</th>\n",
              "      <th>CPB/ROE</th>\n",
              "      <th>Gênero</th>\n",
              "      <th>País(es) produtor(es) da obra</th>\n",
              "      <th>Nacionalidade da obra</th>\n",
              "      <th>Data de lançamento</th>\n",
              "      <th>Empresa distribuidora</th>\n",
              "      <th>Origem da empresa distribuidora</th>\n",
              "      <th>Público no ano de exibição</th>\n",
              "      <th>Renda (R$) no ano de exibição</th>\n",
              "    </tr>\n",
              "  </thead>\n",
              "  <tbody>\n",
              "    <tr>\n",
              "      <th>6</th>\n",
              "      <td>2019</td>\n",
              "      <td>A Bela da Tarde</td>\n",
              "      <td>E1700492900000</td>\n",
              "      <td>Ficção</td>\n",
              "      <td>França, Itália</td>\n",
              "      <td>Estrangeira</td>\n",
              "      <td>Relançamento</td>\n",
              "      <td>Zeta Filmes</td>\n",
              "      <td>Distribuição Nacional</td>\n",
              "      <td>14</td>\n",
              "      <td>253</td>\n",
              "    </tr>\n",
              "    <tr>\n",
              "      <th>278</th>\n",
              "      <td>2019</td>\n",
              "      <td>Gritos e Sussurros</td>\n",
              "      <td>E1600273100000</td>\n",
              "      <td>Ficção</td>\n",
              "      <td>Suécia</td>\n",
              "      <td>Estrangeira</td>\n",
              "      <td>Relançamento</td>\n",
              "      <td>F. J. Cines</td>\n",
              "      <td>Distribuição Nacional</td>\n",
              "      <td>105</td>\n",
              "      <td>1024</td>\n",
              "    </tr>\n",
              "    <tr>\n",
              "      <th>359</th>\n",
              "      <td>2019</td>\n",
              "      <td>Matrix</td>\n",
              "      <td>E1500096600000</td>\n",
              "      <td>Ficção</td>\n",
              "      <td>Austrália, Estados Unidos</td>\n",
              "      <td>Estrangeira</td>\n",
              "      <td>Relançamento</td>\n",
              "      <td>Warner</td>\n",
              "      <td>Distribuição Internacional</td>\n",
              "      <td>18260</td>\n",
              "      <td>277563</td>\n",
              "    </tr>\n",
              "    <tr>\n",
              "      <th>390</th>\n",
              "      <td>2019</td>\n",
              "      <td>Morangos Silvestres</td>\n",
              "      <td>E1500804700000</td>\n",
              "      <td>Ficção</td>\n",
              "      <td>Suécia</td>\n",
              "      <td>Estrangeira</td>\n",
              "      <td>Relançamento</td>\n",
              "      <td>F. J. Cines</td>\n",
              "      <td>Distribuição Nacional</td>\n",
              "      <td>129</td>\n",
              "      <td>1230</td>\n",
              "    </tr>\n",
              "    <tr>\n",
              "      <th>396</th>\n",
              "      <td>2019</td>\n",
              "      <td>Mulholland Drive - Cidade dos Sonhos</td>\n",
              "      <td>E1700486000000</td>\n",
              "      <td>Ficção</td>\n",
              "      <td>Estados Unidos, França</td>\n",
              "      <td>Estrangeira</td>\n",
              "      <td>Relançamento</td>\n",
              "      <td>Zeta Filmes</td>\n",
              "      <td>Distribuição Nacional</td>\n",
              "      <td>50</td>\n",
              "      <td>920</td>\n",
              "    </tr>\n",
              "    <tr>\n",
              "      <th>...</th>\n",
              "      <td>...</td>\n",
              "      <td>...</td>\n",
              "      <td>...</td>\n",
              "      <td>...</td>\n",
              "      <td>...</td>\n",
              "      <td>...</td>\n",
              "      <td>...</td>\n",
              "      <td>...</td>\n",
              "      <td>...</td>\n",
              "      <td>...</td>\n",
              "      <td>...</td>\n",
              "    </tr>\n",
              "    <tr>\n",
              "      <th>6503</th>\n",
              "      <td>2009</td>\n",
              "      <td>A agenda</td>\n",
              "      <td>E1600634500000</td>\n",
              "      <td>Ficção</td>\n",
              "      <td>França</td>\n",
              "      <td>Estrangeira</td>\n",
              "      <td>Relançamento</td>\n",
              "      <td>Imovision</td>\n",
              "      <td>Distribuição Nacional</td>\n",
              "      <td>33</td>\n",
              "      <td>154.5</td>\n",
              "    </tr>\n",
              "    <tr>\n",
              "      <th>6738</th>\n",
              "      <td>2009</td>\n",
              "      <td>Fome de Viver</td>\n",
              "      <td>E1600228600000</td>\n",
              "      <td>Ficção</td>\n",
              "      <td>Reino Unido</td>\n",
              "      <td>Estrangeira</td>\n",
              "      <td>Relançamento</td>\n",
              "      <td>Filmes do Estação</td>\n",
              "      <td>Distribuição Nacional</td>\n",
              "      <td>268</td>\n",
              "      <td>944</td>\n",
              "    </tr>\n",
              "    <tr>\n",
              "      <th>6917</th>\n",
              "      <td>2009</td>\n",
              "      <td>Os Contos de Canterbury</td>\n",
              "      <td>E1600589800000</td>\n",
              "      <td>Ficção</td>\n",
              "      <td>Itália</td>\n",
              "      <td>Estrangeira</td>\n",
              "      <td>Relançamento</td>\n",
              "      <td>Pandora Filmes</td>\n",
              "      <td>Distribuição Nacional</td>\n",
              "      <td>5026</td>\n",
              "      <td>29614</td>\n",
              "    </tr>\n",
              "    <tr>\n",
              "      <th>6965</th>\n",
              "      <td>2009</td>\n",
              "      <td>Ratatouille</td>\n",
              "      <td>E1500365600000</td>\n",
              "      <td>Animação</td>\n",
              "      <td>Estados Unidos</td>\n",
              "      <td>Estrangeira</td>\n",
              "      <td>Relançamento</td>\n",
              "      <td>Sony</td>\n",
              "      <td>Distribuição Internacional</td>\n",
              "      <td>230</td>\n",
              "      <td>2300</td>\n",
              "    </tr>\n",
              "    <tr>\n",
              "      <th>6997</th>\n",
              "      <td>2009</td>\n",
              "      <td>Sofá Cama</td>\n",
              "      <td>E1600624100000</td>\n",
              "      <td>Ficção</td>\n",
              "      <td>Argentina</td>\n",
              "      <td>Estrangeira</td>\n",
              "      <td>Relançamento</td>\n",
              "      <td>Panda Filmes</td>\n",
              "      <td>Distribuição Nacional</td>\n",
              "      <td>579</td>\n",
              "      <td>3529.6</td>\n",
              "    </tr>\n",
              "  </tbody>\n",
              "</table>\n",
              "<p>198 rows × 11 columns</p>\n",
              "</div>"
            ],
            "text/plain": [
              "      Ano de exibição  ... Renda (R$) no ano de exibição\n",
              "6                2019  ...                           253\n",
              "278              2019  ...                          1024\n",
              "359              2019  ...                        277563\n",
              "390              2019  ...                          1230\n",
              "396              2019  ...                           920\n",
              "...               ...  ...                           ...\n",
              "6503             2009  ...                         154.5\n",
              "6738             2009  ...                           944\n",
              "6917             2009  ...                         29614\n",
              "6965             2009  ...                          2300\n",
              "6997             2009  ...                        3529.6\n",
              "\n",
              "[198 rows x 11 columns]"
            ]
          },
          "metadata": {
            "tags": []
          },
          "execution_count": 17
        }
      ]
    },
    {
      "cell_type": "markdown",
      "metadata": {
        "id": "rjou4_3R5Dyl"
      },
      "source": [
        "#### Decisão sobre dados incorretos/ faltantes/divergentes\n",
        "\n",
        "apagar?   atualizar manual os dados? o que fazer? Qual decisão?"
      ]
    },
    {
      "cell_type": "code",
      "metadata": {
        "colab": {
          "base_uri": "https://localhost:8080/"
        },
        "id": "xNb4-Wii4cYv",
        "outputId": "11c8ba7b-bb4d-4873-8fd1-60aae1941ef4"
      },
      "source": [
        "df.shape"
      ],
      "execution_count": 18,
      "outputs": [
        {
          "output_type": "execute_result",
          "data": {
            "text/plain": [
              "(7081, 11)"
            ]
          },
          "metadata": {
            "tags": []
          },
          "execution_count": 18
        }
      ]
    },
    {
      "cell_type": "code",
      "metadata": {
        "colab": {
          "base_uri": "https://localhost:8080/"
        },
        "id": "V5hjsF5K8Lpz",
        "outputId": "8957c8ea-7c4a-483b-b290-c63647992654"
      },
      "source": [
        "df_novo.shape"
      ],
      "execution_count": 23,
      "outputs": [
        {
          "output_type": "execute_result",
          "data": {
            "text/plain": [
              "(6883, 11)"
            ]
          },
          "metadata": {
            "tags": []
          },
          "execution_count": 23
        }
      ]
    },
    {
      "cell_type": "code",
      "metadata": {
        "colab": {
          "base_uri": "https://localhost:8080/",
          "height": 323
        },
        "id": "3RiyAUAK53ch",
        "outputId": "dc974990-df0c-4651-c9d2-ff32269a26bb"
      },
      "source": [
        "#---4\n",
        "#criar(copia) um novo dataframe sem as linhas Relançamentos (-198 linhas)\n",
        "df_novo = df[df['Data de lançamento'] != 'Relançamento']\n",
        "df.head()"
      ],
      "execution_count": 21,
      "outputs": [
        {
          "output_type": "execute_result",
          "data": {
            "text/html": [
              "<div>\n",
              "<style scoped>\n",
              "    .dataframe tbody tr th:only-of-type {\n",
              "        vertical-align: middle;\n",
              "    }\n",
              "\n",
              "    .dataframe tbody tr th {\n",
              "        vertical-align: top;\n",
              "    }\n",
              "\n",
              "    .dataframe thead th {\n",
              "        text-align: right;\n",
              "    }\n",
              "</style>\n",
              "<table border=\"1\" class=\"dataframe\">\n",
              "  <thead>\n",
              "    <tr style=\"text-align: right;\">\n",
              "      <th></th>\n",
              "      <th>Ano de exibição</th>\n",
              "      <th>Título da obra</th>\n",
              "      <th>CPB/ROE</th>\n",
              "      <th>Gênero</th>\n",
              "      <th>País(es) produtor(es) da obra</th>\n",
              "      <th>Nacionalidade da obra</th>\n",
              "      <th>Data de lançamento</th>\n",
              "      <th>Empresa distribuidora</th>\n",
              "      <th>Origem da empresa distribuidora</th>\n",
              "      <th>Público no ano de exibição</th>\n",
              "      <th>Renda (R$) no ano de exibição</th>\n",
              "    </tr>\n",
              "  </thead>\n",
              "  <tbody>\n",
              "    <tr>\n",
              "      <th>0</th>\n",
              "      <td>2019</td>\n",
              "      <td>120 Batimentos Por Minuto</td>\n",
              "      <td>E1700453800000</td>\n",
              "      <td>Ficção</td>\n",
              "      <td>França</td>\n",
              "      <td>Estrangeira</td>\n",
              "      <td>43104</td>\n",
              "      <td>Imovision</td>\n",
              "      <td>Distribuição Nacional</td>\n",
              "      <td>10</td>\n",
              "      <td>70</td>\n",
              "    </tr>\n",
              "    <tr>\n",
              "      <th>1</th>\n",
              "      <td>2019</td>\n",
              "      <td>3 Faces</td>\n",
              "      <td>E1800494900000</td>\n",
              "      <td>Ficção</td>\n",
              "      <td>Irã</td>\n",
              "      <td>Estrangeira</td>\n",
              "      <td>43559</td>\n",
              "      <td>Imovision</td>\n",
              "      <td>Distribuição Nacional</td>\n",
              "      <td>6289</td>\n",
              "      <td>103805</td>\n",
              "    </tr>\n",
              "    <tr>\n",
              "      <th>2</th>\n",
              "      <td>2019</td>\n",
              "      <td>45 Dias Sem Você</td>\n",
              "      <td>B1800586000000</td>\n",
              "      <td>Ficção</td>\n",
              "      <td>Brasil</td>\n",
              "      <td>Brasileira</td>\n",
              "      <td>43601</td>\n",
              "      <td>O2 Play</td>\n",
              "      <td>Distribuição Nacional</td>\n",
              "      <td>3303</td>\n",
              "      <td>31295</td>\n",
              "    </tr>\n",
              "    <tr>\n",
              "      <th>3</th>\n",
              "      <td>2019</td>\n",
              "      <td>A 100 Passos De Um Sonho</td>\n",
              "      <td>E1402795100000</td>\n",
              "      <td>Ficção</td>\n",
              "      <td>Estados Unidos</td>\n",
              "      <td>Estrangeira</td>\n",
              "      <td>41879</td>\n",
              "      <td>Disney</td>\n",
              "      <td>Distribuição Internacional</td>\n",
              "      <td>69</td>\n",
              "      <td>4186</td>\n",
              "    </tr>\n",
              "    <tr>\n",
              "      <th>4</th>\n",
              "      <td>2019</td>\n",
              "      <td>A Abelhinha Maya - O Filme</td>\n",
              "      <td>E1800136100000</td>\n",
              "      <td>Animação</td>\n",
              "      <td>Alemanha</td>\n",
              "      <td>Estrangeira</td>\n",
              "      <td>43237</td>\n",
              "      <td>Playarte</td>\n",
              "      <td>Distribuição Nacional</td>\n",
              "      <td>402</td>\n",
              "      <td>3531</td>\n",
              "    </tr>\n",
              "  </tbody>\n",
              "</table>\n",
              "</div>"
            ],
            "text/plain": [
              "   Ano de exibição  ... Renda (R$) no ano de exibição\n",
              "0             2019  ...                            70\n",
              "1             2019  ...                        103805\n",
              "2             2019  ...                         31295\n",
              "3             2019  ...                          4186\n",
              "4             2019  ...                          3531\n",
              "\n",
              "[5 rows x 11 columns]"
            ]
          },
          "metadata": {
            "tags": []
          },
          "execution_count": 21
        }
      ]
    },
    {
      "cell_type": "code",
      "metadata": {
        "colab": {
          "base_uri": "https://localhost:8080/"
        },
        "id": "7gCZwuus7YUO",
        "outputId": "869bdb01-f089-4ad7-f3e9-7295979215cd"
      },
      "source": [
        "df.dtypes"
      ],
      "execution_count": 24,
      "outputs": [
        {
          "output_type": "execute_result",
          "data": {
            "text/plain": [
              "Ano de exibição                     int64\n",
              "Título da obra                     object\n",
              "CPB/ROE                            object\n",
              "Gênero                             object\n",
              "País(es) produtor(es) da obra      object\n",
              "Nacionalidade da obra              object\n",
              "Data de lançamento                 object\n",
              "Empresa distribuidora              object\n",
              "Origem da empresa distribuidora    object\n",
              "Público no ano de exibição         object\n",
              "Renda (R$) no ano de exibição      object\n",
              "dtype: object"
            ]
          },
          "metadata": {
            "tags": []
          },
          "execution_count": 24
        }
      ]
    },
    {
      "cell_type": "code",
      "metadata": {
        "id": "vdUY6JiU8Z0p"
      },
      "source": [
        "#---5\n",
        "# converter a coluna Data de lançamento para datetime\n",
        "# df_novo['Data de lançamento'] = pd.to_datetime(df_novo['Data de lançamento'])"
      ],
      "execution_count": null,
      "outputs": []
    },
    {
      "cell_type": "code",
      "metadata": {
        "colab": {
          "base_uri": "https://localhost:8080/"
        },
        "id": "WUE1OgZa83E6",
        "outputId": "a24fdf11-17eb-4a27-cd7c-217942184aec"
      },
      "source": [
        "#---6\n",
        "# Quais os anos que tiveram mais filmes lançados?\n",
        "# df_novo['Data de lançamento'].dt.year.value_counts()\n",
        "df_novo['Ano de exibição'].value_counts()"
      ],
      "execution_count": 27,
      "outputs": [
        {
          "output_type": "execute_result",
          "data": {
            "text/plain": [
              "2015    748\n",
              "2016    727\n",
              "2018    691\n",
              "2017    678\n",
              "2019    676\n",
              "2014    640\n",
              "2009    583\n",
              "2013    565\n",
              "2011    558\n",
              "2012    510\n",
              "2010    507\n",
              "Name: Ano de exibição, dtype: int64"
            ]
          },
          "metadata": {
            "tags": []
          },
          "execution_count": 27
        }
      ]
    },
    {
      "cell_type": "code",
      "metadata": {
        "id": "Jdtmagtp825K"
      },
      "source": [
        ""
      ],
      "execution_count": null,
      "outputs": []
    },
    {
      "cell_type": "code",
      "metadata": {
        "id": "Zy8datRy822Y"
      },
      "source": [
        ""
      ],
      "execution_count": null,
      "outputs": []
    },
    {
      "cell_type": "code",
      "metadata": {
        "id": "rXF1kwLw82zJ"
      },
      "source": [
        ""
      ],
      "execution_count": null,
      "outputs": []
    },
    {
      "cell_type": "code",
      "metadata": {
        "id": "5j-2Q9G382TV"
      },
      "source": [
        ""
      ],
      "execution_count": null,
      "outputs": []
    }
  ]
}