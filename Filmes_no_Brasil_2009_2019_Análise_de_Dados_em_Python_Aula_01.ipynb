{
  "nbformat": 4,
  "nbformat_minor": 0,
  "metadata": {
    "colab": {
      "name": "Filmes_no_Brasil_2009_2019_Análise_de_Dados_em_Python_Aula_01.ipynb",
      "provenance": [],
      "collapsed_sections": [],
      "authorship_tag": "ABX9TyOubzEOdpoyYr6k02r5Ud5J",
      "include_colab_link": true
    },
    "kernelspec": {
      "name": "python3",
      "display_name": "Python 3"
    },
    "language_info": {
      "name": "python"
    }
  },
  "cells": [
    {
      "cell_type": "markdown",
      "metadata": {
        "id": "view-in-github",
        "colab_type": "text"
      },
      "source": [
        "<a href=\"https://colab.research.google.com/github/V1L3La/Learning-An-lise-de-Dados-em-Python/blob/main/Filmes_no_Brasil_2009_2019_An%C3%A1lise_de_Dados_em_Python_Aula_01.ipynb\" target=\"_parent\"><img src=\"https://colab.research.google.com/assets/colab-badge.svg\" alt=\"Open In Colab\"/></a>"
      ]
    },
    {
      "cell_type": "markdown",
      "metadata": {
        "id": "x4MRRLGmqmML"
      },
      "source": [
        "#### Aumentando meu nível\n",
        "\n",
        "https://www.kaggle.com/joaoavf/introducao-a-analise-de-dados-python-e-pandas\n",
        "\n",
        "https://insightlab.ufc.br/6-truques-do-pandas-para-impulsionar-sua-analise-de-dados/\n",
        "\n"
      ]
    },
    {
      "cell_type": "markdown",
      "metadata": {
        "id": "_TokV1K7RNYo"
      },
      "source": [
        "#Análise de dados de filmes exibidos no Brasil de 2009 a 2019\n",
        "\n",
        "#####Com base nos dados da Ancine (https://oca.ancine.gov.br) vamos analisar os filmes exibidos no Brasil\n",
        "\n",
        "Arquivo -> filmes_no_Brasil_2009_2019.xlsx\n",
        "\n"
      ]
    },
    {
      "cell_type": "code",
      "metadata": {
        "id": "p-8DhtZgRMbg"
      },
      "source": [
        "import pandas as pd\n",
        "%matplotlib inline"
      ],
      "execution_count": 2,
      "outputs": []
    },
    {
      "cell_type": "code",
      "metadata": {
        "colab": {
          "base_uri": "https://localhost:8080/",
          "height": 323
        },
        "id": "qwHj1mgURkdG",
        "outputId": "50c6a990-aed4-4b12-fcad-4e2032089b19"
      },
      "source": [
        "# carrega um dataframe com base no arquivo excel sem as 2 primeiras linhas do titulo\n",
        "df = pd.read_excel('https://github.com/V1L3La/Learning-An-lise-de-Dados-em-Python/blob/main/filmes_no_Brasil_2009_2019.xlsx?raw=true', skiprows=2)\n",
        "df.head()"
      ],
      "execution_count": 6,
      "outputs": [
        {
          "output_type": "execute_result",
          "data": {
            "text/html": [
              "<div>\n",
              "<style scoped>\n",
              "    .dataframe tbody tr th:only-of-type {\n",
              "        vertical-align: middle;\n",
              "    }\n",
              "\n",
              "    .dataframe tbody tr th {\n",
              "        vertical-align: top;\n",
              "    }\n",
              "\n",
              "    .dataframe thead th {\n",
              "        text-align: right;\n",
              "    }\n",
              "</style>\n",
              "<table border=\"1\" class=\"dataframe\">\n",
              "  <thead>\n",
              "    <tr style=\"text-align: right;\">\n",
              "      <th></th>\n",
              "      <th>Ano de exibição</th>\n",
              "      <th>Título da obra</th>\n",
              "      <th>CPB/ROE</th>\n",
              "      <th>Gênero</th>\n",
              "      <th>País(es) produtor(es) da obra</th>\n",
              "      <th>Nacionalidade da obra</th>\n",
              "      <th>Data de lançamento</th>\n",
              "      <th>Empresa distribuidora</th>\n",
              "      <th>Origem da empresa distribuidora</th>\n",
              "      <th>Público no ano de exibição</th>\n",
              "      <th>Renda (R$) no ano de exibição</th>\n",
              "    </tr>\n",
              "  </thead>\n",
              "  <tbody>\n",
              "    <tr>\n",
              "      <th>0</th>\n",
              "      <td>2019</td>\n",
              "      <td>120 Batimentos Por Minuto</td>\n",
              "      <td>E1700453800000</td>\n",
              "      <td>Ficção</td>\n",
              "      <td>França</td>\n",
              "      <td>Estrangeira</td>\n",
              "      <td>43104</td>\n",
              "      <td>Imovision</td>\n",
              "      <td>Distribuição Nacional</td>\n",
              "      <td>10</td>\n",
              "      <td>70</td>\n",
              "    </tr>\n",
              "    <tr>\n",
              "      <th>1</th>\n",
              "      <td>2019</td>\n",
              "      <td>3 Faces</td>\n",
              "      <td>E1800494900000</td>\n",
              "      <td>Ficção</td>\n",
              "      <td>Irã</td>\n",
              "      <td>Estrangeira</td>\n",
              "      <td>43559</td>\n",
              "      <td>Imovision</td>\n",
              "      <td>Distribuição Nacional</td>\n",
              "      <td>6289</td>\n",
              "      <td>103805</td>\n",
              "    </tr>\n",
              "    <tr>\n",
              "      <th>2</th>\n",
              "      <td>2019</td>\n",
              "      <td>45 Dias Sem Você</td>\n",
              "      <td>B1800586000000</td>\n",
              "      <td>Ficção</td>\n",
              "      <td>Brasil</td>\n",
              "      <td>Brasileira</td>\n",
              "      <td>43601</td>\n",
              "      <td>O2 Play</td>\n",
              "      <td>Distribuição Nacional</td>\n",
              "      <td>3303</td>\n",
              "      <td>31295</td>\n",
              "    </tr>\n",
              "    <tr>\n",
              "      <th>3</th>\n",
              "      <td>2019</td>\n",
              "      <td>A 100 Passos De Um Sonho</td>\n",
              "      <td>E1402795100000</td>\n",
              "      <td>Ficção</td>\n",
              "      <td>Estados Unidos</td>\n",
              "      <td>Estrangeira</td>\n",
              "      <td>41879</td>\n",
              "      <td>Disney</td>\n",
              "      <td>Distribuição Internacional</td>\n",
              "      <td>69</td>\n",
              "      <td>4186</td>\n",
              "    </tr>\n",
              "    <tr>\n",
              "      <th>4</th>\n",
              "      <td>2019</td>\n",
              "      <td>A Abelhinha Maya - O Filme</td>\n",
              "      <td>E1800136100000</td>\n",
              "      <td>Animação</td>\n",
              "      <td>Alemanha</td>\n",
              "      <td>Estrangeira</td>\n",
              "      <td>43237</td>\n",
              "      <td>Playarte</td>\n",
              "      <td>Distribuição Nacional</td>\n",
              "      <td>402</td>\n",
              "      <td>3531</td>\n",
              "    </tr>\n",
              "  </tbody>\n",
              "</table>\n",
              "</div>"
            ],
            "text/plain": [
              "  Ano de exibição  ... Renda (R$) no ano de exibição\n",
              "0            2019  ...                            70\n",
              "1            2019  ...                        103805\n",
              "2            2019  ...                         31295\n",
              "3            2019  ...                          4186\n",
              "4            2019  ...                          3531\n",
              "\n",
              "[5 rows x 11 columns]"
            ]
          },
          "metadata": {
            "tags": []
          },
          "execution_count": 6
        }
      ]
    },
    {
      "cell_type": "code",
      "metadata": {
        "id": "Iha1oe6uvUeN"
      },
      "source": [
        "help(pd.Series.loc)"
      ],
      "execution_count": null,
      "outputs": []
    },
    {
      "cell_type": "markdown",
      "metadata": {
        "id": "lXljWnZHjSZi"
      },
      "source": [
        "#### Analizando problemas de dados no Dataframe  \n",
        "df.shape    # verifica o tamanho do dataframe   (linhas, colunas)<br>\n",
        "df.dtypes<br>\n",
        "df.describe()<br>\n",
        "df.info()<br>\n",
        "df.head(4)<br>\n",
        "df.sample(10)   #lista linhas aleatórias<br>\n",
        "df.tail()<br>\n",
        "df.isnull().sum() retorna o número de valores ausentes para cada coluna.<br>\n",
        "df.isnull().sum().sum() retorna o número total de valores ausentes.<br>\n",
        "descobrir a porcentagem de valores que estão faltando, executando: df.isna().mean()<br>\n",
        "Informações básicas\n",
        "#(linhas, colunas) \n",
        ">>> df.shape \n",
        "\n",
        "#Descreve o índice \n",
        ">>> df.index \n",
        "\n",
        "#Descreve as colunas \n",
        ">>> df.columns \n",
        "\n",
        "#Info sobre o dataframe \n",
        ">>> df.info() \n",
        "\n",
        "#Número de valores não-NA \n",
        ">>> df.count()<br>\n",
        "\n",
        "Resumos\n",
        "#Soma de valores \n",
        ">>> df.sum() \n",
        "\n",
        "#Soma acumulada \n",
        ">>> df.cumsum() \n",
        "\n",
        "#Valores max e min \n",
        ">>>df.min/df.max() \n",
        "\n",
        "#Sumário estatístico \n",
        ">>>df.describe() \n",
        "\n",
        "#Média dos valores \n",
        ">>>df.mean() \n",
        "\n",
        "#Mediana dos valores \n",
        ">>>df.median()<br>\n",
        "<br><br>    🠗🠗🠗🠗🠗🠗🠗🠗🠗🠗🠗🠗🠗🠗🠗🠗🠗🠗🠗🠗🠗🠗🠗🠗🠗🠗🠗🠗🠗🠗🠗🠗🠗🠗🠗🠗🠗🠗🠗<br>\n",
        "help(pd.Series.loc) pedindo ajuda<br>"
      ]
    },
    {
      "cell_type": "code",
      "metadata": {
        "colab": {
          "base_uri": "https://localhost:8080/"
        },
        "id": "a4NUgYvhpfmn",
        "outputId": "a3096358-b454-4e1a-b10c-7a82c23143bf"
      },
      "source": [
        "df.shape"
      ],
      "execution_count": 13,
      "outputs": [
        {
          "output_type": "execute_result",
          "data": {
            "text/plain": [
              "(7101, 11)"
            ]
          },
          "metadata": {
            "tags": []
          },
          "execution_count": 13
        }
      ]
    },
    {
      "cell_type": "code",
      "metadata": {
        "colab": {
          "base_uri": "https://localhost:8080/",
          "height": 224
        },
        "id": "OXiwlGispMKt",
        "outputId": "e144a539-15e8-40a6-983e-d05943d25bfb"
      },
      "source": [
        "df.describe()"
      ],
      "execution_count": 12,
      "outputs": [
        {
          "output_type": "execute_result",
          "data": {
            "text/html": [
              "<div>\n",
              "<style scoped>\n",
              "    .dataframe tbody tr th:only-of-type {\n",
              "        vertical-align: middle;\n",
              "    }\n",
              "\n",
              "    .dataframe tbody tr th {\n",
              "        vertical-align: top;\n",
              "    }\n",
              "\n",
              "    .dataframe thead th {\n",
              "        text-align: right;\n",
              "    }\n",
              "</style>\n",
              "<table border=\"1\" class=\"dataframe\">\n",
              "  <thead>\n",
              "    <tr style=\"text-align: right;\">\n",
              "      <th></th>\n",
              "      <th>Ano de exibição</th>\n",
              "      <th>Título da obra</th>\n",
              "      <th>CPB/ROE</th>\n",
              "      <th>Gênero</th>\n",
              "      <th>País(es) produtor(es) da obra</th>\n",
              "      <th>Nacionalidade da obra</th>\n",
              "      <th>Data de lançamento</th>\n",
              "      <th>Empresa distribuidora</th>\n",
              "      <th>Origem da empresa distribuidora</th>\n",
              "      <th>Público no ano de exibição</th>\n",
              "      <th>Renda (R$) no ano de exibição</th>\n",
              "    </tr>\n",
              "  </thead>\n",
              "  <tbody>\n",
              "    <tr>\n",
              "      <th>count</th>\n",
              "      <td>7097</td>\n",
              "      <td>7081</td>\n",
              "      <td>7081</td>\n",
              "      <td>7081</td>\n",
              "      <td>7081</td>\n",
              "      <td>7081</td>\n",
              "      <td>7081</td>\n",
              "      <td>7081</td>\n",
              "      <td>7081</td>\n",
              "      <td>7081</td>\n",
              "      <td>7081</td>\n",
              "    </tr>\n",
              "    <tr>\n",
              "      <th>unique</th>\n",
              "      <td>27</td>\n",
              "      <td>4983</td>\n",
              "      <td>4808</td>\n",
              "      <td>4</td>\n",
              "      <td>467</td>\n",
              "      <td>2</td>\n",
              "      <td>878</td>\n",
              "      <td>370</td>\n",
              "      <td>3</td>\n",
              "      <td>5075</td>\n",
              "      <td>6546</td>\n",
              "    </tr>\n",
              "    <tr>\n",
              "      <th>top</th>\n",
              "      <td>2015</td>\n",
              "      <td>Morangos Silvestres</td>\n",
              "      <td>Sem ROE</td>\n",
              "      <td>Ficção</td>\n",
              "      <td>Estados Unidos</td>\n",
              "      <td>Estrangeira</td>\n",
              "      <td>Relançamento</td>\n",
              "      <td>Imovision</td>\n",
              "      <td>Distribuição Nacional</td>\n",
              "      <td>ND</td>\n",
              "      <td>ND</td>\n",
              "    </tr>\n",
              "    <tr>\n",
              "      <th>freq</th>\n",
              "      <td>794</td>\n",
              "      <td>6</td>\n",
              "      <td>18</td>\n",
              "      <td>5552</td>\n",
              "      <td>2151</td>\n",
              "      <td>4960</td>\n",
              "      <td>198</td>\n",
              "      <td>687</td>\n",
              "      <td>5430</td>\n",
              "      <td>29</td>\n",
              "      <td>29</td>\n",
              "    </tr>\n",
              "  </tbody>\n",
              "</table>\n",
              "</div>"
            ],
            "text/plain": [
              "        Ano de exibição  ... Renda (R$) no ano de exibição\n",
              "count              7097  ...                          7081\n",
              "unique               27  ...                          6546\n",
              "top                2015  ...                            ND\n",
              "freq                794  ...                            29\n",
              "\n",
              "[4 rows x 11 columns]"
            ]
          },
          "metadata": {
            "tags": []
          },
          "execution_count": 12
        }
      ]
    },
    {
      "cell_type": "code",
      "metadata": {
        "colab": {
          "base_uri": "https://localhost:8080/",
          "height": 597
        },
        "id": "QJ8mXKcup2N2",
        "outputId": "c55c1605-3c55-41be-a78b-a4a0dbca3f44"
      },
      "source": [
        "df.sample(10)"
      ],
      "execution_count": 14,
      "outputs": [
        {
          "output_type": "execute_result",
          "data": {
            "text/html": [
              "<div>\n",
              "<style scoped>\n",
              "    .dataframe tbody tr th:only-of-type {\n",
              "        vertical-align: middle;\n",
              "    }\n",
              "\n",
              "    .dataframe tbody tr th {\n",
              "        vertical-align: top;\n",
              "    }\n",
              "\n",
              "    .dataframe thead th {\n",
              "        text-align: right;\n",
              "    }\n",
              "</style>\n",
              "<table border=\"1\" class=\"dataframe\">\n",
              "  <thead>\n",
              "    <tr style=\"text-align: right;\">\n",
              "      <th></th>\n",
              "      <th>Ano de exibição</th>\n",
              "      <th>Título da obra</th>\n",
              "      <th>CPB/ROE</th>\n",
              "      <th>Gênero</th>\n",
              "      <th>País(es) produtor(es) da obra</th>\n",
              "      <th>Nacionalidade da obra</th>\n",
              "      <th>Data de lançamento</th>\n",
              "      <th>Empresa distribuidora</th>\n",
              "      <th>Origem da empresa distribuidora</th>\n",
              "      <th>Público no ano de exibição</th>\n",
              "      <th>Renda (R$) no ano de exibição</th>\n",
              "    </tr>\n",
              "  </thead>\n",
              "  <tbody>\n",
              "    <tr>\n",
              "      <th>4003</th>\n",
              "      <td>2014</td>\n",
              "      <td>Mesmo se Nada der Certo</td>\n",
              "      <td>E1500045200000</td>\n",
              "      <td>Ficção</td>\n",
              "      <td>Estados Unidos</td>\n",
              "      <td>Estrangeira</td>\n",
              "      <td>41900</td>\n",
              "      <td>Imagem</td>\n",
              "      <td>Distribuição Nacional</td>\n",
              "      <td>120528</td>\n",
              "      <td>1.89617e+06</td>\n",
              "    </tr>\n",
              "    <tr>\n",
              "      <th>3046</th>\n",
              "      <td>2015</td>\n",
              "      <td>Casadentro</td>\n",
              "      <td>E1500844300000</td>\n",
              "      <td>Ficção</td>\n",
              "      <td>Peru</td>\n",
              "      <td>Estrangeira</td>\n",
              "      <td>42180</td>\n",
              "      <td>Esfera Produções</td>\n",
              "      <td>Distribuição Nacional</td>\n",
              "      <td>1823</td>\n",
              "      <td>22229.1</td>\n",
              "    </tr>\n",
              "    <tr>\n",
              "      <th>4606</th>\n",
              "      <td>2013</td>\n",
              "      <td>Juan dos mortos</td>\n",
              "      <td>E1500499600000</td>\n",
              "      <td>Ficção</td>\n",
              "      <td>Cuba, Espanha</td>\n",
              "      <td>Estrangeira</td>\n",
              "      <td>41446</td>\n",
              "      <td>Imovision</td>\n",
              "      <td>Distribuição Nacional</td>\n",
              "      <td>2296</td>\n",
              "      <td>29960.1</td>\n",
              "    </tr>\n",
              "    <tr>\n",
              "      <th>2294</th>\n",
              "      <td>2016</td>\n",
              "      <td>Chatô - O Rei do Brasil</td>\n",
              "      <td>B1001208900000</td>\n",
              "      <td>Ficção</td>\n",
              "      <td>Brasil</td>\n",
              "      <td>Brasileira</td>\n",
              "      <td>42327</td>\n",
              "      <td>Milocos Entretenimento</td>\n",
              "      <td>Distribuição Nacional</td>\n",
              "      <td>4811</td>\n",
              "      <td>49975</td>\n",
              "    </tr>\n",
              "    <tr>\n",
              "      <th>1590</th>\n",
              "      <td>2017</td>\n",
              "      <td>Creepy</td>\n",
              "      <td>E1600660700000</td>\n",
              "      <td>Ficção</td>\n",
              "      <td>Japão</td>\n",
              "      <td>Estrangeira</td>\n",
              "      <td>42691</td>\n",
              "      <td>Zeta Filmes</td>\n",
              "      <td>Distribuição Nacional</td>\n",
              "      <td>1019</td>\n",
              "      <td>6856</td>\n",
              "    </tr>\n",
              "    <tr>\n",
              "      <th>2253</th>\n",
              "      <td>2016</td>\n",
              "      <td>Boa Noite, Mamãe</td>\n",
              "      <td>E1600003300000</td>\n",
              "      <td>Ficção</td>\n",
              "      <td>Áustria</td>\n",
              "      <td>Estrangeira</td>\n",
              "      <td>42439</td>\n",
              "      <td>Playarte</td>\n",
              "      <td>Distribuição Nacional</td>\n",
              "      <td>18971</td>\n",
              "      <td>268775</td>\n",
              "    </tr>\n",
              "    <tr>\n",
              "      <th>1875</th>\n",
              "      <td>2017</td>\n",
              "      <td>O Jovem Karl Marx</td>\n",
              "      <td>E1700517900000</td>\n",
              "      <td>Ficção</td>\n",
              "      <td>Alemanha, Bélgica, França</td>\n",
              "      <td>Estrangeira</td>\n",
              "      <td>43097</td>\n",
              "      <td>Califórnia</td>\n",
              "      <td>Distribuição Nacional</td>\n",
              "      <td>5291</td>\n",
              "      <td>96294.4</td>\n",
              "    </tr>\n",
              "    <tr>\n",
              "      <th>3156</th>\n",
              "      <td>2015</td>\n",
              "      <td>Foxcatcher - Uma história que chocou o mundo</td>\n",
              "      <td>E1402566800000</td>\n",
              "      <td>Ficção</td>\n",
              "      <td>Estados Unidos</td>\n",
              "      <td>Estrangeira</td>\n",
              "      <td>42026</td>\n",
              "      <td>Sony</td>\n",
              "      <td>Distribuição Internacional</td>\n",
              "      <td>45693</td>\n",
              "      <td>781515</td>\n",
              "    </tr>\n",
              "    <tr>\n",
              "      <th>4049</th>\n",
              "      <td>2014</td>\n",
              "      <td>O Crítico</td>\n",
              "      <td>E1402782200000</td>\n",
              "      <td>Ficção</td>\n",
              "      <td>Argentina</td>\n",
              "      <td>Estrangeira</td>\n",
              "      <td>41998</td>\n",
              "      <td>Esfera Produções</td>\n",
              "      <td>Distribuição Nacional</td>\n",
              "      <td>6202</td>\n",
              "      <td>79430.5</td>\n",
              "    </tr>\n",
              "    <tr>\n",
              "      <th>5951</th>\n",
              "      <td>2011</td>\n",
              "      <td>Um Mar de Aventuras 3D</td>\n",
              "      <td>E1600637200000</td>\n",
              "      <td>Documentário</td>\n",
              "      <td>Estados Unidos</td>\n",
              "      <td>Estrangeira</td>\n",
              "      <td>40200</td>\n",
              "      <td>Espaço Itaú de Cinema</td>\n",
              "      <td>Distribuição Nacional</td>\n",
              "      <td>903</td>\n",
              "      <td>17739</td>\n",
              "    </tr>\n",
              "  </tbody>\n",
              "</table>\n",
              "</div>"
            ],
            "text/plain": [
              "     Ano de exibição  ... Renda (R$) no ano de exibição\n",
              "4003            2014  ...                   1.89617e+06\n",
              "3046            2015  ...                       22229.1\n",
              "4606            2013  ...                       29960.1\n",
              "2294            2016  ...                         49975\n",
              "1590            2017  ...                          6856\n",
              "2253            2016  ...                        268775\n",
              "1875            2017  ...                       96294.4\n",
              "3156            2015  ...                        781515\n",
              "4049            2014  ...                       79430.5\n",
              "5951            2011  ...                         17739\n",
              "\n",
              "[10 rows x 11 columns]"
            ]
          },
          "metadata": {
            "tags": []
          },
          "execution_count": 14
        }
      ]
    },
    {
      "cell_type": "code",
      "metadata": {
        "id": "z3Ck5YsjRkZ6"
      },
      "source": [
        "df.tail(50)   # nan  = not a number"
      ],
      "execution_count": null,
      "outputs": []
    },
    {
      "cell_type": "code",
      "metadata": {
        "id": "0XcIBo-NRkWK"
      },
      "source": [
        ""
      ],
      "execution_count": null,
      "outputs": []
    },
    {
      "cell_type": "code",
      "metadata": {
        "id": "-y-Zg89tRkTF"
      },
      "source": [
        ""
      ],
      "execution_count": null,
      "outputs": []
    },
    {
      "cell_type": "code",
      "metadata": {
        "id": "0vC1Q4CURkNl"
      },
      "source": [
        ""
      ],
      "execution_count": null,
      "outputs": []
    },
    {
      "cell_type": "code",
      "metadata": {
        "id": "T8o5mKHjRkK1"
      },
      "source": [
        ""
      ],
      "execution_count": null,
      "outputs": []
    }
  ]
}