{
  "nbformat": 4,
  "nbformat_minor": 0,
  "metadata": {
    "colab": {
      "name": "Filmes_no_Brasil_2009_2019_Análise_de_Dados_em_Python_Aula_01.ipynb",
      "provenance": [],
      "collapsed_sections": [],
      "authorship_tag": "ABX9TyPDUMJQtTuSFmn3O5AdWcSV",
      "include_colab_link": true
    },
    "kernelspec": {
      "name": "python3",
      "display_name": "Python 3"
    },
    "language_info": {
      "name": "python"
    }
  },
  "cells": [
    {
      "cell_type": "markdown",
      "metadata": {
        "id": "view-in-github",
        "colab_type": "text"
      },
      "source": [
        "<a href=\"https://colab.research.google.com/github/V1L3La/Learning-An-lise-de-Dados-em-Python/blob/main/Filmes_no_Brasil_2009_2019_An%C3%A1lise_de_Dados_em_Python_Aula_01.ipynb\" target=\"_parent\"><img src=\"https://colab.research.google.com/assets/colab-badge.svg\" alt=\"Open In Colab\"/></a>"
      ]
    },
    {
      "cell_type": "markdown",
      "metadata": {
        "id": "x4MRRLGmqmML"
      },
      "source": [
        "#### Aumentando meu nível\n",
        "\n",
        "https://www.kaggle.com/joaoavf/introducao-a-analise-de-dados-python-e-pandas\n",
        "\n",
        "https://insightlab.ufc.br/6-truques-do-pandas-para-impulsionar-sua-analise-de-dados/\n",
        "\n",
        "https://towardsdatascience.com/cheat-sheet-for-google-colab-63853778c093\n",
        "\n",
        "Aula 2<br>\n",
        "https://www.youtube.com/watch?v=2oZHg3HOtcY&t=3243s\n",
        "\n",
        "10 minutes to pandas<br>\n",
        "https://pandas.pydata.org/pandas-docs/stable/user_guide/10min.html\n",
        "\n"
      ]
    },
    {
      "cell_type": "markdown",
      "metadata": {
        "id": "lXljWnZHjSZi"
      },
      "source": [
        "#### Analizando problemas de dados no Dataframe  \n",
        "df.shape    # verifica o tamanho do dataframe   (linhas, colunas)<br>\n",
        "df.dtypes   # todas colunas e os tipos [object(texto ou não sabe o que é)]<br>\n",
        "\n",
        "*   Item da lista\n",
        "*   Item da lista\n",
        "\n",
        "\n",
        "df.describe()<br>\n",
        "df.info()<br>\n",
        "df.head(4)<br>\n",
        "df.sample(10)   #lista linhas aleatórias<br>\n",
        "df.tail()<br>\n",
        "df.isnull().sum() retorna o número de valores ausentes para cada coluna.<br>\n",
        "df.isnull().sum().sum() retorna o número total de valores ausentes.<br>\n",
        "descobrir a porcentagem de valores que estão faltando, executando: df.isna().mean()<br>\n",
        "    🠗🠗🠗🠗🠗🠗🠗🠗🠗🠗🠗🠗🠗🠗🠗🠗🠗🠗🠗🠗🠗🠗🠗🠗🠗🠗🠗🠗🠗🠗🠗🠗🠗🠗🠗🠗🠗🠗🠗<br>\n",
        "help(pd.Series.loc) pedindo ajuda<br>"
      ]
    },
    {
      "cell_type": "markdown",
      "metadata": {
        "id": "_TokV1K7RNYo"
      },
      "source": [
        "#Análise de dados de filmes exibidos no Brasil de 2009 a 2019\n",
        "\n",
        "#####Com base nos dados da Ancine (https://oca.ancine.gov.br) vamos analisar os filmes exibidos no Brasil\n",
        "\n",
        "Arquivo -> filmes_no_Brasil_2009_2019.xlsx\n",
        "\n"
      ]
    },
    {
      "cell_type": "markdown",
      "metadata": {
        "id": "GR46HoqzLh51"
      },
      "source": [
        ""
      ]
    },
    {
      "cell_type": "code",
      "metadata": {
        "id": "p-8DhtZgRMbg"
      },
      "source": [
        "import pandas as pd\n",
        "%matplotlib inline"
      ],
      "execution_count": 1,
      "outputs": []
    },
    {
      "cell_type": "code",
      "metadata": {
        "colab": {
          "base_uri": "https://localhost:8080/",
          "height": 357
        },
        "id": "qwHj1mgURkdG",
        "outputId": "147d3cb9-f137-4963-9264-6cb42702bd02"
      },
      "source": [
        "# carrega um dataframe com base no arquivo excel sem as 2 primeiras linhas do titulo e chute as 20 ultimas linhas\n",
        "df = pd.read_excel('https://github.com/V1L3La/Learning-An-lise-de-Dados-em-Python/blob/main/filmes_no_Brasil_2009_2019.xlsx?raw=true', skiprows=2 ,skipfooter=20)\n",
        "df.head()"
      ],
      "execution_count": 2,
      "outputs": [
        {
          "output_type": "execute_result",
          "data": {
            "text/html": [
              "<div>\n",
              "<style scoped>\n",
              "    .dataframe tbody tr th:only-of-type {\n",
              "        vertical-align: middle;\n",
              "    }\n",
              "\n",
              "    .dataframe tbody tr th {\n",
              "        vertical-align: top;\n",
              "    }\n",
              "\n",
              "    .dataframe thead th {\n",
              "        text-align: right;\n",
              "    }\n",
              "</style>\n",
              "<table border=\"1\" class=\"dataframe\">\n",
              "  <thead>\n",
              "    <tr style=\"text-align: right;\">\n",
              "      <th></th>\n",
              "      <th>Ano de exibição</th>\n",
              "      <th>Título da obra</th>\n",
              "      <th>CPB/ROE</th>\n",
              "      <th>Gênero</th>\n",
              "      <th>País(es) produtor(es) da obra</th>\n",
              "      <th>Nacionalidade da obra</th>\n",
              "      <th>Data de lançamento</th>\n",
              "      <th>Empresa distribuidora</th>\n",
              "      <th>Origem da empresa distribuidora</th>\n",
              "      <th>Público no ano de exibição</th>\n",
              "      <th>Renda (R$) no ano de exibição</th>\n",
              "    </tr>\n",
              "  </thead>\n",
              "  <tbody>\n",
              "    <tr>\n",
              "      <th>0</th>\n",
              "      <td>2019</td>\n",
              "      <td>120 Batimentos Por Minuto</td>\n",
              "      <td>E1700453800000</td>\n",
              "      <td>Ficção</td>\n",
              "      <td>França</td>\n",
              "      <td>Estrangeira</td>\n",
              "      <td>43104</td>\n",
              "      <td>Imovision</td>\n",
              "      <td>Distribuição Nacional</td>\n",
              "      <td>10</td>\n",
              "      <td>70</td>\n",
              "    </tr>\n",
              "    <tr>\n",
              "      <th>1</th>\n",
              "      <td>2019</td>\n",
              "      <td>3 Faces</td>\n",
              "      <td>E1800494900000</td>\n",
              "      <td>Ficção</td>\n",
              "      <td>Irã</td>\n",
              "      <td>Estrangeira</td>\n",
              "      <td>43559</td>\n",
              "      <td>Imovision</td>\n",
              "      <td>Distribuição Nacional</td>\n",
              "      <td>6289</td>\n",
              "      <td>103805</td>\n",
              "    </tr>\n",
              "    <tr>\n",
              "      <th>2</th>\n",
              "      <td>2019</td>\n",
              "      <td>45 Dias Sem Você</td>\n",
              "      <td>B1800586000000</td>\n",
              "      <td>Ficção</td>\n",
              "      <td>Brasil</td>\n",
              "      <td>Brasileira</td>\n",
              "      <td>43601</td>\n",
              "      <td>O2 Play</td>\n",
              "      <td>Distribuição Nacional</td>\n",
              "      <td>3303</td>\n",
              "      <td>31295</td>\n",
              "    </tr>\n",
              "    <tr>\n",
              "      <th>3</th>\n",
              "      <td>2019</td>\n",
              "      <td>A 100 Passos De Um Sonho</td>\n",
              "      <td>E1402795100000</td>\n",
              "      <td>Ficção</td>\n",
              "      <td>Estados Unidos</td>\n",
              "      <td>Estrangeira</td>\n",
              "      <td>41879</td>\n",
              "      <td>Disney</td>\n",
              "      <td>Distribuição Internacional</td>\n",
              "      <td>69</td>\n",
              "      <td>4186</td>\n",
              "    </tr>\n",
              "    <tr>\n",
              "      <th>4</th>\n",
              "      <td>2019</td>\n",
              "      <td>A Abelhinha Maya - O Filme</td>\n",
              "      <td>E1800136100000</td>\n",
              "      <td>Animação</td>\n",
              "      <td>Alemanha</td>\n",
              "      <td>Estrangeira</td>\n",
              "      <td>43237</td>\n",
              "      <td>Playarte</td>\n",
              "      <td>Distribuição Nacional</td>\n",
              "      <td>402</td>\n",
              "      <td>3531</td>\n",
              "    </tr>\n",
              "  </tbody>\n",
              "</table>\n",
              "</div>"
            ],
            "text/plain": [
              "   Ano de exibição  ... Renda (R$) no ano de exibição\n",
              "0             2019  ...                            70\n",
              "1             2019  ...                        103805\n",
              "2             2019  ...                         31295\n",
              "3             2019  ...                          4186\n",
              "4             2019  ...                          3531\n",
              "\n",
              "[5 rows x 11 columns]"
            ]
          },
          "metadata": {
            "tags": []
          },
          "execution_count": 2
        }
      ]
    },
    {
      "cell_type": "markdown",
      "metadata": {
        "id": "gVb06wAHLjd9"
      },
      "source": [
        ""
      ]
    },
    {
      "cell_type": "code",
      "metadata": {
        "id": "a4NUgYvhpfmn",
        "colab": {
          "base_uri": "https://localhost:8080/"
        },
        "outputId": "122dfc41-6dc2-4fb8-bbde-4871d7a1cdc3"
      },
      "source": [
        "df.shape"
      ],
      "execution_count": 3,
      "outputs": [
        {
          "output_type": "execute_result",
          "data": {
            "text/plain": [
              "(7081, 11)"
            ]
          },
          "metadata": {
            "tags": []
          },
          "execution_count": 3
        }
      ]
    },
    {
      "cell_type": "code",
      "metadata": {
        "id": "OXiwlGispMKt",
        "colab": {
          "base_uri": "https://localhost:8080/",
          "height": 297
        },
        "outputId": "bdf523f2-b5e4-447b-f206-155595da678f"
      },
      "source": [
        "df.describe()"
      ],
      "execution_count": 4,
      "outputs": [
        {
          "output_type": "execute_result",
          "data": {
            "text/html": [
              "<div>\n",
              "<style scoped>\n",
              "    .dataframe tbody tr th:only-of-type {\n",
              "        vertical-align: middle;\n",
              "    }\n",
              "\n",
              "    .dataframe tbody tr th {\n",
              "        vertical-align: top;\n",
              "    }\n",
              "\n",
              "    .dataframe thead th {\n",
              "        text-align: right;\n",
              "    }\n",
              "</style>\n",
              "<table border=\"1\" class=\"dataframe\">\n",
              "  <thead>\n",
              "    <tr style=\"text-align: right;\">\n",
              "      <th></th>\n",
              "      <th>Ano de exibição</th>\n",
              "    </tr>\n",
              "  </thead>\n",
              "  <tbody>\n",
              "    <tr>\n",
              "      <th>count</th>\n",
              "      <td>7081.000000</td>\n",
              "    </tr>\n",
              "    <tr>\n",
              "      <th>mean</th>\n",
              "      <td>2014.339924</td>\n",
              "    </tr>\n",
              "    <tr>\n",
              "      <th>std</th>\n",
              "      <td>3.106327</td>\n",
              "    </tr>\n",
              "    <tr>\n",
              "      <th>min</th>\n",
              "      <td>2009.000000</td>\n",
              "    </tr>\n",
              "    <tr>\n",
              "      <th>25%</th>\n",
              "      <td>2012.000000</td>\n",
              "    </tr>\n",
              "    <tr>\n",
              "      <th>50%</th>\n",
              "      <td>2015.000000</td>\n",
              "    </tr>\n",
              "    <tr>\n",
              "      <th>75%</th>\n",
              "      <td>2017.000000</td>\n",
              "    </tr>\n",
              "    <tr>\n",
              "      <th>max</th>\n",
              "      <td>2019.000000</td>\n",
              "    </tr>\n",
              "  </tbody>\n",
              "</table>\n",
              "</div>"
            ],
            "text/plain": [
              "       Ano de exibição\n",
              "count      7081.000000\n",
              "mean       2014.339924\n",
              "std           3.106327\n",
              "min        2009.000000\n",
              "25%        2012.000000\n",
              "50%        2015.000000\n",
              "75%        2017.000000\n",
              "max        2019.000000"
            ]
          },
          "metadata": {
            "tags": []
          },
          "execution_count": 4
        }
      ]
    },
    {
      "cell_type": "code",
      "metadata": {
        "id": "QJ8mXKcup2N2",
        "colab": {
          "base_uri": "https://localhost:8080/",
          "height": 357
        },
        "outputId": "852ad18e-a2a4-46ca-8d5a-4e0f421b30a6"
      },
      "source": [
        "df.sample(5)"
      ],
      "execution_count": 5,
      "outputs": [
        {
          "output_type": "execute_result",
          "data": {
            "text/html": [
              "<div>\n",
              "<style scoped>\n",
              "    .dataframe tbody tr th:only-of-type {\n",
              "        vertical-align: middle;\n",
              "    }\n",
              "\n",
              "    .dataframe tbody tr th {\n",
              "        vertical-align: top;\n",
              "    }\n",
              "\n",
              "    .dataframe thead th {\n",
              "        text-align: right;\n",
              "    }\n",
              "</style>\n",
              "<table border=\"1\" class=\"dataframe\">\n",
              "  <thead>\n",
              "    <tr style=\"text-align: right;\">\n",
              "      <th></th>\n",
              "      <th>Ano de exibição</th>\n",
              "      <th>Título da obra</th>\n",
              "      <th>CPB/ROE</th>\n",
              "      <th>Gênero</th>\n",
              "      <th>País(es) produtor(es) da obra</th>\n",
              "      <th>Nacionalidade da obra</th>\n",
              "      <th>Data de lançamento</th>\n",
              "      <th>Empresa distribuidora</th>\n",
              "      <th>Origem da empresa distribuidora</th>\n",
              "      <th>Público no ano de exibição</th>\n",
              "      <th>Renda (R$) no ano de exibição</th>\n",
              "    </tr>\n",
              "  </thead>\n",
              "  <tbody>\n",
              "    <tr>\n",
              "      <th>6039</th>\n",
              "      <td>2010</td>\n",
              "      <td>Abraços Partidos</td>\n",
              "      <td>E1402604700000</td>\n",
              "      <td>Ficção</td>\n",
              "      <td>Espanha</td>\n",
              "      <td>Estrangeira</td>\n",
              "      <td>40151</td>\n",
              "      <td>Universal</td>\n",
              "      <td>Distribuição Internacional</td>\n",
              "      <td>74051</td>\n",
              "      <td>660825</td>\n",
              "    </tr>\n",
              "    <tr>\n",
              "      <th>3543</th>\n",
              "      <td>2015</td>\n",
              "      <td>Star Wars: Episódio V - O Império Contra-Ataca</td>\n",
              "      <td>E1402767000000</td>\n",
              "      <td>Ficção</td>\n",
              "      <td>Estados Unidos</td>\n",
              "      <td>Estrangeira</td>\n",
              "      <td>Relançamento</td>\n",
              "      <td>Fox</td>\n",
              "      <td>Distribuição Internacional</td>\n",
              "      <td>195</td>\n",
              "      <td>3055</td>\n",
              "    </tr>\n",
              "    <tr>\n",
              "      <th>6793</th>\n",
              "      <td>2009</td>\n",
              "      <td>Juízo Final</td>\n",
              "      <td>E1600563600000</td>\n",
              "      <td>Ficção</td>\n",
              "      <td>Inglaterra</td>\n",
              "      <td>Estrangeira</td>\n",
              "      <td>40046</td>\n",
              "      <td>Europa</td>\n",
              "      <td>Distribuição Nacional</td>\n",
              "      <td>50330</td>\n",
              "      <td>375094</td>\n",
              "    </tr>\n",
              "    <tr>\n",
              "      <th>5185</th>\n",
              "      <td>2012</td>\n",
              "      <td>Meia-noite em Paris</td>\n",
              "      <td>E1600219100000</td>\n",
              "      <td>Ficção</td>\n",
              "      <td>Espanha, Estados Unidos</td>\n",
              "      <td>Estrangeira</td>\n",
              "      <td>40711</td>\n",
              "      <td>Paris</td>\n",
              "      <td>Distribuição Nacional</td>\n",
              "      <td>262</td>\n",
              "      <td>2157.06</td>\n",
              "    </tr>\n",
              "    <tr>\n",
              "      <th>1384</th>\n",
              "      <td>2018</td>\n",
              "      <td>Wheely</td>\n",
              "      <td>E1800347600000</td>\n",
              "      <td>Animação</td>\n",
              "      <td>Malásia</td>\n",
              "      <td>Estrangeira</td>\n",
              "      <td>43349</td>\n",
              "      <td>Playarte</td>\n",
              "      <td>Distribuição Nacional</td>\n",
              "      <td>13384</td>\n",
              "      <td>196138</td>\n",
              "    </tr>\n",
              "  </tbody>\n",
              "</table>\n",
              "</div>"
            ],
            "text/plain": [
              "      Ano de exibição  ... Renda (R$) no ano de exibição\n",
              "6039             2010  ...                        660825\n",
              "3543             2015  ...                          3055\n",
              "6793             2009  ...                        375094\n",
              "5185             2012  ...                       2157.06\n",
              "1384             2018  ...                        196138\n",
              "\n",
              "[5 rows x 11 columns]"
            ]
          },
          "metadata": {
            "tags": []
          },
          "execution_count": 5
        }
      ]
    },
    {
      "cell_type": "code",
      "metadata": {
        "id": "z3Ck5YsjRkZ6",
        "colab": {
          "base_uri": "https://localhost:8080/",
          "height": 357
        },
        "outputId": "89258cb0-ab10-4bf5-e6bb-69e1bad06f86"
      },
      "source": [
        "df.tail()   # nan  = not a number"
      ],
      "execution_count": 6,
      "outputs": [
        {
          "output_type": "execute_result",
          "data": {
            "text/html": [
              "<div>\n",
              "<style scoped>\n",
              "    .dataframe tbody tr th:only-of-type {\n",
              "        vertical-align: middle;\n",
              "    }\n",
              "\n",
              "    .dataframe tbody tr th {\n",
              "        vertical-align: top;\n",
              "    }\n",
              "\n",
              "    .dataframe thead th {\n",
              "        text-align: right;\n",
              "    }\n",
              "</style>\n",
              "<table border=\"1\" class=\"dataframe\">\n",
              "  <thead>\n",
              "    <tr style=\"text-align: right;\">\n",
              "      <th></th>\n",
              "      <th>Ano de exibição</th>\n",
              "      <th>Título da obra</th>\n",
              "      <th>CPB/ROE</th>\n",
              "      <th>Gênero</th>\n",
              "      <th>País(es) produtor(es) da obra</th>\n",
              "      <th>Nacionalidade da obra</th>\n",
              "      <th>Data de lançamento</th>\n",
              "      <th>Empresa distribuidora</th>\n",
              "      <th>Origem da empresa distribuidora</th>\n",
              "      <th>Público no ano de exibição</th>\n",
              "      <th>Renda (R$) no ano de exibição</th>\n",
              "    </tr>\n",
              "  </thead>\n",
              "  <tbody>\n",
              "    <tr>\n",
              "      <th>7076</th>\n",
              "      <td>2009</td>\n",
              "      <td>Xuxa Gêmeas</td>\n",
              "      <td>B0600616500000</td>\n",
              "      <td>Ficção</td>\n",
              "      <td>Brasil</td>\n",
              "      <td>Brasileira</td>\n",
              "      <td>39066</td>\n",
              "      <td>Fox</td>\n",
              "      <td>Distribuição Internacional</td>\n",
              "      <td>1671</td>\n",
              "      <td>5013</td>\n",
              "    </tr>\n",
              "    <tr>\n",
              "      <th>7077</th>\n",
              "      <td>2009</td>\n",
              "      <td>Zico na Rede</td>\n",
              "      <td>B0901041400000</td>\n",
              "      <td>Documentário</td>\n",
              "      <td>Brasil</td>\n",
              "      <td>Brasileira</td>\n",
              "      <td>39997</td>\n",
              "      <td>Business Telecom</td>\n",
              "      <td>Distribuição Nacional</td>\n",
              "      <td>546</td>\n",
              "      <td>2529.5</td>\n",
              "    </tr>\n",
              "    <tr>\n",
              "      <th>7078</th>\n",
              "      <td>2009</td>\n",
              "      <td>À Deriva</td>\n",
              "      <td>B0901015000000</td>\n",
              "      <td>Ficção</td>\n",
              "      <td>Brasil, Estados Unidos</td>\n",
              "      <td>Brasileira</td>\n",
              "      <td>40025</td>\n",
              "      <td>Universal</td>\n",
              "      <td>Distribuição Internacional</td>\n",
              "      <td>94588</td>\n",
              "      <td>870171</td>\n",
              "    </tr>\n",
              "    <tr>\n",
              "      <th>7079</th>\n",
              "      <td>2009</td>\n",
              "      <td>É Proibido Fumar</td>\n",
              "      <td>B0901108700000</td>\n",
              "      <td>Ficção</td>\n",
              "      <td>Brasil</td>\n",
              "      <td>Brasileira</td>\n",
              "      <td>40151</td>\n",
              "      <td>Playarte</td>\n",
              "      <td>Distribuição Nacional</td>\n",
              "      <td>33291</td>\n",
              "      <td>303276</td>\n",
              "    </tr>\n",
              "    <tr>\n",
              "      <th>7080</th>\n",
              "      <td>2009</td>\n",
              "      <td>Última Parada - 174</td>\n",
              "      <td>B0800914800000</td>\n",
              "      <td>Ficção</td>\n",
              "      <td>Brasil</td>\n",
              "      <td>Brasileira</td>\n",
              "      <td>39745</td>\n",
              "      <td>Paramount</td>\n",
              "      <td>Distribuição Internacional</td>\n",
              "      <td>2107</td>\n",
              "      <td>8954</td>\n",
              "    </tr>\n",
              "  </tbody>\n",
              "</table>\n",
              "</div>"
            ],
            "text/plain": [
              "      Ano de exibição  ... Renda (R$) no ano de exibição\n",
              "7076             2009  ...                          5013\n",
              "7077             2009  ...                        2529.5\n",
              "7078             2009  ...                        870171\n",
              "7079             2009  ...                        303276\n",
              "7080             2009  ...                          8954\n",
              "\n",
              "[5 rows x 11 columns]"
            ]
          },
          "metadata": {
            "tags": []
          },
          "execution_count": 6
        }
      ]
    },
    {
      "cell_type": "code",
      "metadata": {
        "colab": {
          "base_uri": "https://localhost:8080/",
          "height": 357
        },
        "id": "_R0ovJdB0zR3",
        "outputId": "e5e2a11b-92e9-4410-cd02-1331d024838e"
      },
      "source": [
        "df.head()"
      ],
      "execution_count": 7,
      "outputs": [
        {
          "output_type": "execute_result",
          "data": {
            "text/html": [
              "<div>\n",
              "<style scoped>\n",
              "    .dataframe tbody tr th:only-of-type {\n",
              "        vertical-align: middle;\n",
              "    }\n",
              "\n",
              "    .dataframe tbody tr th {\n",
              "        vertical-align: top;\n",
              "    }\n",
              "\n",
              "    .dataframe thead th {\n",
              "        text-align: right;\n",
              "    }\n",
              "</style>\n",
              "<table border=\"1\" class=\"dataframe\">\n",
              "  <thead>\n",
              "    <tr style=\"text-align: right;\">\n",
              "      <th></th>\n",
              "      <th>Ano de exibição</th>\n",
              "      <th>Título da obra</th>\n",
              "      <th>CPB/ROE</th>\n",
              "      <th>Gênero</th>\n",
              "      <th>País(es) produtor(es) da obra</th>\n",
              "      <th>Nacionalidade da obra</th>\n",
              "      <th>Data de lançamento</th>\n",
              "      <th>Empresa distribuidora</th>\n",
              "      <th>Origem da empresa distribuidora</th>\n",
              "      <th>Público no ano de exibição</th>\n",
              "      <th>Renda (R$) no ano de exibição</th>\n",
              "    </tr>\n",
              "  </thead>\n",
              "  <tbody>\n",
              "    <tr>\n",
              "      <th>0</th>\n",
              "      <td>2019</td>\n",
              "      <td>120 Batimentos Por Minuto</td>\n",
              "      <td>E1700453800000</td>\n",
              "      <td>Ficção</td>\n",
              "      <td>França</td>\n",
              "      <td>Estrangeira</td>\n",
              "      <td>43104</td>\n",
              "      <td>Imovision</td>\n",
              "      <td>Distribuição Nacional</td>\n",
              "      <td>10</td>\n",
              "      <td>70</td>\n",
              "    </tr>\n",
              "    <tr>\n",
              "      <th>1</th>\n",
              "      <td>2019</td>\n",
              "      <td>3 Faces</td>\n",
              "      <td>E1800494900000</td>\n",
              "      <td>Ficção</td>\n",
              "      <td>Irã</td>\n",
              "      <td>Estrangeira</td>\n",
              "      <td>43559</td>\n",
              "      <td>Imovision</td>\n",
              "      <td>Distribuição Nacional</td>\n",
              "      <td>6289</td>\n",
              "      <td>103805</td>\n",
              "    </tr>\n",
              "    <tr>\n",
              "      <th>2</th>\n",
              "      <td>2019</td>\n",
              "      <td>45 Dias Sem Você</td>\n",
              "      <td>B1800586000000</td>\n",
              "      <td>Ficção</td>\n",
              "      <td>Brasil</td>\n",
              "      <td>Brasileira</td>\n",
              "      <td>43601</td>\n",
              "      <td>O2 Play</td>\n",
              "      <td>Distribuição Nacional</td>\n",
              "      <td>3303</td>\n",
              "      <td>31295</td>\n",
              "    </tr>\n",
              "    <tr>\n",
              "      <th>3</th>\n",
              "      <td>2019</td>\n",
              "      <td>A 100 Passos De Um Sonho</td>\n",
              "      <td>E1402795100000</td>\n",
              "      <td>Ficção</td>\n",
              "      <td>Estados Unidos</td>\n",
              "      <td>Estrangeira</td>\n",
              "      <td>41879</td>\n",
              "      <td>Disney</td>\n",
              "      <td>Distribuição Internacional</td>\n",
              "      <td>69</td>\n",
              "      <td>4186</td>\n",
              "    </tr>\n",
              "    <tr>\n",
              "      <th>4</th>\n",
              "      <td>2019</td>\n",
              "      <td>A Abelhinha Maya - O Filme</td>\n",
              "      <td>E1800136100000</td>\n",
              "      <td>Animação</td>\n",
              "      <td>Alemanha</td>\n",
              "      <td>Estrangeira</td>\n",
              "      <td>43237</td>\n",
              "      <td>Playarte</td>\n",
              "      <td>Distribuição Nacional</td>\n",
              "      <td>402</td>\n",
              "      <td>3531</td>\n",
              "    </tr>\n",
              "  </tbody>\n",
              "</table>\n",
              "</div>"
            ],
            "text/plain": [
              "   Ano de exibição  ... Renda (R$) no ano de exibição\n",
              "0             2019  ...                            70\n",
              "1             2019  ...                        103805\n",
              "2             2019  ...                         31295\n",
              "3             2019  ...                          4186\n",
              "4             2019  ...                          3531\n",
              "\n",
              "[5 rows x 11 columns]"
            ]
          },
          "metadata": {
            "tags": []
          },
          "execution_count": 7
        }
      ]
    },
    {
      "cell_type": "code",
      "metadata": {
        "colab": {
          "base_uri": "https://localhost:8080/"
        },
        "id": "0XcIBo-NRkWK",
        "outputId": "358cb578-21d4-48c8-80bb-9380d6f107a8"
      },
      "source": [
        "df.dtypes\n"
      ],
      "execution_count": 8,
      "outputs": [
        {
          "output_type": "execute_result",
          "data": {
            "text/plain": [
              "Ano de exibição                     int64\n",
              "Título da obra                     object\n",
              "CPB/ROE                            object\n",
              "Gênero                             object\n",
              "País(es) produtor(es) da obra      object\n",
              "Nacionalidade da obra              object\n",
              "Data de lançamento                 object\n",
              "Empresa distribuidora              object\n",
              "Origem da empresa distribuidora    object\n",
              "Público no ano de exibição         object\n",
              "Renda (R$) no ano de exibição      object\n",
              "dtype: object"
            ]
          },
          "metadata": {
            "tags": []
          },
          "execution_count": 8
        }
      ]
    },
    {
      "cell_type": "code",
      "metadata": {
        "id": "-y-Zg89tRkTF"
      },
      "source": [
        "#----1\n",
        "# Transformar o campo Data de lançamento em data\n",
        "#df['Data de lançamento'] = pd.to_datetime(df['Data de lançamento'])"
      ],
      "execution_count": 9,
      "outputs": []
    },
    {
      "cell_type": "code",
      "metadata": {
        "colab": {
          "base_uri": "https://localhost:8080/"
        },
        "id": "0vC1Q4CURkNl",
        "outputId": "b828ecbb-b767-4616-ab5e-6b96bbd07411"
      },
      "source": [
        "#---2\n",
        "# identificar o problema da coluna Data de lançamento\n",
        "df['Data de lançamento'].value_counts() \n"
      ],
      "execution_count": 10,
      "outputs": [
        {
          "output_type": "execute_result",
          "data": {
            "text/plain": [
              "Relançamento    198\n",
              "41264            33\n",
              "42341            33\n",
              "41607            29\n",
              "41215            27\n",
              "               ... \n",
              "39879             1\n",
              "41922             1\n",
              "41913             1\n",
              "40328             1\n",
              "43364             1\n",
              "Name: Data de lançamento, Length: 878, dtype: int64"
            ]
          },
          "metadata": {
            "tags": []
          },
          "execution_count": 10
        }
      ]
    },
    {
      "cell_type": "code",
      "metadata": {
        "colab": {
          "base_uri": "https://localhost:8080/",
          "height": 640
        },
        "id": "T8o5mKHjRkK1",
        "outputId": "c7a91201-2a15-4242-fe56-6889a3ca34e5"
      },
      "source": [
        "#---3\n",
        "# exibir Data de lançamento  como relançamento\n",
        "df[df['Data de lançamento'] == 'Relançamento']"
      ],
      "execution_count": 11,
      "outputs": [
        {
          "output_type": "execute_result",
          "data": {
            "text/html": [
              "<div>\n",
              "<style scoped>\n",
              "    .dataframe tbody tr th:only-of-type {\n",
              "        vertical-align: middle;\n",
              "    }\n",
              "\n",
              "    .dataframe tbody tr th {\n",
              "        vertical-align: top;\n",
              "    }\n",
              "\n",
              "    .dataframe thead th {\n",
              "        text-align: right;\n",
              "    }\n",
              "</style>\n",
              "<table border=\"1\" class=\"dataframe\">\n",
              "  <thead>\n",
              "    <tr style=\"text-align: right;\">\n",
              "      <th></th>\n",
              "      <th>Ano de exibição</th>\n",
              "      <th>Título da obra</th>\n",
              "      <th>CPB/ROE</th>\n",
              "      <th>Gênero</th>\n",
              "      <th>País(es) produtor(es) da obra</th>\n",
              "      <th>Nacionalidade da obra</th>\n",
              "      <th>Data de lançamento</th>\n",
              "      <th>Empresa distribuidora</th>\n",
              "      <th>Origem da empresa distribuidora</th>\n",
              "      <th>Público no ano de exibição</th>\n",
              "      <th>Renda (R$) no ano de exibição</th>\n",
              "    </tr>\n",
              "  </thead>\n",
              "  <tbody>\n",
              "    <tr>\n",
              "      <th>6</th>\n",
              "      <td>2019</td>\n",
              "      <td>A Bela da Tarde</td>\n",
              "      <td>E1700492900000</td>\n",
              "      <td>Ficção</td>\n",
              "      <td>França, Itália</td>\n",
              "      <td>Estrangeira</td>\n",
              "      <td>Relançamento</td>\n",
              "      <td>Zeta Filmes</td>\n",
              "      <td>Distribuição Nacional</td>\n",
              "      <td>14</td>\n",
              "      <td>253</td>\n",
              "    </tr>\n",
              "    <tr>\n",
              "      <th>278</th>\n",
              "      <td>2019</td>\n",
              "      <td>Gritos e Sussurros</td>\n",
              "      <td>E1600273100000</td>\n",
              "      <td>Ficção</td>\n",
              "      <td>Suécia</td>\n",
              "      <td>Estrangeira</td>\n",
              "      <td>Relançamento</td>\n",
              "      <td>F. J. Cines</td>\n",
              "      <td>Distribuição Nacional</td>\n",
              "      <td>105</td>\n",
              "      <td>1024</td>\n",
              "    </tr>\n",
              "    <tr>\n",
              "      <th>359</th>\n",
              "      <td>2019</td>\n",
              "      <td>Matrix</td>\n",
              "      <td>E1500096600000</td>\n",
              "      <td>Ficção</td>\n",
              "      <td>Austrália, Estados Unidos</td>\n",
              "      <td>Estrangeira</td>\n",
              "      <td>Relançamento</td>\n",
              "      <td>Warner</td>\n",
              "      <td>Distribuição Internacional</td>\n",
              "      <td>18260</td>\n",
              "      <td>277563</td>\n",
              "    </tr>\n",
              "    <tr>\n",
              "      <th>390</th>\n",
              "      <td>2019</td>\n",
              "      <td>Morangos Silvestres</td>\n",
              "      <td>E1500804700000</td>\n",
              "      <td>Ficção</td>\n",
              "      <td>Suécia</td>\n",
              "      <td>Estrangeira</td>\n",
              "      <td>Relançamento</td>\n",
              "      <td>F. J. Cines</td>\n",
              "      <td>Distribuição Nacional</td>\n",
              "      <td>129</td>\n",
              "      <td>1230</td>\n",
              "    </tr>\n",
              "    <tr>\n",
              "      <th>396</th>\n",
              "      <td>2019</td>\n",
              "      <td>Mulholland Drive - Cidade dos Sonhos</td>\n",
              "      <td>E1700486000000</td>\n",
              "      <td>Ficção</td>\n",
              "      <td>Estados Unidos, França</td>\n",
              "      <td>Estrangeira</td>\n",
              "      <td>Relançamento</td>\n",
              "      <td>Zeta Filmes</td>\n",
              "      <td>Distribuição Nacional</td>\n",
              "      <td>50</td>\n",
              "      <td>920</td>\n",
              "    </tr>\n",
              "    <tr>\n",
              "      <th>...</th>\n",
              "      <td>...</td>\n",
              "      <td>...</td>\n",
              "      <td>...</td>\n",
              "      <td>...</td>\n",
              "      <td>...</td>\n",
              "      <td>...</td>\n",
              "      <td>...</td>\n",
              "      <td>...</td>\n",
              "      <td>...</td>\n",
              "      <td>...</td>\n",
              "      <td>...</td>\n",
              "    </tr>\n",
              "    <tr>\n",
              "      <th>6503</th>\n",
              "      <td>2009</td>\n",
              "      <td>A agenda</td>\n",
              "      <td>E1600634500000</td>\n",
              "      <td>Ficção</td>\n",
              "      <td>França</td>\n",
              "      <td>Estrangeira</td>\n",
              "      <td>Relançamento</td>\n",
              "      <td>Imovision</td>\n",
              "      <td>Distribuição Nacional</td>\n",
              "      <td>33</td>\n",
              "      <td>154.5</td>\n",
              "    </tr>\n",
              "    <tr>\n",
              "      <th>6738</th>\n",
              "      <td>2009</td>\n",
              "      <td>Fome de Viver</td>\n",
              "      <td>E1600228600000</td>\n",
              "      <td>Ficção</td>\n",
              "      <td>Reino Unido</td>\n",
              "      <td>Estrangeira</td>\n",
              "      <td>Relançamento</td>\n",
              "      <td>Filmes do Estação</td>\n",
              "      <td>Distribuição Nacional</td>\n",
              "      <td>268</td>\n",
              "      <td>944</td>\n",
              "    </tr>\n",
              "    <tr>\n",
              "      <th>6917</th>\n",
              "      <td>2009</td>\n",
              "      <td>Os Contos de Canterbury</td>\n",
              "      <td>E1600589800000</td>\n",
              "      <td>Ficção</td>\n",
              "      <td>Itália</td>\n",
              "      <td>Estrangeira</td>\n",
              "      <td>Relançamento</td>\n",
              "      <td>Pandora Filmes</td>\n",
              "      <td>Distribuição Nacional</td>\n",
              "      <td>5026</td>\n",
              "      <td>29614</td>\n",
              "    </tr>\n",
              "    <tr>\n",
              "      <th>6965</th>\n",
              "      <td>2009</td>\n",
              "      <td>Ratatouille</td>\n",
              "      <td>E1500365600000</td>\n",
              "      <td>Animação</td>\n",
              "      <td>Estados Unidos</td>\n",
              "      <td>Estrangeira</td>\n",
              "      <td>Relançamento</td>\n",
              "      <td>Sony</td>\n",
              "      <td>Distribuição Internacional</td>\n",
              "      <td>230</td>\n",
              "      <td>2300</td>\n",
              "    </tr>\n",
              "    <tr>\n",
              "      <th>6997</th>\n",
              "      <td>2009</td>\n",
              "      <td>Sofá Cama</td>\n",
              "      <td>E1600624100000</td>\n",
              "      <td>Ficção</td>\n",
              "      <td>Argentina</td>\n",
              "      <td>Estrangeira</td>\n",
              "      <td>Relançamento</td>\n",
              "      <td>Panda Filmes</td>\n",
              "      <td>Distribuição Nacional</td>\n",
              "      <td>579</td>\n",
              "      <td>3529.6</td>\n",
              "    </tr>\n",
              "  </tbody>\n",
              "</table>\n",
              "<p>198 rows × 11 columns</p>\n",
              "</div>"
            ],
            "text/plain": [
              "      Ano de exibição  ... Renda (R$) no ano de exibição\n",
              "6                2019  ...                           253\n",
              "278              2019  ...                          1024\n",
              "359              2019  ...                        277563\n",
              "390              2019  ...                          1230\n",
              "396              2019  ...                           920\n",
              "...               ...  ...                           ...\n",
              "6503             2009  ...                         154.5\n",
              "6738             2009  ...                           944\n",
              "6917             2009  ...                         29614\n",
              "6965             2009  ...                          2300\n",
              "6997             2009  ...                        3529.6\n",
              "\n",
              "[198 rows x 11 columns]"
            ]
          },
          "metadata": {
            "tags": []
          },
          "execution_count": 11
        }
      ]
    },
    {
      "cell_type": "markdown",
      "metadata": {
        "id": "rjou4_3R5Dyl"
      },
      "source": [
        "#### Decisão sobre dados incorretos/ faltantes/divergentes\n",
        "\n",
        "apagar?   atualizar manual os dados? o que fazer? Qual decisão?"
      ]
    },
    {
      "cell_type": "code",
      "metadata": {
        "colab": {
          "base_uri": "https://localhost:8080/"
        },
        "id": "xNb4-Wii4cYv",
        "outputId": "b72ce8d5-1ae9-46a3-c27d-92acbdedb357"
      },
      "source": [
        "df.shape"
      ],
      "execution_count": 12,
      "outputs": [
        {
          "output_type": "execute_result",
          "data": {
            "text/plain": [
              "(7081, 11)"
            ]
          },
          "metadata": {
            "tags": []
          },
          "execution_count": 12
        }
      ]
    },
    {
      "cell_type": "code",
      "metadata": {
        "colab": {
          "base_uri": "https://localhost:8080/",
          "height": 357
        },
        "id": "3RiyAUAK53ch",
        "outputId": "5fdf6d55-ab1a-4b30-b248-0895d791f335"
      },
      "source": [
        "#---4\n",
        "#criar(copia) um novo dataframe sem as linhas Relançamentos (-198 linhas)\n",
        "df_novo = df[df['Data de lançamento'] != 'Relançamento']\n",
        "df.head()"
      ],
      "execution_count": 13,
      "outputs": [
        {
          "output_type": "execute_result",
          "data": {
            "text/html": [
              "<div>\n",
              "<style scoped>\n",
              "    .dataframe tbody tr th:only-of-type {\n",
              "        vertical-align: middle;\n",
              "    }\n",
              "\n",
              "    .dataframe tbody tr th {\n",
              "        vertical-align: top;\n",
              "    }\n",
              "\n",
              "    .dataframe thead th {\n",
              "        text-align: right;\n",
              "    }\n",
              "</style>\n",
              "<table border=\"1\" class=\"dataframe\">\n",
              "  <thead>\n",
              "    <tr style=\"text-align: right;\">\n",
              "      <th></th>\n",
              "      <th>Ano de exibição</th>\n",
              "      <th>Título da obra</th>\n",
              "      <th>CPB/ROE</th>\n",
              "      <th>Gênero</th>\n",
              "      <th>País(es) produtor(es) da obra</th>\n",
              "      <th>Nacionalidade da obra</th>\n",
              "      <th>Data de lançamento</th>\n",
              "      <th>Empresa distribuidora</th>\n",
              "      <th>Origem da empresa distribuidora</th>\n",
              "      <th>Público no ano de exibição</th>\n",
              "      <th>Renda (R$) no ano de exibição</th>\n",
              "    </tr>\n",
              "  </thead>\n",
              "  <tbody>\n",
              "    <tr>\n",
              "      <th>0</th>\n",
              "      <td>2019</td>\n",
              "      <td>120 Batimentos Por Minuto</td>\n",
              "      <td>E1700453800000</td>\n",
              "      <td>Ficção</td>\n",
              "      <td>França</td>\n",
              "      <td>Estrangeira</td>\n",
              "      <td>43104</td>\n",
              "      <td>Imovision</td>\n",
              "      <td>Distribuição Nacional</td>\n",
              "      <td>10</td>\n",
              "      <td>70</td>\n",
              "    </tr>\n",
              "    <tr>\n",
              "      <th>1</th>\n",
              "      <td>2019</td>\n",
              "      <td>3 Faces</td>\n",
              "      <td>E1800494900000</td>\n",
              "      <td>Ficção</td>\n",
              "      <td>Irã</td>\n",
              "      <td>Estrangeira</td>\n",
              "      <td>43559</td>\n",
              "      <td>Imovision</td>\n",
              "      <td>Distribuição Nacional</td>\n",
              "      <td>6289</td>\n",
              "      <td>103805</td>\n",
              "    </tr>\n",
              "    <tr>\n",
              "      <th>2</th>\n",
              "      <td>2019</td>\n",
              "      <td>45 Dias Sem Você</td>\n",
              "      <td>B1800586000000</td>\n",
              "      <td>Ficção</td>\n",
              "      <td>Brasil</td>\n",
              "      <td>Brasileira</td>\n",
              "      <td>43601</td>\n",
              "      <td>O2 Play</td>\n",
              "      <td>Distribuição Nacional</td>\n",
              "      <td>3303</td>\n",
              "      <td>31295</td>\n",
              "    </tr>\n",
              "    <tr>\n",
              "      <th>3</th>\n",
              "      <td>2019</td>\n",
              "      <td>A 100 Passos De Um Sonho</td>\n",
              "      <td>E1402795100000</td>\n",
              "      <td>Ficção</td>\n",
              "      <td>Estados Unidos</td>\n",
              "      <td>Estrangeira</td>\n",
              "      <td>41879</td>\n",
              "      <td>Disney</td>\n",
              "      <td>Distribuição Internacional</td>\n",
              "      <td>69</td>\n",
              "      <td>4186</td>\n",
              "    </tr>\n",
              "    <tr>\n",
              "      <th>4</th>\n",
              "      <td>2019</td>\n",
              "      <td>A Abelhinha Maya - O Filme</td>\n",
              "      <td>E1800136100000</td>\n",
              "      <td>Animação</td>\n",
              "      <td>Alemanha</td>\n",
              "      <td>Estrangeira</td>\n",
              "      <td>43237</td>\n",
              "      <td>Playarte</td>\n",
              "      <td>Distribuição Nacional</td>\n",
              "      <td>402</td>\n",
              "      <td>3531</td>\n",
              "    </tr>\n",
              "  </tbody>\n",
              "</table>\n",
              "</div>"
            ],
            "text/plain": [
              "   Ano de exibição  ... Renda (R$) no ano de exibição\n",
              "0             2019  ...                            70\n",
              "1             2019  ...                        103805\n",
              "2             2019  ...                         31295\n",
              "3             2019  ...                          4186\n",
              "4             2019  ...                          3531\n",
              "\n",
              "[5 rows x 11 columns]"
            ]
          },
          "metadata": {
            "tags": []
          },
          "execution_count": 13
        }
      ]
    },
    {
      "cell_type": "code",
      "metadata": {
        "id": "Q18v51rnJlT2",
        "colab": {
          "base_uri": "https://localhost:8080/",
          "height": 390
        },
        "outputId": "ec605371-8fe8-4fef-8208-1031776e4807"
      },
      "source": [
        "# del\n",
        "df_novo[-5:].T"
      ],
      "execution_count": 14,
      "outputs": [
        {
          "output_type": "execute_result",
          "data": {
            "text/html": [
              "<div>\n",
              "<style scoped>\n",
              "    .dataframe tbody tr th:only-of-type {\n",
              "        vertical-align: middle;\n",
              "    }\n",
              "\n",
              "    .dataframe tbody tr th {\n",
              "        vertical-align: top;\n",
              "    }\n",
              "\n",
              "    .dataframe thead th {\n",
              "        text-align: right;\n",
              "    }\n",
              "</style>\n",
              "<table border=\"1\" class=\"dataframe\">\n",
              "  <thead>\n",
              "    <tr style=\"text-align: right;\">\n",
              "      <th></th>\n",
              "      <th>7076</th>\n",
              "      <th>7077</th>\n",
              "      <th>7078</th>\n",
              "      <th>7079</th>\n",
              "      <th>7080</th>\n",
              "    </tr>\n",
              "  </thead>\n",
              "  <tbody>\n",
              "    <tr>\n",
              "      <th>Ano de exibição</th>\n",
              "      <td>2009</td>\n",
              "      <td>2009</td>\n",
              "      <td>2009</td>\n",
              "      <td>2009</td>\n",
              "      <td>2009</td>\n",
              "    </tr>\n",
              "    <tr>\n",
              "      <th>Título da obra</th>\n",
              "      <td>Xuxa Gêmeas</td>\n",
              "      <td>Zico na Rede</td>\n",
              "      <td>À Deriva</td>\n",
              "      <td>É Proibido Fumar</td>\n",
              "      <td>Última Parada - 174</td>\n",
              "    </tr>\n",
              "    <tr>\n",
              "      <th>CPB/ROE</th>\n",
              "      <td>B0600616500000</td>\n",
              "      <td>B0901041400000</td>\n",
              "      <td>B0901015000000</td>\n",
              "      <td>B0901108700000</td>\n",
              "      <td>B0800914800000</td>\n",
              "    </tr>\n",
              "    <tr>\n",
              "      <th>Gênero</th>\n",
              "      <td>Ficção</td>\n",
              "      <td>Documentário</td>\n",
              "      <td>Ficção</td>\n",
              "      <td>Ficção</td>\n",
              "      <td>Ficção</td>\n",
              "    </tr>\n",
              "    <tr>\n",
              "      <th>País(es) produtor(es) da obra</th>\n",
              "      <td>Brasil</td>\n",
              "      <td>Brasil</td>\n",
              "      <td>Brasil, Estados Unidos</td>\n",
              "      <td>Brasil</td>\n",
              "      <td>Brasil</td>\n",
              "    </tr>\n",
              "    <tr>\n",
              "      <th>Nacionalidade da obra</th>\n",
              "      <td>Brasileira</td>\n",
              "      <td>Brasileira</td>\n",
              "      <td>Brasileira</td>\n",
              "      <td>Brasileira</td>\n",
              "      <td>Brasileira</td>\n",
              "    </tr>\n",
              "    <tr>\n",
              "      <th>Data de lançamento</th>\n",
              "      <td>39066</td>\n",
              "      <td>39997</td>\n",
              "      <td>40025</td>\n",
              "      <td>40151</td>\n",
              "      <td>39745</td>\n",
              "    </tr>\n",
              "    <tr>\n",
              "      <th>Empresa distribuidora</th>\n",
              "      <td>Fox</td>\n",
              "      <td>Business Telecom</td>\n",
              "      <td>Universal</td>\n",
              "      <td>Playarte</td>\n",
              "      <td>Paramount</td>\n",
              "    </tr>\n",
              "    <tr>\n",
              "      <th>Origem da empresa distribuidora</th>\n",
              "      <td>Distribuição Internacional</td>\n",
              "      <td>Distribuição Nacional</td>\n",
              "      <td>Distribuição Internacional</td>\n",
              "      <td>Distribuição Nacional</td>\n",
              "      <td>Distribuição Internacional</td>\n",
              "    </tr>\n",
              "    <tr>\n",
              "      <th>Público no ano de exibição</th>\n",
              "      <td>1671</td>\n",
              "      <td>546</td>\n",
              "      <td>94588</td>\n",
              "      <td>33291</td>\n",
              "      <td>2107</td>\n",
              "    </tr>\n",
              "    <tr>\n",
              "      <th>Renda (R$) no ano de exibição</th>\n",
              "      <td>5013</td>\n",
              "      <td>2529.5</td>\n",
              "      <td>870171</td>\n",
              "      <td>303276</td>\n",
              "      <td>8954</td>\n",
              "    </tr>\n",
              "  </tbody>\n",
              "</table>\n",
              "</div>"
            ],
            "text/plain": [
              "                                                       7076  ...                        7080\n",
              "Ano de exibição                                        2009  ...                        2009\n",
              "Título da obra                                  Xuxa Gêmeas  ...         Última Parada - 174\n",
              "CPB/ROE                                      B0600616500000  ...              B0800914800000\n",
              "Gênero                                               Ficção  ...                      Ficção\n",
              "País(es) produtor(es) da obra                        Brasil  ...                      Brasil\n",
              "Nacionalidade da obra                            Brasileira  ...                  Brasileira\n",
              "Data de lançamento                                    39066  ...                       39745\n",
              "Empresa distribuidora                                   Fox  ...                   Paramount\n",
              "Origem da empresa distribuidora  Distribuição Internacional  ...  Distribuição Internacional\n",
              "Público no ano de exibição                             1671  ...                        2107\n",
              "Renda (R$) no ano de exibição                          5013  ...                        8954\n",
              "\n",
              "[11 rows x 5 columns]"
            ]
          },
          "metadata": {
            "tags": []
          },
          "execution_count": 14
        }
      ]
    },
    {
      "cell_type": "code",
      "metadata": {
        "colab": {
          "base_uri": "https://localhost:8080/"
        },
        "id": "V5hjsF5K8Lpz",
        "outputId": "08978aaa-21c7-4989-f3ae-4010f8b9790a"
      },
      "source": [
        "df_novo.shape"
      ],
      "execution_count": 15,
      "outputs": [
        {
          "output_type": "execute_result",
          "data": {
            "text/plain": [
              "(6883, 11)"
            ]
          },
          "metadata": {
            "tags": []
          },
          "execution_count": 15
        }
      ]
    },
    {
      "cell_type": "code",
      "metadata": {
        "colab": {
          "base_uri": "https://localhost:8080/"
        },
        "id": "7gCZwuus7YUO",
        "outputId": "c5283abb-fd74-4948-ea73-48e0d0a84327"
      },
      "source": [
        "df_novo.dtypes"
      ],
      "execution_count": 16,
      "outputs": [
        {
          "output_type": "execute_result",
          "data": {
            "text/plain": [
              "Ano de exibição                     int64\n",
              "Título da obra                     object\n",
              "CPB/ROE                            object\n",
              "Gênero                             object\n",
              "País(es) produtor(es) da obra      object\n",
              "Nacionalidade da obra              object\n",
              "Data de lançamento                 object\n",
              "Empresa distribuidora              object\n",
              "Origem da empresa distribuidora    object\n",
              "Público no ano de exibição         object\n",
              "Renda (R$) no ano de exibição      object\n",
              "dtype: object"
            ]
          },
          "metadata": {
            "tags": []
          },
          "execution_count": 16
        }
      ]
    },
    {
      "cell_type": "code",
      "metadata": {
        "id": "vdUY6JiU8Z0p"
      },
      "source": [
        "#---5\n",
        "# converter a coluna Data de lançamento para datetime\n",
        "# df_novo['Data de lançamento'] = pd.to_datetime(df_novo['Data de lançamento'])"
      ],
      "execution_count": 17,
      "outputs": []
    },
    {
      "cell_type": "code",
      "metadata": {
        "colab": {
          "base_uri": "https://localhost:8080/",
          "height": 282
        },
        "id": "Jdtmagtp825K",
        "outputId": "f9589cba-deea-4822-9f3c-9c1dd33019bf"
      },
      "source": [
        "df_novo['Ano de exibição'].value_counts().plot.barh()"
      ],
      "execution_count": 18,
      "outputs": [
        {
          "output_type": "execute_result",
          "data": {
            "text/plain": [
              "<matplotlib.axes._subplots.AxesSubplot at 0x7fc9ba69a5d0>"
            ]
          },
          "metadata": {
            "tags": []
          },
          "execution_count": 18
        },
        {
          "output_type": "display_data",
          "data": {
            "image/png": "[encoded data removed]",
            "text/plain": [
              "<Figure size 432x288 with 1 Axes>"
            ]
          },
          "metadata": {
            "tags": [],
            "needs_background": "light"
          }
        }
      ]
    },
    {
      "cell_type": "markdown",
      "metadata": {
        "id": "KMOJ_-fpDhws"
      },
      "source": [
        ""
      ]
    },
    {
      "cell_type": "code",
      "metadata": {
        "id": "LeyCBa2OFWfP",
        "colab": {
          "base_uri": "https://localhost:8080/"
        },
        "outputId": "4a2f5008-6b40-48b7-e771-f85af3ae08e0"
      },
      "source": [
        "df_novo.rename(columns={'Público no ano de exibição': 'Publico'}, inplace = True)   # troca o nome de uma coluna"
      ],
      "execution_count": 19,
      "outputs": [
        {
          "output_type": "stream",
          "text": [
            "/usr/local/lib/python3.7/dist-packages/pandas/core/frame.py:4308: SettingWithCopyWarning: \n",
            "A value is trying to be set on a copy of a slice from a DataFrame\n",
            "\n",
            "See the caveats in the documentation: https://pandas.pydata.org/pandas-docs/stable/user_guide/indexing.html#returning-a-view-versus-a-copy\n",
            "  errors=errors,\n"
          ],
          "name": "stderr"
        }
      ]
    },
    {
      "cell_type": "code",
      "metadata": {
        "colab": {
          "base_uri": "https://localhost:8080/",
          "height": 674
        },
        "id": "jQuxhdUT5T37",
        "outputId": "1b5977ef-5a75-49b9-e00a-710386618033"
      },
      "source": [
        "df_novo"
      ],
      "execution_count": 20,
      "outputs": [
        {
          "output_type": "execute_result",
          "data": {
            "text/html": [
              "<div>\n",
              "<style scoped>\n",
              "    .dataframe tbody tr th:only-of-type {\n",
              "        vertical-align: middle;\n",
              "    }\n",
              "\n",
              "    .dataframe tbody tr th {\n",
              "        vertical-align: top;\n",
              "    }\n",
              "\n",
              "    .dataframe thead th {\n",
              "        text-align: right;\n",
              "    }\n",
              "</style>\n",
              "<table border=\"1\" class=\"dataframe\">\n",
              "  <thead>\n",
              "    <tr style=\"text-align: right;\">\n",
              "      <th></th>\n",
              "      <th>Ano de exibição</th>\n",
              "      <th>Título da obra</th>\n",
              "      <th>CPB/ROE</th>\n",
              "      <th>Gênero</th>\n",
              "      <th>País(es) produtor(es) da obra</th>\n",
              "      <th>Nacionalidade da obra</th>\n",
              "      <th>Data de lançamento</th>\n",
              "      <th>Empresa distribuidora</th>\n",
              "      <th>Origem da empresa distribuidora</th>\n",
              "      <th>Publico</th>\n",
              "      <th>Renda (R$) no ano de exibição</th>\n",
              "    </tr>\n",
              "  </thead>\n",
              "  <tbody>\n",
              "    <tr>\n",
              "      <th>0</th>\n",
              "      <td>2019</td>\n",
              "      <td>120 Batimentos Por Minuto</td>\n",
              "      <td>E1700453800000</td>\n",
              "      <td>Ficção</td>\n",
              "      <td>França</td>\n",
              "      <td>Estrangeira</td>\n",
              "      <td>43104</td>\n",
              "      <td>Imovision</td>\n",
              "      <td>Distribuição Nacional</td>\n",
              "      <td>10</td>\n",
              "      <td>70</td>\n",
              "    </tr>\n",
              "    <tr>\n",
              "      <th>1</th>\n",
              "      <td>2019</td>\n",
              "      <td>3 Faces</td>\n",
              "      <td>E1800494900000</td>\n",
              "      <td>Ficção</td>\n",
              "      <td>Irã</td>\n",
              "      <td>Estrangeira</td>\n",
              "      <td>43559</td>\n",
              "      <td>Imovision</td>\n",
              "      <td>Distribuição Nacional</td>\n",
              "      <td>6289</td>\n",
              "      <td>103805</td>\n",
              "    </tr>\n",
              "    <tr>\n",
              "      <th>2</th>\n",
              "      <td>2019</td>\n",
              "      <td>45 Dias Sem Você</td>\n",
              "      <td>B1800586000000</td>\n",
              "      <td>Ficção</td>\n",
              "      <td>Brasil</td>\n",
              "      <td>Brasileira</td>\n",
              "      <td>43601</td>\n",
              "      <td>O2 Play</td>\n",
              "      <td>Distribuição Nacional</td>\n",
              "      <td>3303</td>\n",
              "      <td>31295</td>\n",
              "    </tr>\n",
              "    <tr>\n",
              "      <th>3</th>\n",
              "      <td>2019</td>\n",
              "      <td>A 100 Passos De Um Sonho</td>\n",
              "      <td>E1402795100000</td>\n",
              "      <td>Ficção</td>\n",
              "      <td>Estados Unidos</td>\n",
              "      <td>Estrangeira</td>\n",
              "      <td>41879</td>\n",
              "      <td>Disney</td>\n",
              "      <td>Distribuição Internacional</td>\n",
              "      <td>69</td>\n",
              "      <td>4186</td>\n",
              "    </tr>\n",
              "    <tr>\n",
              "      <th>4</th>\n",
              "      <td>2019</td>\n",
              "      <td>A Abelhinha Maya - O Filme</td>\n",
              "      <td>E1800136100000</td>\n",
              "      <td>Animação</td>\n",
              "      <td>Alemanha</td>\n",
              "      <td>Estrangeira</td>\n",
              "      <td>43237</td>\n",
              "      <td>Playarte</td>\n",
              "      <td>Distribuição Nacional</td>\n",
              "      <td>402</td>\n",
              "      <td>3531</td>\n",
              "    </tr>\n",
              "    <tr>\n",
              "      <th>...</th>\n",
              "      <td>...</td>\n",
              "      <td>...</td>\n",
              "      <td>...</td>\n",
              "      <td>...</td>\n",
              "      <td>...</td>\n",
              "      <td>...</td>\n",
              "      <td>...</td>\n",
              "      <td>...</td>\n",
              "      <td>...</td>\n",
              "      <td>...</td>\n",
              "      <td>...</td>\n",
              "    </tr>\n",
              "    <tr>\n",
              "      <th>7076</th>\n",
              "      <td>2009</td>\n",
              "      <td>Xuxa Gêmeas</td>\n",
              "      <td>B0600616500000</td>\n",
              "      <td>Ficção</td>\n",
              "      <td>Brasil</td>\n",
              "      <td>Brasileira</td>\n",
              "      <td>39066</td>\n",
              "      <td>Fox</td>\n",
              "      <td>Distribuição Internacional</td>\n",
              "      <td>1671</td>\n",
              "      <td>5013</td>\n",
              "    </tr>\n",
              "    <tr>\n",
              "      <th>7077</th>\n",
              "      <td>2009</td>\n",
              "      <td>Zico na Rede</td>\n",
              "      <td>B0901041400000</td>\n",
              "      <td>Documentário</td>\n",
              "      <td>Brasil</td>\n",
              "      <td>Brasileira</td>\n",
              "      <td>39997</td>\n",
              "      <td>Business Telecom</td>\n",
              "      <td>Distribuição Nacional</td>\n",
              "      <td>546</td>\n",
              "      <td>2529.5</td>\n",
              "    </tr>\n",
              "    <tr>\n",
              "      <th>7078</th>\n",
              "      <td>2009</td>\n",
              "      <td>À Deriva</td>\n",
              "      <td>B0901015000000</td>\n",
              "      <td>Ficção</td>\n",
              "      <td>Brasil, Estados Unidos</td>\n",
              "      <td>Brasileira</td>\n",
              "      <td>40025</td>\n",
              "      <td>Universal</td>\n",
              "      <td>Distribuição Internacional</td>\n",
              "      <td>94588</td>\n",
              "      <td>870171</td>\n",
              "    </tr>\n",
              "    <tr>\n",
              "      <th>7079</th>\n",
              "      <td>2009</td>\n",
              "      <td>É Proibido Fumar</td>\n",
              "      <td>B0901108700000</td>\n",
              "      <td>Ficção</td>\n",
              "      <td>Brasil</td>\n",
              "      <td>Brasileira</td>\n",
              "      <td>40151</td>\n",
              "      <td>Playarte</td>\n",
              "      <td>Distribuição Nacional</td>\n",
              "      <td>33291</td>\n",
              "      <td>303276</td>\n",
              "    </tr>\n",
              "    <tr>\n",
              "      <th>7080</th>\n",
              "      <td>2009</td>\n",
              "      <td>Última Parada - 174</td>\n",
              "      <td>B0800914800000</td>\n",
              "      <td>Ficção</td>\n",
              "      <td>Brasil</td>\n",
              "      <td>Brasileira</td>\n",
              "      <td>39745</td>\n",
              "      <td>Paramount</td>\n",
              "      <td>Distribuição Internacional</td>\n",
              "      <td>2107</td>\n",
              "      <td>8954</td>\n",
              "    </tr>\n",
              "  </tbody>\n",
              "</table>\n",
              "<p>6883 rows × 11 columns</p>\n",
              "</div>"
            ],
            "text/plain": [
              "      Ano de exibição  ... Renda (R$) no ano de exibição\n",
              "0                2019  ...                            70\n",
              "1                2019  ...                        103805\n",
              "2                2019  ...                         31295\n",
              "3                2019  ...                          4186\n",
              "4                2019  ...                          3531\n",
              "...               ...  ...                           ...\n",
              "7076             2009  ...                          5013\n",
              "7077             2009  ...                        2529.5\n",
              "7078             2009  ...                        870171\n",
              "7079             2009  ...                        303276\n",
              "7080             2009  ...                          8954\n",
              "\n",
              "[6883 rows x 11 columns]"
            ]
          },
          "metadata": {
            "tags": []
          },
          "execution_count": 20
        }
      ]
    },
    {
      "cell_type": "code",
      "metadata": {
        "id": "XwE7nBQFBSgc",
        "colab": {
          "base_uri": "https://localhost:8080/"
        },
        "outputId": "b1b358f7-29b3-4a39-d47b-3dacb5d710f0"
      },
      "source": [
        "df_novo['Publico'].sample(25)"
      ],
      "execution_count": 21,
      "outputs": [
        {
          "output_type": "execute_result",
          "data": {
            "text/plain": [
              "638         325\n",
              "2225      82829\n",
              "6307       1916\n",
              "979         125\n",
              "4477         98\n",
              "3896     141404\n",
              "643         165\n",
              "1713          7\n",
              "1483         28\n",
              "3478       9560\n",
              "1782       1496\n",
              "530      211686\n",
              "24            6\n",
              "283      117058\n",
              "4144      20552\n",
              "1174       9077\n",
              "5745      11307\n",
              "6408          1\n",
              "2236       2572\n",
              "2010      11288\n",
              "7028       5035\n",
              "1748         43\n",
              "2801       6738\n",
              "6874    2083246\n",
              "4193        668\n",
              "Name: Publico, dtype: object"
            ]
          },
          "metadata": {
            "tags": []
          },
          "execution_count": 21
        }
      ]
    },
    {
      "cell_type": "code",
      "metadata": {
        "colab": {
          "base_uri": "https://localhost:8080/"
        },
        "id": "f75hbFF4v3o9",
        "outputId": "522d2e62-fa35-44ea-e0e7-1c80d42ec89f"
      },
      "source": [
        "\n",
        "df_novo[df_novo['Publico'] == 'ND'].value_counts"
      ],
      "execution_count": 22,
      "outputs": [
        {
          "output_type": "execute_result",
          "data": {
            "text/plain": [
              "<bound method DataFrame.value_counts of       Ano de exibição  ... Renda (R$) no ano de exibição\n",
              "81               2019  ...                            ND\n",
              "125              2019  ...                            ND\n",
              "158              2019  ...                            ND\n",
              "203              2019  ...                            ND\n",
              "221              2019  ...                            ND\n",
              "229              2019  ...                            ND\n",
              "3993             2014  ...                            ND\n",
              "4116             2014  ...                            ND\n",
              "4429             2013  ...                            ND\n",
              "4446             2013  ...                            ND\n",
              "4491             2013  ...                            ND\n",
              "4778             2013  ...                            ND\n",
              "4846             2013  ...                            ND\n",
              "4989             2012  ...                            ND\n",
              "5012             2012  ...                            ND\n",
              "5050             2012  ...                            ND\n",
              "5172             2012  ...                            ND\n",
              "5200             2012  ...                            ND\n",
              "5215             2012  ...                            ND\n",
              "5305             2012  ...                            ND\n",
              "5479             2011  ...                            ND\n",
              "5848             2011  ...                            ND\n",
              "5852             2011  ...                            ND\n",
              "5974             2011  ...                            ND\n",
              "6238             2010  ...                            ND\n",
              "6592             2009  ...                            ND\n",
              "6850             2009  ...                            ND\n",
              "6979             2009  ...                            ND\n",
              "7053             2009  ...                            ND\n",
              "\n",
              "[29 rows x 11 columns]>"
            ]
          },
          "metadata": {
            "tags": []
          },
          "execution_count": 22
        }
      ]
    },
    {
      "cell_type": "code",
      "metadata": {
        "colab": {
          "base_uri": "https://localhost:8080/"
        },
        "id": "sqgG_c39_XWC",
        "outputId": "476bc678-9c08-4d24-80ff-35ddf8791a03"
      },
      "source": [
        "df_novo['Publico'].shape"
      ],
      "execution_count": 23,
      "outputs": [
        {
          "output_type": "execute_result",
          "data": {
            "text/plain": [
              "(6883,)"
            ]
          },
          "metadata": {
            "tags": []
          },
          "execution_count": 23
        }
      ]
    },
    {
      "cell_type": "code",
      "metadata": {
        "colab": {
          "base_uri": "https://localhost:8080/",
          "height": 357
        },
        "id": "sFvsNKCl_6HW",
        "outputId": "b11d3c3b-06e0-4569-8ae3-a81d2d54cd9f"
      },
      "source": [
        "df_novo = df_novo[df_novo['Publico'] != 'ND']\n",
        "df_novo.head()"
      ],
      "execution_count": 24,
      "outputs": [
        {
          "output_type": "execute_result",
          "data": {
            "text/html": [
              "<div>\n",
              "<style scoped>\n",
              "    .dataframe tbody tr th:only-of-type {\n",
              "        vertical-align: middle;\n",
              "    }\n",
              "\n",
              "    .dataframe tbody tr th {\n",
              "        vertical-align: top;\n",
              "    }\n",
              "\n",
              "    .dataframe thead th {\n",
              "        text-align: right;\n",
              "    }\n",
              "</style>\n",
              "<table border=\"1\" class=\"dataframe\">\n",
              "  <thead>\n",
              "    <tr style=\"text-align: right;\">\n",
              "      <th></th>\n",
              "      <th>Ano de exibição</th>\n",
              "      <th>Título da obra</th>\n",
              "      <th>CPB/ROE</th>\n",
              "      <th>Gênero</th>\n",
              "      <th>País(es) produtor(es) da obra</th>\n",
              "      <th>Nacionalidade da obra</th>\n",
              "      <th>Data de lançamento</th>\n",
              "      <th>Empresa distribuidora</th>\n",
              "      <th>Origem da empresa distribuidora</th>\n",
              "      <th>Publico</th>\n",
              "      <th>Renda (R$) no ano de exibição</th>\n",
              "    </tr>\n",
              "  </thead>\n",
              "  <tbody>\n",
              "    <tr>\n",
              "      <th>0</th>\n",
              "      <td>2019</td>\n",
              "      <td>120 Batimentos Por Minuto</td>\n",
              "      <td>E1700453800000</td>\n",
              "      <td>Ficção</td>\n",
              "      <td>França</td>\n",
              "      <td>Estrangeira</td>\n",
              "      <td>43104</td>\n",
              "      <td>Imovision</td>\n",
              "      <td>Distribuição Nacional</td>\n",
              "      <td>10</td>\n",
              "      <td>70</td>\n",
              "    </tr>\n",
              "    <tr>\n",
              "      <th>1</th>\n",
              "      <td>2019</td>\n",
              "      <td>3 Faces</td>\n",
              "      <td>E1800494900000</td>\n",
              "      <td>Ficção</td>\n",
              "      <td>Irã</td>\n",
              "      <td>Estrangeira</td>\n",
              "      <td>43559</td>\n",
              "      <td>Imovision</td>\n",
              "      <td>Distribuição Nacional</td>\n",
              "      <td>6289</td>\n",
              "      <td>103805</td>\n",
              "    </tr>\n",
              "    <tr>\n",
              "      <th>2</th>\n",
              "      <td>2019</td>\n",
              "      <td>45 Dias Sem Você</td>\n",
              "      <td>B1800586000000</td>\n",
              "      <td>Ficção</td>\n",
              "      <td>Brasil</td>\n",
              "      <td>Brasileira</td>\n",
              "      <td>43601</td>\n",
              "      <td>O2 Play</td>\n",
              "      <td>Distribuição Nacional</td>\n",
              "      <td>3303</td>\n",
              "      <td>31295</td>\n",
              "    </tr>\n",
              "    <tr>\n",
              "      <th>3</th>\n",
              "      <td>2019</td>\n",
              "      <td>A 100 Passos De Um Sonho</td>\n",
              "      <td>E1402795100000</td>\n",
              "      <td>Ficção</td>\n",
              "      <td>Estados Unidos</td>\n",
              "      <td>Estrangeira</td>\n",
              "      <td>41879</td>\n",
              "      <td>Disney</td>\n",
              "      <td>Distribuição Internacional</td>\n",
              "      <td>69</td>\n",
              "      <td>4186</td>\n",
              "    </tr>\n",
              "    <tr>\n",
              "      <th>4</th>\n",
              "      <td>2019</td>\n",
              "      <td>A Abelhinha Maya - O Filme</td>\n",
              "      <td>E1800136100000</td>\n",
              "      <td>Animação</td>\n",
              "      <td>Alemanha</td>\n",
              "      <td>Estrangeira</td>\n",
              "      <td>43237</td>\n",
              "      <td>Playarte</td>\n",
              "      <td>Distribuição Nacional</td>\n",
              "      <td>402</td>\n",
              "      <td>3531</td>\n",
              "    </tr>\n",
              "  </tbody>\n",
              "</table>\n",
              "</div>"
            ],
            "text/plain": [
              "   Ano de exibição  ... Renda (R$) no ano de exibição\n",
              "0             2019  ...                            70\n",
              "1             2019  ...                        103805\n",
              "2             2019  ...                         31295\n",
              "3             2019  ...                          4186\n",
              "4             2019  ...                          3531\n",
              "\n",
              "[5 rows x 11 columns]"
            ]
          },
          "metadata": {
            "tags": []
          },
          "execution_count": 24
        }
      ]
    },
    {
      "cell_type": "code",
      "metadata": {
        "id": "hk-JwH2frNMa",
        "colab": {
          "base_uri": "https://localhost:8080/"
        },
        "outputId": "2309e324-7381-4c07-9595-1e9be36e02ba"
      },
      "source": [
        "df_novo['Publico'] = pd.to_numeric(df_novo['Publico'])"
      ],
      "execution_count": 25,
      "outputs": [
        {
          "output_type": "stream",
          "text": [
            "/usr/local/lib/python3.7/dist-packages/ipykernel_launcher.py:1: SettingWithCopyWarning: \n",
            "A value is trying to be set on a copy of a slice from a DataFrame.\n",
            "Try using .loc[row_indexer,col_indexer] = value instead\n",
            "\n",
            "See the caveats in the documentation: https://pandas.pydata.org/pandas-docs/stable/user_guide/indexing.html#returning-a-view-versus-a-copy\n",
            "  \"\"\"Entry point for launching an IPython kernel.\n"
          ],
          "name": "stderr"
        }
      ]
    },
    {
      "cell_type": "code",
      "metadata": {
        "id": "A-XWYsn0pd3v",
        "colab": {
          "base_uri": "https://localhost:8080/"
        },
        "outputId": "ec709322-1779-4214-b9ed-48f369a41096"
      },
      "source": [
        "df_novo.dtypes"
      ],
      "execution_count": 26,
      "outputs": [
        {
          "output_type": "execute_result",
          "data": {
            "text/plain": [
              "Ano de exibição                     int64\n",
              "Título da obra                     object\n",
              "CPB/ROE                            object\n",
              "Gênero                             object\n",
              "País(es) produtor(es) da obra      object\n",
              "Nacionalidade da obra              object\n",
              "Data de lançamento                 object\n",
              "Empresa distribuidora              object\n",
              "Origem da empresa distribuidora    object\n",
              "Publico                             int64\n",
              "Renda (R$) no ano de exibição      object\n",
              "dtype: object"
            ]
          },
          "metadata": {
            "tags": []
          },
          "execution_count": 26
        }
      ]
    },
    {
      "cell_type": "code",
      "metadata": {
        "colab": {
          "base_uri": "https://localhost:8080/",
          "height": 131
        },
        "id": "Zy8datRy822Y",
        "outputId": "6f57580f-7c23-41ad-ded9-4c4692edc012"
      },
      "source": [
        "df_novo[df_novo['Publico'] == df_novo['Publico'].max()].head(3)"
      ],
      "execution_count": 27,
      "outputs": [
        {
          "output_type": "execute_result",
          "data": {
            "text/html": [
              "<div>\n",
              "<style scoped>\n",
              "    .dataframe tbody tr th:only-of-type {\n",
              "        vertical-align: middle;\n",
              "    }\n",
              "\n",
              "    .dataframe tbody tr th {\n",
              "        vertical-align: top;\n",
              "    }\n",
              "\n",
              "    .dataframe thead th {\n",
              "        text-align: right;\n",
              "    }\n",
              "</style>\n",
              "<table border=\"1\" class=\"dataframe\">\n",
              "  <thead>\n",
              "    <tr style=\"text-align: right;\">\n",
              "      <th></th>\n",
              "      <th>Ano de exibição</th>\n",
              "      <th>Título da obra</th>\n",
              "      <th>CPB/ROE</th>\n",
              "      <th>Gênero</th>\n",
              "      <th>País(es) produtor(es) da obra</th>\n",
              "      <th>Nacionalidade da obra</th>\n",
              "      <th>Data de lançamento</th>\n",
              "      <th>Empresa distribuidora</th>\n",
              "      <th>Origem da empresa distribuidora</th>\n",
              "      <th>Publico</th>\n",
              "      <th>Renda (R$) no ano de exibição</th>\n",
              "    </tr>\n",
              "  </thead>\n",
              "  <tbody>\n",
              "    <tr>\n",
              "      <th>662</th>\n",
              "      <td>2019</td>\n",
              "      <td>Vingadores: Ultimato</td>\n",
              "      <td>E1900107800000</td>\n",
              "      <td>Ficção</td>\n",
              "      <td>Estados Unidos</td>\n",
              "      <td>Estrangeira</td>\n",
              "      <td>43580</td>\n",
              "      <td>Disney</td>\n",
              "      <td>Distribuição Internacional</td>\n",
              "      <td>19656467</td>\n",
              "      <td>338624881</td>\n",
              "    </tr>\n",
              "  </tbody>\n",
              "</table>\n",
              "</div>"
            ],
            "text/plain": [
              "     Ano de exibição  ... Renda (R$) no ano de exibição\n",
              "662             2019  ...                     338624881\n",
              "\n",
              "[1 rows x 11 columns]"
            ]
          },
          "metadata": {
            "tags": []
          },
          "execution_count": 27
        }
      ]
    },
    {
      "cell_type": "markdown",
      "metadata": {
        "id": "rBancc-rG7iE"
      },
      "source": [
        ""
      ]
    },
    {
      "cell_type": "code",
      "metadata": {
        "colab": {
          "base_uri": "https://localhost:8080/"
        },
        "id": "Pks8pjRTHG0v",
        "outputId": "f82aaffc-b5e5-4c6e-a285-87423bbd1713"
      },
      "source": [
        "df_novo['Renda (R$) no ano de exibição'].sample(25)"
      ],
      "execution_count": 28,
      "outputs": [
        {
          "output_type": "execute_result",
          "data": {
            "text/plain": [
              "3384    1.13383e+06\n",
              "6092           8743\n",
              "5639        28642.5\n",
              "121            4376\n",
              "2467         245701\n",
              "4523         181710\n",
              "1514    4.89457e+06\n",
              "2743    9.44821e+06\n",
              "6166        9104.56\n",
              "1776             27\n",
              "7052            149\n",
              "1385         100393\n",
              "880             568\n",
              "6122         287803\n",
              "1454       12199295\n",
              "6480             50\n",
              "1920    1.84091e+07\n",
              "5382        1724692\n",
              "478             255\n",
              "3442        43810.4\n",
              "840           13061\n",
              "2368      118081264\n",
              "798         2682351\n",
              "5706         330922\n",
              "3120            846\n",
              "Name: Renda (R$) no ano de exibição, dtype: object"
            ]
          },
          "metadata": {
            "tags": []
          },
          "execution_count": 28
        }
      ]
    },
    {
      "cell_type": "code",
      "metadata": {
        "colab": {
          "base_uri": "https://localhost:8080/"
        },
        "id": "DdfQ4T-lHG0v",
        "outputId": "12b53f96-0629-4af1-e9eb-93c04e2033e3"
      },
      "source": [
        "\n",
        "df_novo[df_novo['Renda (R$) no ano de exibição'] == 'ND'].value_counts"
      ],
      "execution_count": 29,
      "outputs": [
        {
          "output_type": "execute_result",
          "data": {
            "text/plain": [
              "<bound method DataFrame.value_counts of Empty DataFrame\n",
              "Columns: [Ano de exibição, Título da obra, CPB/ROE, Gênero, País(es) produtor(es) da obra, Nacionalidade da obra, Data de lançamento, Empresa distribuidora, Origem da empresa distribuidora, Publico, Renda (R$) no ano de exibição]\n",
              "Index: []>"
            ]
          },
          "metadata": {
            "tags": []
          },
          "execution_count": 29
        }
      ]
    },
    {
      "cell_type": "code",
      "metadata": {
        "colab": {
          "base_uri": "https://localhost:8080/"
        },
        "id": "8IBP-L7OHG0v",
        "outputId": "5fb68d35-8e21-49fe-d2a8-2ac5f34c4ec2"
      },
      "source": [
        "df_novo['Renda (R$) no ano de exibição'].shape"
      ],
      "execution_count": 30,
      "outputs": [
        {
          "output_type": "execute_result",
          "data": {
            "text/plain": [
              "(6854,)"
            ]
          },
          "metadata": {
            "tags": []
          },
          "execution_count": 30
        }
      ]
    },
    {
      "cell_type": "code",
      "metadata": {
        "colab": {
          "base_uri": "https://localhost:8080/",
          "height": 357
        },
        "id": "LhDtupJ1HG0w",
        "outputId": "81bcab70-55e5-4890-b540-af0816abf0b2"
      },
      "source": [
        "df_novo = df_novo[df_novo['Renda (R$) no ano de exibição'] != 'ND']\n",
        "df_novo.head()"
      ],
      "execution_count": 31,
      "outputs": [
        {
          "output_type": "execute_result",
          "data": {
            "text/html": [
              "<div>\n",
              "<style scoped>\n",
              "    .dataframe tbody tr th:only-of-type {\n",
              "        vertical-align: middle;\n",
              "    }\n",
              "\n",
              "    .dataframe tbody tr th {\n",
              "        vertical-align: top;\n",
              "    }\n",
              "\n",
              "    .dataframe thead th {\n",
              "        text-align: right;\n",
              "    }\n",
              "</style>\n",
              "<table border=\"1\" class=\"dataframe\">\n",
              "  <thead>\n",
              "    <tr style=\"text-align: right;\">\n",
              "      <th></th>\n",
              "      <th>Ano de exibição</th>\n",
              "      <th>Título da obra</th>\n",
              "      <th>CPB/ROE</th>\n",
              "      <th>Gênero</th>\n",
              "      <th>País(es) produtor(es) da obra</th>\n",
              "      <th>Nacionalidade da obra</th>\n",
              "      <th>Data de lançamento</th>\n",
              "      <th>Empresa distribuidora</th>\n",
              "      <th>Origem da empresa distribuidora</th>\n",
              "      <th>Publico</th>\n",
              "      <th>Renda (R$) no ano de exibição</th>\n",
              "    </tr>\n",
              "  </thead>\n",
              "  <tbody>\n",
              "    <tr>\n",
              "      <th>0</th>\n",
              "      <td>2019</td>\n",
              "      <td>120 Batimentos Por Minuto</td>\n",
              "      <td>E1700453800000</td>\n",
              "      <td>Ficção</td>\n",
              "      <td>França</td>\n",
              "      <td>Estrangeira</td>\n",
              "      <td>43104</td>\n",
              "      <td>Imovision</td>\n",
              "      <td>Distribuição Nacional</td>\n",
              "      <td>10</td>\n",
              "      <td>70</td>\n",
              "    </tr>\n",
              "    <tr>\n",
              "      <th>1</th>\n",
              "      <td>2019</td>\n",
              "      <td>3 Faces</td>\n",
              "      <td>E1800494900000</td>\n",
              "      <td>Ficção</td>\n",
              "      <td>Irã</td>\n",
              "      <td>Estrangeira</td>\n",
              "      <td>43559</td>\n",
              "      <td>Imovision</td>\n",
              "      <td>Distribuição Nacional</td>\n",
              "      <td>6289</td>\n",
              "      <td>103805</td>\n",
              "    </tr>\n",
              "    <tr>\n",
              "      <th>2</th>\n",
              "      <td>2019</td>\n",
              "      <td>45 Dias Sem Você</td>\n",
              "      <td>B1800586000000</td>\n",
              "      <td>Ficção</td>\n",
              "      <td>Brasil</td>\n",
              "      <td>Brasileira</td>\n",
              "      <td>43601</td>\n",
              "      <td>O2 Play</td>\n",
              "      <td>Distribuição Nacional</td>\n",
              "      <td>3303</td>\n",
              "      <td>31295</td>\n",
              "    </tr>\n",
              "    <tr>\n",
              "      <th>3</th>\n",
              "      <td>2019</td>\n",
              "      <td>A 100 Passos De Um Sonho</td>\n",
              "      <td>E1402795100000</td>\n",
              "      <td>Ficção</td>\n",
              "      <td>Estados Unidos</td>\n",
              "      <td>Estrangeira</td>\n",
              "      <td>41879</td>\n",
              "      <td>Disney</td>\n",
              "      <td>Distribuição Internacional</td>\n",
              "      <td>69</td>\n",
              "      <td>4186</td>\n",
              "    </tr>\n",
              "    <tr>\n",
              "      <th>4</th>\n",
              "      <td>2019</td>\n",
              "      <td>A Abelhinha Maya - O Filme</td>\n",
              "      <td>E1800136100000</td>\n",
              "      <td>Animação</td>\n",
              "      <td>Alemanha</td>\n",
              "      <td>Estrangeira</td>\n",
              "      <td>43237</td>\n",
              "      <td>Playarte</td>\n",
              "      <td>Distribuição Nacional</td>\n",
              "      <td>402</td>\n",
              "      <td>3531</td>\n",
              "    </tr>\n",
              "  </tbody>\n",
              "</table>\n",
              "</div>"
            ],
            "text/plain": [
              "   Ano de exibição  ... Renda (R$) no ano de exibição\n",
              "0             2019  ...                            70\n",
              "1             2019  ...                        103805\n",
              "2             2019  ...                         31295\n",
              "3             2019  ...                          4186\n",
              "4             2019  ...                          3531\n",
              "\n",
              "[5 rows x 11 columns]"
            ]
          },
          "metadata": {
            "tags": []
          },
          "execution_count": 31
        }
      ]
    },
    {
      "cell_type": "code",
      "metadata": {
        "id": "WMGe6R7kHG0x"
      },
      "source": [
        "df_novo['Renda (R$) no ano de exibição'] = pd.to_numeric(df_novo['Renda (R$) no ano de exibição'])"
      ],
      "execution_count": 32,
      "outputs": []
    },
    {
      "cell_type": "code",
      "metadata": {
        "colab": {
          "base_uri": "https://localhost:8080/"
        },
        "id": "Vs0hRZ4QHG0x",
        "outputId": "cb983079-12c6-424b-a0bb-f28b463d03f6"
      },
      "source": [
        "df_novo.dtypes"
      ],
      "execution_count": 33,
      "outputs": [
        {
          "output_type": "execute_result",
          "data": {
            "text/plain": [
              "Ano de exibição                      int64\n",
              "Título da obra                      object\n",
              "CPB/ROE                             object\n",
              "Gênero                              object\n",
              "País(es) produtor(es) da obra       object\n",
              "Nacionalidade da obra               object\n",
              "Data de lançamento                  object\n",
              "Empresa distribuidora               object\n",
              "Origem da empresa distribuidora     object\n",
              "Publico                              int64\n",
              "Renda (R$) no ano de exibição      float64\n",
              "dtype: object"
            ]
          },
          "metadata": {
            "tags": []
          },
          "execution_count": 33
        }
      ]
    },
    {
      "cell_type": "code",
      "metadata": {
        "colab": {
          "base_uri": "https://localhost:8080/",
          "height": 131
        },
        "id": "nYmsb3RkHG0x",
        "outputId": "dc6fa9ff-ce43-4863-fed0-98b77de61b85"
      },
      "source": [
        "df_novo[df_novo['Renda (R$) no ano de exibição'] == df_novo['Renda (R$) no ano de exibição'].max()]"
      ],
      "execution_count": 34,
      "outputs": [
        {
          "output_type": "execute_result",
          "data": {
            "text/html": [
              "<div>\n",
              "<style scoped>\n",
              "    .dataframe tbody tr th:only-of-type {\n",
              "        vertical-align: middle;\n",
              "    }\n",
              "\n",
              "    .dataframe tbody tr th {\n",
              "        vertical-align: top;\n",
              "    }\n",
              "\n",
              "    .dataframe thead th {\n",
              "        text-align: right;\n",
              "    }\n",
              "</style>\n",
              "<table border=\"1\" class=\"dataframe\">\n",
              "  <thead>\n",
              "    <tr style=\"text-align: right;\">\n",
              "      <th></th>\n",
              "      <th>Ano de exibição</th>\n",
              "      <th>Título da obra</th>\n",
              "      <th>CPB/ROE</th>\n",
              "      <th>Gênero</th>\n",
              "      <th>País(es) produtor(es) da obra</th>\n",
              "      <th>Nacionalidade da obra</th>\n",
              "      <th>Data de lançamento</th>\n",
              "      <th>Empresa distribuidora</th>\n",
              "      <th>Origem da empresa distribuidora</th>\n",
              "      <th>Publico</th>\n",
              "      <th>Renda (R$) no ano de exibição</th>\n",
              "    </tr>\n",
              "  </thead>\n",
              "  <tbody>\n",
              "    <tr>\n",
              "      <th>662</th>\n",
              "      <td>2019</td>\n",
              "      <td>Vingadores: Ultimato</td>\n",
              "      <td>E1900107800000</td>\n",
              "      <td>Ficção</td>\n",
              "      <td>Estados Unidos</td>\n",
              "      <td>Estrangeira</td>\n",
              "      <td>43580</td>\n",
              "      <td>Disney</td>\n",
              "      <td>Distribuição Internacional</td>\n",
              "      <td>19656467</td>\n",
              "      <td>338624881.0</td>\n",
              "    </tr>\n",
              "  </tbody>\n",
              "</table>\n",
              "</div>"
            ],
            "text/plain": [
              "     Ano de exibição  ... Renda (R$) no ano de exibição\n",
              "662             2019  ...                   338624881.0\n",
              "\n",
              "[1 rows x 11 columns]"
            ]
          },
          "metadata": {
            "tags": []
          },
          "execution_count": 34
        }
      ]
    },
    {
      "cell_type": "code",
      "metadata": {
        "id": "rXF1kwLw82zJ",
        "colab": {
          "base_uri": "https://localhost:8080/",
          "height": 326
        },
        "outputId": "ecd81914-198b-4d95-9fde-e52432072b01"
      },
      "source": [
        "df_novo[df_novo['Renda (R$) no ano de exibição'] == df_novo['Renda (R$) no ano de exibição'].min()].head(4)"
      ],
      "execution_count": 35,
      "outputs": [
        {
          "output_type": "execute_result",
          "data": {
            "text/html": [
              "<div>\n",
              "<style scoped>\n",
              "    .dataframe tbody tr th:only-of-type {\n",
              "        vertical-align: middle;\n",
              "    }\n",
              "\n",
              "    .dataframe tbody tr th {\n",
              "        vertical-align: top;\n",
              "    }\n",
              "\n",
              "    .dataframe thead th {\n",
              "        text-align: right;\n",
              "    }\n",
              "</style>\n",
              "<table border=\"1\" class=\"dataframe\">\n",
              "  <thead>\n",
              "    <tr style=\"text-align: right;\">\n",
              "      <th></th>\n",
              "      <th>Ano de exibição</th>\n",
              "      <th>Título da obra</th>\n",
              "      <th>CPB/ROE</th>\n",
              "      <th>Gênero</th>\n",
              "      <th>País(es) produtor(es) da obra</th>\n",
              "      <th>Nacionalidade da obra</th>\n",
              "      <th>Data de lançamento</th>\n",
              "      <th>Empresa distribuidora</th>\n",
              "      <th>Origem da empresa distribuidora</th>\n",
              "      <th>Publico</th>\n",
              "      <th>Renda (R$) no ano de exibição</th>\n",
              "    </tr>\n",
              "  </thead>\n",
              "  <tbody>\n",
              "    <tr>\n",
              "      <th>849</th>\n",
              "      <td>2018</td>\n",
              "      <td>Colo*</td>\n",
              "      <td>E1700484800000</td>\n",
              "      <td>Ficção</td>\n",
              "      <td>Portugal</td>\n",
              "      <td>Estrangeira</td>\n",
              "      <td>43055</td>\n",
              "      <td>Zeta Filmes</td>\n",
              "      <td>Distribuição Nacional</td>\n",
              "      <td>0</td>\n",
              "      <td>0.0</td>\n",
              "    </tr>\n",
              "    <tr>\n",
              "      <th>862</th>\n",
              "      <td>2018</td>\n",
              "      <td>Coragem! As Muitas Vidas do Cardeal Dom Paulo ...</td>\n",
              "      <td>B1700537400000</td>\n",
              "      <td>Documentário</td>\n",
              "      <td>Brasil</td>\n",
              "      <td>Brasileira</td>\n",
              "      <td>43083</td>\n",
              "      <td>TV Meio Ambiente</td>\n",
              "      <td>Distribuição Nacional</td>\n",
              "      <td>0</td>\n",
              "      <td>0.0</td>\n",
              "    </tr>\n",
              "    <tr>\n",
              "      <th>996</th>\n",
              "      <td>2018</td>\n",
              "      <td>Jesus - A Esperança*</td>\n",
              "      <td>B1700447200000</td>\n",
              "      <td>Ficção</td>\n",
              "      <td>Brasil</td>\n",
              "      <td>Brasileira</td>\n",
              "      <td>43083</td>\n",
              "      <td>Moro Comunicação</td>\n",
              "      <td>Distribuição Nacional</td>\n",
              "      <td>0</td>\n",
              "      <td>0.0</td>\n",
              "    </tr>\n",
              "    <tr>\n",
              "      <th>1030</th>\n",
              "      <td>2018</td>\n",
              "      <td>Macaco Tião - O Candidato do Povo*</td>\n",
              "      <td>B1700051900000</td>\n",
              "      <td>Documentário</td>\n",
              "      <td>Brasil</td>\n",
              "      <td>Brasileira</td>\n",
              "      <td>43083</td>\n",
              "      <td>Pipa Produções</td>\n",
              "      <td>Distribuição Nacional</td>\n",
              "      <td>0</td>\n",
              "      <td>0.0</td>\n",
              "    </tr>\n",
              "  </tbody>\n",
              "</table>\n",
              "</div>"
            ],
            "text/plain": [
              "      Ano de exibição  ... Renda (R$) no ano de exibição\n",
              "849              2018  ...                           0.0\n",
              "862              2018  ...                           0.0\n",
              "996              2018  ...                           0.0\n",
              "1030             2018  ...                           0.0\n",
              "\n",
              "[4 rows x 11 columns]"
            ]
          },
          "metadata": {
            "tags": []
          },
          "execution_count": 35
        }
      ]
    },
    {
      "cell_type": "code",
      "metadata": {
        "id": "5j-2Q9G382TV",
        "colab": {
          "base_uri": "https://localhost:8080/"
        },
        "outputId": "37899229-696b-44c6-bb37-6e2b20534387"
      },
      "source": [
        "df_novo['Nacionalidade da obra'].value_counts()\n"
      ],
      "execution_count": 36,
      "outputs": [
        {
          "output_type": "execute_result",
          "data": {
            "text/plain": [
              "Estrangeira    4753\n",
              "Brasileira     2101\n",
              "Name: Nacionalidade da obra, dtype: int64"
            ]
          },
          "metadata": {
            "tags": []
          },
          "execution_count": 36
        }
      ]
    },
    {
      "cell_type": "code",
      "metadata": {
        "colab": {
          "base_uri": "https://localhost:8080/"
        },
        "id": "yMEE5MyU-Th7",
        "outputId": "5f903fca-5dd5-41aa-a3db-bf88c70d3e51"
      },
      "source": [
        "# del\n",
        "df.isnull().sum()"
      ],
      "execution_count": 37,
      "outputs": [
        {
          "output_type": "execute_result",
          "data": {
            "text/plain": [
              "Ano de exibição                    0\n",
              "Título da obra                     0\n",
              "CPB/ROE                            0\n",
              "Gênero                             0\n",
              "País(es) produtor(es) da obra      0\n",
              "Nacionalidade da obra              0\n",
              "Data de lançamento                 0\n",
              "Empresa distribuidora              0\n",
              "Origem da empresa distribuidora    0\n",
              "Público no ano de exibição         0\n",
              "Renda (R$) no ano de exibição      0\n",
              "dtype: int64"
            ]
          },
          "metadata": {
            "tags": []
          },
          "execution_count": 37
        }
      ]
    },
    {
      "cell_type": "code",
      "metadata": {
        "id": "mElk6jwi_bzg",
        "outputId": "362046b0-92d5-4f24-ee8e-c3f5d844c40c",
        "colab": {
          "base_uri": "https://localhost:8080/",
          "height": 674
        }
      },
      "source": [
        "df"
      ],
      "execution_count": 38,
      "outputs": [
        {
          "output_type": "execute_result",
          "data": {
            "text/html": [
              "<div>\n",
              "<style scoped>\n",
              "    .dataframe tbody tr th:only-of-type {\n",
              "        vertical-align: middle;\n",
              "    }\n",
              "\n",
              "    .dataframe tbody tr th {\n",
              "        vertical-align: top;\n",
              "    }\n",
              "\n",
              "    .dataframe thead th {\n",
              "        text-align: right;\n",
              "    }\n",
              "</style>\n",
              "<table border=\"1\" class=\"dataframe\">\n",
              "  <thead>\n",
              "    <tr style=\"text-align: right;\">\n",
              "      <th></th>\n",
              "      <th>Ano de exibição</th>\n",
              "      <th>Título da obra</th>\n",
              "      <th>CPB/ROE</th>\n",
              "      <th>Gênero</th>\n",
              "      <th>País(es) produtor(es) da obra</th>\n",
              "      <th>Nacionalidade da obra</th>\n",
              "      <th>Data de lançamento</th>\n",
              "      <th>Empresa distribuidora</th>\n",
              "      <th>Origem da empresa distribuidora</th>\n",
              "      <th>Público no ano de exibição</th>\n",
              "      <th>Renda (R$) no ano de exibição</th>\n",
              "    </tr>\n",
              "  </thead>\n",
              "  <tbody>\n",
              "    <tr>\n",
              "      <th>0</th>\n",
              "      <td>2019</td>\n",
              "      <td>120 Batimentos Por Minuto</td>\n",
              "      <td>E1700453800000</td>\n",
              "      <td>Ficção</td>\n",
              "      <td>França</td>\n",
              "      <td>Estrangeira</td>\n",
              "      <td>43104</td>\n",
              "      <td>Imovision</td>\n",
              "      <td>Distribuição Nacional</td>\n",
              "      <td>10</td>\n",
              "      <td>70</td>\n",
              "    </tr>\n",
              "    <tr>\n",
              "      <th>1</th>\n",
              "      <td>2019</td>\n",
              "      <td>3 Faces</td>\n",
              "      <td>E1800494900000</td>\n",
              "      <td>Ficção</td>\n",
              "      <td>Irã</td>\n",
              "      <td>Estrangeira</td>\n",
              "      <td>43559</td>\n",
              "      <td>Imovision</td>\n",
              "      <td>Distribuição Nacional</td>\n",
              "      <td>6289</td>\n",
              "      <td>103805</td>\n",
              "    </tr>\n",
              "    <tr>\n",
              "      <th>2</th>\n",
              "      <td>2019</td>\n",
              "      <td>45 Dias Sem Você</td>\n",
              "      <td>B1800586000000</td>\n",
              "      <td>Ficção</td>\n",
              "      <td>Brasil</td>\n",
              "      <td>Brasileira</td>\n",
              "      <td>43601</td>\n",
              "      <td>O2 Play</td>\n",
              "      <td>Distribuição Nacional</td>\n",
              "      <td>3303</td>\n",
              "      <td>31295</td>\n",
              "    </tr>\n",
              "    <tr>\n",
              "      <th>3</th>\n",
              "      <td>2019</td>\n",
              "      <td>A 100 Passos De Um Sonho</td>\n",
              "      <td>E1402795100000</td>\n",
              "      <td>Ficção</td>\n",
              "      <td>Estados Unidos</td>\n",
              "      <td>Estrangeira</td>\n",
              "      <td>41879</td>\n",
              "      <td>Disney</td>\n",
              "      <td>Distribuição Internacional</td>\n",
              "      <td>69</td>\n",
              "      <td>4186</td>\n",
              "    </tr>\n",
              "    <tr>\n",
              "      <th>4</th>\n",
              "      <td>2019</td>\n",
              "      <td>A Abelhinha Maya - O Filme</td>\n",
              "      <td>E1800136100000</td>\n",
              "      <td>Animação</td>\n",
              "      <td>Alemanha</td>\n",
              "      <td>Estrangeira</td>\n",
              "      <td>43237</td>\n",
              "      <td>Playarte</td>\n",
              "      <td>Distribuição Nacional</td>\n",
              "      <td>402</td>\n",
              "      <td>3531</td>\n",
              "    </tr>\n",
              "    <tr>\n",
              "      <th>...</th>\n",
              "      <td>...</td>\n",
              "      <td>...</td>\n",
              "      <td>...</td>\n",
              "      <td>...</td>\n",
              "      <td>...</td>\n",
              "      <td>...</td>\n",
              "      <td>...</td>\n",
              "      <td>...</td>\n",
              "      <td>...</td>\n",
              "      <td>...</td>\n",
              "      <td>...</td>\n",
              "    </tr>\n",
              "    <tr>\n",
              "      <th>7076</th>\n",
              "      <td>2009</td>\n",
              "      <td>Xuxa Gêmeas</td>\n",
              "      <td>B0600616500000</td>\n",
              "      <td>Ficção</td>\n",
              "      <td>Brasil</td>\n",
              "      <td>Brasileira</td>\n",
              "      <td>39066</td>\n",
              "      <td>Fox</td>\n",
              "      <td>Distribuição Internacional</td>\n",
              "      <td>1671</td>\n",
              "      <td>5013</td>\n",
              "    </tr>\n",
              "    <tr>\n",
              "      <th>7077</th>\n",
              "      <td>2009</td>\n",
              "      <td>Zico na Rede</td>\n",
              "      <td>B0901041400000</td>\n",
              "      <td>Documentário</td>\n",
              "      <td>Brasil</td>\n",
              "      <td>Brasileira</td>\n",
              "      <td>39997</td>\n",
              "      <td>Business Telecom</td>\n",
              "      <td>Distribuição Nacional</td>\n",
              "      <td>546</td>\n",
              "      <td>2529.5</td>\n",
              "    </tr>\n",
              "    <tr>\n",
              "      <th>7078</th>\n",
              "      <td>2009</td>\n",
              "      <td>À Deriva</td>\n",
              "      <td>B0901015000000</td>\n",
              "      <td>Ficção</td>\n",
              "      <td>Brasil, Estados Unidos</td>\n",
              "      <td>Brasileira</td>\n",
              "      <td>40025</td>\n",
              "      <td>Universal</td>\n",
              "      <td>Distribuição Internacional</td>\n",
              "      <td>94588</td>\n",
              "      <td>870171</td>\n",
              "    </tr>\n",
              "    <tr>\n",
              "      <th>7079</th>\n",
              "      <td>2009</td>\n",
              "      <td>É Proibido Fumar</td>\n",
              "      <td>B0901108700000</td>\n",
              "      <td>Ficção</td>\n",
              "      <td>Brasil</td>\n",
              "      <td>Brasileira</td>\n",
              "      <td>40151</td>\n",
              "      <td>Playarte</td>\n",
              "      <td>Distribuição Nacional</td>\n",
              "      <td>33291</td>\n",
              "      <td>303276</td>\n",
              "    </tr>\n",
              "    <tr>\n",
              "      <th>7080</th>\n",
              "      <td>2009</td>\n",
              "      <td>Última Parada - 174</td>\n",
              "      <td>B0800914800000</td>\n",
              "      <td>Ficção</td>\n",
              "      <td>Brasil</td>\n",
              "      <td>Brasileira</td>\n",
              "      <td>39745</td>\n",
              "      <td>Paramount</td>\n",
              "      <td>Distribuição Internacional</td>\n",
              "      <td>2107</td>\n",
              "      <td>8954</td>\n",
              "    </tr>\n",
              "  </tbody>\n",
              "</table>\n",
              "<p>7081 rows × 11 columns</p>\n",
              "</div>"
            ],
            "text/plain": [
              "      Ano de exibição  ... Renda (R$) no ano de exibição\n",
              "0                2019  ...                            70\n",
              "1                2019  ...                        103805\n",
              "2                2019  ...                         31295\n",
              "3                2019  ...                          4186\n",
              "4                2019  ...                          3531\n",
              "...               ...  ...                           ...\n",
              "7076             2009  ...                          5013\n",
              "7077             2009  ...                        2529.5\n",
              "7078             2009  ...                        870171\n",
              "7079             2009  ...                        303276\n",
              "7080             2009  ...                          8954\n",
              "\n",
              "[7081 rows x 11 columns]"
            ]
          },
          "metadata": {
            "tags": []
          },
          "execution_count": 38
        }
      ]
    },
    {
      "cell_type": "code",
      "metadata": {
        "id": "A0-ZUmpYAjb7",
        "outputId": "e590b8ac-004e-4a4f-a491-9a067548edd8",
        "colab": {
          "base_uri": "https://localhost:8080/"
        }
      },
      "source": [
        "df.info()"
      ],
      "execution_count": 43,
      "outputs": [
        {
          "output_type": "stream",
          "text": [
            "<class 'pandas.core.frame.DataFrame'>\n",
            "RangeIndex: 7081 entries, 0 to 7080\n",
            "Data columns (total 11 columns):\n",
            " #   Column                           Non-Null Count  Dtype \n",
            "---  ------                           --------------  ----- \n",
            " 0   Ano de exibição                  7081 non-null   int64 \n",
            " 1   Título da obra                   7081 non-null   object\n",
            " 2   CPB/ROE                          7081 non-null   object\n",
            " 3   Gênero                           7081 non-null   object\n",
            " 4   País(es) produtor(es) da obra    7081 non-null   object\n",
            " 5   Nacionalidade da obra            7081 non-null   object\n",
            " 6   Data de lançamento               7081 non-null   object\n",
            " 7   Empresa distribuidora            7081 non-null   object\n",
            " 8   Origem da empresa distribuidora  7081 non-null   object\n",
            " 9   Público no ano de exibição       7081 non-null   object\n",
            " 10  Renda (R$) no ano de exibição    7081 non-null   object\n",
            "dtypes: int64(1), object(10)\n",
            "memory usage: 608.6+ KB\n"
          ],
          "name": "stdout"
        }
      ]
    },
    {
      "cell_type": "code",
      "metadata": {
        "id": "joTGk68HCwZ7",
        "outputId": "aee80ac7-df4a-4a9c-ce21-4cf79c298f30",
        "colab": {
          "base_uri": "https://localhost:8080/",
          "height": 359
        }
      },
      "source": [
        "df[['Ano de exibição','Empresa distribuidora','Título da obra',\"Renda (R$) no ano de exibição\"]].sample(10)"
      ],
      "execution_count": 45,
      "outputs": [
        {
          "output_type": "execute_result",
          "data": {
            "text/html": [
              "<div>\n",
              "<style scoped>\n",
              "    .dataframe tbody tr th:only-of-type {\n",
              "        vertical-align: middle;\n",
              "    }\n",
              "\n",
              "    .dataframe tbody tr th {\n",
              "        vertical-align: top;\n",
              "    }\n",
              "\n",
              "    .dataframe thead th {\n",
              "        text-align: right;\n",
              "    }\n",
              "</style>\n",
              "<table border=\"1\" class=\"dataframe\">\n",
              "  <thead>\n",
              "    <tr style=\"text-align: right;\">\n",
              "      <th></th>\n",
              "      <th>Ano de exibição</th>\n",
              "      <th>Empresa distribuidora</th>\n",
              "      <th>Título da obra</th>\n",
              "      <th>Renda (R$) no ano de exibição</th>\n",
              "    </tr>\n",
              "  </thead>\n",
              "  <tbody>\n",
              "    <tr>\n",
              "      <th>6260</th>\n",
              "      <td>2010</td>\n",
              "      <td>Universal</td>\n",
              "      <td>Nanny McPhee e as lições mágicas</td>\n",
              "      <td>1592538</td>\n",
              "    </tr>\n",
              "    <tr>\n",
              "      <th>4924</th>\n",
              "      <td>2012</td>\n",
              "      <td>Paris</td>\n",
              "      <td>A Dançarina e o Ladrão</td>\n",
              "      <td>795042</td>\n",
              "    </tr>\n",
              "    <tr>\n",
              "      <th>6336</th>\n",
              "      <td>2010</td>\n",
              "      <td>Raiz Distribuidora</td>\n",
              "      <td>Onde Andará Dulce Veiga?</td>\n",
              "      <td>7500</td>\n",
              "    </tr>\n",
              "    <tr>\n",
              "      <th>6803</th>\n",
              "      <td>2009</td>\n",
              "      <td>Sony</td>\n",
              "      <td>Leonera</td>\n",
              "      <td>18215</td>\n",
              "    </tr>\n",
              "    <tr>\n",
              "      <th>6293</th>\n",
              "      <td>2010</td>\n",
              "      <td>Califórnia</td>\n",
              "      <td>O Estudante (2010)</td>\n",
              "      <td>34647.8</td>\n",
              "    </tr>\n",
              "    <tr>\n",
              "      <th>4361</th>\n",
              "      <td>2013</td>\n",
              "      <td>Diamond Films</td>\n",
              "      <td>A fuga do planeta Terra</td>\n",
              "      <td>2.0935e+06</td>\n",
              "    </tr>\n",
              "    <tr>\n",
              "      <th>6111</th>\n",
              "      <td>2010</td>\n",
              "      <td>Sony</td>\n",
              "      <td>Caçador de recompensas</td>\n",
              "      <td>5.78528e+06</td>\n",
              "    </tr>\n",
              "    <tr>\n",
              "      <th>2872</th>\n",
              "      <td>2015</td>\n",
              "      <td>UCI</td>\n",
              "      <td>A Audiência</td>\n",
              "      <td>6989</td>\n",
              "    </tr>\n",
              "    <tr>\n",
              "      <th>5039</th>\n",
              "      <td>2012</td>\n",
              "      <td>Imovision</td>\n",
              "      <td>Cairo 678</td>\n",
              "      <td>123332</td>\n",
              "    </tr>\n",
              "    <tr>\n",
              "      <th>5900</th>\n",
              "      <td>2011</td>\n",
              "      <td>Downtown</td>\n",
              "      <td>Sequestro</td>\n",
              "      <td>8114</td>\n",
              "    </tr>\n",
              "  </tbody>\n",
              "</table>\n",
              "</div>"
            ],
            "text/plain": [
              "      Ano de exibição  ... Renda (R$) no ano de exibição\n",
              "6260             2010  ...                       1592538\n",
              "4924             2012  ...                        795042\n",
              "6336             2010  ...                          7500\n",
              "6803             2009  ...                         18215\n",
              "6293             2010  ...                       34647.8\n",
              "4361             2013  ...                    2.0935e+06\n",
              "6111             2010  ...                   5.78528e+06\n",
              "2872             2015  ...                          6989\n",
              "5039             2012  ...                        123332\n",
              "5900             2011  ...                          8114\n",
              "\n",
              "[10 rows x 4 columns]"
            ]
          },
          "metadata": {
            "tags": []
          },
          "execution_count": 45
        }
      ]
    },
    {
      "cell_type": "code",
      "metadata": {
        "id": "4VtmsdWg_4vp"
      },
      "source": [
        ""
      ],
      "execution_count": null,
      "outputs": []
    }
  ]
}