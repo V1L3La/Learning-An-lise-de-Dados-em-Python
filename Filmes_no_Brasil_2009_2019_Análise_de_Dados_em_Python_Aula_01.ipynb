{
  "nbformat": 4,
  "nbformat_minor": 0,
  "metadata": {
    "colab": {
      "name": "Filmes_no_Brasil_2009_2019_Análise_de_Dados_em_Python_Aula_01.ipynb",
      "provenance": [],
      "collapsed_sections": [],
      "authorship_tag": "ABX9TyOzhfuT69RMiwecO8Io712S",
      "include_colab_link": true
    },
    "kernelspec": {
      "name": "python3",
      "display_name": "Python 3"
    },
    "language_info": {
      "name": "python"
    }
  },
  "cells": [
    {
      "cell_type": "markdown",
      "metadata": {
        "id": "view-in-github",
        "colab_type": "text"
      },
      "source": [
        "<a href=\"https://colab.research.google.com/github/V1L3La/Learning-An-lise-de-Dados-em-Python/blob/main/Filmes_no_Brasil_2009_2019_An%C3%A1lise_de_Dados_em_Python_Aula_01.ipynb\" target=\"_parent\"><img src=\"https://colab.research.google.com/assets/colab-badge.svg\" alt=\"Open In Colab\"/></a>"
      ]
    },
    {
      "cell_type": "markdown",
      "metadata": {
        "id": "x4MRRLGmqmML"
      },
      "source": [
        "#### Aumentando meu nível\n",
        "\n",
        "https://www.kaggle.com/joaoavf/introducao-a-analise-de-dados-python-e-pandas\n",
        "\n",
        "https://insightlab.ufc.br/6-truques-do-pandas-para-impulsionar-sua-analise-de-dados/\n",
        "\n",
        "https://towardsdatascience.com/cheat-sheet-for-google-colab-63853778c093\n",
        "\n",
        "Aula 2<br>\n",
        "https://www.youtube.com/watch?v=2oZHg3HOtcY&t=3243s\n",
        "\n",
        "10 minutes to pandas<br>\n",
        "https://pandas.pydata.org/pandas-docs/stable/user_guide/10min.html\n",
        "\n"
      ]
    },
    {
      "cell_type": "markdown",
      "metadata": {
        "id": "lXljWnZHjSZi"
      },
      "source": [
        "#### Analizando problemas de dados no Dataframe  \n",
        "df.shape    # verifica o tamanho do dataframe   (linhas, colunas)<br>\n",
        "df.dtypes   # todas colunas e os tipos [object(texto ou não sabe o que é)]<br>\n",
        "\n",
        "*   Item da lista\n",
        "*   Item da lista\n",
        "\n",
        "\n",
        "df.describe()<br>\n",
        "df.info()<br>\n",
        "df.head(4)<br>\n",
        "df.sample(10)   #lista linhas aleatórias<br>\n",
        "df.tail()<br>\n",
        "df.isnull().sum() retorna o número de valores ausentes para cada coluna.<br>\n",
        "df.isnull().sum().sum() retorna o número total de valores ausentes.<br>\n",
        "descobrir a porcentagem de valores que estão faltando, executando: df.isna().mean()<br>\n",
        "    🠗🠗🠗🠗🠗🠗🠗🠗🠗🠗🠗🠗🠗🠗🠗🠗🠗🠗🠗🠗🠗🠗🠗🠗🠗🠗🠗🠗🠗🠗🠗🠗🠗🠗🠗🠗🠗🠗🠗<br>\n",
        "help(pd.Series.loc) pedindo ajuda<br>"
      ]
    },
    {
      "cell_type": "markdown",
      "metadata": {
        "id": "_TokV1K7RNYo"
      },
      "source": [
        "#Análise de dados de filmes exibidos no Brasil de 2009 a 2019\n",
        "\n",
        "#####Com base nos dados da Ancine (https://oca.ancine.gov.br) vamos analisar os filmes exibidos no Brasil\n",
        "\n",
        "Arquivo -> filmes_no_Brasil_2009_2019.xlsx\n",
        "\n"
      ]
    },
    {
      "cell_type": "markdown",
      "metadata": {
        "id": "GR46HoqzLh51"
      },
      "source": [
        ""
      ]
    },
    {
      "cell_type": "code",
      "metadata": {
        "id": "p-8DhtZgRMbg"
      },
      "source": [
        "import pandas as pd\n",
        "%matplotlib inline"
      ],
      "execution_count": 15,
      "outputs": []
    },
    {
      "cell_type": "code",
      "metadata": {
        "colab": {
          "base_uri": "https://localhost:8080/",
          "height": 357
        },
        "id": "qwHj1mgURkdG",
        "outputId": "8f04f0aa-c952-421a-a296-77ccbb8668cd"
      },
      "source": [
        "# carrega um dataframe com base no arquivo excel sem as 2 primeiras linhas do titulo e chute as 20 ultimas linhas\n",
        "df = pd.read_excel('https://github.com/V1L3La/Learning-An-lise-de-Dados-em-Python/blob/main/filmes_no_Brasil_2009_2019.xlsx?raw=true', skiprows=2 ,skipfooter=20)\n",
        "df.head()"
      ],
      "execution_count": 16,
      "outputs": [
        {
          "output_type": "execute_result",
          "data": {
            "text/html": [
              "<div>\n",
              "<style scoped>\n",
              "    .dataframe tbody tr th:only-of-type {\n",
              "        vertical-align: middle;\n",
              "    }\n",
              "\n",
              "    .dataframe tbody tr th {\n",
              "        vertical-align: top;\n",
              "    }\n",
              "\n",
              "    .dataframe thead th {\n",
              "        text-align: right;\n",
              "    }\n",
              "</style>\n",
              "<table border=\"1\" class=\"dataframe\">\n",
              "  <thead>\n",
              "    <tr style=\"text-align: right;\">\n",
              "      <th></th>\n",
              "      <th>Ano de exibição</th>\n",
              "      <th>Título da obra</th>\n",
              "      <th>CPB/ROE</th>\n",
              "      <th>Gênero</th>\n",
              "      <th>País(es) produtor(es) da obra</th>\n",
              "      <th>Nacionalidade da obra</th>\n",
              "      <th>Data de lançamento</th>\n",
              "      <th>Empresa distribuidora</th>\n",
              "      <th>Origem da empresa distribuidora</th>\n",
              "      <th>Público no ano de exibição</th>\n",
              "      <th>Renda (R$) no ano de exibição</th>\n",
              "    </tr>\n",
              "  </thead>\n",
              "  <tbody>\n",
              "    <tr>\n",
              "      <th>0</th>\n",
              "      <td>2019</td>\n",
              "      <td>120 Batimentos Por Minuto</td>\n",
              "      <td>E1700453800000</td>\n",
              "      <td>Ficção</td>\n",
              "      <td>França</td>\n",
              "      <td>Estrangeira</td>\n",
              "      <td>43104</td>\n",
              "      <td>Imovision</td>\n",
              "      <td>Distribuição Nacional</td>\n",
              "      <td>10</td>\n",
              "      <td>70</td>\n",
              "    </tr>\n",
              "    <tr>\n",
              "      <th>1</th>\n",
              "      <td>2019</td>\n",
              "      <td>3 Faces</td>\n",
              "      <td>E1800494900000</td>\n",
              "      <td>Ficção</td>\n",
              "      <td>Irã</td>\n",
              "      <td>Estrangeira</td>\n",
              "      <td>43559</td>\n",
              "      <td>Imovision</td>\n",
              "      <td>Distribuição Nacional</td>\n",
              "      <td>6289</td>\n",
              "      <td>103805</td>\n",
              "    </tr>\n",
              "    <tr>\n",
              "      <th>2</th>\n",
              "      <td>2019</td>\n",
              "      <td>45 Dias Sem Você</td>\n",
              "      <td>B1800586000000</td>\n",
              "      <td>Ficção</td>\n",
              "      <td>Brasil</td>\n",
              "      <td>Brasileira</td>\n",
              "      <td>43601</td>\n",
              "      <td>O2 Play</td>\n",
              "      <td>Distribuição Nacional</td>\n",
              "      <td>3303</td>\n",
              "      <td>31295</td>\n",
              "    </tr>\n",
              "    <tr>\n",
              "      <th>3</th>\n",
              "      <td>2019</td>\n",
              "      <td>A 100 Passos De Um Sonho</td>\n",
              "      <td>E1402795100000</td>\n",
              "      <td>Ficção</td>\n",
              "      <td>Estados Unidos</td>\n",
              "      <td>Estrangeira</td>\n",
              "      <td>41879</td>\n",
              "      <td>Disney</td>\n",
              "      <td>Distribuição Internacional</td>\n",
              "      <td>69</td>\n",
              "      <td>4186</td>\n",
              "    </tr>\n",
              "    <tr>\n",
              "      <th>4</th>\n",
              "      <td>2019</td>\n",
              "      <td>A Abelhinha Maya - O Filme</td>\n",
              "      <td>E1800136100000</td>\n",
              "      <td>Animação</td>\n",
              "      <td>Alemanha</td>\n",
              "      <td>Estrangeira</td>\n",
              "      <td>43237</td>\n",
              "      <td>Playarte</td>\n",
              "      <td>Distribuição Nacional</td>\n",
              "      <td>402</td>\n",
              "      <td>3531</td>\n",
              "    </tr>\n",
              "  </tbody>\n",
              "</table>\n",
              "</div>"
            ],
            "text/plain": [
              "   Ano de exibição  ... Renda (R$) no ano de exibição\n",
              "0             2019  ...                            70\n",
              "1             2019  ...                        103805\n",
              "2             2019  ...                         31295\n",
              "3             2019  ...                          4186\n",
              "4             2019  ...                          3531\n",
              "\n",
              "[5 rows x 11 columns]"
            ]
          },
          "metadata": {
            "tags": []
          },
          "execution_count": 16
        }
      ]
    },
    {
      "cell_type": "markdown",
      "metadata": {
        "id": "gVb06wAHLjd9"
      },
      "source": [
        ""
      ]
    },
    {
      "cell_type": "code",
      "metadata": {
        "id": "a4NUgYvhpfmn",
        "colab": {
          "base_uri": "https://localhost:8080/"
        },
        "outputId": "7dac3c63-dafd-4ae6-cf3e-45da7d7b0e6c"
      },
      "source": [
        "df.shape"
      ],
      "execution_count": 17,
      "outputs": [
        {
          "output_type": "execute_result",
          "data": {
            "text/plain": [
              "(7081, 11)"
            ]
          },
          "metadata": {
            "tags": []
          },
          "execution_count": 17
        }
      ]
    },
    {
      "cell_type": "code",
      "metadata": {
        "id": "OXiwlGispMKt",
        "colab": {
          "base_uri": "https://localhost:8080/",
          "height": 297
        },
        "outputId": "389a29ad-04c2-483f-8472-6d7c57f1f73e"
      },
      "source": [
        "df.describe()"
      ],
      "execution_count": 18,
      "outputs": [
        {
          "output_type": "execute_result",
          "data": {
            "text/html": [
              "<div>\n",
              "<style scoped>\n",
              "    .dataframe tbody tr th:only-of-type {\n",
              "        vertical-align: middle;\n",
              "    }\n",
              "\n",
              "    .dataframe tbody tr th {\n",
              "        vertical-align: top;\n",
              "    }\n",
              "\n",
              "    .dataframe thead th {\n",
              "        text-align: right;\n",
              "    }\n",
              "</style>\n",
              "<table border=\"1\" class=\"dataframe\">\n",
              "  <thead>\n",
              "    <tr style=\"text-align: right;\">\n",
              "      <th></th>\n",
              "      <th>Ano de exibição</th>\n",
              "    </tr>\n",
              "  </thead>\n",
              "  <tbody>\n",
              "    <tr>\n",
              "      <th>count</th>\n",
              "      <td>7081.000000</td>\n",
              "    </tr>\n",
              "    <tr>\n",
              "      <th>mean</th>\n",
              "      <td>2014.339924</td>\n",
              "    </tr>\n",
              "    <tr>\n",
              "      <th>std</th>\n",
              "      <td>3.106327</td>\n",
              "    </tr>\n",
              "    <tr>\n",
              "      <th>min</th>\n",
              "      <td>2009.000000</td>\n",
              "    </tr>\n",
              "    <tr>\n",
              "      <th>25%</th>\n",
              "      <td>2012.000000</td>\n",
              "    </tr>\n",
              "    <tr>\n",
              "      <th>50%</th>\n",
              "      <td>2015.000000</td>\n",
              "    </tr>\n",
              "    <tr>\n",
              "      <th>75%</th>\n",
              "      <td>2017.000000</td>\n",
              "    </tr>\n",
              "    <tr>\n",
              "      <th>max</th>\n",
              "      <td>2019.000000</td>\n",
              "    </tr>\n",
              "  </tbody>\n",
              "</table>\n",
              "</div>"
            ],
            "text/plain": [
              "       Ano de exibição\n",
              "count      7081.000000\n",
              "mean       2014.339924\n",
              "std           3.106327\n",
              "min        2009.000000\n",
              "25%        2012.000000\n",
              "50%        2015.000000\n",
              "75%        2017.000000\n",
              "max        2019.000000"
            ]
          },
          "metadata": {
            "tags": []
          },
          "execution_count": 18
        }
      ]
    },
    {
      "cell_type": "code",
      "metadata": {
        "id": "QJ8mXKcup2N2",
        "colab": {
          "base_uri": "https://localhost:8080/",
          "height": 357
        },
        "outputId": "0d081c33-dcd6-4667-eeff-f32d312ffc2d"
      },
      "source": [
        "df.sample(5)"
      ],
      "execution_count": 20,
      "outputs": [
        {
          "output_type": "execute_result",
          "data": {
            "text/html": [
              "<div>\n",
              "<style scoped>\n",
              "    .dataframe tbody tr th:only-of-type {\n",
              "        vertical-align: middle;\n",
              "    }\n",
              "\n",
              "    .dataframe tbody tr th {\n",
              "        vertical-align: top;\n",
              "    }\n",
              "\n",
              "    .dataframe thead th {\n",
              "        text-align: right;\n",
              "    }\n",
              "</style>\n",
              "<table border=\"1\" class=\"dataframe\">\n",
              "  <thead>\n",
              "    <tr style=\"text-align: right;\">\n",
              "      <th></th>\n",
              "      <th>Ano de exibição</th>\n",
              "      <th>Título da obra</th>\n",
              "      <th>CPB/ROE</th>\n",
              "      <th>Gênero</th>\n",
              "      <th>País(es) produtor(es) da obra</th>\n",
              "      <th>Nacionalidade da obra</th>\n",
              "      <th>Data de lançamento</th>\n",
              "      <th>Empresa distribuidora</th>\n",
              "      <th>Origem da empresa distribuidora</th>\n",
              "      <th>Público no ano de exibição</th>\n",
              "      <th>Renda (R$) no ano de exibição</th>\n",
              "    </tr>\n",
              "  </thead>\n",
              "  <tbody>\n",
              "    <tr>\n",
              "      <th>6212</th>\n",
              "      <td>2010</td>\n",
              "      <td>Idas e Vindas do Amor</td>\n",
              "      <td>E1500238500000</td>\n",
              "      <td>Ficção</td>\n",
              "      <td>Estados Unidos</td>\n",
              "      <td>Estrangeira</td>\n",
              "      <td>40228</td>\n",
              "      <td>Warner</td>\n",
              "      <td>Distribuição Internacional</td>\n",
              "      <td>863445</td>\n",
              "      <td>7612165</td>\n",
              "    </tr>\n",
              "    <tr>\n",
              "      <th>3196</th>\n",
              "      <td>2015</td>\n",
              "      <td>Horas de Desespero</td>\n",
              "      <td>E1500334400000</td>\n",
              "      <td>Ficção</td>\n",
              "      <td>Estados Unidos</td>\n",
              "      <td>Estrangeira</td>\n",
              "      <td>42285</td>\n",
              "      <td>Diamond Films</td>\n",
              "      <td>Distribuição Nacional</td>\n",
              "      <td>36763</td>\n",
              "      <td>487697</td>\n",
              "    </tr>\n",
              "    <tr>\n",
              "      <th>6070</th>\n",
              "      <td>2010</td>\n",
              "      <td>As crônicas de Nárnia: a viagem do Peregrino d...</td>\n",
              "      <td>E1600640300000</td>\n",
              "      <td>Ficção</td>\n",
              "      <td>Estados Unidos</td>\n",
              "      <td>Estrangeira</td>\n",
              "      <td>40522</td>\n",
              "      <td>Fox</td>\n",
              "      <td>Distribuição Internacional</td>\n",
              "      <td>1926136</td>\n",
              "      <td>18416623</td>\n",
              "    </tr>\n",
              "    <tr>\n",
              "      <th>5963</th>\n",
              "      <td>2011</td>\n",
              "      <td>Vejo você no próximo verão</td>\n",
              "      <td>E1600592400000</td>\n",
              "      <td>Ficção</td>\n",
              "      <td>Estados Unidos</td>\n",
              "      <td>Estrangeira</td>\n",
              "      <td>40746</td>\n",
              "      <td>Imovision</td>\n",
              "      <td>Distribuição Nacional</td>\n",
              "      <td>20086</td>\n",
              "      <td>223173</td>\n",
              "    </tr>\n",
              "    <tr>\n",
              "      <th>3584</th>\n",
              "      <td>2015</td>\n",
              "      <td>Trocando os Pés</td>\n",
              "      <td>E1500198700000</td>\n",
              "      <td>Ficção</td>\n",
              "      <td>Estados Unidos</td>\n",
              "      <td>Estrangeira</td>\n",
              "      <td>42152</td>\n",
              "      <td>Imagem</td>\n",
              "      <td>Distribuição Nacional</td>\n",
              "      <td>316468</td>\n",
              "      <td>3.89594e+06</td>\n",
              "    </tr>\n",
              "  </tbody>\n",
              "</table>\n",
              "</div>"
            ],
            "text/plain": [
              "      Ano de exibição  ... Renda (R$) no ano de exibição\n",
              "6212             2010  ...                       7612165\n",
              "3196             2015  ...                        487697\n",
              "6070             2010  ...                      18416623\n",
              "5963             2011  ...                        223173\n",
              "3584             2015  ...                   3.89594e+06\n",
              "\n",
              "[5 rows x 11 columns]"
            ]
          },
          "metadata": {
            "tags": []
          },
          "execution_count": 20
        }
      ]
    },
    {
      "cell_type": "code",
      "metadata": {
        "id": "z3Ck5YsjRkZ6",
        "colab": {
          "base_uri": "https://localhost:8080/",
          "height": 357
        },
        "outputId": "c892ff5e-6fb8-46c1-9b7c-9b40686865cb"
      },
      "source": [
        "df.tail()   # nan  = not a number"
      ],
      "execution_count": 21,
      "outputs": [
        {
          "output_type": "execute_result",
          "data": {
            "text/html": [
              "<div>\n",
              "<style scoped>\n",
              "    .dataframe tbody tr th:only-of-type {\n",
              "        vertical-align: middle;\n",
              "    }\n",
              "\n",
              "    .dataframe tbody tr th {\n",
              "        vertical-align: top;\n",
              "    }\n",
              "\n",
              "    .dataframe thead th {\n",
              "        text-align: right;\n",
              "    }\n",
              "</style>\n",
              "<table border=\"1\" class=\"dataframe\">\n",
              "  <thead>\n",
              "    <tr style=\"text-align: right;\">\n",
              "      <th></th>\n",
              "      <th>Ano de exibição</th>\n",
              "      <th>Título da obra</th>\n",
              "      <th>CPB/ROE</th>\n",
              "      <th>Gênero</th>\n",
              "      <th>País(es) produtor(es) da obra</th>\n",
              "      <th>Nacionalidade da obra</th>\n",
              "      <th>Data de lançamento</th>\n",
              "      <th>Empresa distribuidora</th>\n",
              "      <th>Origem da empresa distribuidora</th>\n",
              "      <th>Público no ano de exibição</th>\n",
              "      <th>Renda (R$) no ano de exibição</th>\n",
              "    </tr>\n",
              "  </thead>\n",
              "  <tbody>\n",
              "    <tr>\n",
              "      <th>7076</th>\n",
              "      <td>2009</td>\n",
              "      <td>Xuxa Gêmeas</td>\n",
              "      <td>B0600616500000</td>\n",
              "      <td>Ficção</td>\n",
              "      <td>Brasil</td>\n",
              "      <td>Brasileira</td>\n",
              "      <td>39066</td>\n",
              "      <td>Fox</td>\n",
              "      <td>Distribuição Internacional</td>\n",
              "      <td>1671</td>\n",
              "      <td>5013</td>\n",
              "    </tr>\n",
              "    <tr>\n",
              "      <th>7077</th>\n",
              "      <td>2009</td>\n",
              "      <td>Zico na Rede</td>\n",
              "      <td>B0901041400000</td>\n",
              "      <td>Documentário</td>\n",
              "      <td>Brasil</td>\n",
              "      <td>Brasileira</td>\n",
              "      <td>39997</td>\n",
              "      <td>Business Telecom</td>\n",
              "      <td>Distribuição Nacional</td>\n",
              "      <td>546</td>\n",
              "      <td>2529.5</td>\n",
              "    </tr>\n",
              "    <tr>\n",
              "      <th>7078</th>\n",
              "      <td>2009</td>\n",
              "      <td>À Deriva</td>\n",
              "      <td>B0901015000000</td>\n",
              "      <td>Ficção</td>\n",
              "      <td>Brasil, Estados Unidos</td>\n",
              "      <td>Brasileira</td>\n",
              "      <td>40025</td>\n",
              "      <td>Universal</td>\n",
              "      <td>Distribuição Internacional</td>\n",
              "      <td>94588</td>\n",
              "      <td>870171</td>\n",
              "    </tr>\n",
              "    <tr>\n",
              "      <th>7079</th>\n",
              "      <td>2009</td>\n",
              "      <td>É Proibido Fumar</td>\n",
              "      <td>B0901108700000</td>\n",
              "      <td>Ficção</td>\n",
              "      <td>Brasil</td>\n",
              "      <td>Brasileira</td>\n",
              "      <td>40151</td>\n",
              "      <td>Playarte</td>\n",
              "      <td>Distribuição Nacional</td>\n",
              "      <td>33291</td>\n",
              "      <td>303276</td>\n",
              "    </tr>\n",
              "    <tr>\n",
              "      <th>7080</th>\n",
              "      <td>2009</td>\n",
              "      <td>Última Parada - 174</td>\n",
              "      <td>B0800914800000</td>\n",
              "      <td>Ficção</td>\n",
              "      <td>Brasil</td>\n",
              "      <td>Brasileira</td>\n",
              "      <td>39745</td>\n",
              "      <td>Paramount</td>\n",
              "      <td>Distribuição Internacional</td>\n",
              "      <td>2107</td>\n",
              "      <td>8954</td>\n",
              "    </tr>\n",
              "  </tbody>\n",
              "</table>\n",
              "</div>"
            ],
            "text/plain": [
              "      Ano de exibição  ... Renda (R$) no ano de exibição\n",
              "7076             2009  ...                          5013\n",
              "7077             2009  ...                        2529.5\n",
              "7078             2009  ...                        870171\n",
              "7079             2009  ...                        303276\n",
              "7080             2009  ...                          8954\n",
              "\n",
              "[5 rows x 11 columns]"
            ]
          },
          "metadata": {
            "tags": []
          },
          "execution_count": 21
        }
      ]
    },
    {
      "cell_type": "code",
      "metadata": {
        "colab": {
          "base_uri": "https://localhost:8080/",
          "height": 357
        },
        "id": "_R0ovJdB0zR3",
        "outputId": "04e5eb0f-b5db-4b3c-e1b3-487a40ee95c3"
      },
      "source": [
        "df.head()"
      ],
      "execution_count": 22,
      "outputs": [
        {
          "output_type": "execute_result",
          "data": {
            "text/html": [
              "<div>\n",
              "<style scoped>\n",
              "    .dataframe tbody tr th:only-of-type {\n",
              "        vertical-align: middle;\n",
              "    }\n",
              "\n",
              "    .dataframe tbody tr th {\n",
              "        vertical-align: top;\n",
              "    }\n",
              "\n",
              "    .dataframe thead th {\n",
              "        text-align: right;\n",
              "    }\n",
              "</style>\n",
              "<table border=\"1\" class=\"dataframe\">\n",
              "  <thead>\n",
              "    <tr style=\"text-align: right;\">\n",
              "      <th></th>\n",
              "      <th>Ano de exibição</th>\n",
              "      <th>Título da obra</th>\n",
              "      <th>CPB/ROE</th>\n",
              "      <th>Gênero</th>\n",
              "      <th>País(es) produtor(es) da obra</th>\n",
              "      <th>Nacionalidade da obra</th>\n",
              "      <th>Data de lançamento</th>\n",
              "      <th>Empresa distribuidora</th>\n",
              "      <th>Origem da empresa distribuidora</th>\n",
              "      <th>Público no ano de exibição</th>\n",
              "      <th>Renda (R$) no ano de exibição</th>\n",
              "    </tr>\n",
              "  </thead>\n",
              "  <tbody>\n",
              "    <tr>\n",
              "      <th>0</th>\n",
              "      <td>2019</td>\n",
              "      <td>120 Batimentos Por Minuto</td>\n",
              "      <td>E1700453800000</td>\n",
              "      <td>Ficção</td>\n",
              "      <td>França</td>\n",
              "      <td>Estrangeira</td>\n",
              "      <td>43104</td>\n",
              "      <td>Imovision</td>\n",
              "      <td>Distribuição Nacional</td>\n",
              "      <td>10</td>\n",
              "      <td>70</td>\n",
              "    </tr>\n",
              "    <tr>\n",
              "      <th>1</th>\n",
              "      <td>2019</td>\n",
              "      <td>3 Faces</td>\n",
              "      <td>E1800494900000</td>\n",
              "      <td>Ficção</td>\n",
              "      <td>Irã</td>\n",
              "      <td>Estrangeira</td>\n",
              "      <td>43559</td>\n",
              "      <td>Imovision</td>\n",
              "      <td>Distribuição Nacional</td>\n",
              "      <td>6289</td>\n",
              "      <td>103805</td>\n",
              "    </tr>\n",
              "    <tr>\n",
              "      <th>2</th>\n",
              "      <td>2019</td>\n",
              "      <td>45 Dias Sem Você</td>\n",
              "      <td>B1800586000000</td>\n",
              "      <td>Ficção</td>\n",
              "      <td>Brasil</td>\n",
              "      <td>Brasileira</td>\n",
              "      <td>43601</td>\n",
              "      <td>O2 Play</td>\n",
              "      <td>Distribuição Nacional</td>\n",
              "      <td>3303</td>\n",
              "      <td>31295</td>\n",
              "    </tr>\n",
              "    <tr>\n",
              "      <th>3</th>\n",
              "      <td>2019</td>\n",
              "      <td>A 100 Passos De Um Sonho</td>\n",
              "      <td>E1402795100000</td>\n",
              "      <td>Ficção</td>\n",
              "      <td>Estados Unidos</td>\n",
              "      <td>Estrangeira</td>\n",
              "      <td>41879</td>\n",
              "      <td>Disney</td>\n",
              "      <td>Distribuição Internacional</td>\n",
              "      <td>69</td>\n",
              "      <td>4186</td>\n",
              "    </tr>\n",
              "    <tr>\n",
              "      <th>4</th>\n",
              "      <td>2019</td>\n",
              "      <td>A Abelhinha Maya - O Filme</td>\n",
              "      <td>E1800136100000</td>\n",
              "      <td>Animação</td>\n",
              "      <td>Alemanha</td>\n",
              "      <td>Estrangeira</td>\n",
              "      <td>43237</td>\n",
              "      <td>Playarte</td>\n",
              "      <td>Distribuição Nacional</td>\n",
              "      <td>402</td>\n",
              "      <td>3531</td>\n",
              "    </tr>\n",
              "  </tbody>\n",
              "</table>\n",
              "</div>"
            ],
            "text/plain": [
              "   Ano de exibição  ... Renda (R$) no ano de exibição\n",
              "0             2019  ...                            70\n",
              "1             2019  ...                        103805\n",
              "2             2019  ...                         31295\n",
              "3             2019  ...                          4186\n",
              "4             2019  ...                          3531\n",
              "\n",
              "[5 rows x 11 columns]"
            ]
          },
          "metadata": {
            "tags": []
          },
          "execution_count": 22
        }
      ]
    },
    {
      "cell_type": "code",
      "metadata": {
        "colab": {
          "base_uri": "https://localhost:8080/"
        },
        "id": "0XcIBo-NRkWK",
        "outputId": "55ff58d1-abaf-43fb-e561-f72e900ab7b6"
      },
      "source": [
        "df.dtypes\n"
      ],
      "execution_count": 8,
      "outputs": [
        {
          "output_type": "execute_result",
          "data": {
            "text/plain": [
              "Ano de exibição                     int64\n",
              "Título da obra                     object\n",
              "CPB/ROE                            object\n",
              "Gênero                             object\n",
              "País(es) produtor(es) da obra      object\n",
              "Nacionalidade da obra              object\n",
              "Data de lançamento                 object\n",
              "Empresa distribuidora              object\n",
              "Origem da empresa distribuidora    object\n",
              "Público no ano de exibição         object\n",
              "Renda (R$) no ano de exibição      object\n",
              "dtype: object"
            ]
          },
          "metadata": {
            "tags": []
          },
          "execution_count": 8
        }
      ]
    },
    {
      "cell_type": "code",
      "metadata": {
        "id": "-y-Zg89tRkTF"
      },
      "source": [
        "#----1\n",
        "# Transformar o campo Data de lançamento em data\n",
        "#df['Data de lançamento'] = pd.to_datetime(df['Data de lançamento'])"
      ],
      "execution_count": 9,
      "outputs": []
    },
    {
      "cell_type": "code",
      "metadata": {
        "colab": {
          "base_uri": "https://localhost:8080/"
        },
        "id": "0vC1Q4CURkNl",
        "outputId": "2e7ac439-fb78-4ce5-ca57-8da86f2901cc"
      },
      "source": [
        "#---2\n",
        "# identificar o problema da coluna Data de lançamento\n",
        "df['Data de lançamento'].value_counts() \n"
      ],
      "execution_count": 23,
      "outputs": [
        {
          "output_type": "execute_result",
          "data": {
            "text/plain": [
              "Relançamento    198\n",
              "42341            33\n",
              "41264            33\n",
              "41607            29\n",
              "41215            27\n",
              "               ... \n",
              "42115             1\n",
              "39297             1\n",
              "42126             1\n",
              "40089             1\n",
              "28838             1\n",
              "Name: Data de lançamento, Length: 878, dtype: int64"
            ]
          },
          "metadata": {
            "tags": []
          },
          "execution_count": 23
        }
      ]
    },
    {
      "cell_type": "code",
      "metadata": {
        "colab": {
          "base_uri": "https://localhost:8080/",
          "height": 640
        },
        "id": "T8o5mKHjRkK1",
        "outputId": "cc971bd6-b147-4fd3-9453-0a76343dac41"
      },
      "source": [
        "#---3\n",
        "# exibir Data de lançamento  como relançamento\n",
        "df[df['Data de lançamento'] == 'Relançamento']"
      ],
      "execution_count": 11,
      "outputs": [
        {
          "output_type": "execute_result",
          "data": {
            "text/html": [
              "<div>\n",
              "<style scoped>\n",
              "    .dataframe tbody tr th:only-of-type {\n",
              "        vertical-align: middle;\n",
              "    }\n",
              "\n",
              "    .dataframe tbody tr th {\n",
              "        vertical-align: top;\n",
              "    }\n",
              "\n",
              "    .dataframe thead th {\n",
              "        text-align: right;\n",
              "    }\n",
              "</style>\n",
              "<table border=\"1\" class=\"dataframe\">\n",
              "  <thead>\n",
              "    <tr style=\"text-align: right;\">\n",
              "      <th></th>\n",
              "      <th>Ano de exibição</th>\n",
              "      <th>Título da obra</th>\n",
              "      <th>CPB/ROE</th>\n",
              "      <th>Gênero</th>\n",
              "      <th>País(es) produtor(es) da obra</th>\n",
              "      <th>Nacionalidade da obra</th>\n",
              "      <th>Data de lançamento</th>\n",
              "      <th>Empresa distribuidora</th>\n",
              "      <th>Origem da empresa distribuidora</th>\n",
              "      <th>Público no ano de exibição</th>\n",
              "      <th>Renda (R$) no ano de exibição</th>\n",
              "    </tr>\n",
              "  </thead>\n",
              "  <tbody>\n",
              "    <tr>\n",
              "      <th>6</th>\n",
              "      <td>2019</td>\n",
              "      <td>A Bela da Tarde</td>\n",
              "      <td>E1700492900000</td>\n",
              "      <td>Ficção</td>\n",
              "      <td>França, Itália</td>\n",
              "      <td>Estrangeira</td>\n",
              "      <td>Relançamento</td>\n",
              "      <td>Zeta Filmes</td>\n",
              "      <td>Distribuição Nacional</td>\n",
              "      <td>14</td>\n",
              "      <td>253</td>\n",
              "    </tr>\n",
              "    <tr>\n",
              "      <th>278</th>\n",
              "      <td>2019</td>\n",
              "      <td>Gritos e Sussurros</td>\n",
              "      <td>E1600273100000</td>\n",
              "      <td>Ficção</td>\n",
              "      <td>Suécia</td>\n",
              "      <td>Estrangeira</td>\n",
              "      <td>Relançamento</td>\n",
              "      <td>F. J. Cines</td>\n",
              "      <td>Distribuição Nacional</td>\n",
              "      <td>105</td>\n",
              "      <td>1024</td>\n",
              "    </tr>\n",
              "    <tr>\n",
              "      <th>359</th>\n",
              "      <td>2019</td>\n",
              "      <td>Matrix</td>\n",
              "      <td>E1500096600000</td>\n",
              "      <td>Ficção</td>\n",
              "      <td>Austrália, Estados Unidos</td>\n",
              "      <td>Estrangeira</td>\n",
              "      <td>Relançamento</td>\n",
              "      <td>Warner</td>\n",
              "      <td>Distribuição Internacional</td>\n",
              "      <td>18260</td>\n",
              "      <td>277563</td>\n",
              "    </tr>\n",
              "    <tr>\n",
              "      <th>390</th>\n",
              "      <td>2019</td>\n",
              "      <td>Morangos Silvestres</td>\n",
              "      <td>E1500804700000</td>\n",
              "      <td>Ficção</td>\n",
              "      <td>Suécia</td>\n",
              "      <td>Estrangeira</td>\n",
              "      <td>Relançamento</td>\n",
              "      <td>F. J. Cines</td>\n",
              "      <td>Distribuição Nacional</td>\n",
              "      <td>129</td>\n",
              "      <td>1230</td>\n",
              "    </tr>\n",
              "    <tr>\n",
              "      <th>396</th>\n",
              "      <td>2019</td>\n",
              "      <td>Mulholland Drive - Cidade dos Sonhos</td>\n",
              "      <td>E1700486000000</td>\n",
              "      <td>Ficção</td>\n",
              "      <td>Estados Unidos, França</td>\n",
              "      <td>Estrangeira</td>\n",
              "      <td>Relançamento</td>\n",
              "      <td>Zeta Filmes</td>\n",
              "      <td>Distribuição Nacional</td>\n",
              "      <td>50</td>\n",
              "      <td>920</td>\n",
              "    </tr>\n",
              "    <tr>\n",
              "      <th>...</th>\n",
              "      <td>...</td>\n",
              "      <td>...</td>\n",
              "      <td>...</td>\n",
              "      <td>...</td>\n",
              "      <td>...</td>\n",
              "      <td>...</td>\n",
              "      <td>...</td>\n",
              "      <td>...</td>\n",
              "      <td>...</td>\n",
              "      <td>...</td>\n",
              "      <td>...</td>\n",
              "    </tr>\n",
              "    <tr>\n",
              "      <th>6503</th>\n",
              "      <td>2009</td>\n",
              "      <td>A agenda</td>\n",
              "      <td>E1600634500000</td>\n",
              "      <td>Ficção</td>\n",
              "      <td>França</td>\n",
              "      <td>Estrangeira</td>\n",
              "      <td>Relançamento</td>\n",
              "      <td>Imovision</td>\n",
              "      <td>Distribuição Nacional</td>\n",
              "      <td>33</td>\n",
              "      <td>154.5</td>\n",
              "    </tr>\n",
              "    <tr>\n",
              "      <th>6738</th>\n",
              "      <td>2009</td>\n",
              "      <td>Fome de Viver</td>\n",
              "      <td>E1600228600000</td>\n",
              "      <td>Ficção</td>\n",
              "      <td>Reino Unido</td>\n",
              "      <td>Estrangeira</td>\n",
              "      <td>Relançamento</td>\n",
              "      <td>Filmes do Estação</td>\n",
              "      <td>Distribuição Nacional</td>\n",
              "      <td>268</td>\n",
              "      <td>944</td>\n",
              "    </tr>\n",
              "    <tr>\n",
              "      <th>6917</th>\n",
              "      <td>2009</td>\n",
              "      <td>Os Contos de Canterbury</td>\n",
              "      <td>E1600589800000</td>\n",
              "      <td>Ficção</td>\n",
              "      <td>Itália</td>\n",
              "      <td>Estrangeira</td>\n",
              "      <td>Relançamento</td>\n",
              "      <td>Pandora Filmes</td>\n",
              "      <td>Distribuição Nacional</td>\n",
              "      <td>5026</td>\n",
              "      <td>29614</td>\n",
              "    </tr>\n",
              "    <tr>\n",
              "      <th>6965</th>\n",
              "      <td>2009</td>\n",
              "      <td>Ratatouille</td>\n",
              "      <td>E1500365600000</td>\n",
              "      <td>Animação</td>\n",
              "      <td>Estados Unidos</td>\n",
              "      <td>Estrangeira</td>\n",
              "      <td>Relançamento</td>\n",
              "      <td>Sony</td>\n",
              "      <td>Distribuição Internacional</td>\n",
              "      <td>230</td>\n",
              "      <td>2300</td>\n",
              "    </tr>\n",
              "    <tr>\n",
              "      <th>6997</th>\n",
              "      <td>2009</td>\n",
              "      <td>Sofá Cama</td>\n",
              "      <td>E1600624100000</td>\n",
              "      <td>Ficção</td>\n",
              "      <td>Argentina</td>\n",
              "      <td>Estrangeira</td>\n",
              "      <td>Relançamento</td>\n",
              "      <td>Panda Filmes</td>\n",
              "      <td>Distribuição Nacional</td>\n",
              "      <td>579</td>\n",
              "      <td>3529.6</td>\n",
              "    </tr>\n",
              "  </tbody>\n",
              "</table>\n",
              "<p>198 rows × 11 columns</p>\n",
              "</div>"
            ],
            "text/plain": [
              "      Ano de exibição  ... Renda (R$) no ano de exibição\n",
              "6                2019  ...                           253\n",
              "278              2019  ...                          1024\n",
              "359              2019  ...                        277563\n",
              "390              2019  ...                          1230\n",
              "396              2019  ...                           920\n",
              "...               ...  ...                           ...\n",
              "6503             2009  ...                         154.5\n",
              "6738             2009  ...                           944\n",
              "6917             2009  ...                         29614\n",
              "6965             2009  ...                          2300\n",
              "6997             2009  ...                        3529.6\n",
              "\n",
              "[198 rows x 11 columns]"
            ]
          },
          "metadata": {
            "tags": []
          },
          "execution_count": 11
        }
      ]
    },
    {
      "cell_type": "markdown",
      "metadata": {
        "id": "rjou4_3R5Dyl"
      },
      "source": [
        "#### Decisão sobre dados incorretos/ faltantes/divergentes\n",
        "\n",
        "apagar?   atualizar manual os dados? o que fazer? Qual decisão?"
      ]
    },
    {
      "cell_type": "code",
      "metadata": {
        "colab": {
          "base_uri": "https://localhost:8080/"
        },
        "id": "xNb4-Wii4cYv",
        "outputId": "adb885db-6202-4691-d048-136aee7cffa0"
      },
      "source": [
        "df.shape"
      ],
      "execution_count": 24,
      "outputs": [
        {
          "output_type": "execute_result",
          "data": {
            "text/plain": [
              "(7081, 11)"
            ]
          },
          "metadata": {
            "tags": []
          },
          "execution_count": 24
        }
      ]
    },
    {
      "cell_type": "code",
      "metadata": {
        "colab": {
          "base_uri": "https://localhost:8080/",
          "height": 357
        },
        "id": "3RiyAUAK53ch",
        "outputId": "d1a4134e-4cbd-47d8-b2f4-dfce7e46714c"
      },
      "source": [
        "#---4\n",
        "#criar(copia) um novo dataframe sem as linhas Relançamentos (-198 linhas)\n",
        "df_novo = df[df['Data de lançamento'] != 'Relançamento']\n",
        "df.head()"
      ],
      "execution_count": 26,
      "outputs": [
        {
          "output_type": "execute_result",
          "data": {
            "text/html": [
              "<div>\n",
              "<style scoped>\n",
              "    .dataframe tbody tr th:only-of-type {\n",
              "        vertical-align: middle;\n",
              "    }\n",
              "\n",
              "    .dataframe tbody tr th {\n",
              "        vertical-align: top;\n",
              "    }\n",
              "\n",
              "    .dataframe thead th {\n",
              "        text-align: right;\n",
              "    }\n",
              "</style>\n",
              "<table border=\"1\" class=\"dataframe\">\n",
              "  <thead>\n",
              "    <tr style=\"text-align: right;\">\n",
              "      <th></th>\n",
              "      <th>Ano de exibição</th>\n",
              "      <th>Título da obra</th>\n",
              "      <th>CPB/ROE</th>\n",
              "      <th>Gênero</th>\n",
              "      <th>País(es) produtor(es) da obra</th>\n",
              "      <th>Nacionalidade da obra</th>\n",
              "      <th>Data de lançamento</th>\n",
              "      <th>Empresa distribuidora</th>\n",
              "      <th>Origem da empresa distribuidora</th>\n",
              "      <th>Público no ano de exibição</th>\n",
              "      <th>Renda (R$) no ano de exibição</th>\n",
              "    </tr>\n",
              "  </thead>\n",
              "  <tbody>\n",
              "    <tr>\n",
              "      <th>0</th>\n",
              "      <td>2019</td>\n",
              "      <td>120 Batimentos Por Minuto</td>\n",
              "      <td>E1700453800000</td>\n",
              "      <td>Ficção</td>\n",
              "      <td>França</td>\n",
              "      <td>Estrangeira</td>\n",
              "      <td>43104</td>\n",
              "      <td>Imovision</td>\n",
              "      <td>Distribuição Nacional</td>\n",
              "      <td>10</td>\n",
              "      <td>70</td>\n",
              "    </tr>\n",
              "    <tr>\n",
              "      <th>1</th>\n",
              "      <td>2019</td>\n",
              "      <td>3 Faces</td>\n",
              "      <td>E1800494900000</td>\n",
              "      <td>Ficção</td>\n",
              "      <td>Irã</td>\n",
              "      <td>Estrangeira</td>\n",
              "      <td>43559</td>\n",
              "      <td>Imovision</td>\n",
              "      <td>Distribuição Nacional</td>\n",
              "      <td>6289</td>\n",
              "      <td>103805</td>\n",
              "    </tr>\n",
              "    <tr>\n",
              "      <th>2</th>\n",
              "      <td>2019</td>\n",
              "      <td>45 Dias Sem Você</td>\n",
              "      <td>B1800586000000</td>\n",
              "      <td>Ficção</td>\n",
              "      <td>Brasil</td>\n",
              "      <td>Brasileira</td>\n",
              "      <td>43601</td>\n",
              "      <td>O2 Play</td>\n",
              "      <td>Distribuição Nacional</td>\n",
              "      <td>3303</td>\n",
              "      <td>31295</td>\n",
              "    </tr>\n",
              "    <tr>\n",
              "      <th>3</th>\n",
              "      <td>2019</td>\n",
              "      <td>A 100 Passos De Um Sonho</td>\n",
              "      <td>E1402795100000</td>\n",
              "      <td>Ficção</td>\n",
              "      <td>Estados Unidos</td>\n",
              "      <td>Estrangeira</td>\n",
              "      <td>41879</td>\n",
              "      <td>Disney</td>\n",
              "      <td>Distribuição Internacional</td>\n",
              "      <td>69</td>\n",
              "      <td>4186</td>\n",
              "    </tr>\n",
              "    <tr>\n",
              "      <th>4</th>\n",
              "      <td>2019</td>\n",
              "      <td>A Abelhinha Maya - O Filme</td>\n",
              "      <td>E1800136100000</td>\n",
              "      <td>Animação</td>\n",
              "      <td>Alemanha</td>\n",
              "      <td>Estrangeira</td>\n",
              "      <td>43237</td>\n",
              "      <td>Playarte</td>\n",
              "      <td>Distribuição Nacional</td>\n",
              "      <td>402</td>\n",
              "      <td>3531</td>\n",
              "    </tr>\n",
              "  </tbody>\n",
              "</table>\n",
              "</div>"
            ],
            "text/plain": [
              "   Ano de exibição  ... Renda (R$) no ano de exibição\n",
              "0             2019  ...                            70\n",
              "1             2019  ...                        103805\n",
              "2             2019  ...                         31295\n",
              "3             2019  ...                          4186\n",
              "4             2019  ...                          3531\n",
              "\n",
              "[5 rows x 11 columns]"
            ]
          },
          "metadata": {
            "tags": []
          },
          "execution_count": 26
        }
      ]
    },
    {
      "cell_type": "code",
      "metadata": {
        "colab": {
          "base_uri": "https://localhost:8080/"
        },
        "id": "V5hjsF5K8Lpz",
        "outputId": "e0b7bf9b-24ca-4131-a003-2e46b9c14512"
      },
      "source": [
        "df_novo.shape"
      ],
      "execution_count": 27,
      "outputs": [
        {
          "output_type": "execute_result",
          "data": {
            "text/plain": [
              "(6883, 11)"
            ]
          },
          "metadata": {
            "tags": []
          },
          "execution_count": 27
        }
      ]
    },
    {
      "cell_type": "code",
      "metadata": {
        "colab": {
          "base_uri": "https://localhost:8080/"
        },
        "id": "7gCZwuus7YUO",
        "outputId": "f9df4305-6f75-4814-bbd2-e1a86145f066"
      },
      "source": [
        "df_novo.dtypes"
      ],
      "execution_count": 29,
      "outputs": [
        {
          "output_type": "execute_result",
          "data": {
            "text/plain": [
              "Ano de exibição                     int64\n",
              "Título da obra                     object\n",
              "CPB/ROE                            object\n",
              "Gênero                             object\n",
              "País(es) produtor(es) da obra      object\n",
              "Nacionalidade da obra              object\n",
              "Data de lançamento                 object\n",
              "Empresa distribuidora              object\n",
              "Origem da empresa distribuidora    object\n",
              "Público no ano de exibição         object\n",
              "Renda (R$) no ano de exibição      object\n",
              "dtype: object"
            ]
          },
          "metadata": {
            "tags": []
          },
          "execution_count": 29
        }
      ]
    },
    {
      "cell_type": "code",
      "metadata": {
        "id": "vdUY6JiU8Z0p"
      },
      "source": [
        "#---5\n",
        "# converter a coluna Data de lançamento para datetime\n",
        "# df_novo['Data de lançamento'] = pd.to_datetime(df_novo['Data de lançamento'])"
      ],
      "execution_count": null,
      "outputs": []
    },
    {
      "cell_type": "code",
      "metadata": {
        "colab": {
          "base_uri": "https://localhost:8080/",
          "height": 282
        },
        "id": "Jdtmagtp825K",
        "outputId": "5c370094-c404-48be-b994-8565e3f5359a"
      },
      "source": [
        "df_novo['Ano de exibição'].value_counts().plot.barh()"
      ],
      "execution_count": 30,
      "outputs": [
        {
          "output_type": "execute_result",
          "data": {
            "text/plain": [
              "<matplotlib.axes._subplots.AxesSubplot at 0x7fc9eaf492d0>"
            ]
          },
          "metadata": {
            "tags": []
          },
          "execution_count": 30
        },
        {
          "output_type": "display_data",
          "data": {
            "image/png": "[encoded data removed]",
            "text/plain": [
              "<Figure size 432x288 with 1 Axes>"
            ]
          },
          "metadata": {
            "tags": [],
            "needs_background": "light"
          }
        }
      ]
    },
    {
      "cell_type": "markdown",
      "metadata": {
        "id": "KMOJ_-fpDhws"
      },
      "source": [
        ""
      ]
    },
    {
      "cell_type": "code",
      "metadata": {
        "id": "LeyCBa2OFWfP",
        "colab": {
          "base_uri": "https://localhost:8080/"
        },
        "outputId": "1c05a8d4-7900-4f91-a077-5c00598251f5"
      },
      "source": [
        "df_novo.rename(columns={'Público no ano de exibição': 'Publico'}, inplace = True)   # troca o nome de uma coluna"
      ],
      "execution_count": 31,
      "outputs": [
        {
          "output_type": "stream",
          "text": [
            "/usr/local/lib/python3.7/dist-packages/pandas/core/frame.py:4308: SettingWithCopyWarning: \n",
            "A value is trying to be set on a copy of a slice from a DataFrame\n",
            "\n",
            "See the caveats in the documentation: https://pandas.pydata.org/pandas-docs/stable/user_guide/indexing.html#returning-a-view-versus-a-copy\n",
            "  errors=errors,\n"
          ],
          "name": "stderr"
        }
      ]
    },
    {
      "cell_type": "code",
      "metadata": {
        "colab": {
          "base_uri": "https://localhost:8080/",
          "height": 657
        },
        "id": "jQuxhdUT5T37",
        "outputId": "ff9e6d0c-2d42-43c0-93d7-1048dd0cb4f6"
      },
      "source": [
        "df_novo"
      ],
      "execution_count": 32,
      "outputs": [
        {
          "output_type": "execute_result",
          "data": {
            "text/html": [
              "<div>\n",
              "<style scoped>\n",
              "    .dataframe tbody tr th:only-of-type {\n",
              "        vertical-align: middle;\n",
              "    }\n",
              "\n",
              "    .dataframe tbody tr th {\n",
              "        vertical-align: top;\n",
              "    }\n",
              "\n",
              "    .dataframe thead th {\n",
              "        text-align: right;\n",
              "    }\n",
              "</style>\n",
              "<table border=\"1\" class=\"dataframe\">\n",
              "  <thead>\n",
              "    <tr style=\"text-align: right;\">\n",
              "      <th></th>\n",
              "      <th>Ano de exibição</th>\n",
              "      <th>Título da obra</th>\n",
              "      <th>CPB/ROE</th>\n",
              "      <th>Gênero</th>\n",
              "      <th>País(es) produtor(es) da obra</th>\n",
              "      <th>Nacionalidade da obra</th>\n",
              "      <th>Data de lançamento</th>\n",
              "      <th>Empresa distribuidora</th>\n",
              "      <th>Origem da empresa distribuidora</th>\n",
              "      <th>Publico</th>\n",
              "      <th>Renda (R$) no ano de exibição</th>\n",
              "    </tr>\n",
              "  </thead>\n",
              "  <tbody>\n",
              "    <tr>\n",
              "      <th>0</th>\n",
              "      <td>2019</td>\n",
              "      <td>120 Batimentos Por Minuto</td>\n",
              "      <td>E1700453800000</td>\n",
              "      <td>Ficção</td>\n",
              "      <td>França</td>\n",
              "      <td>Estrangeira</td>\n",
              "      <td>43104</td>\n",
              "      <td>Imovision</td>\n",
              "      <td>Distribuição Nacional</td>\n",
              "      <td>10</td>\n",
              "      <td>70</td>\n",
              "    </tr>\n",
              "    <tr>\n",
              "      <th>1</th>\n",
              "      <td>2019</td>\n",
              "      <td>3 Faces</td>\n",
              "      <td>E1800494900000</td>\n",
              "      <td>Ficção</td>\n",
              "      <td>Irã</td>\n",
              "      <td>Estrangeira</td>\n",
              "      <td>43559</td>\n",
              "      <td>Imovision</td>\n",
              "      <td>Distribuição Nacional</td>\n",
              "      <td>6289</td>\n",
              "      <td>103805</td>\n",
              "    </tr>\n",
              "    <tr>\n",
              "      <th>2</th>\n",
              "      <td>2019</td>\n",
              "      <td>45 Dias Sem Você</td>\n",
              "      <td>B1800586000000</td>\n",
              "      <td>Ficção</td>\n",
              "      <td>Brasil</td>\n",
              "      <td>Brasileira</td>\n",
              "      <td>43601</td>\n",
              "      <td>O2 Play</td>\n",
              "      <td>Distribuição Nacional</td>\n",
              "      <td>3303</td>\n",
              "      <td>31295</td>\n",
              "    </tr>\n",
              "    <tr>\n",
              "      <th>3</th>\n",
              "      <td>2019</td>\n",
              "      <td>A 100 Passos De Um Sonho</td>\n",
              "      <td>E1402795100000</td>\n",
              "      <td>Ficção</td>\n",
              "      <td>Estados Unidos</td>\n",
              "      <td>Estrangeira</td>\n",
              "      <td>41879</td>\n",
              "      <td>Disney</td>\n",
              "      <td>Distribuição Internacional</td>\n",
              "      <td>69</td>\n",
              "      <td>4186</td>\n",
              "    </tr>\n",
              "    <tr>\n",
              "      <th>4</th>\n",
              "      <td>2019</td>\n",
              "      <td>A Abelhinha Maya - O Filme</td>\n",
              "      <td>E1800136100000</td>\n",
              "      <td>Animação</td>\n",
              "      <td>Alemanha</td>\n",
              "      <td>Estrangeira</td>\n",
              "      <td>43237</td>\n",
              "      <td>Playarte</td>\n",
              "      <td>Distribuição Nacional</td>\n",
              "      <td>402</td>\n",
              "      <td>3531</td>\n",
              "    </tr>\n",
              "    <tr>\n",
              "      <th>...</th>\n",
              "      <td>...</td>\n",
              "      <td>...</td>\n",
              "      <td>...</td>\n",
              "      <td>...</td>\n",
              "      <td>...</td>\n",
              "      <td>...</td>\n",
              "      <td>...</td>\n",
              "      <td>...</td>\n",
              "      <td>...</td>\n",
              "      <td>...</td>\n",
              "      <td>...</td>\n",
              "    </tr>\n",
              "    <tr>\n",
              "      <th>7076</th>\n",
              "      <td>2009</td>\n",
              "      <td>Xuxa Gêmeas</td>\n",
              "      <td>B0600616500000</td>\n",
              "      <td>Ficção</td>\n",
              "      <td>Brasil</td>\n",
              "      <td>Brasileira</td>\n",
              "      <td>39066</td>\n",
              "      <td>Fox</td>\n",
              "      <td>Distribuição Internacional</td>\n",
              "      <td>1671</td>\n",
              "      <td>5013</td>\n",
              "    </tr>\n",
              "    <tr>\n",
              "      <th>7077</th>\n",
              "      <td>2009</td>\n",
              "      <td>Zico na Rede</td>\n",
              "      <td>B0901041400000</td>\n",
              "      <td>Documentário</td>\n",
              "      <td>Brasil</td>\n",
              "      <td>Brasileira</td>\n",
              "      <td>39997</td>\n",
              "      <td>Business Telecom</td>\n",
              "      <td>Distribuição Nacional</td>\n",
              "      <td>546</td>\n",
              "      <td>2529.5</td>\n",
              "    </tr>\n",
              "    <tr>\n",
              "      <th>7078</th>\n",
              "      <td>2009</td>\n",
              "      <td>À Deriva</td>\n",
              "      <td>B0901015000000</td>\n",
              "      <td>Ficção</td>\n",
              "      <td>Brasil, Estados Unidos</td>\n",
              "      <td>Brasileira</td>\n",
              "      <td>40025</td>\n",
              "      <td>Universal</td>\n",
              "      <td>Distribuição Internacional</td>\n",
              "      <td>94588</td>\n",
              "      <td>870171</td>\n",
              "    </tr>\n",
              "    <tr>\n",
              "      <th>7079</th>\n",
              "      <td>2009</td>\n",
              "      <td>É Proibido Fumar</td>\n",
              "      <td>B0901108700000</td>\n",
              "      <td>Ficção</td>\n",
              "      <td>Brasil</td>\n",
              "      <td>Brasileira</td>\n",
              "      <td>40151</td>\n",
              "      <td>Playarte</td>\n",
              "      <td>Distribuição Nacional</td>\n",
              "      <td>33291</td>\n",
              "      <td>303276</td>\n",
              "    </tr>\n",
              "    <tr>\n",
              "      <th>7080</th>\n",
              "      <td>2009</td>\n",
              "      <td>Última Parada - 174</td>\n",
              "      <td>B0800914800000</td>\n",
              "      <td>Ficção</td>\n",
              "      <td>Brasil</td>\n",
              "      <td>Brasileira</td>\n",
              "      <td>39745</td>\n",
              "      <td>Paramount</td>\n",
              "      <td>Distribuição Internacional</td>\n",
              "      <td>2107</td>\n",
              "      <td>8954</td>\n",
              "    </tr>\n",
              "  </tbody>\n",
              "</table>\n",
              "<p>6883 rows × 11 columns</p>\n",
              "</div>"
            ],
            "text/plain": [
              "      Ano de exibição  ... Renda (R$) no ano de exibição\n",
              "0                2019  ...                            70\n",
              "1                2019  ...                        103805\n",
              "2                2019  ...                         31295\n",
              "3                2019  ...                          4186\n",
              "4                2019  ...                          3531\n",
              "...               ...  ...                           ...\n",
              "7076             2009  ...                          5013\n",
              "7077             2009  ...                        2529.5\n",
              "7078             2009  ...                        870171\n",
              "7079             2009  ...                        303276\n",
              "7080             2009  ...                          8954\n",
              "\n",
              "[6883 rows x 11 columns]"
            ]
          },
          "metadata": {
            "tags": []
          },
          "execution_count": 32
        }
      ]
    },
    {
      "cell_type": "code",
      "metadata": {
        "id": "XwE7nBQFBSgc"
      },
      "source": [
        "df_novo['Publico'].sample(25)"
      ],
      "execution_count": null,
      "outputs": []
    },
    {
      "cell_type": "code",
      "metadata": {
        "colab": {
          "base_uri": "https://localhost:8080/"
        },
        "id": "f75hbFF4v3o9",
        "outputId": "f664125c-ce1b-4d65-e85f-64fcdf44bcd1"
      },
      "source": [
        "\n",
        "df_novo[df_novo['Publico'] == 'ND'].value_counts"
      ],
      "execution_count": 38,
      "outputs": [
        {
          "output_type": "execute_result",
          "data": {
            "text/plain": [
              "<bound method DataFrame.value_counts of       Ano de exibição  ... Renda (R$) no ano de exibição\n",
              "81               2019  ...                            ND\n",
              "125              2019  ...                            ND\n",
              "158              2019  ...                            ND\n",
              "203              2019  ...                            ND\n",
              "221              2019  ...                            ND\n",
              "229              2019  ...                            ND\n",
              "3993             2014  ...                            ND\n",
              "4116             2014  ...                            ND\n",
              "4429             2013  ...                            ND\n",
              "4446             2013  ...                            ND\n",
              "4491             2013  ...                            ND\n",
              "4778             2013  ...                            ND\n",
              "4846             2013  ...                            ND\n",
              "4989             2012  ...                            ND\n",
              "5012             2012  ...                            ND\n",
              "5050             2012  ...                            ND\n",
              "5172             2012  ...                            ND\n",
              "5200             2012  ...                            ND\n",
              "5215             2012  ...                            ND\n",
              "5305             2012  ...                            ND\n",
              "5479             2011  ...                            ND\n",
              "5848             2011  ...                            ND\n",
              "5852             2011  ...                            ND\n",
              "5974             2011  ...                            ND\n",
              "6238             2010  ...                            ND\n",
              "6592             2009  ...                            ND\n",
              "6850             2009  ...                            ND\n",
              "6979             2009  ...                            ND\n",
              "7053             2009  ...                            ND\n",
              "\n",
              "[29 rows x 11 columns]>"
            ]
          },
          "metadata": {
            "tags": []
          },
          "execution_count": 38
        }
      ]
    },
    {
      "cell_type": "code",
      "metadata": {
        "colab": {
          "base_uri": "https://localhost:8080/"
        },
        "id": "sqgG_c39_XWC",
        "outputId": "c6a26a10-72f3-4dd1-b9b4-f3fa38d65bf1"
      },
      "source": [
        "df_novo['Publico'].shape"
      ],
      "execution_count": 39,
      "outputs": [
        {
          "output_type": "execute_result",
          "data": {
            "text/plain": [
              "(6883,)"
            ]
          },
          "metadata": {
            "tags": []
          },
          "execution_count": 39
        }
      ]
    },
    {
      "cell_type": "code",
      "metadata": {
        "colab": {
          "base_uri": "https://localhost:8080/",
          "height": 340
        },
        "id": "sFvsNKCl_6HW",
        "outputId": "2fae2d0b-9788-4726-ccf3-a0d6fe670347"
      },
      "source": [
        "df_novo = df_novo[df_novo['Publico'] != 'ND']\n",
        "df_novo.head()"
      ],
      "execution_count": 40,
      "outputs": [
        {
          "output_type": "execute_result",
          "data": {
            "text/html": [
              "<div>\n",
              "<style scoped>\n",
              "    .dataframe tbody tr th:only-of-type {\n",
              "        vertical-align: middle;\n",
              "    }\n",
              "\n",
              "    .dataframe tbody tr th {\n",
              "        vertical-align: top;\n",
              "    }\n",
              "\n",
              "    .dataframe thead th {\n",
              "        text-align: right;\n",
              "    }\n",
              "</style>\n",
              "<table border=\"1\" class=\"dataframe\">\n",
              "  <thead>\n",
              "    <tr style=\"text-align: right;\">\n",
              "      <th></th>\n",
              "      <th>Ano de exibição</th>\n",
              "      <th>Título da obra</th>\n",
              "      <th>CPB/ROE</th>\n",
              "      <th>Gênero</th>\n",
              "      <th>País(es) produtor(es) da obra</th>\n",
              "      <th>Nacionalidade da obra</th>\n",
              "      <th>Data de lançamento</th>\n",
              "      <th>Empresa distribuidora</th>\n",
              "      <th>Origem da empresa distribuidora</th>\n",
              "      <th>Publico</th>\n",
              "      <th>Renda (R$) no ano de exibição</th>\n",
              "    </tr>\n",
              "  </thead>\n",
              "  <tbody>\n",
              "    <tr>\n",
              "      <th>0</th>\n",
              "      <td>2019</td>\n",
              "      <td>120 Batimentos Por Minuto</td>\n",
              "      <td>E1700453800000</td>\n",
              "      <td>Ficção</td>\n",
              "      <td>França</td>\n",
              "      <td>Estrangeira</td>\n",
              "      <td>43104</td>\n",
              "      <td>Imovision</td>\n",
              "      <td>Distribuição Nacional</td>\n",
              "      <td>10</td>\n",
              "      <td>70</td>\n",
              "    </tr>\n",
              "    <tr>\n",
              "      <th>1</th>\n",
              "      <td>2019</td>\n",
              "      <td>3 Faces</td>\n",
              "      <td>E1800494900000</td>\n",
              "      <td>Ficção</td>\n",
              "      <td>Irã</td>\n",
              "      <td>Estrangeira</td>\n",
              "      <td>43559</td>\n",
              "      <td>Imovision</td>\n",
              "      <td>Distribuição Nacional</td>\n",
              "      <td>6289</td>\n",
              "      <td>103805</td>\n",
              "    </tr>\n",
              "    <tr>\n",
              "      <th>2</th>\n",
              "      <td>2019</td>\n",
              "      <td>45 Dias Sem Você</td>\n",
              "      <td>B1800586000000</td>\n",
              "      <td>Ficção</td>\n",
              "      <td>Brasil</td>\n",
              "      <td>Brasileira</td>\n",
              "      <td>43601</td>\n",
              "      <td>O2 Play</td>\n",
              "      <td>Distribuição Nacional</td>\n",
              "      <td>3303</td>\n",
              "      <td>31295</td>\n",
              "    </tr>\n",
              "    <tr>\n",
              "      <th>3</th>\n",
              "      <td>2019</td>\n",
              "      <td>A 100 Passos De Um Sonho</td>\n",
              "      <td>E1402795100000</td>\n",
              "      <td>Ficção</td>\n",
              "      <td>Estados Unidos</td>\n",
              "      <td>Estrangeira</td>\n",
              "      <td>41879</td>\n",
              "      <td>Disney</td>\n",
              "      <td>Distribuição Internacional</td>\n",
              "      <td>69</td>\n",
              "      <td>4186</td>\n",
              "    </tr>\n",
              "    <tr>\n",
              "      <th>4</th>\n",
              "      <td>2019</td>\n",
              "      <td>A Abelhinha Maya - O Filme</td>\n",
              "      <td>E1800136100000</td>\n",
              "      <td>Animação</td>\n",
              "      <td>Alemanha</td>\n",
              "      <td>Estrangeira</td>\n",
              "      <td>43237</td>\n",
              "      <td>Playarte</td>\n",
              "      <td>Distribuição Nacional</td>\n",
              "      <td>402</td>\n",
              "      <td>3531</td>\n",
              "    </tr>\n",
              "  </tbody>\n",
              "</table>\n",
              "</div>"
            ],
            "text/plain": [
              "   Ano de exibição  ... Renda (R$) no ano de exibição\n",
              "0             2019  ...                            70\n",
              "1             2019  ...                        103805\n",
              "2             2019  ...                         31295\n",
              "3             2019  ...                          4186\n",
              "4             2019  ...                          3531\n",
              "\n",
              "[5 rows x 11 columns]"
            ]
          },
          "metadata": {
            "tags": []
          },
          "execution_count": 40
        }
      ]
    },
    {
      "cell_type": "code",
      "metadata": {
        "id": "hk-JwH2frNMa",
        "colab": {
          "base_uri": "https://localhost:8080/"
        },
        "outputId": "9f765377-12ae-43e9-a96e-78b0b16c44ed"
      },
      "source": [
        "df_novo['Publico'] = pd.to_numeric(df_novo['Publico'])"
      ],
      "execution_count": 41,
      "outputs": [
        {
          "output_type": "stream",
          "text": [
            "/usr/local/lib/python3.7/dist-packages/ipykernel_launcher.py:1: SettingWithCopyWarning: \n",
            "A value is trying to be set on a copy of a slice from a DataFrame.\n",
            "Try using .loc[row_indexer,col_indexer] = value instead\n",
            "\n",
            "See the caveats in the documentation: https://pandas.pydata.org/pandas-docs/stable/user_guide/indexing.html#returning-a-view-versus-a-copy\n",
            "  \"\"\"Entry point for launching an IPython kernel.\n"
          ],
          "name": "stderr"
        }
      ]
    },
    {
      "cell_type": "code",
      "metadata": {
        "id": "A-XWYsn0pd3v",
        "colab": {
          "base_uri": "https://localhost:8080/"
        },
        "outputId": "d5a7c954-cec7-47b3-8c64-909cca52e5a0"
      },
      "source": [
        "df_novo.dtypes"
      ],
      "execution_count": 42,
      "outputs": [
        {
          "output_type": "execute_result",
          "data": {
            "text/plain": [
              "Ano de exibição                     int64\n",
              "Título da obra                     object\n",
              "CPB/ROE                            object\n",
              "Gênero                             object\n",
              "País(es) produtor(es) da obra      object\n",
              "Nacionalidade da obra              object\n",
              "Data de lançamento                 object\n",
              "Empresa distribuidora              object\n",
              "Origem da empresa distribuidora    object\n",
              "Publico                             int64\n",
              "Renda (R$) no ano de exibição      object\n",
              "dtype: object"
            ]
          },
          "metadata": {
            "tags": []
          },
          "execution_count": 42
        }
      ]
    },
    {
      "cell_type": "code",
      "metadata": {
        "colab": {
          "base_uri": "https://localhost:8080/",
          "height": 131
        },
        "id": "Zy8datRy822Y",
        "outputId": "14480009-cc47-4f07-d39d-cc90c9f3357b"
      },
      "source": [
        "df_novo[df_novo['Publico'] == df_novo['Publico'].max()].head(3)"
      ],
      "execution_count": 43,
      "outputs": [
        {
          "output_type": "execute_result",
          "data": {
            "text/html": [
              "<div>\n",
              "<style scoped>\n",
              "    .dataframe tbody tr th:only-of-type {\n",
              "        vertical-align: middle;\n",
              "    }\n",
              "\n",
              "    .dataframe tbody tr th {\n",
              "        vertical-align: top;\n",
              "    }\n",
              "\n",
              "    .dataframe thead th {\n",
              "        text-align: right;\n",
              "    }\n",
              "</style>\n",
              "<table border=\"1\" class=\"dataframe\">\n",
              "  <thead>\n",
              "    <tr style=\"text-align: right;\">\n",
              "      <th></th>\n",
              "      <th>Ano de exibição</th>\n",
              "      <th>Título da obra</th>\n",
              "      <th>CPB/ROE</th>\n",
              "      <th>Gênero</th>\n",
              "      <th>País(es) produtor(es) da obra</th>\n",
              "      <th>Nacionalidade da obra</th>\n",
              "      <th>Data de lançamento</th>\n",
              "      <th>Empresa distribuidora</th>\n",
              "      <th>Origem da empresa distribuidora</th>\n",
              "      <th>Publico</th>\n",
              "      <th>Renda (R$) no ano de exibição</th>\n",
              "    </tr>\n",
              "  </thead>\n",
              "  <tbody>\n",
              "    <tr>\n",
              "      <th>662</th>\n",
              "      <td>2019</td>\n",
              "      <td>Vingadores: Ultimato</td>\n",
              "      <td>E1900107800000</td>\n",
              "      <td>Ficção</td>\n",
              "      <td>Estados Unidos</td>\n",
              "      <td>Estrangeira</td>\n",
              "      <td>43580</td>\n",
              "      <td>Disney</td>\n",
              "      <td>Distribuição Internacional</td>\n",
              "      <td>19656467</td>\n",
              "      <td>338624881</td>\n",
              "    </tr>\n",
              "  </tbody>\n",
              "</table>\n",
              "</div>"
            ],
            "text/plain": [
              "     Ano de exibição  ... Renda (R$) no ano de exibição\n",
              "662             2019  ...                     338624881\n",
              "\n",
              "[1 rows x 11 columns]"
            ]
          },
          "metadata": {
            "tags": []
          },
          "execution_count": 43
        }
      ]
    },
    {
      "cell_type": "markdown",
      "metadata": {
        "id": "rBancc-rG7iE"
      },
      "source": [
        ""
      ]
    },
    {
      "cell_type": "code",
      "metadata": {
        "colab": {
          "base_uri": "https://localhost:8080/"
        },
        "id": "Pks8pjRTHG0v",
        "outputId": "89b92332-dd8f-4a26-af98-f25d8de534db"
      },
      "source": [
        "df_novo['Renda (R$) no ano de exibição'].sample(25)"
      ],
      "execution_count": 44,
      "outputs": [
        {
          "output_type": "execute_result",
          "data": {
            "text/plain": [
              "2155        23642.6\n",
              "4730    4.65894e+06\n",
              "3518        20804.9\n",
              "476         1899333\n",
              "6418           6742\n",
              "5699       17213493\n",
              "1051        2488303\n",
              "598             482\n",
              "492          677678\n",
              "479             108\n",
              "2399             90\n",
              "4848        16213.5\n",
              "1927         857309\n",
              "1141          35010\n",
              "6032          14357\n",
              "1693       67529482\n",
              "5318            192\n",
              "6232    3.43636e+06\n",
              "3358           1154\n",
              "4893        11903.1\n",
              "5164        41957.2\n",
              "5240           9080\n",
              "1636         364155\n",
              "6292        57340.5\n",
              "176            2923\n",
              "Name: Renda (R$) no ano de exibição, dtype: object"
            ]
          },
          "metadata": {
            "tags": []
          },
          "execution_count": 44
        }
      ]
    },
    {
      "cell_type": "code",
      "metadata": {
        "colab": {
          "base_uri": "https://localhost:8080/"
        },
        "id": "DdfQ4T-lHG0v",
        "outputId": "e4502e9e-06b4-49c8-885a-4b70489fc8b6"
      },
      "source": [
        "\n",
        "df_novo[df_novo['Renda (R$) no ano de exibição'] == 'ND'].value_counts"
      ],
      "execution_count": 45,
      "outputs": [
        {
          "output_type": "execute_result",
          "data": {
            "text/plain": [
              "<bound method DataFrame.value_counts of Empty DataFrame\n",
              "Columns: [Ano de exibição, Título da obra, CPB/ROE, Gênero, País(es) produtor(es) da obra, Nacionalidade da obra, Data de lançamento, Empresa distribuidora, Origem da empresa distribuidora, Publico, Renda (R$) no ano de exibição]\n",
              "Index: []>"
            ]
          },
          "metadata": {
            "tags": []
          },
          "execution_count": 45
        }
      ]
    },
    {
      "cell_type": "code",
      "metadata": {
        "colab": {
          "base_uri": "https://localhost:8080/"
        },
        "id": "8IBP-L7OHG0v",
        "outputId": "c67388f0-9cbb-45a3-8dc5-00c3ed4ee1fa"
      },
      "source": [
        "df_novo['Renda (R$) no ano de exibição'].shape"
      ],
      "execution_count": 46,
      "outputs": [
        {
          "output_type": "execute_result",
          "data": {
            "text/plain": [
              "(6854,)"
            ]
          },
          "metadata": {
            "tags": []
          },
          "execution_count": 46
        }
      ]
    },
    {
      "cell_type": "code",
      "metadata": {
        "colab": {
          "base_uri": "https://localhost:8080/",
          "height": 340
        },
        "id": "LhDtupJ1HG0w",
        "outputId": "b8fd9506-506f-471b-9ace-1e6423ccad73"
      },
      "source": [
        "df_novo = df_novo[df_novo['Renda (R$) no ano de exibição'] != 'ND']\n",
        "df_novo.head()"
      ],
      "execution_count": 47,
      "outputs": [
        {
          "output_type": "execute_result",
          "data": {
            "text/html": [
              "<div>\n",
              "<style scoped>\n",
              "    .dataframe tbody tr th:only-of-type {\n",
              "        vertical-align: middle;\n",
              "    }\n",
              "\n",
              "    .dataframe tbody tr th {\n",
              "        vertical-align: top;\n",
              "    }\n",
              "\n",
              "    .dataframe thead th {\n",
              "        text-align: right;\n",
              "    }\n",
              "</style>\n",
              "<table border=\"1\" class=\"dataframe\">\n",
              "  <thead>\n",
              "    <tr style=\"text-align: right;\">\n",
              "      <th></th>\n",
              "      <th>Ano de exibição</th>\n",
              "      <th>Título da obra</th>\n",
              "      <th>CPB/ROE</th>\n",
              "      <th>Gênero</th>\n",
              "      <th>País(es) produtor(es) da obra</th>\n",
              "      <th>Nacionalidade da obra</th>\n",
              "      <th>Data de lançamento</th>\n",
              "      <th>Empresa distribuidora</th>\n",
              "      <th>Origem da empresa distribuidora</th>\n",
              "      <th>Publico</th>\n",
              "      <th>Renda (R$) no ano de exibição</th>\n",
              "    </tr>\n",
              "  </thead>\n",
              "  <tbody>\n",
              "    <tr>\n",
              "      <th>0</th>\n",
              "      <td>2019</td>\n",
              "      <td>120 Batimentos Por Minuto</td>\n",
              "      <td>E1700453800000</td>\n",
              "      <td>Ficção</td>\n",
              "      <td>França</td>\n",
              "      <td>Estrangeira</td>\n",
              "      <td>43104</td>\n",
              "      <td>Imovision</td>\n",
              "      <td>Distribuição Nacional</td>\n",
              "      <td>10</td>\n",
              "      <td>70</td>\n",
              "    </tr>\n",
              "    <tr>\n",
              "      <th>1</th>\n",
              "      <td>2019</td>\n",
              "      <td>3 Faces</td>\n",
              "      <td>E1800494900000</td>\n",
              "      <td>Ficção</td>\n",
              "      <td>Irã</td>\n",
              "      <td>Estrangeira</td>\n",
              "      <td>43559</td>\n",
              "      <td>Imovision</td>\n",
              "      <td>Distribuição Nacional</td>\n",
              "      <td>6289</td>\n",
              "      <td>103805</td>\n",
              "    </tr>\n",
              "    <tr>\n",
              "      <th>2</th>\n",
              "      <td>2019</td>\n",
              "      <td>45 Dias Sem Você</td>\n",
              "      <td>B1800586000000</td>\n",
              "      <td>Ficção</td>\n",
              "      <td>Brasil</td>\n",
              "      <td>Brasileira</td>\n",
              "      <td>43601</td>\n",
              "      <td>O2 Play</td>\n",
              "      <td>Distribuição Nacional</td>\n",
              "      <td>3303</td>\n",
              "      <td>31295</td>\n",
              "    </tr>\n",
              "    <tr>\n",
              "      <th>3</th>\n",
              "      <td>2019</td>\n",
              "      <td>A 100 Passos De Um Sonho</td>\n",
              "      <td>E1402795100000</td>\n",
              "      <td>Ficção</td>\n",
              "      <td>Estados Unidos</td>\n",
              "      <td>Estrangeira</td>\n",
              "      <td>41879</td>\n",
              "      <td>Disney</td>\n",
              "      <td>Distribuição Internacional</td>\n",
              "      <td>69</td>\n",
              "      <td>4186</td>\n",
              "    </tr>\n",
              "    <tr>\n",
              "      <th>4</th>\n",
              "      <td>2019</td>\n",
              "      <td>A Abelhinha Maya - O Filme</td>\n",
              "      <td>E1800136100000</td>\n",
              "      <td>Animação</td>\n",
              "      <td>Alemanha</td>\n",
              "      <td>Estrangeira</td>\n",
              "      <td>43237</td>\n",
              "      <td>Playarte</td>\n",
              "      <td>Distribuição Nacional</td>\n",
              "      <td>402</td>\n",
              "      <td>3531</td>\n",
              "    </tr>\n",
              "  </tbody>\n",
              "</table>\n",
              "</div>"
            ],
            "text/plain": [
              "   Ano de exibição  ... Renda (R$) no ano de exibição\n",
              "0             2019  ...                            70\n",
              "1             2019  ...                        103805\n",
              "2             2019  ...                         31295\n",
              "3             2019  ...                          4186\n",
              "4             2019  ...                          3531\n",
              "\n",
              "[5 rows x 11 columns]"
            ]
          },
          "metadata": {
            "tags": []
          },
          "execution_count": 47
        }
      ]
    },
    {
      "cell_type": "code",
      "metadata": {
        "id": "WMGe6R7kHG0x"
      },
      "source": [
        "df_novo['Renda (R$) no ano de exibição'] = pd.to_numeric(df_novo['Renda (R$) no ano de exibição'])"
      ],
      "execution_count": 49,
      "outputs": []
    },
    {
      "cell_type": "code",
      "metadata": {
        "colab": {
          "base_uri": "https://localhost:8080/"
        },
        "id": "Vs0hRZ4QHG0x",
        "outputId": "1e481c2e-5ce2-4e56-b981-31b5cc0a14e6"
      },
      "source": [
        "df_novo.dtypes"
      ],
      "execution_count": 50,
      "outputs": [
        {
          "output_type": "execute_result",
          "data": {
            "text/plain": [
              "Ano de exibição                      int64\n",
              "Título da obra                      object\n",
              "CPB/ROE                             object\n",
              "Gênero                              object\n",
              "País(es) produtor(es) da obra       object\n",
              "Nacionalidade da obra               object\n",
              "Data de lançamento                  object\n",
              "Empresa distribuidora               object\n",
              "Origem da empresa distribuidora     object\n",
              "Publico                              int64\n",
              "Renda (R$) no ano de exibição      float64\n",
              "dtype: object"
            ]
          },
          "metadata": {
            "tags": []
          },
          "execution_count": 50
        }
      ]
    },
    {
      "cell_type": "code",
      "metadata": {
        "colab": {
          "base_uri": "https://localhost:8080/",
          "height": 131
        },
        "id": "nYmsb3RkHG0x",
        "outputId": "088bcb8e-3abe-4649-ae23-ac730d804ac0"
      },
      "source": [
        "df_novo[df_novo['Renda (R$) no ano de exibição'] == df_novo['Renda (R$) no ano de exibição'].max()]"
      ],
      "execution_count": 51,
      "outputs": [
        {
          "output_type": "execute_result",
          "data": {
            "text/html": [
              "<div>\n",
              "<style scoped>\n",
              "    .dataframe tbody tr th:only-of-type {\n",
              "        vertical-align: middle;\n",
              "    }\n",
              "\n",
              "    .dataframe tbody tr th {\n",
              "        vertical-align: top;\n",
              "    }\n",
              "\n",
              "    .dataframe thead th {\n",
              "        text-align: right;\n",
              "    }\n",
              "</style>\n",
              "<table border=\"1\" class=\"dataframe\">\n",
              "  <thead>\n",
              "    <tr style=\"text-align: right;\">\n",
              "      <th></th>\n",
              "      <th>Ano de exibição</th>\n",
              "      <th>Título da obra</th>\n",
              "      <th>CPB/ROE</th>\n",
              "      <th>Gênero</th>\n",
              "      <th>País(es) produtor(es) da obra</th>\n",
              "      <th>Nacionalidade da obra</th>\n",
              "      <th>Data de lançamento</th>\n",
              "      <th>Empresa distribuidora</th>\n",
              "      <th>Origem da empresa distribuidora</th>\n",
              "      <th>Publico</th>\n",
              "      <th>Renda (R$) no ano de exibição</th>\n",
              "    </tr>\n",
              "  </thead>\n",
              "  <tbody>\n",
              "    <tr>\n",
              "      <th>662</th>\n",
              "      <td>2019</td>\n",
              "      <td>Vingadores: Ultimato</td>\n",
              "      <td>E1900107800000</td>\n",
              "      <td>Ficção</td>\n",
              "      <td>Estados Unidos</td>\n",
              "      <td>Estrangeira</td>\n",
              "      <td>43580</td>\n",
              "      <td>Disney</td>\n",
              "      <td>Distribuição Internacional</td>\n",
              "      <td>19656467</td>\n",
              "      <td>338624881.0</td>\n",
              "    </tr>\n",
              "  </tbody>\n",
              "</table>\n",
              "</div>"
            ],
            "text/plain": [
              "     Ano de exibição  ... Renda (R$) no ano de exibição\n",
              "662             2019  ...                   338624881.0\n",
              "\n",
              "[1 rows x 11 columns]"
            ]
          },
          "metadata": {
            "tags": []
          },
          "execution_count": 51
        }
      ]
    },
    {
      "cell_type": "code",
      "metadata": {
        "id": "rXF1kwLw82zJ",
        "colab": {
          "base_uri": "https://localhost:8080/",
          "height": 326
        },
        "outputId": "a99cf1a3-5786-4447-f180-cdafd8e45160"
      },
      "source": [
        "df_novo[df_novo['Renda (R$) no ano de exibição'] == df_novo['Renda (R$) no ano de exibição'].min()].head(4)"
      ],
      "execution_count": 52,
      "outputs": [
        {
          "output_type": "execute_result",
          "data": {
            "text/html": [
              "<div>\n",
              "<style scoped>\n",
              "    .dataframe tbody tr th:only-of-type {\n",
              "        vertical-align: middle;\n",
              "    }\n",
              "\n",
              "    .dataframe tbody tr th {\n",
              "        vertical-align: top;\n",
              "    }\n",
              "\n",
              "    .dataframe thead th {\n",
              "        text-align: right;\n",
              "    }\n",
              "</style>\n",
              "<table border=\"1\" class=\"dataframe\">\n",
              "  <thead>\n",
              "    <tr style=\"text-align: right;\">\n",
              "      <th></th>\n",
              "      <th>Ano de exibição</th>\n",
              "      <th>Título da obra</th>\n",
              "      <th>CPB/ROE</th>\n",
              "      <th>Gênero</th>\n",
              "      <th>País(es) produtor(es) da obra</th>\n",
              "      <th>Nacionalidade da obra</th>\n",
              "      <th>Data de lançamento</th>\n",
              "      <th>Empresa distribuidora</th>\n",
              "      <th>Origem da empresa distribuidora</th>\n",
              "      <th>Publico</th>\n",
              "      <th>Renda (R$) no ano de exibição</th>\n",
              "    </tr>\n",
              "  </thead>\n",
              "  <tbody>\n",
              "    <tr>\n",
              "      <th>849</th>\n",
              "      <td>2018</td>\n",
              "      <td>Colo*</td>\n",
              "      <td>E1700484800000</td>\n",
              "      <td>Ficção</td>\n",
              "      <td>Portugal</td>\n",
              "      <td>Estrangeira</td>\n",
              "      <td>43055</td>\n",
              "      <td>Zeta Filmes</td>\n",
              "      <td>Distribuição Nacional</td>\n",
              "      <td>0</td>\n",
              "      <td>0.0</td>\n",
              "    </tr>\n",
              "    <tr>\n",
              "      <th>862</th>\n",
              "      <td>2018</td>\n",
              "      <td>Coragem! As Muitas Vidas do Cardeal Dom Paulo ...</td>\n",
              "      <td>B1700537400000</td>\n",
              "      <td>Documentário</td>\n",
              "      <td>Brasil</td>\n",
              "      <td>Brasileira</td>\n",
              "      <td>43083</td>\n",
              "      <td>TV Meio Ambiente</td>\n",
              "      <td>Distribuição Nacional</td>\n",
              "      <td>0</td>\n",
              "      <td>0.0</td>\n",
              "    </tr>\n",
              "    <tr>\n",
              "      <th>996</th>\n",
              "      <td>2018</td>\n",
              "      <td>Jesus - A Esperança*</td>\n",
              "      <td>B1700447200000</td>\n",
              "      <td>Ficção</td>\n",
              "      <td>Brasil</td>\n",
              "      <td>Brasileira</td>\n",
              "      <td>43083</td>\n",
              "      <td>Moro Comunicação</td>\n",
              "      <td>Distribuição Nacional</td>\n",
              "      <td>0</td>\n",
              "      <td>0.0</td>\n",
              "    </tr>\n",
              "    <tr>\n",
              "      <th>1030</th>\n",
              "      <td>2018</td>\n",
              "      <td>Macaco Tião - O Candidato do Povo*</td>\n",
              "      <td>B1700051900000</td>\n",
              "      <td>Documentário</td>\n",
              "      <td>Brasil</td>\n",
              "      <td>Brasileira</td>\n",
              "      <td>43083</td>\n",
              "      <td>Pipa Produções</td>\n",
              "      <td>Distribuição Nacional</td>\n",
              "      <td>0</td>\n",
              "      <td>0.0</td>\n",
              "    </tr>\n",
              "  </tbody>\n",
              "</table>\n",
              "</div>"
            ],
            "text/plain": [
              "      Ano de exibição  ... Renda (R$) no ano de exibição\n",
              "849              2018  ...                           0.0\n",
              "862              2018  ...                           0.0\n",
              "996              2018  ...                           0.0\n",
              "1030             2018  ...                           0.0\n",
              "\n",
              "[4 rows x 11 columns]"
            ]
          },
          "metadata": {
            "tags": []
          },
          "execution_count": 52
        }
      ]
    },
    {
      "cell_type": "code",
      "metadata": {
        "id": "5j-2Q9G382TV",
        "colab": {
          "base_uri": "https://localhost:8080/"
        },
        "outputId": "496a7786-1cdb-419c-95a6-bcb301dc425d"
      },
      "source": [
        "df_novo['Nacionalidade da obra'].value_counts()\n"
      ],
      "execution_count": 61,
      "outputs": [
        {
          "output_type": "execute_result",
          "data": {
            "text/plain": [
              "Estrangeira    4753\n",
              "Brasileira     2101\n",
              "Name: Nacionalidade da obra, dtype: int64"
            ]
          },
          "metadata": {
            "tags": []
          },
          "execution_count": 61
        }
      ]
    },
    {
      "cell_type": "code",
      "metadata": {
        "colab": {
          "base_uri": "https://localhost:8080/",
          "height": 129
        },
        "id": "yMEE5MyU-Th7",
        "outputId": "42c1f433-6217-40ec-e34f-162080dd7252"
      },
      "source": [
        "# Help\n",
        "df_novo.head()??"
      ],
      "execution_count": 67,
      "outputs": [
        {
          "output_type": "error",
          "ename": "SyntaxError",
          "evalue": "ignored",
          "traceback": [
            "\u001b[0;36m  File \u001b[0;32m\"<ipython-input-67-409bc4f5757d>\"\u001b[0;36m, line \u001b[0;32m2\u001b[0m\n\u001b[0;31m    df_novo.head()??\u001b[0m\n\u001b[0m                  ^\u001b[0m\n\u001b[0;31mSyntaxError\u001b[0m\u001b[0;31m:\u001b[0m invalid syntax\n"
          ]
        }
      ]
    },
    {
      "cell_type": "code",
      "metadata": {
        "id": "joTGk68HCwZ7"
      },
      "source": [
        ""
      ],
      "execution_count": null,
      "outputs": []
    }
  ]
}