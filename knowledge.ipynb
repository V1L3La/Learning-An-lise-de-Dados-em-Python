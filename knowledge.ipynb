{
  "nbformat": 4,
  "nbformat_minor": 0,
  "metadata": {
    "colab": {
      "name": "knowledge.ipynb",
      "provenance": [],
      "authorship_tag": "ABX9TyOx5mWG5XUOXFJ3Qof/fKwG",
      "include_colab_link": true
    },
    "kernelspec": {
      "name": "python3",
      "display_name": "Python 3"
    },
    "language_info": {
      "name": "python"
    }
  },
  "cells": [
    {
      "cell_type": "markdown",
      "metadata": {
        "id": "view-in-github",
        "colab_type": "text"
      },
      "source": [
        "<a href=\"https://colab.research.google.com/github/V1L3La/Learning-An-lise-de-Dados-em-Python/blob/main/knowledge.ipynb\" target=\"_parent\"><img src=\"https://colab.research.google.com/assets/colab-badge.svg\" alt=\"Open In Colab\"/></a>"
      ]
    },
    {
      "cell_type": "markdown",
      "metadata": {
        "id": "sNsABDDzEZyn"
      },
      "source": [
        ""
      ]
    },
    {
      "cell_type": "markdown",
      "metadata": {
        "id": "L93lPFnZ2-hc"
      },
      "source": [
        "--------------------------------------------------\n",
        ">Explorando os dados \n",
        "\n",
        "- pd.read_csv ... , sep=';', encoding = 'latin1', skiprows=1, decimal=','.... Tratar o dataframe\n",
        "\n",
        "- df.info()...analiza os tipos das colunas<br>\n",
        "- df.head(x)<br>\n",
        "- df.sample(x).....lista x linhas aleatórias<br>\n",
        "- df[['coluna1',...,'colunaX']].sample(x)..lista x linhas aleatórias com varias colunas<br>\n",
        "- df.sample(x).T ....inverte linhas e colunas e lista x linhas aleatórias\n",
        "- df[0:5].T....inverte linhas e colunas e ver os 5 primeiros registros\n",
        "- df[-5:].T....inverte linhas e colunas e exibe as cinco últimos registros\n",
        "- df[20:30].T....inverte linhas e colunas e seleciona as linhas 20 até 29\n",
        "- df.tail()<br>\n",
        "- df.shape....verifica o tamanho do dataframe   (linhas, colunas)<br>\n",
        "- df.describe()...(analizar só colunas numéricas)<br>\n",
        "- df.dtypes.... tipo de cada coluna <br>\n",
        "- df[['coluna1', 'coluna2']]...seleciona multiplas colunas\n",
        "- df.columns....acessa lista de colunas<br> \n",
        "- df['coluna1'].sum() ....Soma campos da coluna1<br>\n",
        "- df['coluna1'].value_counts()....Exibe as OCORRÊNCIAS TOTAIS na coluna1<br>\n",
        "- df[\"coluna1\"].value_counts(normalize=True)....Normaliza os valores em porcentagem<br>\n",
        "- df['coluna'].unique()....Exibe valores únicos(sem repetir) da coluna especificada<br>\n",
        "\n",
        "- df.count()...Verifica valores validos(não nulos) em cada coluna<br>\n",
        "- df.size...Verifica valores validos(e nulos) em cada coluna<br>\n",
        "- df.isnull().sum()... retorna o número de valores ausentes para cada coluna.<br>\n",
        "- df.isnull().sum().sum()... retorna o número total de valores ausentes.<br>\n",
        "- df.isna().mean().... descobre a porcentagem de valores que estão faltando, executando: <br>\n",
        "- df.dropna()....retorna linhas que NÃO CONTÉM um NaN<br>\n",
        "- df.fillna(valor novo)....Preenche todos os valores NaN por um outro valor<br>\n",
        "- df.isna()....exibe os valores no df que são NaN(True) e os que não são(False).\n",
        "-------------------------------------------------------\n",
        "> Manipulando os dados \n",
        "\n",
        "df['coluna'] = df['coluna'].astype(float)....Muda o tipo da coluna para float<br>\n",
        "df['coluna'].str.replace(',','').astype(float).sample(x)...na coluna troque qualquer numero com , por nada, transforme em float e exiba x registros aleatorios<br>\n",
        "df.sort_values(by=\"Seminário\").....Ordená-los por determinada coluna\n",
        "\n",
        "df['coluna_antiga'] = df['coluna_atualizada']... atualiza valores na coluna<br>\n",
        "df.drop(columns='coluna_atualizada', inplace=True)...deleta coluna<br>\n",
        "\n",
        "\n",
        "df[(df['coluna1'] > 500) & (df['coluna1'] < 1000)]....Cria um novo df somente com coluna1 >500 E <1000<br>\n",
        "variavel = df.query('coluna1 ==\"valor in coluna1\" & coluna2 ==\"valor in coluna2\"').... consulta(==,!=,>,>=,<,<=,~,&,|,in)<br>\n",
        "variavel = df.query('coluna1 < 3000.00 & coluna2 ==\"valor in coluna2\"')....consulta valor de <3000 na coluna1 e \"valor in coluna2\" na coluna2, exibe os 5 primeiros e salva na variavel \"variavel\"<br>\n",
        "\n",
        "\n",
        "df.rename(columns={'nome antigo': 'nome novo'}, inplace = True)....Troca o nome da coluna<br> \n",
        "\n",
        "variavel = df[df[\"coluna1\"] == 'um valor da coluna1']....cria um novo dataframe que tenha 'um valor da coluna1' em coluna1<br> \n",
        "\n",
        "\n",
        "df.nlargest(x, 'coluna') ... Retorna o x MAIOR valor da coluna. <br>\n",
        "df[df['coluna1'] == df['coluna1'].max()]....Cria um novo df somente com valor maior na coluna1 dentro do DataFrame<br>\n",
        "\n",
        "df.nsmallest(x, 'coluna') ... Retorna o x MENOR valor da coluna<br>\n",
        "df[df['coluna1'] == df['coluna1'].min()]....Cria um novo df somente com valor menor na coluna1 dentro do DataFrame<br>\n",
        "df[df['coluna1'] == df['coluna1'].min()] ['coluna2']....Cria um novo df somente com valor menor na coluna1 com uma coluna2 dentro do DataFrame<br>\n",
        "df[df['coluna1'] == df['coluna1'].min()]  [['coluna2', 'coluna3', 'coluna4' ]]....Cria um novo df somente com valor menor na coluna1 com VÁRIAS colunas dentro do DataFrame<br>\n",
        "\n",
        "df.groupby('coluna1')['coluna2'].sum().sort_values(ascending=False) ...agrupa cada linha da coluna1 com a coluna2,soma e ordena do > p <<br>\n",
        "df.groupby('coluna1')['coluna2'].max() ...agrupa cada linha da coluna1 com o máximo valor da coluna2\n",
        "df.groupby('coluna1')['coluna2'].min()...agrupa cada linha da coluna1 com o minimo valor da coluna2<br>\n",
        "df.groupby(\"coluna1\").mean()...agrupa cada ocorrência-única da coluna1 com cada média<br>\n",
        "df.groupby(\"coluna1\").mean()[\"pm2\"].sort_values()....agrupa cada ocorrência-única da coluna1 com cada média, OBTEM coluna2 com cada média e coloca em ordem crescente<br>\n",
        "df[df['coluna1'].str.contains('parte da palavra')].count()...Cria um novo df somente com pesquisa dentro da coluna1 linhas que tenham partes de palavras específicadas.<br>\n",
        "df['coluna1].sort_values(by='coluna 2', ascending=False)[0:5].T...ordena a coluna1 pela coluna2, em decrescente, transposta e visualiza os 5 primeiros registros\n",
        "\n",
        "\n",
        "df.loc[df.groupby('coluna1')['coluna2'].idxmax() ]\n",
        "- Localizar linhas do dataframe pelo agrupamento da coluna1 e a coluna2 pelo indice da linha q tem o valor máximo\n",
        "- idxmax - pega o INDICE DA LINHA que tem o valor maximo (pegou a linha inteira)\n",
        "- loc - server para localizar uma linha com base no indice<br>\n",
        "df.loc[3]....Retorna SOMENTE TODA linha 3\n",
        "\n",
        "%matplotlib inline.....Saídas de plotagem para aparer no notebook\n",
        "df['coluna1'].plot.hist()....Plota gráfico simples (line,bar,barh,pie,box,hist...)<br>\n",
        "df['coluna1'].value_counts(ascending=True).plot.hist(title='TIPOLOGIA', bins=30, edgecolor='black')....Exibe as OCORRÊNCIAS TOTAIS na coluna1, ordena do > p <, com plot de barras horizontais e título<br>\n",
        "df.plot.scatter(x='coluna1', y='coluna2')....gráfico de dispersão usando um DataFrame e especificando colunas <br>\n",
        "df.to_csv(\"aulas.csv\")....salvar DataFrame externamente em um formato específico <br>\n",
        "\n",
        "df.to_csv('nome do arquivo.csv', index=False, sep=';', decimal=',')...Salva o df  como .csv, sem indexar,separado por ponto e virgula com decimal virgula<br>\n",
        "\n",
        "# pronatec\n",
        "# transaçoes  - resumo\n",
        "# filmes no Brasil    https://www.kaggle.com/joaoavf/introducao-a-analise-de-dados-python-e-pandas   Fazendo Filtros com Valores Negativos\n",
        "\n"
      ]
    }
  ]
}