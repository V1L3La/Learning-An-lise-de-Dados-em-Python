{
  "nbformat": 4,
  "nbformat_minor": 0,
  "metadata": {
    "colab": {
      "name": "knowledge.ipynb",
      "provenance": [],
      "authorship_tag": "ABX9TyODtP8Nzi5l/4OwoHD4pnft",
      "include_colab_link": true
    },
    "kernelspec": {
      "name": "python3",
      "display_name": "Python 3"
    },
    "language_info": {
      "name": "python"
    }
  },
  "cells": [
    {
      "cell_type": "markdown",
      "metadata": {
        "id": "view-in-github",
        "colab_type": "text"
      },
      "source": [
        "<a href=\"https://colab.research.google.com/github/V1L3La/Learning-An-lise-de-Dados-em-Python/blob/main/knowledge.ipynb\" target=\"_parent\"><img src=\"https://colab.research.google.com/assets/colab-badge.svg\" alt=\"Open In Colab\"/></a>"
      ]
    },
    {
      "cell_type": "markdown",
      "metadata": {
        "id": "sNsABDDzEZyn"
      },
      "source": [
        ""
      ]
    },
    {
      "cell_type": "markdown",
      "metadata": {
        "id": "L93lPFnZ2-hc"
      },
      "source": [
        "--------------------------------------------------\n",
        ">Explorando os dados \n",
        "\n",
        "- pd.read_csv ... , sep=';', encoding = 'latin1', skiprows=1, decimal=','.... Tratar o dataframe\n",
        "\n",
        "- df.info()...analiza os tipos das colunas<br>\n",
        "- df.shape....verifica o tamanho do dataframe   (linhas, colunas)<br>\n",
        "- df.count()...Verifica valores validos(não nulos) em cada coluna<br>\n",
        "- df.describe()...(analizar só colunas numéricas)<br>\n",
        "- df.dtypes.... tipo de cada coluna <br>\n",
        "\n",
        "- df.head(x)<br>\n",
        "- df.sample(x).....lista x linhas aleatórias<br>\n",
        "- df.tail()<br>\n",
        "- df.isnull().sum()... retorna o número de valores ausentes para cada coluna.<br>\n",
        "- df.isnull().sum().sum()... retorna o número total de valores ausentes.<br>\n",
        "- df.isna().mean().... descobre a porcentagem de valores que estão faltando, executando: <br><br>\n",
        "\n",
        "-------------------------------------------------------\n",
        ">Analizando os dados \n",
        "\n",
        "df.columns....acessa lista de colunas<br> \n",
        "df['coluna1'].sum() ....Soma campos da coluna1<br>\n",
        "df['coluna1'].value_counts()....conta x vezes que cada campo aparece na coluna1<br>\n",
        "df['coluna'].unique()....Exibe valores únicos(sem repetir) na coluna especificada<br>\n",
        "df['coluna'] = df['coluna'].astype(float)....Muda o tipo da coluna para float<br>\n",
        "df.sort_values(by=\"Seminário\").....Ordená-los por determinada coluna\n",
        "\n",
        "\n",
        "df[(df['coluna1'] > 500) & (df['coluna1'] < 1000)]....Fatia o df pelo valor >500 E <1000 da coluna1<br>\n",
        "variavel = df.query('coluna1 ==\"valor in coluna1\" & coluna2 ==\"valor in coluna2\"').... consulta(==,!=,>,>=,<,<=,~,&,|,in)<br>\n",
        "variavel = df.query('coluna1 < 3000.00 & coluna2 ==\"valor in coluna2\"')....consulta valor de <3000 na coluna1 e \"valor in coluna2\" na coluna2, exibe os 5 primeiros e salva na variavel \"variavel\"<br>\n",
        "\n",
        "\n",
        "df.rename(columns={'nome antigo': 'nome novo'}, inplace = True)....Troca o nome da coluna<br> \n",
        "\n",
        "variavel = df[df[\"coluna1\"] == 'um valor da coluna1']....cria um novo dataframe que tenha 'um valor da coluna1' em coluna1<br> \n",
        "\n",
        "\n",
        "df.nlargest(x, 'coluna') ... Retorna o x MAIOR valor da coluna. <br>\n",
        "df[df['coluna1'] == df['coluna1'].max()]....valor maior na coluna1 dentro do DataFrame<br>\n",
        "\n",
        "df.nsmallest(x, 'coluna') ... Retorna o x MENOR valor da coluna<br>\n",
        "df[df['coluna1'] == df['coluna1'].min()]....valor menor na coluna1 dentro do DataFrame<br>\n",
        "df[df['coluna1'] == df['coluna1'].min()] ['coluna2']....valor menor na coluna1 com uma coluna2 dentro do DataFrame<br>\n",
        "df[df['coluna1'] == df['coluna1'].min()]  [['coluna2', 'coluna3', 'coluna4' ]]....valor menor na coluna1 com VÁRIAS colunas dentro do DataFrame<br>\n",
        "\n",
        "df.groupby('coluna1')['coluna2'].sum().sort_values(ascending=False) ...agrupa cada linha da coluna1 com a coluna2,soma e ordena do > p <<br>\n",
        "df.groupby('coluna1')['coluna2'].max() ...agrupa cada linha da coluna1 com o máximo valor da coluna2\n",
        "df.groupby('coluna1')['coluna2'].min()...agrupa cada linha da coluna1 com o minimo valor da coluna2<br><br>\n",
        "\n",
        "df.loc[df.groupby('coluna1')['coluna2'].idxmax() ]\n",
        "- Localizar linhas do dataframe pelo agrupamento da coluna1 e a coluna2 pelo indice da linha q tem o valor máximo\n",
        "- idxmax - pega o INDICE DA LINHA que tem o valor maximo (pegou a linha inteira)\n",
        "- loc - server para localizar uma linha com base no indice<br>\n",
        "df.loc[3]....Retorna SOMENTE TODA linha 3\n",
        "\n",
        "df['coluna1'].plot.hist()....Plota gráfico simples (line,bar,barh,pie,box,hist...)\n",
        "\n",
        "\n",
        "<br><br><br><br><br>\n",
        "\n",
        "\n",
        "# transaçoes  - resumo\n"
      ]
    }
  ]
}